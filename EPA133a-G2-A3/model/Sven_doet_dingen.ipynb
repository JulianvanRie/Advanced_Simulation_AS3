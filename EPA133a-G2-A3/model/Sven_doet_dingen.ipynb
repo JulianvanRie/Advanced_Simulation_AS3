{
 "cells": [
  {
   "cell_type": "code",
   "execution_count": 32,
   "id": "initial_id",
   "metadata": {
    "collapsed": true,
    "ExecuteTime": {
     "end_time": "2024-03-13T15:13:59.837911800Z",
     "start_time": "2024-03-13T15:13:59.828254800Z"
    }
   },
   "outputs": [],
   "source": [
    "import pandas as pd\n",
    "import math"
   ]
  },
  {
   "cell_type": "code",
   "execution_count": 33,
   "outputs": [],
   "source": [
    "file_name = '../data/demo-4.csv'\n",
    "file_name_bmms = '../data/BMMS_overview.xlsx'\n",
    "file_name_roads = '../data/_roads3.csv'\n",
    "demo = pd.read_csv(file_name)\n",
    "bmms = pd.read_excel(file_name_bmms)\n",
    "roads = pd.read_csv(file_name_roads)"
   ],
   "metadata": {
    "collapsed": false,
    "ExecuteTime": {
     "end_time": "2024-03-13T15:14:03.225306400Z",
     "start_time": "2024-03-13T15:14:00.416883300Z"
    }
   },
   "id": "10281580ac8411a1"
  },
  {
   "cell_type": "markdown",
   "source": [
    "Roads required: N1 N106 N105 N102 N120 N104 N2 N204 N207 N208"
   ],
   "metadata": {
    "collapsed": false
   },
   "id": "1da3a11c3934e9fe"
  },
  {
   "cell_type": "code",
   "execution_count": 34,
   "outputs": [],
   "source": [
    "def clean_file(roads, bmms, road_name):\n",
    "    # Filter the 'roads' DataFrame for rows where the 'road' column is 'N1'\n",
    "    n1_roads = roads[roads['road'] == road_name]\n",
    "    # if road_name == 'N1':\n",
    "    #     n1_roads = n1_roads[(n1_roads['lon'] <= 91.851) &\n",
    "    #                      (n1_roads['lat'] >= 22.36)]\n",
    "    \n",
    "    # Generate an ID sequence starting from 1\n",
    "    n1_roads['id'] = range(1, len(n1_roads) + 1)\n",
    "    \n",
    "    # Set model_type to 'link' for all rows\n",
    "    n1_roads['model_type'] = 'link'\n",
    "    \n",
    "    # Generate 'name' as \"Link\" + id as string\n",
    "    #n1_roads['name'] = ['Link ' + str(id) for id in n1_roads['id']]\n",
    "    n1_roads['name'] = 'Link'\n",
    "    # Calculate 'length' as difference between this row's 'chainage' and the next row's 'chainage'\n",
    "    # Shift(-1) moves the chainage up by one row to subtract, fillna(0) to handle the last item\n",
    "    n1_roads['length'] = (n1_roads['chainage'].shift(-1) - n1_roads['chainage']).fillna(0)\n",
    "    \n",
    "    # Selecting the columns needed for the empty DataFrame\n",
    "    n1_roads_final = n1_roads[['road', 'id', 'model_type', 'name', 'lat', 'lon', 'length', 'chainage']]\n",
    "    \n",
    "    # Filter BMMS data for road 'N1'\n",
    "    bmms_n1 = bmms[bmms['road'] == road_name].copy()\n",
    "    # bmms_n1 = bmms_n1[(bmms_n1['lon'] <= 91.851) &\n",
    "    #                  (bmms_n1['lat'] >= 22.363)]\n",
    "    \n",
    "    bmms_n1 = bmms_n1[~bmms_n1['name'].str.contains(r\"\\(R\\)\", na=False)]\n",
    "    bmms_n1 = bmms_n1[~bmms_n1['name'].str.contains(\"right\", case=False, na=False)]\n",
    "    bmms_n1 = bmms_n1[~bmms_n1['name'].str.contains(\"RIGHT\", case=False, na=False)]\n",
    "    bmms_n1 = bmms_n1[~bmms_n1['name'].str.contains(r\"\\( R \\)\", na=False)]\n",
    "    \n",
    "    # Set up for new entries\n",
    "    bmms_n1['model_type'] = 'bridge'\n",
    "    #bmms_n1['name'] = ['Bridge ' + str(i+1) for i in range(bmms_n1.shape[0])]\n",
    "    bmms_n1['id'] = range(n1_roads_final['id'].max() + 1, n1_roads_final['id'].max() + 1 + bmms_n1.shape[0])\n",
    "    bmms_n1['chainage'] = bmms_n1['km']  # Use 'km' as 'chainage'\n",
    "    bmms_n1['length'] = bmms_n1['length'] / 1000\n",
    "    \n",
    "    # Select and rename columns to match the format of n1_roads_final_with_chainage\n",
    "    bmms_n1_formatted = bmms_n1[['road', 'id', 'model_type', 'name', 'lat', 'lon', 'chainage', 'length', 'condition']]\n",
    "    \n",
    "    # Combine the dataframes and sort by chainage\n",
    "    combined_df = pd.concat([n1_roads_final, bmms_n1_formatted], ignore_index=True).sort_values(by='chainage')\n",
    "    \n",
    "    combined_df.iloc[0, 2] = 'sourcesink'\n",
    "    combined_df.iloc[-1, combined_df.columns.get_loc('model_type')] = 'sourcesink'\n",
    "    combined_df.reset_index(drop=True, inplace=True)\n",
    "    count = 1\n",
    "    for index, row in combined_df.iterrows():\n",
    "        combined_df.iloc[index, 1] = count\n",
    "        count += 1\n",
    "    \n",
    "    n1 = combined_df\n",
    "    \n",
    "    duplicates_df = bmms_n1[bmms_n1.duplicated('km', keep=False)]\n",
    "\n",
    "    # Assuming duplicates_df is your DataFrame\n",
    "\n",
    "\n",
    "    # Convert 'condition' to a numerical value for averaging\n",
    "    condition_mapping = {'A': 1, 'B': 2, 'C': 3, 'D': 4, 'E': 5}\n",
    "    n1['condition_num'] = n1['condition'].map(condition_mapping)\n",
    "    \n",
    "    #add together the links\n",
    "    amount = 0\n",
    "    condition_sum = 0\n",
    "    rows_to_add = []  # List to accumulate rows\n",
    "    last_row = None\n",
    "    \n",
    "    # Initialize the DataFrame\n",
    "    n1_new = pd.DataFrame(columns=['road', \"id\", 'model_type', 'name', 'lon', 'lat', 'length', 'condition', 'condition_num'])\n",
    "    for index, row in n1.iterrows():\n",
    "        if last_row is not None:\n",
    "            if row['model_type'] == 'bridge':\n",
    "                amount += 1\n",
    "                condition_sum += row['condition_num']\n",
    "            if row['model_type'] != 'bridge' and last_row['model_type'] != 'bridge':\n",
    "                rows_to_add.append({'road': row['road'], 'id': row['id'], 'model_type': row['model_type'],\n",
    "                                    'name': row['name'],'lon': row['lon'], 'lat':row['lat'], 'length': row['length'], 'condition': row['condition'],\n",
    "                                    'condition_num': row['condition_num']})\n",
    "                amount = 0\n",
    "                condition_sum = 0\n",
    "            if row['model_type'] != 'bridge' and last_row['model_type'] == 'bridge':\n",
    "                rows_to_add.append({'road': last_row['road'], 'id': last_row['id'], 'model_type': last_row['model_type'],\n",
    "                                    'name': last_row['name'],'lon': row['lon'], 'lat':row['lat'], 'length': last_row['length'],\n",
    "                                    'condition': last_row['condition'], 'condition_num': condition_sum / amount})\n",
    "                amount = 0\n",
    "                condition_sum = 0\n",
    "                rows_to_add.append({'road': row['road'], 'id': row['id'], 'model_type': row['model_type'],\n",
    "                                    'name': row['name'],'lon': row['lon'], 'lat':row['lat'], 'length': row['length'], 'condition': row['condition'],\n",
    "                                    'condition_num': row['condition_num']})\n",
    "        else:\n",
    "            rows_to_add.append({'road': row['road'], 'id': row['id'], 'model_type': row['model_type'],\n",
    "                                'name': row['name'],'lon': row['lon'], 'lat':row['lat'], 'length': row['length'], 'condition': row['condition'],\n",
    "                                'condition_num': row['condition_num']})\n",
    "        last_row = row\n",
    "    \n",
    "    n1_new = pd.concat([n1_new, pd.DataFrame(rows_to_add)], ignore_index=True)\n",
    "\n",
    "    for index, row in n1_new.iterrows():\n",
    "        if pd.isna(row['condition_num']) == False:\n",
    "            n1_new.iloc[index, 8] = math.ceil(n1_new.iloc[index, 8])\n",
    "    condition_mapping = {1: 'A', 2: 'B', 3: 'C', 4: 'D', 5: 'E'}\n",
    "    n1_new['condition'] = n1_new['condition_num'].map(condition_mapping)\n",
    "    # n1_new\n",
    "    # n1_new['id'] = range(1, len(n1_new) + 1)\n",
    "    # for index, row in n1_new.iterrows():\n",
    "    #     if row['model_type'] != 'bridge':\n",
    "    #         n1_new.iloc[index, 3] = row['model_type'] + ' ' + str(row['id'])\n",
    "    #     else:\n",
    "    #         n1_new.iloc[index, 3] = n1_new.iloc[index, 3] + ' ' + str(row['id'])\n",
    "    # print(n1_new)\n",
    "    return n1_new"
   ],
   "metadata": {
    "collapsed": false,
    "ExecuteTime": {
     "end_time": "2024-03-13T15:14:03.241792Z",
     "start_time": "2024-03-13T15:14:03.233307Z"
    }
   },
   "id": "339c46ec28a76cff"
  },
  {
   "cell_type": "code",
   "execution_count": 35,
   "outputs": [
    {
     "name": "stderr",
     "output_type": "stream",
     "text": [
      "C:\\Users\\svenk\\AppData\\Local\\Temp\\ipykernel_33328\\2069608279.py:9: SettingWithCopyWarning: \n",
      "A value is trying to be set on a copy of a slice from a DataFrame.\n",
      "Try using .loc[row_indexer,col_indexer] = value instead\n",
      "\n",
      "See the caveats in the documentation: https://pandas.pydata.org/pandas-docs/stable/user_guide/indexing.html#returning-a-view-versus-a-copy\n",
      "  n1_roads['id'] = range(1, len(n1_roads) + 1)\n",
      "C:\\Users\\svenk\\AppData\\Local\\Temp\\ipykernel_33328\\2069608279.py:12: SettingWithCopyWarning: \n",
      "A value is trying to be set on a copy of a slice from a DataFrame.\n",
      "Try using .loc[row_indexer,col_indexer] = value instead\n",
      "\n",
      "See the caveats in the documentation: https://pandas.pydata.org/pandas-docs/stable/user_guide/indexing.html#returning-a-view-versus-a-copy\n",
      "  n1_roads['model_type'] = 'link'\n",
      "C:\\Users\\svenk\\AppData\\Local\\Temp\\ipykernel_33328\\2069608279.py:16: SettingWithCopyWarning: \n",
      "A value is trying to be set on a copy of a slice from a DataFrame.\n",
      "Try using .loc[row_indexer,col_indexer] = value instead\n",
      "\n",
      "See the caveats in the documentation: https://pandas.pydata.org/pandas-docs/stable/user_guide/indexing.html#returning-a-view-versus-a-copy\n",
      "  n1_roads['name'] = 'Link'\n",
      "C:\\Users\\svenk\\AppData\\Local\\Temp\\ipykernel_33328\\2069608279.py:19: SettingWithCopyWarning: \n",
      "A value is trying to be set on a copy of a slice from a DataFrame.\n",
      "Try using .loc[row_indexer,col_indexer] = value instead\n",
      "\n",
      "See the caveats in the documentation: https://pandas.pydata.org/pandas-docs/stable/user_guide/indexing.html#returning-a-view-versus-a-copy\n",
      "  n1_roads['length'] = (n1_roads['chainage'].shift(-1) - n1_roads['chainage']).fillna(0)\n",
      "C:\\Users\\svenk\\AppData\\Local\\Temp\\ipykernel_33328\\2069608279.py:100: FutureWarning: The behavior of DataFrame concatenation with empty or all-NA entries is deprecated. In a future version, this will no longer exclude empty or all-NA columns when determining the result dtypes. To retain the old behavior, exclude the relevant entries before the concat operation.\n",
      "  n1_new = pd.concat([n1_new, pd.DataFrame(rows_to_add)], ignore_index=True)\n",
      "C:\\Users\\svenk\\AppData\\Local\\Temp\\ipykernel_33328\\2069608279.py:9: SettingWithCopyWarning: \n",
      "A value is trying to be set on a copy of a slice from a DataFrame.\n",
      "Try using .loc[row_indexer,col_indexer] = value instead\n",
      "\n",
      "See the caveats in the documentation: https://pandas.pydata.org/pandas-docs/stable/user_guide/indexing.html#returning-a-view-versus-a-copy\n",
      "  n1_roads['id'] = range(1, len(n1_roads) + 1)\n",
      "C:\\Users\\svenk\\AppData\\Local\\Temp\\ipykernel_33328\\2069608279.py:12: SettingWithCopyWarning: \n",
      "A value is trying to be set on a copy of a slice from a DataFrame.\n",
      "Try using .loc[row_indexer,col_indexer] = value instead\n",
      "\n",
      "See the caveats in the documentation: https://pandas.pydata.org/pandas-docs/stable/user_guide/indexing.html#returning-a-view-versus-a-copy\n",
      "  n1_roads['model_type'] = 'link'\n",
      "C:\\Users\\svenk\\AppData\\Local\\Temp\\ipykernel_33328\\2069608279.py:16: SettingWithCopyWarning: \n",
      "A value is trying to be set on a copy of a slice from a DataFrame.\n",
      "Try using .loc[row_indexer,col_indexer] = value instead\n",
      "\n",
      "See the caveats in the documentation: https://pandas.pydata.org/pandas-docs/stable/user_guide/indexing.html#returning-a-view-versus-a-copy\n",
      "  n1_roads['name'] = 'Link'\n",
      "C:\\Users\\svenk\\AppData\\Local\\Temp\\ipykernel_33328\\2069608279.py:19: SettingWithCopyWarning: \n",
      "A value is trying to be set on a copy of a slice from a DataFrame.\n",
      "Try using .loc[row_indexer,col_indexer] = value instead\n",
      "\n",
      "See the caveats in the documentation: https://pandas.pydata.org/pandas-docs/stable/user_guide/indexing.html#returning-a-view-versus-a-copy\n",
      "  n1_roads['length'] = (n1_roads['chainage'].shift(-1) - n1_roads['chainage']).fillna(0)\n",
      "C:\\Users\\svenk\\AppData\\Local\\Temp\\ipykernel_33328\\2069608279.py:100: FutureWarning: The behavior of DataFrame concatenation with empty or all-NA entries is deprecated. In a future version, this will no longer exclude empty or all-NA columns when determining the result dtypes. To retain the old behavior, exclude the relevant entries before the concat operation.\n",
      "  n1_new = pd.concat([n1_new, pd.DataFrame(rows_to_add)], ignore_index=True)\n",
      "C:\\Users\\svenk\\AppData\\Local\\Temp\\ipykernel_33328\\2069608279.py:9: SettingWithCopyWarning: \n",
      "A value is trying to be set on a copy of a slice from a DataFrame.\n",
      "Try using .loc[row_indexer,col_indexer] = value instead\n",
      "\n",
      "See the caveats in the documentation: https://pandas.pydata.org/pandas-docs/stable/user_guide/indexing.html#returning-a-view-versus-a-copy\n",
      "  n1_roads['id'] = range(1, len(n1_roads) + 1)\n",
      "C:\\Users\\svenk\\AppData\\Local\\Temp\\ipykernel_33328\\2069608279.py:12: SettingWithCopyWarning: \n",
      "A value is trying to be set on a copy of a slice from a DataFrame.\n",
      "Try using .loc[row_indexer,col_indexer] = value instead\n",
      "\n",
      "See the caveats in the documentation: https://pandas.pydata.org/pandas-docs/stable/user_guide/indexing.html#returning-a-view-versus-a-copy\n",
      "  n1_roads['model_type'] = 'link'\n",
      "C:\\Users\\svenk\\AppData\\Local\\Temp\\ipykernel_33328\\2069608279.py:16: SettingWithCopyWarning: \n",
      "A value is trying to be set on a copy of a slice from a DataFrame.\n",
      "Try using .loc[row_indexer,col_indexer] = value instead\n",
      "\n",
      "See the caveats in the documentation: https://pandas.pydata.org/pandas-docs/stable/user_guide/indexing.html#returning-a-view-versus-a-copy\n",
      "  n1_roads['name'] = 'Link'\n",
      "C:\\Users\\svenk\\AppData\\Local\\Temp\\ipykernel_33328\\2069608279.py:19: SettingWithCopyWarning: \n",
      "A value is trying to be set on a copy of a slice from a DataFrame.\n",
      "Try using .loc[row_indexer,col_indexer] = value instead\n",
      "\n",
      "See the caveats in the documentation: https://pandas.pydata.org/pandas-docs/stable/user_guide/indexing.html#returning-a-view-versus-a-copy\n",
      "  n1_roads['length'] = (n1_roads['chainage'].shift(-1) - n1_roads['chainage']).fillna(0)\n",
      "C:\\Users\\svenk\\AppData\\Local\\Temp\\ipykernel_33328\\2069608279.py:100: FutureWarning: The behavior of DataFrame concatenation with empty or all-NA entries is deprecated. In a future version, this will no longer exclude empty or all-NA columns when determining the result dtypes. To retain the old behavior, exclude the relevant entries before the concat operation.\n",
      "  n1_new = pd.concat([n1_new, pd.DataFrame(rows_to_add)], ignore_index=True)\n",
      "C:\\Users\\svenk\\AppData\\Local\\Temp\\ipykernel_33328\\2069608279.py:9: SettingWithCopyWarning: \n",
      "A value is trying to be set on a copy of a slice from a DataFrame.\n",
      "Try using .loc[row_indexer,col_indexer] = value instead\n",
      "\n",
      "See the caveats in the documentation: https://pandas.pydata.org/pandas-docs/stable/user_guide/indexing.html#returning-a-view-versus-a-copy\n",
      "  n1_roads['id'] = range(1, len(n1_roads) + 1)\n",
      "C:\\Users\\svenk\\AppData\\Local\\Temp\\ipykernel_33328\\2069608279.py:12: SettingWithCopyWarning: \n",
      "A value is trying to be set on a copy of a slice from a DataFrame.\n",
      "Try using .loc[row_indexer,col_indexer] = value instead\n",
      "\n",
      "See the caveats in the documentation: https://pandas.pydata.org/pandas-docs/stable/user_guide/indexing.html#returning-a-view-versus-a-copy\n",
      "  n1_roads['model_type'] = 'link'\n",
      "C:\\Users\\svenk\\AppData\\Local\\Temp\\ipykernel_33328\\2069608279.py:16: SettingWithCopyWarning: \n",
      "A value is trying to be set on a copy of a slice from a DataFrame.\n",
      "Try using .loc[row_indexer,col_indexer] = value instead\n",
      "\n",
      "See the caveats in the documentation: https://pandas.pydata.org/pandas-docs/stable/user_guide/indexing.html#returning-a-view-versus-a-copy\n",
      "  n1_roads['name'] = 'Link'\n",
      "C:\\Users\\svenk\\AppData\\Local\\Temp\\ipykernel_33328\\2069608279.py:19: SettingWithCopyWarning: \n",
      "A value is trying to be set on a copy of a slice from a DataFrame.\n",
      "Try using .loc[row_indexer,col_indexer] = value instead\n",
      "\n",
      "See the caveats in the documentation: https://pandas.pydata.org/pandas-docs/stable/user_guide/indexing.html#returning-a-view-versus-a-copy\n",
      "  n1_roads['length'] = (n1_roads['chainage'].shift(-1) - n1_roads['chainage']).fillna(0)\n",
      "C:\\Users\\svenk\\AppData\\Local\\Temp\\ipykernel_33328\\2069608279.py:100: FutureWarning: The behavior of DataFrame concatenation with empty or all-NA entries is deprecated. In a future version, this will no longer exclude empty or all-NA columns when determining the result dtypes. To retain the old behavior, exclude the relevant entries before the concat operation.\n",
      "  n1_new = pd.concat([n1_new, pd.DataFrame(rows_to_add)], ignore_index=True)\n",
      "C:\\Users\\svenk\\AppData\\Local\\Temp\\ipykernel_33328\\2069608279.py:9: SettingWithCopyWarning: \n",
      "A value is trying to be set on a copy of a slice from a DataFrame.\n",
      "Try using .loc[row_indexer,col_indexer] = value instead\n",
      "\n",
      "See the caveats in the documentation: https://pandas.pydata.org/pandas-docs/stable/user_guide/indexing.html#returning-a-view-versus-a-copy\n",
      "  n1_roads['id'] = range(1, len(n1_roads) + 1)\n",
      "C:\\Users\\svenk\\AppData\\Local\\Temp\\ipykernel_33328\\2069608279.py:12: SettingWithCopyWarning: \n",
      "A value is trying to be set on a copy of a slice from a DataFrame.\n",
      "Try using .loc[row_indexer,col_indexer] = value instead\n",
      "\n",
      "See the caveats in the documentation: https://pandas.pydata.org/pandas-docs/stable/user_guide/indexing.html#returning-a-view-versus-a-copy\n",
      "  n1_roads['model_type'] = 'link'\n",
      "C:\\Users\\svenk\\AppData\\Local\\Temp\\ipykernel_33328\\2069608279.py:16: SettingWithCopyWarning: \n",
      "A value is trying to be set on a copy of a slice from a DataFrame.\n",
      "Try using .loc[row_indexer,col_indexer] = value instead\n",
      "\n",
      "See the caveats in the documentation: https://pandas.pydata.org/pandas-docs/stable/user_guide/indexing.html#returning-a-view-versus-a-copy\n",
      "  n1_roads['name'] = 'Link'\n",
      "C:\\Users\\svenk\\AppData\\Local\\Temp\\ipykernel_33328\\2069608279.py:19: SettingWithCopyWarning: \n",
      "A value is trying to be set on a copy of a slice from a DataFrame.\n",
      "Try using .loc[row_indexer,col_indexer] = value instead\n",
      "\n",
      "See the caveats in the documentation: https://pandas.pydata.org/pandas-docs/stable/user_guide/indexing.html#returning-a-view-versus-a-copy\n",
      "  n1_roads['length'] = (n1_roads['chainage'].shift(-1) - n1_roads['chainage']).fillna(0)\n",
      "C:\\Users\\svenk\\AppData\\Local\\Temp\\ipykernel_33328\\2069608279.py:100: FutureWarning: The behavior of DataFrame concatenation with empty or all-NA entries is deprecated. In a future version, this will no longer exclude empty or all-NA columns when determining the result dtypes. To retain the old behavior, exclude the relevant entries before the concat operation.\n",
      "  n1_new = pd.concat([n1_new, pd.DataFrame(rows_to_add)], ignore_index=True)\n",
      "C:\\Users\\svenk\\AppData\\Local\\Temp\\ipykernel_33328\\2069608279.py:9: SettingWithCopyWarning: \n",
      "A value is trying to be set on a copy of a slice from a DataFrame.\n",
      "Try using .loc[row_indexer,col_indexer] = value instead\n",
      "\n",
      "See the caveats in the documentation: https://pandas.pydata.org/pandas-docs/stable/user_guide/indexing.html#returning-a-view-versus-a-copy\n",
      "  n1_roads['id'] = range(1, len(n1_roads) + 1)\n",
      "C:\\Users\\svenk\\AppData\\Local\\Temp\\ipykernel_33328\\2069608279.py:12: SettingWithCopyWarning: \n",
      "A value is trying to be set on a copy of a slice from a DataFrame.\n",
      "Try using .loc[row_indexer,col_indexer] = value instead\n",
      "\n",
      "See the caveats in the documentation: https://pandas.pydata.org/pandas-docs/stable/user_guide/indexing.html#returning-a-view-versus-a-copy\n",
      "  n1_roads['model_type'] = 'link'\n",
      "C:\\Users\\svenk\\AppData\\Local\\Temp\\ipykernel_33328\\2069608279.py:16: SettingWithCopyWarning: \n",
      "A value is trying to be set on a copy of a slice from a DataFrame.\n",
      "Try using .loc[row_indexer,col_indexer] = value instead\n",
      "\n",
      "See the caveats in the documentation: https://pandas.pydata.org/pandas-docs/stable/user_guide/indexing.html#returning-a-view-versus-a-copy\n",
      "  n1_roads['name'] = 'Link'\n",
      "C:\\Users\\svenk\\AppData\\Local\\Temp\\ipykernel_33328\\2069608279.py:19: SettingWithCopyWarning: \n",
      "A value is trying to be set on a copy of a slice from a DataFrame.\n",
      "Try using .loc[row_indexer,col_indexer] = value instead\n",
      "\n",
      "See the caveats in the documentation: https://pandas.pydata.org/pandas-docs/stable/user_guide/indexing.html#returning-a-view-versus-a-copy\n",
      "  n1_roads['length'] = (n1_roads['chainage'].shift(-1) - n1_roads['chainage']).fillna(0)\n",
      "C:\\Users\\svenk\\AppData\\Local\\Temp\\ipykernel_33328\\2069608279.py:100: FutureWarning: The behavior of DataFrame concatenation with empty or all-NA entries is deprecated. In a future version, this will no longer exclude empty or all-NA columns when determining the result dtypes. To retain the old behavior, exclude the relevant entries before the concat operation.\n",
      "  n1_new = pd.concat([n1_new, pd.DataFrame(rows_to_add)], ignore_index=True)\n",
      "C:\\Users\\svenk\\AppData\\Local\\Temp\\ipykernel_33328\\2069608279.py:9: SettingWithCopyWarning: \n",
      "A value is trying to be set on a copy of a slice from a DataFrame.\n",
      "Try using .loc[row_indexer,col_indexer] = value instead\n",
      "\n",
      "See the caveats in the documentation: https://pandas.pydata.org/pandas-docs/stable/user_guide/indexing.html#returning-a-view-versus-a-copy\n",
      "  n1_roads['id'] = range(1, len(n1_roads) + 1)\n",
      "C:\\Users\\svenk\\AppData\\Local\\Temp\\ipykernel_33328\\2069608279.py:12: SettingWithCopyWarning: \n",
      "A value is trying to be set on a copy of a slice from a DataFrame.\n",
      "Try using .loc[row_indexer,col_indexer] = value instead\n",
      "\n",
      "See the caveats in the documentation: https://pandas.pydata.org/pandas-docs/stable/user_guide/indexing.html#returning-a-view-versus-a-copy\n",
      "  n1_roads['model_type'] = 'link'\n",
      "C:\\Users\\svenk\\AppData\\Local\\Temp\\ipykernel_33328\\2069608279.py:16: SettingWithCopyWarning: \n",
      "A value is trying to be set on a copy of a slice from a DataFrame.\n",
      "Try using .loc[row_indexer,col_indexer] = value instead\n",
      "\n",
      "See the caveats in the documentation: https://pandas.pydata.org/pandas-docs/stable/user_guide/indexing.html#returning-a-view-versus-a-copy\n",
      "  n1_roads['name'] = 'Link'\n",
      "C:\\Users\\svenk\\AppData\\Local\\Temp\\ipykernel_33328\\2069608279.py:19: SettingWithCopyWarning: \n",
      "A value is trying to be set on a copy of a slice from a DataFrame.\n",
      "Try using .loc[row_indexer,col_indexer] = value instead\n",
      "\n",
      "See the caveats in the documentation: https://pandas.pydata.org/pandas-docs/stable/user_guide/indexing.html#returning-a-view-versus-a-copy\n",
      "  n1_roads['length'] = (n1_roads['chainage'].shift(-1) - n1_roads['chainage']).fillna(0)\n",
      "C:\\Users\\svenk\\AppData\\Local\\Temp\\ipykernel_33328\\2069608279.py:100: FutureWarning: The behavior of DataFrame concatenation with empty or all-NA entries is deprecated. In a future version, this will no longer exclude empty or all-NA columns when determining the result dtypes. To retain the old behavior, exclude the relevant entries before the concat operation.\n",
      "  n1_new = pd.concat([n1_new, pd.DataFrame(rows_to_add)], ignore_index=True)\n",
      "C:\\Users\\svenk\\AppData\\Local\\Temp\\ipykernel_33328\\2069608279.py:9: SettingWithCopyWarning: \n",
      "A value is trying to be set on a copy of a slice from a DataFrame.\n",
      "Try using .loc[row_indexer,col_indexer] = value instead\n",
      "\n",
      "See the caveats in the documentation: https://pandas.pydata.org/pandas-docs/stable/user_guide/indexing.html#returning-a-view-versus-a-copy\n",
      "  n1_roads['id'] = range(1, len(n1_roads) + 1)\n",
      "C:\\Users\\svenk\\AppData\\Local\\Temp\\ipykernel_33328\\2069608279.py:12: SettingWithCopyWarning: \n",
      "A value is trying to be set on a copy of a slice from a DataFrame.\n",
      "Try using .loc[row_indexer,col_indexer] = value instead\n",
      "\n",
      "See the caveats in the documentation: https://pandas.pydata.org/pandas-docs/stable/user_guide/indexing.html#returning-a-view-versus-a-copy\n",
      "  n1_roads['model_type'] = 'link'\n",
      "C:\\Users\\svenk\\AppData\\Local\\Temp\\ipykernel_33328\\2069608279.py:16: SettingWithCopyWarning: \n",
      "A value is trying to be set on a copy of a slice from a DataFrame.\n",
      "Try using .loc[row_indexer,col_indexer] = value instead\n",
      "\n",
      "See the caveats in the documentation: https://pandas.pydata.org/pandas-docs/stable/user_guide/indexing.html#returning-a-view-versus-a-copy\n",
      "  n1_roads['name'] = 'Link'\n",
      "C:\\Users\\svenk\\AppData\\Local\\Temp\\ipykernel_33328\\2069608279.py:19: SettingWithCopyWarning: \n",
      "A value is trying to be set on a copy of a slice from a DataFrame.\n",
      "Try using .loc[row_indexer,col_indexer] = value instead\n",
      "\n",
      "See the caveats in the documentation: https://pandas.pydata.org/pandas-docs/stable/user_guide/indexing.html#returning-a-view-versus-a-copy\n",
      "  n1_roads['length'] = (n1_roads['chainage'].shift(-1) - n1_roads['chainage']).fillna(0)\n",
      "C:\\Users\\svenk\\AppData\\Local\\Temp\\ipykernel_33328\\2069608279.py:100: FutureWarning: The behavior of DataFrame concatenation with empty or all-NA entries is deprecated. In a future version, this will no longer exclude empty or all-NA columns when determining the result dtypes. To retain the old behavior, exclude the relevant entries before the concat operation.\n",
      "  n1_new = pd.concat([n1_new, pd.DataFrame(rows_to_add)], ignore_index=True)\n",
      "C:\\Users\\svenk\\AppData\\Local\\Temp\\ipykernel_33328\\2069608279.py:9: SettingWithCopyWarning: \n",
      "A value is trying to be set on a copy of a slice from a DataFrame.\n",
      "Try using .loc[row_indexer,col_indexer] = value instead\n",
      "\n",
      "See the caveats in the documentation: https://pandas.pydata.org/pandas-docs/stable/user_guide/indexing.html#returning-a-view-versus-a-copy\n",
      "  n1_roads['id'] = range(1, len(n1_roads) + 1)\n",
      "C:\\Users\\svenk\\AppData\\Local\\Temp\\ipykernel_33328\\2069608279.py:12: SettingWithCopyWarning: \n",
      "A value is trying to be set on a copy of a slice from a DataFrame.\n",
      "Try using .loc[row_indexer,col_indexer] = value instead\n",
      "\n",
      "See the caveats in the documentation: https://pandas.pydata.org/pandas-docs/stable/user_guide/indexing.html#returning-a-view-versus-a-copy\n",
      "  n1_roads['model_type'] = 'link'\n",
      "C:\\Users\\svenk\\AppData\\Local\\Temp\\ipykernel_33328\\2069608279.py:16: SettingWithCopyWarning: \n",
      "A value is trying to be set on a copy of a slice from a DataFrame.\n",
      "Try using .loc[row_indexer,col_indexer] = value instead\n",
      "\n",
      "See the caveats in the documentation: https://pandas.pydata.org/pandas-docs/stable/user_guide/indexing.html#returning-a-view-versus-a-copy\n",
      "  n1_roads['name'] = 'Link'\n",
      "C:\\Users\\svenk\\AppData\\Local\\Temp\\ipykernel_33328\\2069608279.py:19: SettingWithCopyWarning: \n",
      "A value is trying to be set on a copy of a slice from a DataFrame.\n",
      "Try using .loc[row_indexer,col_indexer] = value instead\n",
      "\n",
      "See the caveats in the documentation: https://pandas.pydata.org/pandas-docs/stable/user_guide/indexing.html#returning-a-view-versus-a-copy\n",
      "  n1_roads['length'] = (n1_roads['chainage'].shift(-1) - n1_roads['chainage']).fillna(0)\n",
      "C:\\Users\\svenk\\AppData\\Local\\Temp\\ipykernel_33328\\2069608279.py:100: FutureWarning: The behavior of DataFrame concatenation with empty or all-NA entries is deprecated. In a future version, this will no longer exclude empty or all-NA columns when determining the result dtypes. To retain the old behavior, exclude the relevant entries before the concat operation.\n",
      "  n1_new = pd.concat([n1_new, pd.DataFrame(rows_to_add)], ignore_index=True)\n",
      "C:\\Users\\svenk\\AppData\\Local\\Temp\\ipykernel_33328\\2069608279.py:9: SettingWithCopyWarning: \n",
      "A value is trying to be set on a copy of a slice from a DataFrame.\n",
      "Try using .loc[row_indexer,col_indexer] = value instead\n",
      "\n",
      "See the caveats in the documentation: https://pandas.pydata.org/pandas-docs/stable/user_guide/indexing.html#returning-a-view-versus-a-copy\n",
      "  n1_roads['id'] = range(1, len(n1_roads) + 1)\n",
      "C:\\Users\\svenk\\AppData\\Local\\Temp\\ipykernel_33328\\2069608279.py:12: SettingWithCopyWarning: \n",
      "A value is trying to be set on a copy of a slice from a DataFrame.\n",
      "Try using .loc[row_indexer,col_indexer] = value instead\n",
      "\n",
      "See the caveats in the documentation: https://pandas.pydata.org/pandas-docs/stable/user_guide/indexing.html#returning-a-view-versus-a-copy\n",
      "  n1_roads['model_type'] = 'link'\n",
      "C:\\Users\\svenk\\AppData\\Local\\Temp\\ipykernel_33328\\2069608279.py:16: SettingWithCopyWarning: \n",
      "A value is trying to be set on a copy of a slice from a DataFrame.\n",
      "Try using .loc[row_indexer,col_indexer] = value instead\n",
      "\n",
      "See the caveats in the documentation: https://pandas.pydata.org/pandas-docs/stable/user_guide/indexing.html#returning-a-view-versus-a-copy\n",
      "  n1_roads['name'] = 'Link'\n",
      "C:\\Users\\svenk\\AppData\\Local\\Temp\\ipykernel_33328\\2069608279.py:19: SettingWithCopyWarning: \n",
      "A value is trying to be set on a copy of a slice from a DataFrame.\n",
      "Try using .loc[row_indexer,col_indexer] = value instead\n",
      "\n",
      "See the caveats in the documentation: https://pandas.pydata.org/pandas-docs/stable/user_guide/indexing.html#returning-a-view-versus-a-copy\n",
      "  n1_roads['length'] = (n1_roads['chainage'].shift(-1) - n1_roads['chainage']).fillna(0)\n",
      "C:\\Users\\svenk\\AppData\\Local\\Temp\\ipykernel_33328\\2069608279.py:100: FutureWarning: The behavior of DataFrame concatenation with empty or all-NA entries is deprecated. In a future version, this will no longer exclude empty or all-NA columns when determining the result dtypes. To retain the old behavior, exclude the relevant entries before the concat operation.\n",
      "  n1_new = pd.concat([n1_new, pd.DataFrame(rows_to_add)], ignore_index=True)\n"
     ]
    }
   ],
   "source": [
    "all_roads = []\n",
    "for road in ['N1', 'N105','N106', 'N102', 'N120', 'N104', 'N2', 'N204', 'N207', 'N208']:\n",
    "    all_roads.append(clean_file(roads, bmms, road))\n",
    "merged_dataframe = pd.concat(all_roads, ignore_index=True)\n",
    "desired_order = ['road', 'id', 'model_type', 'condition', 'name', 'lat', 'lon', 'length']\n",
    "merged_dataframe = merged_dataframe[desired_order]\n",
    "count = 1\n",
    "for index, row in merged_dataframe.iterrows():\n",
    "    merged_dataframe.loc[index, 'id'] = str(count)\n",
    "    count+=1\n",
    "    if row.model_type == 'link':\n",
    "        merged_dataframe.loc[index, 'name'] = 'link ' + merged_dataframe.loc[index, 'id']\n",
    "    elif row.model_type == 'source':\n",
    "        merged_dataframe.loc[index, 'name'] = 'source ' + merged_dataframe.loc[index, 'id']\n",
    "    elif row.model_type == 'sink':\n",
    "        merged_dataframe.loc[index, 'name'] = 'sink ' + merged_dataframe.loc[index, 'id']\n",
    "    elif row.model_type == 'bridge':\n",
    "        merged_dataframe.loc[index, 'name'] = merged_dataframe.loc[index, 'name'] + ' id ' + merged_dataframe.loc[index, 'id']\n"
   ],
   "metadata": {
    "collapsed": false,
    "ExecuteTime": {
     "end_time": "2024-03-13T15:14:05.071741700Z",
     "start_time": "2024-03-13T15:14:03.238764900Z"
    }
   },
   "id": "338cd5991da5aca8"
  },
  {
   "cell_type": "code",
   "execution_count": 36,
   "outputs": [
    {
     "data": {
      "text/plain": "      road    id  model_type condition                            name  \\\n0       N1     1  sourcesink       NaN                            Link   \n1       N1     2        link       NaN                          link 2   \n2       N1     3        link       NaN                          link 3   \n3       N1     4        link       NaN                          link 4   \n4       N1     5      bridge         A                          . id 5   \n...    ...   ...         ...       ...                             ...   \n4757  N208  4758        link       NaN                       link 4758   \n4758  N208  4759        link       NaN                       link 4759   \n4759  N208  4760        link       NaN                       link 4760   \n4760  N208  4761      bridge         B  KADAM TALI BOX CULVERT id 4761   \n4761  N208  4762  sourcesink       NaN                            Link   \n\n            lat        lon  length  \n0     23.706028  90.443333  0.8140  \n1     23.702917  90.450417  0.0080  \n2     23.702778  90.450472  0.1780  \n3     23.702139  90.451972  1.0000  \n4     23.697889  90.460583  0.0113  \n...         ...        ...     ...  \n4757  24.861528  91.881860  0.0850  \n4758  24.861889  91.881027  1.0000  \n4759  24.869499  91.876027  0.9000  \n4760  24.877555  91.875360  0.0056  \n4761  24.877555  91.875360  0.0000  \n\n[4762 rows x 8 columns]",
      "text/html": "<div>\n<style scoped>\n    .dataframe tbody tr th:only-of-type {\n        vertical-align: middle;\n    }\n\n    .dataframe tbody tr th {\n        vertical-align: top;\n    }\n\n    .dataframe thead th {\n        text-align: right;\n    }\n</style>\n<table border=\"1\" class=\"dataframe\">\n  <thead>\n    <tr style=\"text-align: right;\">\n      <th></th>\n      <th>road</th>\n      <th>id</th>\n      <th>model_type</th>\n      <th>condition</th>\n      <th>name</th>\n      <th>lat</th>\n      <th>lon</th>\n      <th>length</th>\n    </tr>\n  </thead>\n  <tbody>\n    <tr>\n      <th>0</th>\n      <td>N1</td>\n      <td>1</td>\n      <td>sourcesink</td>\n      <td>NaN</td>\n      <td>Link</td>\n      <td>23.706028</td>\n      <td>90.443333</td>\n      <td>0.8140</td>\n    </tr>\n    <tr>\n      <th>1</th>\n      <td>N1</td>\n      <td>2</td>\n      <td>link</td>\n      <td>NaN</td>\n      <td>link 2</td>\n      <td>23.702917</td>\n      <td>90.450417</td>\n      <td>0.0080</td>\n    </tr>\n    <tr>\n      <th>2</th>\n      <td>N1</td>\n      <td>3</td>\n      <td>link</td>\n      <td>NaN</td>\n      <td>link 3</td>\n      <td>23.702778</td>\n      <td>90.450472</td>\n      <td>0.1780</td>\n    </tr>\n    <tr>\n      <th>3</th>\n      <td>N1</td>\n      <td>4</td>\n      <td>link</td>\n      <td>NaN</td>\n      <td>link 4</td>\n      <td>23.702139</td>\n      <td>90.451972</td>\n      <td>1.0000</td>\n    </tr>\n    <tr>\n      <th>4</th>\n      <td>N1</td>\n      <td>5</td>\n      <td>bridge</td>\n      <td>A</td>\n      <td>. id 5</td>\n      <td>23.697889</td>\n      <td>90.460583</td>\n      <td>0.0113</td>\n    </tr>\n    <tr>\n      <th>...</th>\n      <td>...</td>\n      <td>...</td>\n      <td>...</td>\n      <td>...</td>\n      <td>...</td>\n      <td>...</td>\n      <td>...</td>\n      <td>...</td>\n    </tr>\n    <tr>\n      <th>4757</th>\n      <td>N208</td>\n      <td>4758</td>\n      <td>link</td>\n      <td>NaN</td>\n      <td>link 4758</td>\n      <td>24.861528</td>\n      <td>91.881860</td>\n      <td>0.0850</td>\n    </tr>\n    <tr>\n      <th>4758</th>\n      <td>N208</td>\n      <td>4759</td>\n      <td>link</td>\n      <td>NaN</td>\n      <td>link 4759</td>\n      <td>24.861889</td>\n      <td>91.881027</td>\n      <td>1.0000</td>\n    </tr>\n    <tr>\n      <th>4759</th>\n      <td>N208</td>\n      <td>4760</td>\n      <td>link</td>\n      <td>NaN</td>\n      <td>link 4760</td>\n      <td>24.869499</td>\n      <td>91.876027</td>\n      <td>0.9000</td>\n    </tr>\n    <tr>\n      <th>4760</th>\n      <td>N208</td>\n      <td>4761</td>\n      <td>bridge</td>\n      <td>B</td>\n      <td>KADAM TALI BOX CULVERT id 4761</td>\n      <td>24.877555</td>\n      <td>91.875360</td>\n      <td>0.0056</td>\n    </tr>\n    <tr>\n      <th>4761</th>\n      <td>N208</td>\n      <td>4762</td>\n      <td>sourcesink</td>\n      <td>NaN</td>\n      <td>Link</td>\n      <td>24.877555</td>\n      <td>91.875360</td>\n      <td>0.0000</td>\n    </tr>\n  </tbody>\n</table>\n<p>4762 rows × 8 columns</p>\n</div>"
     },
     "execution_count": 36,
     "metadata": {},
     "output_type": "execute_result"
    }
   ],
   "source": [
    "merged_dataframe"
   ],
   "metadata": {
    "collapsed": false,
    "ExecuteTime": {
     "end_time": "2024-03-13T15:14:05.088659100Z",
     "start_time": "2024-03-13T15:14:05.073746300Z"
    }
   },
   "id": "c4ea20dc6aeeb9f1"
  },
  {
   "cell_type": "code",
   "execution_count": 37,
   "outputs": [
    {
     "data": {
      "text/plain": "   road       id    model_type condition   name  lat  lon  length\n0    N1  1000000    sourcesink       NaN  SoSi1    0    0       4\n1    N1  1000001         link        NaN    NaN    1    1    1800\n2    N1  1000002       bridge          A    NaN    2    2     200\n3    N1  1000003          link       NaN    NaN    3    3    1500\n4    N1  1000004        bridge         A    NaN    4    4       8\n5    N1  1000005          link       NaN    NaN    5    5    2000\n6    N1  1000006  intersection       NaN    NaN    6    6      20\n7    N1  1000007          link       NaN    NaN    7    7    1400\n8    N1  1000008        bridge         A    NaN    8    8       4\n9    N1  1000009          link       NaN    NaN    9    9    2500\n10   N1  1000010        bridge         B    NaN   10   10     500\n11   N1  1000011          link       NaN    NaN   11   11     800\n12   N1  1000012    sourcesink       NaN  SoSi2   12   12      20\n13   N2  1000013    sourcesink       NaN  SoSi3    0   12       4\n14   N2  1000014         link        NaN    NaN    1   11    1800\n15   N2  1000015       bridge          A    NaN    2   10     200\n16   N2  1000016          link       NaN    NaN    3    9    1500\n17   N2  1000017        bridge         A    NaN    4    8       8\n18   N2  1000018          link       NaN    NaN    5    7    2000\n19   N2  1000006  intersection       NaN    NaN    6    6      20\n20   N2  1000020          link       NaN    NaN    7    5    1400\n21   N2  1000021        bridge         A    NaN    8    4       4\n22   N2  1000022          link       NaN    NaN    9    3    2500\n23   N2  1000023        bridge         B    NaN   10    2     500\n24   N2  1000024          link       NaN    NaN   11    1     800\n25   N2  1000025    sourcesink       NaN  SoSi4   12    0      20",
      "text/html": "<div>\n<style scoped>\n    .dataframe tbody tr th:only-of-type {\n        vertical-align: middle;\n    }\n\n    .dataframe tbody tr th {\n        vertical-align: top;\n    }\n\n    .dataframe thead th {\n        text-align: right;\n    }\n</style>\n<table border=\"1\" class=\"dataframe\">\n  <thead>\n    <tr style=\"text-align: right;\">\n      <th></th>\n      <th>road</th>\n      <th>id</th>\n      <th>model_type</th>\n      <th>condition</th>\n      <th>name</th>\n      <th>lat</th>\n      <th>lon</th>\n      <th>length</th>\n    </tr>\n  </thead>\n  <tbody>\n    <tr>\n      <th>0</th>\n      <td>N1</td>\n      <td>1000000</td>\n      <td>sourcesink</td>\n      <td>NaN</td>\n      <td>SoSi1</td>\n      <td>0</td>\n      <td>0</td>\n      <td>4</td>\n    </tr>\n    <tr>\n      <th>1</th>\n      <td>N1</td>\n      <td>1000001</td>\n      <td>link</td>\n      <td>NaN</td>\n      <td>NaN</td>\n      <td>1</td>\n      <td>1</td>\n      <td>1800</td>\n    </tr>\n    <tr>\n      <th>2</th>\n      <td>N1</td>\n      <td>1000002</td>\n      <td>bridge</td>\n      <td>A</td>\n      <td>NaN</td>\n      <td>2</td>\n      <td>2</td>\n      <td>200</td>\n    </tr>\n    <tr>\n      <th>3</th>\n      <td>N1</td>\n      <td>1000003</td>\n      <td>link</td>\n      <td>NaN</td>\n      <td>NaN</td>\n      <td>3</td>\n      <td>3</td>\n      <td>1500</td>\n    </tr>\n    <tr>\n      <th>4</th>\n      <td>N1</td>\n      <td>1000004</td>\n      <td>bridge</td>\n      <td>A</td>\n      <td>NaN</td>\n      <td>4</td>\n      <td>4</td>\n      <td>8</td>\n    </tr>\n    <tr>\n      <th>5</th>\n      <td>N1</td>\n      <td>1000005</td>\n      <td>link</td>\n      <td>NaN</td>\n      <td>NaN</td>\n      <td>5</td>\n      <td>5</td>\n      <td>2000</td>\n    </tr>\n    <tr>\n      <th>6</th>\n      <td>N1</td>\n      <td>1000006</td>\n      <td>intersection</td>\n      <td>NaN</td>\n      <td>NaN</td>\n      <td>6</td>\n      <td>6</td>\n      <td>20</td>\n    </tr>\n    <tr>\n      <th>7</th>\n      <td>N1</td>\n      <td>1000007</td>\n      <td>link</td>\n      <td>NaN</td>\n      <td>NaN</td>\n      <td>7</td>\n      <td>7</td>\n      <td>1400</td>\n    </tr>\n    <tr>\n      <th>8</th>\n      <td>N1</td>\n      <td>1000008</td>\n      <td>bridge</td>\n      <td>A</td>\n      <td>NaN</td>\n      <td>8</td>\n      <td>8</td>\n      <td>4</td>\n    </tr>\n    <tr>\n      <th>9</th>\n      <td>N1</td>\n      <td>1000009</td>\n      <td>link</td>\n      <td>NaN</td>\n      <td>NaN</td>\n      <td>9</td>\n      <td>9</td>\n      <td>2500</td>\n    </tr>\n    <tr>\n      <th>10</th>\n      <td>N1</td>\n      <td>1000010</td>\n      <td>bridge</td>\n      <td>B</td>\n      <td>NaN</td>\n      <td>10</td>\n      <td>10</td>\n      <td>500</td>\n    </tr>\n    <tr>\n      <th>11</th>\n      <td>N1</td>\n      <td>1000011</td>\n      <td>link</td>\n      <td>NaN</td>\n      <td>NaN</td>\n      <td>11</td>\n      <td>11</td>\n      <td>800</td>\n    </tr>\n    <tr>\n      <th>12</th>\n      <td>N1</td>\n      <td>1000012</td>\n      <td>sourcesink</td>\n      <td>NaN</td>\n      <td>SoSi2</td>\n      <td>12</td>\n      <td>12</td>\n      <td>20</td>\n    </tr>\n    <tr>\n      <th>13</th>\n      <td>N2</td>\n      <td>1000013</td>\n      <td>sourcesink</td>\n      <td>NaN</td>\n      <td>SoSi3</td>\n      <td>0</td>\n      <td>12</td>\n      <td>4</td>\n    </tr>\n    <tr>\n      <th>14</th>\n      <td>N2</td>\n      <td>1000014</td>\n      <td>link</td>\n      <td>NaN</td>\n      <td>NaN</td>\n      <td>1</td>\n      <td>11</td>\n      <td>1800</td>\n    </tr>\n    <tr>\n      <th>15</th>\n      <td>N2</td>\n      <td>1000015</td>\n      <td>bridge</td>\n      <td>A</td>\n      <td>NaN</td>\n      <td>2</td>\n      <td>10</td>\n      <td>200</td>\n    </tr>\n    <tr>\n      <th>16</th>\n      <td>N2</td>\n      <td>1000016</td>\n      <td>link</td>\n      <td>NaN</td>\n      <td>NaN</td>\n      <td>3</td>\n      <td>9</td>\n      <td>1500</td>\n    </tr>\n    <tr>\n      <th>17</th>\n      <td>N2</td>\n      <td>1000017</td>\n      <td>bridge</td>\n      <td>A</td>\n      <td>NaN</td>\n      <td>4</td>\n      <td>8</td>\n      <td>8</td>\n    </tr>\n    <tr>\n      <th>18</th>\n      <td>N2</td>\n      <td>1000018</td>\n      <td>link</td>\n      <td>NaN</td>\n      <td>NaN</td>\n      <td>5</td>\n      <td>7</td>\n      <td>2000</td>\n    </tr>\n    <tr>\n      <th>19</th>\n      <td>N2</td>\n      <td>1000006</td>\n      <td>intersection</td>\n      <td>NaN</td>\n      <td>NaN</td>\n      <td>6</td>\n      <td>6</td>\n      <td>20</td>\n    </tr>\n    <tr>\n      <th>20</th>\n      <td>N2</td>\n      <td>1000020</td>\n      <td>link</td>\n      <td>NaN</td>\n      <td>NaN</td>\n      <td>7</td>\n      <td>5</td>\n      <td>1400</td>\n    </tr>\n    <tr>\n      <th>21</th>\n      <td>N2</td>\n      <td>1000021</td>\n      <td>bridge</td>\n      <td>A</td>\n      <td>NaN</td>\n      <td>8</td>\n      <td>4</td>\n      <td>4</td>\n    </tr>\n    <tr>\n      <th>22</th>\n      <td>N2</td>\n      <td>1000022</td>\n      <td>link</td>\n      <td>NaN</td>\n      <td>NaN</td>\n      <td>9</td>\n      <td>3</td>\n      <td>2500</td>\n    </tr>\n    <tr>\n      <th>23</th>\n      <td>N2</td>\n      <td>1000023</td>\n      <td>bridge</td>\n      <td>B</td>\n      <td>NaN</td>\n      <td>10</td>\n      <td>2</td>\n      <td>500</td>\n    </tr>\n    <tr>\n      <th>24</th>\n      <td>N2</td>\n      <td>1000024</td>\n      <td>link</td>\n      <td>NaN</td>\n      <td>NaN</td>\n      <td>11</td>\n      <td>1</td>\n      <td>800</td>\n    </tr>\n    <tr>\n      <th>25</th>\n      <td>N2</td>\n      <td>1000025</td>\n      <td>sourcesink</td>\n      <td>NaN</td>\n      <td>SoSi4</td>\n      <td>12</td>\n      <td>0</td>\n      <td>20</td>\n    </tr>\n  </tbody>\n</table>\n</div>"
     },
     "execution_count": 37,
     "metadata": {},
     "output_type": "execute_result"
    }
   ],
   "source": [
    "demo = pd.read_csv('../data/demo-4.csv')\n",
    "demo"
   ],
   "metadata": {
    "collapsed": false,
    "ExecuteTime": {
     "end_time": "2024-03-13T15:14:05.095300Z",
     "start_time": "2024-03-13T15:14:05.082618100Z"
    }
   },
   "id": "8cf515a044afec8e"
  },
  {
   "cell_type": "code",
   "execution_count": 38,
   "outputs": [
    {
     "name": "stdout",
     "output_type": "stream",
     "text": [
      "\n",
      " NOPE!\n",
      "difference is: 0.0779996999999959\n",
      "intersection of N1 with N2\n",
      "\n",
      " NOPE!\n",
      "difference is: 1.8818604000000008\n",
      "intersection of N1 with N106\n",
      "\n",
      " Correct!\n",
      "difference is: 2.779999999802385e-05\n",
      "intersection of N105 with N1\n",
      "\n",
      " NOPE!\n",
      "difference is: 0.36861039999999434\n",
      "intersection of N105 with N1\n",
      "\n",
      " NOPE!\n",
      "difference is: 0.058194700000012034\n",
      "intersection of N106 with N1\n",
      "\n",
      " NOPE!\n",
      "difference is: 0.5611947999999991\n",
      "intersection of N106 with N1\n",
      "\n",
      " Correct!\n",
      "difference is: 2.779999999802385e-05\n",
      "intersection of N102 with N1\n",
      "\n",
      " Correct!\n",
      "difference is: 0.0004445000000039556\n",
      "intersection of N102 with N2\n",
      "\n",
      " Correct!\n",
      "difference is: 0.000888800000005574\n",
      "intersection of N120 with N1\n",
      "\n",
      " Correct!\n",
      "difference is: 0.0004166000000083159\n",
      "intersection of N120 with N1\n",
      "\n",
      " Correct!\n",
      "difference is: 0.013667000000005203\n",
      "intersection of N104 with N1\n",
      "\n",
      " NOPE!\n",
      "difference is: 0.45319439999999744\n",
      "intersection of N104 with N1\n",
      "\n",
      " Correct!\n",
      "difference is: 0.0002499000000000251\n",
      "intersection of N2 with N1\n",
      "\n",
      " NOPE!\n",
      "difference is: 0.42177849999998784\n",
      "intersection of N2 with N208\n",
      "\n",
      " Correct!\n",
      "difference is: 0.00022219999999251172\n",
      "intersection of N204 with N2\n",
      "\n",
      " Correct!\n",
      "difference is: 0.0005555999999948824\n",
      "intersection of N204 with N2\n",
      "\n",
      " Correct!\n",
      "difference is: 0.0003055999999936887\n",
      "intersection of N207 with N2\n",
      "\n",
      " Correct!\n",
      "difference is: 0.00019440000001225144\n",
      "intersection of N207 with N2\n",
      "\n",
      " Correct!\n",
      "difference is: 8.339999999407155e-05\n",
      "intersection of N208 with N207\n",
      "\n",
      " Correct!\n",
      "difference is: 0.00022219999999961715\n",
      "intersection of N208 with N2\n"
     ]
    }
   ],
   "source": [
    "for index, row_ss in merged_dataframe[merged_dataframe['model_type'] == 'sourcesink'].iterrows():\n",
    "    closest_lon = 100\n",
    "    closest_lat = 100\n",
    "    closest_diff = 100\n",
    "    closest_id = None\n",
    "    closest_row = None\n",
    "    for index2, row in merged_dataframe.iterrows():\n",
    "        if row.road != row_ss.road and row.model_type != 'bridge':\n",
    "            diff_lat = abs(row_ss.lat-row.lat)\n",
    "            diff_lon = abs(row_ss.lon-row.lon)\n",
    "            diff = diff_lat + diff_lon\n",
    "            if diff < closest_diff:\n",
    "                closest_lon = row.lon \n",
    "                closest_lat = row.lat\n",
    "                closest_id = row.id\n",
    "                closest_diff = diff\n",
    "                closest_row = row\n",
    "    if closest_diff < 0.02:\n",
    "        merged_dataframe.loc[merged_dataframe['id'] == row_ss.id, 'model_type'] = 'intersection'\n",
    "        merged_dataframe.loc[merged_dataframe['id'] == row_ss.id, 'name'] = f\"intersection of {row_ss.road} with {closest_row.road}\"\n",
    "        merged_dataframe.loc[merged_dataframe['id'] == closest_id, 'model_type'] = 'intersection'\n",
    "        merged_dataframe.loc[merged_dataframe['id'] == closest_id, 'name'] = f\"intersection of {closest_row.road} with {row_ss.road}\"\n",
    "        print('\\n Correct!\\ndifference is:', closest_diff)\n",
    "        print(f\"intersection of {row_ss.road} with {closest_row.road}\")\n",
    "    else:\n",
    "        print('\\n NOPE!\\ndifference is:', closest_diff)\n",
    "        print(f\"intersection of {row_ss.road} with {closest_row.road}\")\n",
    "    "
   ],
   "metadata": {
    "collapsed": false,
    "ExecuteTime": {
     "end_time": "2024-03-13T15:14:09.400383600Z",
     "start_time": "2024-03-13T15:14:05.092283200Z"
    }
   },
   "id": "3e733b419804fef7"
  },
  {
   "cell_type": "code",
   "execution_count": 39,
   "outputs": [
    {
     "data": {
      "text/plain": "      road    id    model_type condition                            name  \\\n19      N1    20  intersection       NaN      intersection of N1 with N2   \n34      N1    35  intersection       NaN    intersection of N1 with N105   \n243     N1   244  intersection       NaN    intersection of N1 with N102   \n248     N1   249  intersection       NaN    intersection of N1 with N120   \n293     N1   294  intersection       NaN    intersection of N1 with N120   \n448     N1   449  intersection       NaN    intersection of N1 with N104   \n1884  N105  1885  intersection       NaN    intersection of N105 with N1   \n2332  N102  2333  intersection       NaN    intersection of N102 with N1   \n2638  N102  2639  intersection       NaN    intersection of N102 with N2   \n2639  N120  2640  intersection       NaN    intersection of N120 with N1   \n2686  N120  2687  intersection       NaN    intersection of N120 with N1   \n2687  N104  2688  intersection       NaN    intersection of N104 with N1   \n2848    N2  2849  intersection       NaN      intersection of N2 with N1   \n3173    N2  3174  intersection       NaN    intersection of N2 with N102   \n3299    N2  3300  intersection       NaN    intersection of N2 with N204   \n3441    N2  3442  intersection       NaN    intersection of N2 with N204   \n3459    N2  3460  intersection       NaN    intersection of N2 with N207   \n3777    N2  3778  intersection       NaN    intersection of N2 with N207   \n3922    N2  3923  intersection       NaN    intersection of N2 with N208   \n4150  N204  4151  intersection       NaN    intersection of N204 with N2   \n4274  N204  4275  intersection       NaN    intersection of N204 with N2   \n4275  N207  4276  intersection       NaN    intersection of N207 with N2   \n4438  N207  4439  intersection       NaN  intersection of N207 with N208   \n4504  N207  4505  intersection       NaN    intersection of N207 with N2   \n4505  N208  4506  intersection       NaN  intersection of N208 with N207   \n4761  N208  4762  intersection       NaN    intersection of N208 with N2   \n\n            lat        lon  length  \n19    23.706083  90.521527   0.740  \n34    23.690416  90.546583   0.588  \n243   23.478972  91.118166   0.547  \n248   23.476722  91.136444   1.000  \n293   23.358444  91.253333   0.610  \n448   22.996389  91.399805   0.085  \n1884  23.690416  90.546611   1.000  \n2332  23.478972  91.118194   0.329  \n2638  24.050611  91.114667   0.000  \n2639  23.477277  91.136111   0.281  \n2686  23.358167  91.253472   0.000  \n2687  23.009667  91.399416   0.445  \n2848  23.705917  90.521444   0.166  \n3173  24.050833  91.114444   0.290  \n3299  24.147861  91.346444   0.044  \n3441  24.267694  91.476888   0.315  \n3459  24.294722  91.510083   0.085  \n3777  24.626499  91.677499   0.318  \n3922  24.877694  91.875277   0.037  \n4150  24.147916  91.346611   0.545  \n4274  24.267388  91.477138   0.000  \n4275  24.294861  91.510250   0.226  \n4438  24.471360  91.765472   0.012  \n4504  24.626333  91.677527   0.000  \n4505  24.471360  91.765556   1.000  \n4761  24.877555  91.875360   0.000  ",
      "text/html": "<div>\n<style scoped>\n    .dataframe tbody tr th:only-of-type {\n        vertical-align: middle;\n    }\n\n    .dataframe tbody tr th {\n        vertical-align: top;\n    }\n\n    .dataframe thead th {\n        text-align: right;\n    }\n</style>\n<table border=\"1\" class=\"dataframe\">\n  <thead>\n    <tr style=\"text-align: right;\">\n      <th></th>\n      <th>road</th>\n      <th>id</th>\n      <th>model_type</th>\n      <th>condition</th>\n      <th>name</th>\n      <th>lat</th>\n      <th>lon</th>\n      <th>length</th>\n    </tr>\n  </thead>\n  <tbody>\n    <tr>\n      <th>19</th>\n      <td>N1</td>\n      <td>20</td>\n      <td>intersection</td>\n      <td>NaN</td>\n      <td>intersection of N1 with N2</td>\n      <td>23.706083</td>\n      <td>90.521527</td>\n      <td>0.740</td>\n    </tr>\n    <tr>\n      <th>34</th>\n      <td>N1</td>\n      <td>35</td>\n      <td>intersection</td>\n      <td>NaN</td>\n      <td>intersection of N1 with N105</td>\n      <td>23.690416</td>\n      <td>90.546583</td>\n      <td>0.588</td>\n    </tr>\n    <tr>\n      <th>243</th>\n      <td>N1</td>\n      <td>244</td>\n      <td>intersection</td>\n      <td>NaN</td>\n      <td>intersection of N1 with N102</td>\n      <td>23.478972</td>\n      <td>91.118166</td>\n      <td>0.547</td>\n    </tr>\n    <tr>\n      <th>248</th>\n      <td>N1</td>\n      <td>249</td>\n      <td>intersection</td>\n      <td>NaN</td>\n      <td>intersection of N1 with N120</td>\n      <td>23.476722</td>\n      <td>91.136444</td>\n      <td>1.000</td>\n    </tr>\n    <tr>\n      <th>293</th>\n      <td>N1</td>\n      <td>294</td>\n      <td>intersection</td>\n      <td>NaN</td>\n      <td>intersection of N1 with N120</td>\n      <td>23.358444</td>\n      <td>91.253333</td>\n      <td>0.610</td>\n    </tr>\n    <tr>\n      <th>448</th>\n      <td>N1</td>\n      <td>449</td>\n      <td>intersection</td>\n      <td>NaN</td>\n      <td>intersection of N1 with N104</td>\n      <td>22.996389</td>\n      <td>91.399805</td>\n      <td>0.085</td>\n    </tr>\n    <tr>\n      <th>1884</th>\n      <td>N105</td>\n      <td>1885</td>\n      <td>intersection</td>\n      <td>NaN</td>\n      <td>intersection of N105 with N1</td>\n      <td>23.690416</td>\n      <td>90.546611</td>\n      <td>1.000</td>\n    </tr>\n    <tr>\n      <th>2332</th>\n      <td>N102</td>\n      <td>2333</td>\n      <td>intersection</td>\n      <td>NaN</td>\n      <td>intersection of N102 with N1</td>\n      <td>23.478972</td>\n      <td>91.118194</td>\n      <td>0.329</td>\n    </tr>\n    <tr>\n      <th>2638</th>\n      <td>N102</td>\n      <td>2639</td>\n      <td>intersection</td>\n      <td>NaN</td>\n      <td>intersection of N102 with N2</td>\n      <td>24.050611</td>\n      <td>91.114667</td>\n      <td>0.000</td>\n    </tr>\n    <tr>\n      <th>2639</th>\n      <td>N120</td>\n      <td>2640</td>\n      <td>intersection</td>\n      <td>NaN</td>\n      <td>intersection of N120 with N1</td>\n      <td>23.477277</td>\n      <td>91.136111</td>\n      <td>0.281</td>\n    </tr>\n    <tr>\n      <th>2686</th>\n      <td>N120</td>\n      <td>2687</td>\n      <td>intersection</td>\n      <td>NaN</td>\n      <td>intersection of N120 with N1</td>\n      <td>23.358167</td>\n      <td>91.253472</td>\n      <td>0.000</td>\n    </tr>\n    <tr>\n      <th>2687</th>\n      <td>N104</td>\n      <td>2688</td>\n      <td>intersection</td>\n      <td>NaN</td>\n      <td>intersection of N104 with N1</td>\n      <td>23.009667</td>\n      <td>91.399416</td>\n      <td>0.445</td>\n    </tr>\n    <tr>\n      <th>2848</th>\n      <td>N2</td>\n      <td>2849</td>\n      <td>intersection</td>\n      <td>NaN</td>\n      <td>intersection of N2 with N1</td>\n      <td>23.705917</td>\n      <td>90.521444</td>\n      <td>0.166</td>\n    </tr>\n    <tr>\n      <th>3173</th>\n      <td>N2</td>\n      <td>3174</td>\n      <td>intersection</td>\n      <td>NaN</td>\n      <td>intersection of N2 with N102</td>\n      <td>24.050833</td>\n      <td>91.114444</td>\n      <td>0.290</td>\n    </tr>\n    <tr>\n      <th>3299</th>\n      <td>N2</td>\n      <td>3300</td>\n      <td>intersection</td>\n      <td>NaN</td>\n      <td>intersection of N2 with N204</td>\n      <td>24.147861</td>\n      <td>91.346444</td>\n      <td>0.044</td>\n    </tr>\n    <tr>\n      <th>3441</th>\n      <td>N2</td>\n      <td>3442</td>\n      <td>intersection</td>\n      <td>NaN</td>\n      <td>intersection of N2 with N204</td>\n      <td>24.267694</td>\n      <td>91.476888</td>\n      <td>0.315</td>\n    </tr>\n    <tr>\n      <th>3459</th>\n      <td>N2</td>\n      <td>3460</td>\n      <td>intersection</td>\n      <td>NaN</td>\n      <td>intersection of N2 with N207</td>\n      <td>24.294722</td>\n      <td>91.510083</td>\n      <td>0.085</td>\n    </tr>\n    <tr>\n      <th>3777</th>\n      <td>N2</td>\n      <td>3778</td>\n      <td>intersection</td>\n      <td>NaN</td>\n      <td>intersection of N2 with N207</td>\n      <td>24.626499</td>\n      <td>91.677499</td>\n      <td>0.318</td>\n    </tr>\n    <tr>\n      <th>3922</th>\n      <td>N2</td>\n      <td>3923</td>\n      <td>intersection</td>\n      <td>NaN</td>\n      <td>intersection of N2 with N208</td>\n      <td>24.877694</td>\n      <td>91.875277</td>\n      <td>0.037</td>\n    </tr>\n    <tr>\n      <th>4150</th>\n      <td>N204</td>\n      <td>4151</td>\n      <td>intersection</td>\n      <td>NaN</td>\n      <td>intersection of N204 with N2</td>\n      <td>24.147916</td>\n      <td>91.346611</td>\n      <td>0.545</td>\n    </tr>\n    <tr>\n      <th>4274</th>\n      <td>N204</td>\n      <td>4275</td>\n      <td>intersection</td>\n      <td>NaN</td>\n      <td>intersection of N204 with N2</td>\n      <td>24.267388</td>\n      <td>91.477138</td>\n      <td>0.000</td>\n    </tr>\n    <tr>\n      <th>4275</th>\n      <td>N207</td>\n      <td>4276</td>\n      <td>intersection</td>\n      <td>NaN</td>\n      <td>intersection of N207 with N2</td>\n      <td>24.294861</td>\n      <td>91.510250</td>\n      <td>0.226</td>\n    </tr>\n    <tr>\n      <th>4438</th>\n      <td>N207</td>\n      <td>4439</td>\n      <td>intersection</td>\n      <td>NaN</td>\n      <td>intersection of N207 with N208</td>\n      <td>24.471360</td>\n      <td>91.765472</td>\n      <td>0.012</td>\n    </tr>\n    <tr>\n      <th>4504</th>\n      <td>N207</td>\n      <td>4505</td>\n      <td>intersection</td>\n      <td>NaN</td>\n      <td>intersection of N207 with N2</td>\n      <td>24.626333</td>\n      <td>91.677527</td>\n      <td>0.000</td>\n    </tr>\n    <tr>\n      <th>4505</th>\n      <td>N208</td>\n      <td>4506</td>\n      <td>intersection</td>\n      <td>NaN</td>\n      <td>intersection of N208 with N207</td>\n      <td>24.471360</td>\n      <td>91.765556</td>\n      <td>1.000</td>\n    </tr>\n    <tr>\n      <th>4761</th>\n      <td>N208</td>\n      <td>4762</td>\n      <td>intersection</td>\n      <td>NaN</td>\n      <td>intersection of N208 with N2</td>\n      <td>24.877555</td>\n      <td>91.875360</td>\n      <td>0.000</td>\n    </tr>\n  </tbody>\n</table>\n</div>"
     },
     "execution_count": 39,
     "metadata": {},
     "output_type": "execute_result"
    }
   ],
   "source": [
    "merged_dataframe[merged_dataframe['model_type'] == 'intersection']"
   ],
   "metadata": {
    "collapsed": false,
    "ExecuteTime": {
     "end_time": "2024-03-13T15:14:09.408162900Z",
     "start_time": "2024-03-13T15:14:09.397382700Z"
    }
   },
   "id": "703d296b1041f3cd"
  },
  {
   "cell_type": "code",
   "execution_count": 40,
   "outputs": [],
   "source": [
    "merged_dataframe.to_csv('../data/merged_data.csv', index=False)"
   ],
   "metadata": {
    "collapsed": false,
    "ExecuteTime": {
     "end_time": "2024-03-13T15:14:09.448320Z",
     "start_time": "2024-03-13T15:14:09.406892900Z"
    }
   },
   "id": "97bc2f1717419c9e"
  },
  {
   "cell_type": "code",
   "execution_count": 41,
   "outputs": [
    {
     "data": {
      "text/plain": "      road    id    model_type condition                            name  \\\n0       N1     1    sourcesink       NaN                            Link   \n1       N1     2          link       NaN                          link 2   \n2       N1     3          link       NaN                          link 3   \n3       N1     4          link       NaN                          link 4   \n4       N1     5        bridge         A                          . id 5   \n...    ...   ...           ...       ...                             ...   \n4757  N208  4758          link       NaN                       link 4758   \n4758  N208  4759          link       NaN                       link 4759   \n4759  N208  4760          link       NaN                       link 4760   \n4760  N208  4761        bridge         B  KADAM TALI BOX CULVERT id 4761   \n4761  N208  4762  intersection       NaN    intersection of N208 with N2   \n\n            lat        lon  length  \n0     23.706028  90.443333  0.8140  \n1     23.702917  90.450417  0.0080  \n2     23.702778  90.450472  0.1780  \n3     23.702139  90.451972  1.0000  \n4     23.697889  90.460583  0.0113  \n...         ...        ...     ...  \n4757  24.861528  91.881860  0.0850  \n4758  24.861889  91.881027  1.0000  \n4759  24.869499  91.876027  0.9000  \n4760  24.877555  91.875360  0.0056  \n4761  24.877555  91.875360  0.0000  \n\n[4762 rows x 8 columns]",
      "text/html": "<div>\n<style scoped>\n    .dataframe tbody tr th:only-of-type {\n        vertical-align: middle;\n    }\n\n    .dataframe tbody tr th {\n        vertical-align: top;\n    }\n\n    .dataframe thead th {\n        text-align: right;\n    }\n</style>\n<table border=\"1\" class=\"dataframe\">\n  <thead>\n    <tr style=\"text-align: right;\">\n      <th></th>\n      <th>road</th>\n      <th>id</th>\n      <th>model_type</th>\n      <th>condition</th>\n      <th>name</th>\n      <th>lat</th>\n      <th>lon</th>\n      <th>length</th>\n    </tr>\n  </thead>\n  <tbody>\n    <tr>\n      <th>0</th>\n      <td>N1</td>\n      <td>1</td>\n      <td>sourcesink</td>\n      <td>NaN</td>\n      <td>Link</td>\n      <td>23.706028</td>\n      <td>90.443333</td>\n      <td>0.8140</td>\n    </tr>\n    <tr>\n      <th>1</th>\n      <td>N1</td>\n      <td>2</td>\n      <td>link</td>\n      <td>NaN</td>\n      <td>link 2</td>\n      <td>23.702917</td>\n      <td>90.450417</td>\n      <td>0.0080</td>\n    </tr>\n    <tr>\n      <th>2</th>\n      <td>N1</td>\n      <td>3</td>\n      <td>link</td>\n      <td>NaN</td>\n      <td>link 3</td>\n      <td>23.702778</td>\n      <td>90.450472</td>\n      <td>0.1780</td>\n    </tr>\n    <tr>\n      <th>3</th>\n      <td>N1</td>\n      <td>4</td>\n      <td>link</td>\n      <td>NaN</td>\n      <td>link 4</td>\n      <td>23.702139</td>\n      <td>90.451972</td>\n      <td>1.0000</td>\n    </tr>\n    <tr>\n      <th>4</th>\n      <td>N1</td>\n      <td>5</td>\n      <td>bridge</td>\n      <td>A</td>\n      <td>. id 5</td>\n      <td>23.697889</td>\n      <td>90.460583</td>\n      <td>0.0113</td>\n    </tr>\n    <tr>\n      <th>...</th>\n      <td>...</td>\n      <td>...</td>\n      <td>...</td>\n      <td>...</td>\n      <td>...</td>\n      <td>...</td>\n      <td>...</td>\n      <td>...</td>\n    </tr>\n    <tr>\n      <th>4757</th>\n      <td>N208</td>\n      <td>4758</td>\n      <td>link</td>\n      <td>NaN</td>\n      <td>link 4758</td>\n      <td>24.861528</td>\n      <td>91.881860</td>\n      <td>0.0850</td>\n    </tr>\n    <tr>\n      <th>4758</th>\n      <td>N208</td>\n      <td>4759</td>\n      <td>link</td>\n      <td>NaN</td>\n      <td>link 4759</td>\n      <td>24.861889</td>\n      <td>91.881027</td>\n      <td>1.0000</td>\n    </tr>\n    <tr>\n      <th>4759</th>\n      <td>N208</td>\n      <td>4760</td>\n      <td>link</td>\n      <td>NaN</td>\n      <td>link 4760</td>\n      <td>24.869499</td>\n      <td>91.876027</td>\n      <td>0.9000</td>\n    </tr>\n    <tr>\n      <th>4760</th>\n      <td>N208</td>\n      <td>4761</td>\n      <td>bridge</td>\n      <td>B</td>\n      <td>KADAM TALI BOX CULVERT id 4761</td>\n      <td>24.877555</td>\n      <td>91.875360</td>\n      <td>0.0056</td>\n    </tr>\n    <tr>\n      <th>4761</th>\n      <td>N208</td>\n      <td>4762</td>\n      <td>intersection</td>\n      <td>NaN</td>\n      <td>intersection of N208 with N2</td>\n      <td>24.877555</td>\n      <td>91.875360</td>\n      <td>0.0000</td>\n    </tr>\n  </tbody>\n</table>\n<p>4762 rows × 8 columns</p>\n</div>"
     },
     "execution_count": 41,
     "metadata": {},
     "output_type": "execute_result"
    }
   ],
   "source": [
    "merged_dataframe"
   ],
   "metadata": {
    "collapsed": false,
    "ExecuteTime": {
     "end_time": "2024-03-13T15:14:09.472320600Z",
     "start_time": "2024-03-13T15:14:09.427253300Z"
    }
   },
   "id": "acad97df0bb36d02"
  },
  {
   "cell_type": "code",
   "execution_count": 41,
   "outputs": [],
   "source": [],
   "metadata": {
    "collapsed": false,
    "ExecuteTime": {
     "end_time": "2024-03-13T15:14:09.472320600Z",
     "start_time": "2024-03-13T15:14:09.438003400Z"
    }
   },
   "id": "60a1013e09381fc0"
  },
  {
   "cell_type": "code",
   "execution_count": 41,
   "outputs": [],
   "source": [],
   "metadata": {
    "collapsed": false,
    "ExecuteTime": {
     "end_time": "2024-03-13T15:14:09.473339300Z",
     "start_time": "2024-03-13T15:14:09.439128400Z"
    }
   },
   "id": "97d7b5e42ee04af8"
  },
  {
   "cell_type": "code",
   "execution_count": 41,
   "outputs": [],
   "source": [],
   "metadata": {
    "collapsed": false,
    "ExecuteTime": {
     "end_time": "2024-03-13T15:14:09.490554500Z",
     "start_time": "2024-03-13T15:14:09.441492200Z"
    }
   },
   "id": "17f30b8242bc26e5"
  },
  {
   "cell_type": "code",
   "execution_count": 41,
   "outputs": [],
   "source": [],
   "metadata": {
    "collapsed": false,
    "ExecuteTime": {
     "end_time": "2024-03-13T15:14:09.491566700Z",
     "start_time": "2024-03-13T15:14:09.443718500Z"
    }
   },
   "id": "94f83f10908287dd"
  },
  {
   "cell_type": "code",
   "execution_count": 41,
   "outputs": [],
   "source": [],
   "metadata": {
    "collapsed": false,
    "ExecuteTime": {
     "end_time": "2024-03-13T15:14:09.504903700Z",
     "start_time": "2024-03-13T15:14:09.445947Z"
    }
   },
   "id": "21010ead71085e9b"
  },
  {
   "cell_type": "code",
   "execution_count": 41,
   "outputs": [],
   "source": [],
   "metadata": {
    "collapsed": false,
    "ExecuteTime": {
     "end_time": "2024-03-13T15:14:09.505903900Z",
     "start_time": "2024-03-13T15:14:09.448320Z"
    }
   },
   "id": "ce2e38fc9396e65f"
  },
  {
   "cell_type": "code",
   "execution_count": 41,
   "outputs": [],
   "source": [],
   "metadata": {
    "collapsed": false,
    "ExecuteTime": {
     "end_time": "2024-03-13T15:14:09.505903900Z",
     "start_time": "2024-03-13T15:14:09.450480500Z"
    }
   },
   "id": "8bbcd9c61d21e534"
  },
  {
   "cell_type": "code",
   "execution_count": 41,
   "outputs": [],
   "source": [],
   "metadata": {
    "collapsed": false,
    "ExecuteTime": {
     "end_time": "2024-03-13T15:14:09.506904100Z",
     "start_time": "2024-03-13T15:14:09.454223100Z"
    }
   },
   "id": "d910945d5112ca37"
  },
  {
   "cell_type": "code",
   "execution_count": 41,
   "outputs": [],
   "source": [],
   "metadata": {
    "collapsed": false,
    "ExecuteTime": {
     "end_time": "2024-03-13T15:14:09.507904300Z",
     "start_time": "2024-03-13T15:14:09.455224300Z"
    }
   },
   "id": "2a14860392d0f85f"
  },
  {
   "cell_type": "code",
   "execution_count": null,
   "outputs": [],
   "source": [],
   "metadata": {
    "collapsed": false
   },
   "id": "e53cdde204e50c1a"
  }
 ],
 "metadata": {
  "kernelspec": {
   "display_name": "Python 3",
   "language": "python",
   "name": "python3"
  },
  "language_info": {
   "codemirror_mode": {
    "name": "ipython",
    "version": 2
   },
   "file_extension": ".py",
   "mimetype": "text/x-python",
   "name": "python",
   "nbconvert_exporter": "python",
   "pygments_lexer": "ipython2",
   "version": "2.7.6"
  }
 },
 "nbformat": 4,
 "nbformat_minor": 5
}

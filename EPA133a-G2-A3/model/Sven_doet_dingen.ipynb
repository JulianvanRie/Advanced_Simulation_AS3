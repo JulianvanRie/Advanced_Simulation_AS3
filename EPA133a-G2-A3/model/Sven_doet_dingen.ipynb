{
 "cells": [
  {
   "cell_type": "code",
   "execution_count": 1,
   "id": "initial_id",
   "metadata": {
    "collapsed": true,
    "ExecuteTime": {
     "end_time": "2024-03-18T13:48:24.829935500Z",
     "start_time": "2024-03-18T13:48:23.937226300Z"
    }
   },
   "outputs": [],
   "source": [
    "import numpy as np\n",
    "import pandas as pd\n",
    "import math"
   ]
  },
  {
   "cell_type": "code",
   "execution_count": 2,
   "outputs": [],
   "source": [
    "file_name = '../data/demo-4.csv'\n",
    "file_name_bmms = '../data/BMMS_overview.xlsx'\n",
    "file_name_roads = '../data/_roads3.csv'\n",
    "demo = pd.read_csv(file_name)\n",
    "bmms = pd.read_excel(file_name_bmms)\n",
    "roads = pd.read_csv(file_name_roads)"
   ],
   "metadata": {
    "collapsed": false,
    "ExecuteTime": {
     "end_time": "2024-03-18T13:48:30.593001Z",
     "start_time": "2024-03-18T13:48:24.721400800Z"
    }
   },
   "id": "10281580ac8411a1"
  },
  {
   "cell_type": "code",
   "execution_count": 3,
   "outputs": [
    {
     "data": {
      "text/plain": "['N1', 'N102', 'N104', 'N105', 'N106', 'N2', 'N204', 'N207', 'N208']"
     },
     "execution_count": 3,
     "metadata": {},
     "output_type": "execute_result"
    }
   ],
   "source": [
    "roads_25 = []\n",
    "for road in roads['road'].unique():\n",
    "    if 'N1' in road or 'N2' in road:\n",
    "        length = roads[roads['road'] == road ]['chainage'].max()\n",
    "        if length > 25:\n",
    "            roads_25.append(road)\n",
    "roads_25"
   ],
   "metadata": {
    "collapsed": false,
    "ExecuteTime": {
     "end_time": "2024-03-18T13:48:30.715684300Z",
     "start_time": "2024-03-18T13:48:30.595193100Z"
    }
   },
   "id": "a1c8d9a64c38938a"
  },
  {
   "cell_type": "markdown",
   "source": [
    "Roads required: ['N1', 'N102', 'N104', 'N105', 'N106', 'N2', 'N204', 'N207', 'N208']"
   ],
   "metadata": {
    "collapsed": false
   },
   "id": "1da3a11c3934e9fe"
  },
  {
   "cell_type": "code",
   "execution_count": 4,
   "outputs": [],
   "source": [
    "def clean_file(roads, bmms, road_name):\n",
    "    # Filter the 'roads' DataFrame for rows where the 'road' column is 'N1'\n",
    "    n1_roads = roads[roads['road'] == road_name]\n",
    "    # if road_name == 'N1':\n",
    "    #     n1_roads = n1_roads[(n1_roads['lon'] <= 91.851) &\n",
    "    #                      (n1_roads['lat'] >= 22.36)]\n",
    "    print(n1_roads.head())\n",
    "    # Generate an ID sequence starting from 1\n",
    "    n1_roads['id'] = range(1, len(n1_roads) + 1)\n",
    "    \n",
    "    # Set model_type to 'link' for all rows\n",
    "    n1_roads['model_type'] = 'link'\n",
    "    \n",
    "    # Generate 'name' as \"Link\" + id as string\n",
    "    #n1_roads['name'] = ['Link ' + str(id) for id in n1_roads['id']]\n",
    "    # n1_roads['name'] = 'Link'\n",
    "    # Calculate 'length' as difference between this row's 'chainage' and the next row's 'chainage'\n",
    "    # Shift(-1) moves the chainage up by one row to subtract, fillna(0) to handle the last item\n",
    "    n1_roads['length'] = (n1_roads['chainage'].shift(-1) - n1_roads['chainage']).fillna(0)\n",
    "    \n",
    "    # Selecting the columns needed for the empty DataFrame\n",
    "    n1_roads_final = n1_roads[['road', 'id', 'model_type', 'name', 'lat', 'lon', 'length', 'chainage']]\n",
    "    \n",
    "    # Filter BMMS data for road 'N1'\n",
    "    bmms_n1 = bmms[bmms['road'] == road_name].copy()\n",
    "    # bmms_n1 = bmms_n1[(bmms_n1['lon'] <= 91.851) &\n",
    "    #                  (bmms_n1['lat'] >= 22.363)]\n",
    "    \n",
    "    bmms_n1 = bmms_n1[~bmms_n1['name'].str.contains(r\"\\(R\\)\", na=False)]\n",
    "    bmms_n1 = bmms_n1[~bmms_n1['name'].str.contains(\"right\", case=False, na=False)]\n",
    "    bmms_n1 = bmms_n1[~bmms_n1['name'].str.contains(\"RIGHT\", case=False, na=False)]\n",
    "    bmms_n1 = bmms_n1[~bmms_n1['name'].str.contains(r\"\\( R \\)\", na=False)]\n",
    "    \n",
    "    # Set up for new entries\n",
    "    bmms_n1['model_type'] = 'bridge'\n",
    "    #bmms_n1['name'] = ['Bridge ' + str(i+1) for i in range(bmms_n1.shape[0])]\n",
    "    bmms_n1['id'] = range(n1_roads_final['id'].max() + 1, n1_roads_final['id'].max() + 1 + bmms_n1.shape[0])\n",
    "    bmms_n1['chainage'] = bmms_n1['km']  # Use 'km' as 'chainage'\n",
    "    bmms_n1['length'] = bmms_n1['length'] / 1000\n",
    "    \n",
    "    # Select and rename columns to match the format of n1_roads_final_with_chainage\n",
    "    bmms_n1_formatted = bmms_n1[['road', 'id', 'model_type', 'name', 'lat', 'lon', 'chainage', 'length', 'condition']]\n",
    "    \n",
    "    # Combine the dataframes and sort by chainage\n",
    "    combined_df = pd.concat([n1_roads_final, bmms_n1_formatted], ignore_index=True).sort_values(by='chainage')\n",
    "    \n",
    "    combined_df.iloc[0, 2] = 'sourcesink'\n",
    "    combined_df.iloc[-1, combined_df.columns.get_loc('model_type')] = 'sourcesink'\n",
    "    combined_df.reset_index(drop=True, inplace=True)\n",
    "    count = 1\n",
    "    for index, row in combined_df.iterrows():\n",
    "        combined_df.iloc[index, 1] = count\n",
    "        count += 1\n",
    "    \n",
    "    n1 = combined_df\n",
    "    \n",
    "    duplicates_df = bmms_n1[bmms_n1.duplicated('km', keep=False)]\n",
    "\n",
    "    # Assuming duplicates_df is your DataFrame\n",
    "\n",
    "\n",
    "    # Convert 'condition' to a numerical value for averaging\n",
    "    condition_mapping = {'A': 1, 'B': 2, 'C': 3, 'D': 4, 'E': 5}\n",
    "    n1['condition_num'] = n1['condition'].map(condition_mapping)\n",
    "    \n",
    "    #add together the links\n",
    "    amount = 0\n",
    "    condition_sum = 0\n",
    "    rows_to_add = []  # List to accumulate rows\n",
    "    last_row = None\n",
    "    \n",
    "    # Initialize the DataFrame\n",
    "    n1_new = pd.DataFrame(columns=['road', \"id\", 'model_type', 'name', 'lon', 'lat', 'length', 'condition', 'condition_num'])\n",
    "    for index, row in n1.iterrows():\n",
    "        if last_row is not None:\n",
    "            if row['model_type'] == 'bridge':\n",
    "                amount += 1\n",
    "                condition_sum += row['condition_num']\n",
    "            if row['model_type'] != 'bridge' and last_row['model_type'] != 'bridge':\n",
    "                rows_to_add.append({'road': row['road'], 'id': row['id'], 'model_type': row['model_type'],\n",
    "                                    'name': row['name'],'lon': row['lon'], 'lat':row['lat'], 'length': row['length'], 'condition': row['condition'],\n",
    "                                    'condition_num': row['condition_num']})\n",
    "                amount = 0\n",
    "                condition_sum = 0\n",
    "            if row['model_type'] != 'bridge' and last_row['model_type'] == 'bridge':\n",
    "                rows_to_add.append({'road': last_row['road'], 'id': last_row['id'], 'model_type': last_row['model_type'],\n",
    "                                    'name': last_row['name'],'lon': row['lon'], 'lat':row['lat'], 'length': last_row['length'],\n",
    "                                    'condition': last_row['condition'], 'condition_num': condition_sum / amount})\n",
    "                amount = 0\n",
    "                condition_sum = 0\n",
    "                rows_to_add.append({'road': row['road'], 'id': row['id'], 'model_type': row['model_type'],\n",
    "                                    'name': row['name'],'lon': row['lon'], 'lat':row['lat'], 'length': row['length'], 'condition': row['condition'],\n",
    "                                    'condition_num': row['condition_num']})\n",
    "        else:\n",
    "            rows_to_add.append({'road': row['road'], 'id': row['id'], 'model_type': row['model_type'],\n",
    "                                'name': row['name'],'lon': row['lon'], 'lat':row['lat'], 'length': row['length'], 'condition': row['condition'],\n",
    "                                'condition_num': row['condition_num']})\n",
    "        last_row = row\n",
    "    \n",
    "    n1_new = pd.concat([n1_new, pd.DataFrame(rows_to_add)], ignore_index=True)\n",
    "\n",
    "    for index, row in n1_new.iterrows():\n",
    "        if pd.isna(row['condition_num']) == False:\n",
    "            n1_new.iloc[index, 8] = math.ceil(n1_new.iloc[index, 8])\n",
    "    condition_mapping = {1: 'A', 2: 'B', 3: 'C', 4: 'D', 5: 'E'}\n",
    "    n1_new['condition'] = n1_new['condition_num'].map(condition_mapping)\n",
    "    # n1_new\n",
    "    # n1_new['id'] = range(1, len(n1_new) + 1)\n",
    "    # for index, row in n1_new.iterrows():\n",
    "    #     if row['model_type'] != 'bridge':\n",
    "    #         n1_new.iloc[index, 3] = row['model_type'] + ' ' + str(row['id'])\n",
    "    #     else:\n",
    "    #         n1_new.iloc[index, 3] = n1_new.iloc[index, 3] + ' ' + str(row['id'])\n",
    "    # print(n1_new)\n",
    "    return n1_new"
   ],
   "metadata": {
    "collapsed": false,
    "ExecuteTime": {
     "end_time": "2024-03-18T13:48:30.731521600Z",
     "start_time": "2024-03-18T13:48:30.724153200Z"
    }
   },
   "id": "339c46ec28a76cff"
  },
  {
   "cell_type": "code",
   "execution_count": 5,
   "outputs": [
    {
     "name": "stdout",
     "output_type": "stream",
     "text": [
      "  road  chainage     lrp        lat        lon  gap       type  \\\n",
      "0   N1     0.000    LRPS  23.706028  90.443333  NaN     Others   \n",
      "1   N1     0.814   LRPSa  23.702917  90.450417  NaN    Culvert   \n",
      "2   N1     0.822   LRPSb  23.702778  90.450472  NaN  CrossRoad   \n",
      "3   N1     1.000  LRP001  23.702139  90.451972  NaN     KmPost   \n",
      "4   N1     2.000  LRP002  23.697889  90.460583  NaN     KmPost   \n",
      "\n",
      "                                                name  \n",
      "0  Start of Road  after Jatrabari Flyover infront...  \n",
      "1                                        Box Culvert  \n",
      "2                            Intersection with Z1101  \n",
      "3                                    Km post missing  \n",
      "4                                    Km post missing  \n"
     ]
    },
    {
     "name": "stderr",
     "output_type": "stream",
     "text": [
      "C:\\Users\\svenk\\AppData\\Local\\Temp\\ipykernel_14740\\3266304506.py:9: SettingWithCopyWarning: \n",
      "A value is trying to be set on a copy of a slice from a DataFrame.\n",
      "Try using .loc[row_indexer,col_indexer] = value instead\n",
      "\n",
      "See the caveats in the documentation: https://pandas.pydata.org/pandas-docs/stable/user_guide/indexing.html#returning-a-view-versus-a-copy\n",
      "  n1_roads['id'] = range(1, len(n1_roads) + 1)\n",
      "C:\\Users\\svenk\\AppData\\Local\\Temp\\ipykernel_14740\\3266304506.py:12: SettingWithCopyWarning: \n",
      "A value is trying to be set on a copy of a slice from a DataFrame.\n",
      "Try using .loc[row_indexer,col_indexer] = value instead\n",
      "\n",
      "See the caveats in the documentation: https://pandas.pydata.org/pandas-docs/stable/user_guide/indexing.html#returning-a-view-versus-a-copy\n",
      "  n1_roads['model_type'] = 'link'\n",
      "C:\\Users\\svenk\\AppData\\Local\\Temp\\ipykernel_14740\\3266304506.py:19: SettingWithCopyWarning: \n",
      "A value is trying to be set on a copy of a slice from a DataFrame.\n",
      "Try using .loc[row_indexer,col_indexer] = value instead\n",
      "\n",
      "See the caveats in the documentation: https://pandas.pydata.org/pandas-docs/stable/user_guide/indexing.html#returning-a-view-versus-a-copy\n",
      "  n1_roads['length'] = (n1_roads['chainage'].shift(-1) - n1_roads['chainage']).fillna(0)\n",
      "C:\\Users\\svenk\\AppData\\Local\\Temp\\ipykernel_14740\\3266304506.py:100: FutureWarning: The behavior of DataFrame concatenation with empty or all-NA entries is deprecated. In a future version, this will no longer exclude empty or all-NA columns when determining the result dtypes. To retain the old behavior, exclude the relevant entries before the concat operation.\n",
      "  n1_new = pd.concat([n1_new, pd.DataFrame(rows_to_add)], ignore_index=True)\n",
      "C:\\Users\\svenk\\AppData\\Local\\Temp\\ipykernel_14740\\3266304506.py:9: SettingWithCopyWarning: \n",
      "A value is trying to be set on a copy of a slice from a DataFrame.\n",
      "Try using .loc[row_indexer,col_indexer] = value instead\n",
      "\n",
      "See the caveats in the documentation: https://pandas.pydata.org/pandas-docs/stable/user_guide/indexing.html#returning-a-view-versus-a-copy\n",
      "  n1_roads['id'] = range(1, len(n1_roads) + 1)\n",
      "C:\\Users\\svenk\\AppData\\Local\\Temp\\ipykernel_14740\\3266304506.py:12: SettingWithCopyWarning: \n",
      "A value is trying to be set on a copy of a slice from a DataFrame.\n",
      "Try using .loc[row_indexer,col_indexer] = value instead\n",
      "\n",
      "See the caveats in the documentation: https://pandas.pydata.org/pandas-docs/stable/user_guide/indexing.html#returning-a-view-versus-a-copy\n",
      "  n1_roads['model_type'] = 'link'\n",
      "C:\\Users\\svenk\\AppData\\Local\\Temp\\ipykernel_14740\\3266304506.py:19: SettingWithCopyWarning: \n",
      "A value is trying to be set on a copy of a slice from a DataFrame.\n",
      "Try using .loc[row_indexer,col_indexer] = value instead\n",
      "\n",
      "See the caveats in the documentation: https://pandas.pydata.org/pandas-docs/stable/user_guide/indexing.html#returning-a-view-versus-a-copy\n",
      "  n1_roads['length'] = (n1_roads['chainage'].shift(-1) - n1_roads['chainage']).fillna(0)\n"
     ]
    },
    {
     "name": "stdout",
     "output_type": "stream",
     "text": [
      "      road  chainage     lrp        lat        lon  gap     type  \\\n",
      "1356  N102     0.000    LRPS  23.478972  91.118194  NaN   Others   \n",
      "1357  N102     0.329   LRPSa  23.481583  91.116777  NaN  Culvert   \n",
      "1358  N102     0.995   LRPSb  23.486666  91.113361  NaN  Culvert   \n",
      "1359  N102     1.000  LRP001  23.486722  91.113306  NaN   KmPost   \n",
      "1360  N102     2.000  LRP002  23.493527  91.106917  NaN   KmPost   \n",
      "\n",
      "                                 name  \n",
      "1356  Start of road from N1 Mainamati  \n",
      "1357                      Box Culvert  \n",
      "1358                      Box Culvert  \n",
      "1359                  Km post missing  \n",
      "1360      B Baria 68 km Sylhet 248 km  \n",
      "      road  chainage      lrp        lat        lon  gap       type  \\\n",
      "1587  N104     0.000     LRPS  23.009667  91.399416  NaN     Others   \n",
      "1588  N104     0.445    LRPSa  23.009278  91.395250  NaN    Culvert   \n",
      "1589  N104     1.000   LRP001  23.009306  91.389805  NaN     KmPost   \n",
      "1590  N104     1.878  LRP001a  23.009528  91.381444  NaN  CrossRoad   \n",
      "1591  N104     2.000   LRP002  23.009528  91.380360  NaN     KmPost   \n",
      "\n",
      "                                     name  \n",
      "1587              Intersection with Z1031  \n",
      "1588                          Box culvert  \n",
      "1589                      Km post missing  \n",
      "1590  Right to Comilla Left to Chittagong  \n",
      "1591                      Km post missing  \n",
      "      road  chainage      lrp        lat        lon  gap     type  \\\n",
      "1710  N105     0.000     LRPS  23.690416  90.546611  NaN   Others   \n",
      "1711  N105     1.000   LRP001  23.698416  90.551056  NaN   KmPost   \n",
      "1712  N105     1.120  LRP001a  23.699305  90.551528  NaN  Culvert   \n",
      "1713  N105     2.054   LRP002  23.705528  90.557694  NaN   KmPost   \n",
      "1714  N105     2.336  LRP002a  23.707222  90.559639  NaN  Culvert   \n",
      "\n",
      "                                                   name  \n",
      "1710  Starts of road from N1,Dhaka teknaf road at Ma...  \n",
      "1711                                    Km post missing  \n",
      "1712                                        Box culvert  \n",
      "1713        Bangabandhu Bridge 128 km,Mymensingh 132 km  \n",
      "1714                                        Box culvert  \n"
     ]
    },
    {
     "name": "stderr",
     "output_type": "stream",
     "text": [
      "C:\\Users\\svenk\\AppData\\Local\\Temp\\ipykernel_14740\\3266304506.py:100: FutureWarning: The behavior of DataFrame concatenation with empty or all-NA entries is deprecated. In a future version, this will no longer exclude empty or all-NA columns when determining the result dtypes. To retain the old behavior, exclude the relevant entries before the concat operation.\n",
      "  n1_new = pd.concat([n1_new, pd.DataFrame(rows_to_add)], ignore_index=True)\n",
      "C:\\Users\\svenk\\AppData\\Local\\Temp\\ipykernel_14740\\3266304506.py:9: SettingWithCopyWarning: \n",
      "A value is trying to be set on a copy of a slice from a DataFrame.\n",
      "Try using .loc[row_indexer,col_indexer] = value instead\n",
      "\n",
      "See the caveats in the documentation: https://pandas.pydata.org/pandas-docs/stable/user_guide/indexing.html#returning-a-view-versus-a-copy\n",
      "  n1_roads['id'] = range(1, len(n1_roads) + 1)\n",
      "C:\\Users\\svenk\\AppData\\Local\\Temp\\ipykernel_14740\\3266304506.py:12: SettingWithCopyWarning: \n",
      "A value is trying to be set on a copy of a slice from a DataFrame.\n",
      "Try using .loc[row_indexer,col_indexer] = value instead\n",
      "\n",
      "See the caveats in the documentation: https://pandas.pydata.org/pandas-docs/stable/user_guide/indexing.html#returning-a-view-versus-a-copy\n",
      "  n1_roads['model_type'] = 'link'\n",
      "C:\\Users\\svenk\\AppData\\Local\\Temp\\ipykernel_14740\\3266304506.py:19: SettingWithCopyWarning: \n",
      "A value is trying to be set on a copy of a slice from a DataFrame.\n",
      "Try using .loc[row_indexer,col_indexer] = value instead\n",
      "\n",
      "See the caveats in the documentation: https://pandas.pydata.org/pandas-docs/stable/user_guide/indexing.html#returning-a-view-versus-a-copy\n",
      "  n1_roads['length'] = (n1_roads['chainage'].shift(-1) - n1_roads['chainage']).fillna(0)\n",
      "C:\\Users\\svenk\\AppData\\Local\\Temp\\ipykernel_14740\\3266304506.py:100: FutureWarning: The behavior of DataFrame concatenation with empty or all-NA entries is deprecated. In a future version, this will no longer exclude empty or all-NA columns when determining the result dtypes. To retain the old behavior, exclude the relevant entries before the concat operation.\n",
      "  n1_new = pd.concat([n1_new, pd.DataFrame(rows_to_add)], ignore_index=True)\n",
      "C:\\Users\\svenk\\AppData\\Local\\Temp\\ipykernel_14740\\3266304506.py:9: SettingWithCopyWarning: \n",
      "A value is trying to be set on a copy of a slice from a DataFrame.\n",
      "Try using .loc[row_indexer,col_indexer] = value instead\n",
      "\n",
      "See the caveats in the documentation: https://pandas.pydata.org/pandas-docs/stable/user_guide/indexing.html#returning-a-view-versus-a-copy\n",
      "  n1_roads['id'] = range(1, len(n1_roads) + 1)\n",
      "C:\\Users\\svenk\\AppData\\Local\\Temp\\ipykernel_14740\\3266304506.py:12: SettingWithCopyWarning: \n",
      "A value is trying to be set on a copy of a slice from a DataFrame.\n",
      "Try using .loc[row_indexer,col_indexer] = value instead\n",
      "\n",
      "See the caveats in the documentation: https://pandas.pydata.org/pandas-docs/stable/user_guide/indexing.html#returning-a-view-versus-a-copy\n",
      "  n1_roads['model_type'] = 'link'\n",
      "C:\\Users\\svenk\\AppData\\Local\\Temp\\ipykernel_14740\\3266304506.py:19: SettingWithCopyWarning: \n",
      "A value is trying to be set on a copy of a slice from a DataFrame.\n",
      "Try using .loc[row_indexer,col_indexer] = value instead\n",
      "\n",
      "See the caveats in the documentation: https://pandas.pydata.org/pandas-docs/stable/user_guide/indexing.html#returning-a-view-versus-a-copy\n",
      "  n1_roads['length'] = (n1_roads['chainage'].shift(-1) - n1_roads['chainage']).fillna(0)\n",
      "C:\\Users\\svenk\\AppData\\Local\\Temp\\ipykernel_14740\\3266304506.py:100: FutureWarning: The behavior of DataFrame concatenation with empty or all-NA entries is deprecated. In a future version, this will no longer exclude empty or all-NA columns when determining the result dtypes. To retain the old behavior, exclude the relevant entries before the concat operation.\n",
      "  n1_new = pd.concat([n1_new, pd.DataFrame(rows_to_add)], ignore_index=True)\n",
      "C:\\Users\\svenk\\AppData\\Local\\Temp\\ipykernel_14740\\3266304506.py:9: SettingWithCopyWarning: \n",
      "A value is trying to be set on a copy of a slice from a DataFrame.\n",
      "Try using .loc[row_indexer,col_indexer] = value instead\n",
      "\n",
      "See the caveats in the documentation: https://pandas.pydata.org/pandas-docs/stable/user_guide/indexing.html#returning-a-view-versus-a-copy\n",
      "  n1_roads['id'] = range(1, len(n1_roads) + 1)\n",
      "C:\\Users\\svenk\\AppData\\Local\\Temp\\ipykernel_14740\\3266304506.py:12: SettingWithCopyWarning: \n",
      "A value is trying to be set on a copy of a slice from a DataFrame.\n",
      "Try using .loc[row_indexer,col_indexer] = value instead\n",
      "\n",
      "See the caveats in the documentation: https://pandas.pydata.org/pandas-docs/stable/user_guide/indexing.html#returning-a-view-versus-a-copy\n",
      "  n1_roads['model_type'] = 'link'\n",
      "C:\\Users\\svenk\\AppData\\Local\\Temp\\ipykernel_14740\\3266304506.py:19: SettingWithCopyWarning: \n",
      "A value is trying to be set on a copy of a slice from a DataFrame.\n",
      "Try using .loc[row_indexer,col_indexer] = value instead\n",
      "\n",
      "See the caveats in the documentation: https://pandas.pydata.org/pandas-docs/stable/user_guide/indexing.html#returning-a-view-versus-a-copy\n",
      "  n1_roads['length'] = (n1_roads['chainage'].shift(-1) - n1_roads['chainage']).fillna(0)\n"
     ]
    },
    {
     "name": "stdout",
     "output_type": "stream",
     "text": [
      "      road  chainage     lrp        lat        lon  gap     type  \\\n",
      "1827  N106     0.000    LRPS  22.393555  91.821583  NaN   Others   \n",
      "1828  N106     0.480   LRPSa  22.397500  91.820027  NaN  Culvert   \n",
      "1829  N106     0.648   LRPSb  22.399055  91.819805  NaN  Culvert   \n",
      "1830  N106     0.822   LRPSc  22.400472  91.819360  NaN  Culvert   \n",
      "1831  N106     1.000  LRP001  22.402056  91.819110  NaN   KmPost   \n",
      "\n",
      "                                  name  \n",
      "1827  Start of Road  from Oxygen  More  \n",
      "1828                       Box culvert  \n",
      "1829                       Box culvert  \n",
      "1830                       Box culvert  \n",
      "1831                   Km post missing  \n",
      "     road  chainage      lrp        lat        lon  gap    type  \\\n",
      "2346   N2     0.000     LRPS  23.705917  90.521444  NaN  Others   \n",
      "2347   N2     0.166   LRP001  23.706889  90.520472  NaN  KmPost   \n",
      "2348   N2     1.166   LRP002  23.715139  90.516833  NaN  KmPost   \n",
      "2349   N2     1.536  LRP002a  23.718277  90.515694   BS  Bridge   \n",
      "2350   N2     1.576  LRP002b  23.718610  90.515556   BE  Bridge   \n",
      "\n",
      "                                name  \n",
      "2346  Road Start from N1 at Katchpur  \n",
      "2347                   Sylhet 230 km  \n",
      "2348                   Sylhet 229 km  \n",
      "2349                    Bridge start  \n",
      "2350                      Bridge end  \n"
     ]
    },
    {
     "name": "stderr",
     "output_type": "stream",
     "text": [
      "C:\\Users\\svenk\\AppData\\Local\\Temp\\ipykernel_14740\\3266304506.py:100: FutureWarning: The behavior of DataFrame concatenation with empty or all-NA entries is deprecated. In a future version, this will no longer exclude empty or all-NA columns when determining the result dtypes. To retain the old behavior, exclude the relevant entries before the concat operation.\n",
      "  n1_new = pd.concat([n1_new, pd.DataFrame(rows_to_add)], ignore_index=True)\n",
      "C:\\Users\\svenk\\AppData\\Local\\Temp\\ipykernel_14740\\3266304506.py:9: SettingWithCopyWarning: \n",
      "A value is trying to be set on a copy of a slice from a DataFrame.\n",
      "Try using .loc[row_indexer,col_indexer] = value instead\n",
      "\n",
      "See the caveats in the documentation: https://pandas.pydata.org/pandas-docs/stable/user_guide/indexing.html#returning-a-view-versus-a-copy\n",
      "  n1_roads['id'] = range(1, len(n1_roads) + 1)\n",
      "C:\\Users\\svenk\\AppData\\Local\\Temp\\ipykernel_14740\\3266304506.py:12: SettingWithCopyWarning: \n",
      "A value is trying to be set on a copy of a slice from a DataFrame.\n",
      "Try using .loc[row_indexer,col_indexer] = value instead\n",
      "\n",
      "See the caveats in the documentation: https://pandas.pydata.org/pandas-docs/stable/user_guide/indexing.html#returning-a-view-versus-a-copy\n",
      "  n1_roads['model_type'] = 'link'\n",
      "C:\\Users\\svenk\\AppData\\Local\\Temp\\ipykernel_14740\\3266304506.py:19: SettingWithCopyWarning: \n",
      "A value is trying to be set on a copy of a slice from a DataFrame.\n",
      "Try using .loc[row_indexer,col_indexer] = value instead\n",
      "\n",
      "See the caveats in the documentation: https://pandas.pydata.org/pandas-docs/stable/user_guide/indexing.html#returning-a-view-versus-a-copy\n",
      "  n1_roads['length'] = (n1_roads['chainage'].shift(-1) - n1_roads['chainage']).fillna(0)\n",
      "C:\\Users\\svenk\\AppData\\Local\\Temp\\ipykernel_14740\\3266304506.py:100: FutureWarning: The behavior of DataFrame concatenation with empty or all-NA entries is deprecated. In a future version, this will no longer exclude empty or all-NA columns when determining the result dtypes. To retain the old behavior, exclude the relevant entries before the concat operation.\n",
      "  n1_new = pd.concat([n1_new, pd.DataFrame(rows_to_add)], ignore_index=True)\n",
      "C:\\Users\\svenk\\AppData\\Local\\Temp\\ipykernel_14740\\3266304506.py:9: SettingWithCopyWarning: \n",
      "A value is trying to be set on a copy of a slice from a DataFrame.\n",
      "Try using .loc[row_indexer,col_indexer] = value instead\n",
      "\n",
      "See the caveats in the documentation: https://pandas.pydata.org/pandas-docs/stable/user_guide/indexing.html#returning-a-view-versus-a-copy\n",
      "  n1_roads['id'] = range(1, len(n1_roads) + 1)\n",
      "C:\\Users\\svenk\\AppData\\Local\\Temp\\ipykernel_14740\\3266304506.py:12: SettingWithCopyWarning: \n",
      "A value is trying to be set on a copy of a slice from a DataFrame.\n",
      "Try using .loc[row_indexer,col_indexer] = value instead\n",
      "\n",
      "See the caveats in the documentation: https://pandas.pydata.org/pandas-docs/stable/user_guide/indexing.html#returning-a-view-versus-a-copy\n",
      "  n1_roads['model_type'] = 'link'\n",
      "C:\\Users\\svenk\\AppData\\Local\\Temp\\ipykernel_14740\\3266304506.py:19: SettingWithCopyWarning: \n",
      "A value is trying to be set on a copy of a slice from a DataFrame.\n",
      "Try using .loc[row_indexer,col_indexer] = value instead\n",
      "\n",
      "See the caveats in the documentation: https://pandas.pydata.org/pandas-docs/stable/user_guide/indexing.html#returning-a-view-versus-a-copy\n",
      "  n1_roads['length'] = (n1_roads['chainage'].shift(-1) - n1_roads['chainage']).fillna(0)\n",
      "C:\\Users\\svenk\\AppData\\Local\\Temp\\ipykernel_14740\\3266304506.py:100: FutureWarning: The behavior of DataFrame concatenation with empty or all-NA entries is deprecated. In a future version, this will no longer exclude empty or all-NA columns when determining the result dtypes. To retain the old behavior, exclude the relevant entries before the concat operation.\n",
      "  n1_new = pd.concat([n1_new, pd.DataFrame(rows_to_add)], ignore_index=True)\n",
      "C:\\Users\\svenk\\AppData\\Local\\Temp\\ipykernel_14740\\3266304506.py:9: SettingWithCopyWarning: \n",
      "A value is trying to be set on a copy of a slice from a DataFrame.\n",
      "Try using .loc[row_indexer,col_indexer] = value instead\n",
      "\n",
      "See the caveats in the documentation: https://pandas.pydata.org/pandas-docs/stable/user_guide/indexing.html#returning-a-view-versus-a-copy\n",
      "  n1_roads['id'] = range(1, len(n1_roads) + 1)\n",
      "C:\\Users\\svenk\\AppData\\Local\\Temp\\ipykernel_14740\\3266304506.py:12: SettingWithCopyWarning: \n",
      "A value is trying to be set on a copy of a slice from a DataFrame.\n",
      "Try using .loc[row_indexer,col_indexer] = value instead\n",
      "\n",
      "See the caveats in the documentation: https://pandas.pydata.org/pandas-docs/stable/user_guide/indexing.html#returning-a-view-versus-a-copy\n",
      "  n1_roads['model_type'] = 'link'\n",
      "C:\\Users\\svenk\\AppData\\Local\\Temp\\ipykernel_14740\\3266304506.py:19: SettingWithCopyWarning: \n",
      "A value is trying to be set on a copy of a slice from a DataFrame.\n",
      "Try using .loc[row_indexer,col_indexer] = value instead\n",
      "\n",
      "See the caveats in the documentation: https://pandas.pydata.org/pandas-docs/stable/user_guide/indexing.html#returning-a-view-versus-a-copy\n",
      "  n1_roads['length'] = (n1_roads['chainage'].shift(-1) - n1_roads['chainage']).fillna(0)\n"
     ]
    },
    {
     "name": "stdout",
     "output_type": "stream",
     "text": [
      "      road  chainage      lrp        lat        lon  gap     type  \\\n",
      "3237  N204     0.000     LRPS  24.147916  91.346611  NaN   Others   \n",
      "3238  N204     0.545    LRPSa  24.148361  91.351389  NaN  Culvert   \n",
      "3239  N204     0.630   LRP001  24.147555  91.351361  NaN   KmPost   \n",
      "3240  N204     0.806  LRP001a  24.146027  91.351306   BS   Bridge   \n",
      "3241  N204     0.848  LRP001b  24.145722  91.351306   BE   Bridge   \n",
      "\n",
      "                                      name  \n",
      "3237  Road start from N2 at Jagannathganj.  \n",
      "3238                           Box culvert  \n",
      "3239                        Hobiganj 31 km  \n",
      "3240                          Bridge start  \n",
      "3241                            Bridge end  \n",
      "      road  chainage     lrp        lat        lon  gap     type  \\\n",
      "3346  N207     0.000    LRPS  24.294861  91.510250  NaN   Others   \n",
      "3347  N207     0.226   LRPSa  24.296416  91.512083  NaN  Culvert   \n",
      "3348  N207     0.457   LRPSb  24.297583  91.513528   BS   Bridge   \n",
      "3349  N207     0.479   LRPSc  24.297555  91.513722   BE   Bridge   \n",
      "3350  N207     1.000  LRP001  24.296777  91.518805  NaN   KmPost   \n",
      "\n",
      "                               name  \n",
      "3346  Road start from N2 at Mirpur.  \n",
      "3347                   Pipe culvert  \n",
      "3348                   Bridge Start  \n",
      "3349                     Bridge end  \n",
      "3350                Km post missing  \n",
      "      road  chainage      lrp        lat        lon  gap     type  \\\n",
      "3512  N208     0.000     LRPS  24.471360  91.765556  NaN   Others   \n",
      "3513  N208     1.000   LRP001  24.475722  91.772777  NaN   KmPost   \n",
      "3514  N208     1.305  LRP001a  24.475638  91.775805  NaN  Culvert   \n",
      "3515  N208     1.820  LRP001b  24.475722  91.775722  NaN  Culvert   \n",
      "3516  N208     2.000   LRP002  24.480972  91.777722  NaN   KmPost   \n",
      "\n",
      "                                     name  \n",
      "3512  Road Start from N207 infront of RHD  \n",
      "3513                      Km post missing  \n",
      "3514                          Box culvert  \n",
      "3515                          Box Culvert  \n",
      "3516                      Km post missing  \n"
     ]
    },
    {
     "name": "stderr",
     "output_type": "stream",
     "text": [
      "C:\\Users\\svenk\\AppData\\Local\\Temp\\ipykernel_14740\\3266304506.py:100: FutureWarning: The behavior of DataFrame concatenation with empty or all-NA entries is deprecated. In a future version, this will no longer exclude empty or all-NA columns when determining the result dtypes. To retain the old behavior, exclude the relevant entries before the concat operation.\n",
      "  n1_new = pd.concat([n1_new, pd.DataFrame(rows_to_add)], ignore_index=True)\n",
      "C:\\Users\\svenk\\AppData\\Local\\Temp\\ipykernel_14740\\3266304506.py:9: SettingWithCopyWarning: \n",
      "A value is trying to be set on a copy of a slice from a DataFrame.\n",
      "Try using .loc[row_indexer,col_indexer] = value instead\n",
      "\n",
      "See the caveats in the documentation: https://pandas.pydata.org/pandas-docs/stable/user_guide/indexing.html#returning-a-view-versus-a-copy\n",
      "  n1_roads['id'] = range(1, len(n1_roads) + 1)\n",
      "C:\\Users\\svenk\\AppData\\Local\\Temp\\ipykernel_14740\\3266304506.py:12: SettingWithCopyWarning: \n",
      "A value is trying to be set on a copy of a slice from a DataFrame.\n",
      "Try using .loc[row_indexer,col_indexer] = value instead\n",
      "\n",
      "See the caveats in the documentation: https://pandas.pydata.org/pandas-docs/stable/user_guide/indexing.html#returning-a-view-versus-a-copy\n",
      "  n1_roads['model_type'] = 'link'\n",
      "C:\\Users\\svenk\\AppData\\Local\\Temp\\ipykernel_14740\\3266304506.py:19: SettingWithCopyWarning: \n",
      "A value is trying to be set on a copy of a slice from a DataFrame.\n",
      "Try using .loc[row_indexer,col_indexer] = value instead\n",
      "\n",
      "See the caveats in the documentation: https://pandas.pydata.org/pandas-docs/stable/user_guide/indexing.html#returning-a-view-versus-a-copy\n",
      "  n1_roads['length'] = (n1_roads['chainage'].shift(-1) - n1_roads['chainage']).fillna(0)\n",
      "C:\\Users\\svenk\\AppData\\Local\\Temp\\ipykernel_14740\\3266304506.py:100: FutureWarning: The behavior of DataFrame concatenation with empty or all-NA entries is deprecated. In a future version, this will no longer exclude empty or all-NA columns when determining the result dtypes. To retain the old behavior, exclude the relevant entries before the concat operation.\n",
      "  n1_new = pd.concat([n1_new, pd.DataFrame(rows_to_add)], ignore_index=True)\n"
     ]
    }
   ],
   "source": [
    "all_roads = []\n",
    "for road in ['N1', 'N102', 'N104', 'N105', 'N106', 'N2', 'N204', 'N207', 'N208']:\n",
    "    all_roads.append(clean_file(roads, bmms, road))\n",
    "merged_dataframe = pd.concat(all_roads, ignore_index=True)\n",
    "desired_order = ['road', 'id', 'model_type', 'condition', 'name', 'lat', 'lon', 'length']\n",
    "merged_dataframe = merged_dataframe[desired_order]\n",
    "count = 1\n",
    "for index, row in merged_dataframe.iterrows():\n",
    "    merged_dataframe.loc[index, 'id'] = str(count)\n",
    "    count+=1\n",
    "    if row.model_type == 'link':\n",
    "        merged_dataframe.loc[index, 'name'] = 'link ' + merged_dataframe.loc[index, 'id']\n",
    "    elif row.model_type == 'source':\n",
    "        merged_dataframe.loc[index, 'name'] = 'source ' + merged_dataframe.loc[index, 'id']\n",
    "    elif row.model_type == 'sink':\n",
    "        merged_dataframe.loc[index, 'name'] = 'sink ' + merged_dataframe.loc[index, 'id']\n",
    "    elif row.model_type == 'bridge':\n",
    "        merged_dataframe.loc[index, 'name'] = merged_dataframe.loc[index, 'name'] + ' id ' + merged_dataframe.loc[index, 'id']\n"
   ],
   "metadata": {
    "collapsed": false,
    "ExecuteTime": {
     "end_time": "2024-03-18T13:48:33.724560600Z",
     "start_time": "2024-03-18T13:48:30.734614500Z"
    }
   },
   "id": "338cd5991da5aca8"
  },
  {
   "cell_type": "code",
   "execution_count": 6,
   "outputs": [
    {
     "data": {
      "text/plain": "      road    id  model_type condition  \\\n0       N1     1  sourcesink       NaN   \n1       N1     2        link       NaN   \n2       N1     3        link       NaN   \n3       N1     4        link       NaN   \n4       N1     5      bridge         A   \n...    ...   ...         ...       ...   \n4709  N208  4710        link       NaN   \n4710  N208  4711        link       NaN   \n4711  N208  4712        link       NaN   \n4712  N208  4713      bridge         B   \n4713  N208  4714  sourcesink       NaN   \n\n                                                   name        lat        lon  \\\n0     Start of Road  after Jatrabari Flyover infront...  23.706028  90.443333   \n1                                                link 2  23.702917  90.450417   \n2                                                link 3  23.702778  90.450472   \n3                                                link 4  23.702139  90.451972   \n4                                                . id 5  23.697889  90.460583   \n...                                                 ...        ...        ...   \n4709                                          link 4710  24.861528  91.881860   \n4710                                          link 4711  24.861889  91.881027   \n4711                                          link 4712  24.869499  91.876027   \n4712                     KADAM TALI BOX CULVERT id 4713  24.877555  91.875360   \n4713  Road end at Humayun Rashid Chattar, Intersecti...  24.877555  91.875360   \n\n      length  \n0     0.8140  \n1     0.0080  \n2     0.1780  \n3     1.0000  \n4     0.0113  \n...      ...  \n4709  0.0850  \n4710  1.0000  \n4711  0.9000  \n4712  0.0056  \n4713  0.0000  \n\n[4714 rows x 8 columns]",
      "text/html": "<div>\n<style scoped>\n    .dataframe tbody tr th:only-of-type {\n        vertical-align: middle;\n    }\n\n    .dataframe tbody tr th {\n        vertical-align: top;\n    }\n\n    .dataframe thead th {\n        text-align: right;\n    }\n</style>\n<table border=\"1\" class=\"dataframe\">\n  <thead>\n    <tr style=\"text-align: right;\">\n      <th></th>\n      <th>road</th>\n      <th>id</th>\n      <th>model_type</th>\n      <th>condition</th>\n      <th>name</th>\n      <th>lat</th>\n      <th>lon</th>\n      <th>length</th>\n    </tr>\n  </thead>\n  <tbody>\n    <tr>\n      <th>0</th>\n      <td>N1</td>\n      <td>1</td>\n      <td>sourcesink</td>\n      <td>NaN</td>\n      <td>Start of Road  after Jatrabari Flyover infront...</td>\n      <td>23.706028</td>\n      <td>90.443333</td>\n      <td>0.8140</td>\n    </tr>\n    <tr>\n      <th>1</th>\n      <td>N1</td>\n      <td>2</td>\n      <td>link</td>\n      <td>NaN</td>\n      <td>link 2</td>\n      <td>23.702917</td>\n      <td>90.450417</td>\n      <td>0.0080</td>\n    </tr>\n    <tr>\n      <th>2</th>\n      <td>N1</td>\n      <td>3</td>\n      <td>link</td>\n      <td>NaN</td>\n      <td>link 3</td>\n      <td>23.702778</td>\n      <td>90.450472</td>\n      <td>0.1780</td>\n    </tr>\n    <tr>\n      <th>3</th>\n      <td>N1</td>\n      <td>4</td>\n      <td>link</td>\n      <td>NaN</td>\n      <td>link 4</td>\n      <td>23.702139</td>\n      <td>90.451972</td>\n      <td>1.0000</td>\n    </tr>\n    <tr>\n      <th>4</th>\n      <td>N1</td>\n      <td>5</td>\n      <td>bridge</td>\n      <td>A</td>\n      <td>. id 5</td>\n      <td>23.697889</td>\n      <td>90.460583</td>\n      <td>0.0113</td>\n    </tr>\n    <tr>\n      <th>...</th>\n      <td>...</td>\n      <td>...</td>\n      <td>...</td>\n      <td>...</td>\n      <td>...</td>\n      <td>...</td>\n      <td>...</td>\n      <td>...</td>\n    </tr>\n    <tr>\n      <th>4709</th>\n      <td>N208</td>\n      <td>4710</td>\n      <td>link</td>\n      <td>NaN</td>\n      <td>link 4710</td>\n      <td>24.861528</td>\n      <td>91.881860</td>\n      <td>0.0850</td>\n    </tr>\n    <tr>\n      <th>4710</th>\n      <td>N208</td>\n      <td>4711</td>\n      <td>link</td>\n      <td>NaN</td>\n      <td>link 4711</td>\n      <td>24.861889</td>\n      <td>91.881027</td>\n      <td>1.0000</td>\n    </tr>\n    <tr>\n      <th>4711</th>\n      <td>N208</td>\n      <td>4712</td>\n      <td>link</td>\n      <td>NaN</td>\n      <td>link 4712</td>\n      <td>24.869499</td>\n      <td>91.876027</td>\n      <td>0.9000</td>\n    </tr>\n    <tr>\n      <th>4712</th>\n      <td>N208</td>\n      <td>4713</td>\n      <td>bridge</td>\n      <td>B</td>\n      <td>KADAM TALI BOX CULVERT id 4713</td>\n      <td>24.877555</td>\n      <td>91.875360</td>\n      <td>0.0056</td>\n    </tr>\n    <tr>\n      <th>4713</th>\n      <td>N208</td>\n      <td>4714</td>\n      <td>sourcesink</td>\n      <td>NaN</td>\n      <td>Road end at Humayun Rashid Chattar, Intersecti...</td>\n      <td>24.877555</td>\n      <td>91.875360</td>\n      <td>0.0000</td>\n    </tr>\n  </tbody>\n</table>\n<p>4714 rows × 8 columns</p>\n</div>"
     },
     "execution_count": 6,
     "metadata": {},
     "output_type": "execute_result"
    }
   ],
   "source": [
    "merged_dataframe"
   ],
   "metadata": {
    "collapsed": false,
    "ExecuteTime": {
     "end_time": "2024-03-18T13:48:33.748159300Z",
     "start_time": "2024-03-18T13:48:33.725939600Z"
    }
   },
   "id": "c4ea20dc6aeeb9f1"
  },
  {
   "cell_type": "code",
   "execution_count": 7,
   "outputs": [
    {
     "data": {
      "text/plain": "   road       id    model_type condition   name  lat  lon  length\n0    N1  1000000    sourcesink       NaN  SoSi1    0    0       4\n1    N1  1000001         link        NaN    NaN    1    1    1800\n2    N1  1000002       bridge          A    NaN    2    2     200\n3    N1  1000003          link       NaN    NaN    3    3    1500\n4    N1  1000004        bridge         A    NaN    4    4       8\n5    N1  1000005          link       NaN    NaN    5    5    2000\n6    N1  1000006  intersection       NaN    NaN    6    6      20\n7    N1  1000007          link       NaN    NaN    7    7    1400\n8    N1  1000008        bridge         A    NaN    8    8       4\n9    N1  1000009          link       NaN    NaN    9    9    2500\n10   N1  1000010        bridge         B    NaN   10   10     500\n11   N1  1000011          link       NaN    NaN   11   11     800\n12   N1  1000012    sourcesink       NaN  SoSi2   12   12      20\n13   N2  1000013    sourcesink       NaN  SoSi3    0   12       4\n14   N2  1000014         link        NaN    NaN    1   11    1800\n15   N2  1000015       bridge          A    NaN    2   10     200\n16   N2  1000016          link       NaN    NaN    3    9    1500\n17   N2  1000017        bridge         A    NaN    4    8       8\n18   N2  1000018          link       NaN    NaN    5    7    2000\n19   N2  1000006  intersection       NaN    NaN    6    6      20\n20   N2  1000020          link       NaN    NaN    7    5    1400\n21   N2  1000021        bridge         A    NaN    8    4       4\n22   N2  1000022          link       NaN    NaN    9    3    2500\n23   N2  1000023        bridge         B    NaN   10    2     500\n24   N2  1000024          link       NaN    NaN   11    1     800\n25   N2  1000025    sourcesink       NaN  SoSi4   12    0      20",
      "text/html": "<div>\n<style scoped>\n    .dataframe tbody tr th:only-of-type {\n        vertical-align: middle;\n    }\n\n    .dataframe tbody tr th {\n        vertical-align: top;\n    }\n\n    .dataframe thead th {\n        text-align: right;\n    }\n</style>\n<table border=\"1\" class=\"dataframe\">\n  <thead>\n    <tr style=\"text-align: right;\">\n      <th></th>\n      <th>road</th>\n      <th>id</th>\n      <th>model_type</th>\n      <th>condition</th>\n      <th>name</th>\n      <th>lat</th>\n      <th>lon</th>\n      <th>length</th>\n    </tr>\n  </thead>\n  <tbody>\n    <tr>\n      <th>0</th>\n      <td>N1</td>\n      <td>1000000</td>\n      <td>sourcesink</td>\n      <td>NaN</td>\n      <td>SoSi1</td>\n      <td>0</td>\n      <td>0</td>\n      <td>4</td>\n    </tr>\n    <tr>\n      <th>1</th>\n      <td>N1</td>\n      <td>1000001</td>\n      <td>link</td>\n      <td>NaN</td>\n      <td>NaN</td>\n      <td>1</td>\n      <td>1</td>\n      <td>1800</td>\n    </tr>\n    <tr>\n      <th>2</th>\n      <td>N1</td>\n      <td>1000002</td>\n      <td>bridge</td>\n      <td>A</td>\n      <td>NaN</td>\n      <td>2</td>\n      <td>2</td>\n      <td>200</td>\n    </tr>\n    <tr>\n      <th>3</th>\n      <td>N1</td>\n      <td>1000003</td>\n      <td>link</td>\n      <td>NaN</td>\n      <td>NaN</td>\n      <td>3</td>\n      <td>3</td>\n      <td>1500</td>\n    </tr>\n    <tr>\n      <th>4</th>\n      <td>N1</td>\n      <td>1000004</td>\n      <td>bridge</td>\n      <td>A</td>\n      <td>NaN</td>\n      <td>4</td>\n      <td>4</td>\n      <td>8</td>\n    </tr>\n    <tr>\n      <th>5</th>\n      <td>N1</td>\n      <td>1000005</td>\n      <td>link</td>\n      <td>NaN</td>\n      <td>NaN</td>\n      <td>5</td>\n      <td>5</td>\n      <td>2000</td>\n    </tr>\n    <tr>\n      <th>6</th>\n      <td>N1</td>\n      <td>1000006</td>\n      <td>intersection</td>\n      <td>NaN</td>\n      <td>NaN</td>\n      <td>6</td>\n      <td>6</td>\n      <td>20</td>\n    </tr>\n    <tr>\n      <th>7</th>\n      <td>N1</td>\n      <td>1000007</td>\n      <td>link</td>\n      <td>NaN</td>\n      <td>NaN</td>\n      <td>7</td>\n      <td>7</td>\n      <td>1400</td>\n    </tr>\n    <tr>\n      <th>8</th>\n      <td>N1</td>\n      <td>1000008</td>\n      <td>bridge</td>\n      <td>A</td>\n      <td>NaN</td>\n      <td>8</td>\n      <td>8</td>\n      <td>4</td>\n    </tr>\n    <tr>\n      <th>9</th>\n      <td>N1</td>\n      <td>1000009</td>\n      <td>link</td>\n      <td>NaN</td>\n      <td>NaN</td>\n      <td>9</td>\n      <td>9</td>\n      <td>2500</td>\n    </tr>\n    <tr>\n      <th>10</th>\n      <td>N1</td>\n      <td>1000010</td>\n      <td>bridge</td>\n      <td>B</td>\n      <td>NaN</td>\n      <td>10</td>\n      <td>10</td>\n      <td>500</td>\n    </tr>\n    <tr>\n      <th>11</th>\n      <td>N1</td>\n      <td>1000011</td>\n      <td>link</td>\n      <td>NaN</td>\n      <td>NaN</td>\n      <td>11</td>\n      <td>11</td>\n      <td>800</td>\n    </tr>\n    <tr>\n      <th>12</th>\n      <td>N1</td>\n      <td>1000012</td>\n      <td>sourcesink</td>\n      <td>NaN</td>\n      <td>SoSi2</td>\n      <td>12</td>\n      <td>12</td>\n      <td>20</td>\n    </tr>\n    <tr>\n      <th>13</th>\n      <td>N2</td>\n      <td>1000013</td>\n      <td>sourcesink</td>\n      <td>NaN</td>\n      <td>SoSi3</td>\n      <td>0</td>\n      <td>12</td>\n      <td>4</td>\n    </tr>\n    <tr>\n      <th>14</th>\n      <td>N2</td>\n      <td>1000014</td>\n      <td>link</td>\n      <td>NaN</td>\n      <td>NaN</td>\n      <td>1</td>\n      <td>11</td>\n      <td>1800</td>\n    </tr>\n    <tr>\n      <th>15</th>\n      <td>N2</td>\n      <td>1000015</td>\n      <td>bridge</td>\n      <td>A</td>\n      <td>NaN</td>\n      <td>2</td>\n      <td>10</td>\n      <td>200</td>\n    </tr>\n    <tr>\n      <th>16</th>\n      <td>N2</td>\n      <td>1000016</td>\n      <td>link</td>\n      <td>NaN</td>\n      <td>NaN</td>\n      <td>3</td>\n      <td>9</td>\n      <td>1500</td>\n    </tr>\n    <tr>\n      <th>17</th>\n      <td>N2</td>\n      <td>1000017</td>\n      <td>bridge</td>\n      <td>A</td>\n      <td>NaN</td>\n      <td>4</td>\n      <td>8</td>\n      <td>8</td>\n    </tr>\n    <tr>\n      <th>18</th>\n      <td>N2</td>\n      <td>1000018</td>\n      <td>link</td>\n      <td>NaN</td>\n      <td>NaN</td>\n      <td>5</td>\n      <td>7</td>\n      <td>2000</td>\n    </tr>\n    <tr>\n      <th>19</th>\n      <td>N2</td>\n      <td>1000006</td>\n      <td>intersection</td>\n      <td>NaN</td>\n      <td>NaN</td>\n      <td>6</td>\n      <td>6</td>\n      <td>20</td>\n    </tr>\n    <tr>\n      <th>20</th>\n      <td>N2</td>\n      <td>1000020</td>\n      <td>link</td>\n      <td>NaN</td>\n      <td>NaN</td>\n      <td>7</td>\n      <td>5</td>\n      <td>1400</td>\n    </tr>\n    <tr>\n      <th>21</th>\n      <td>N2</td>\n      <td>1000021</td>\n      <td>bridge</td>\n      <td>A</td>\n      <td>NaN</td>\n      <td>8</td>\n      <td>4</td>\n      <td>4</td>\n    </tr>\n    <tr>\n      <th>22</th>\n      <td>N2</td>\n      <td>1000022</td>\n      <td>link</td>\n      <td>NaN</td>\n      <td>NaN</td>\n      <td>9</td>\n      <td>3</td>\n      <td>2500</td>\n    </tr>\n    <tr>\n      <th>23</th>\n      <td>N2</td>\n      <td>1000023</td>\n      <td>bridge</td>\n      <td>B</td>\n      <td>NaN</td>\n      <td>10</td>\n      <td>2</td>\n      <td>500</td>\n    </tr>\n    <tr>\n      <th>24</th>\n      <td>N2</td>\n      <td>1000024</td>\n      <td>link</td>\n      <td>NaN</td>\n      <td>NaN</td>\n      <td>11</td>\n      <td>1</td>\n      <td>800</td>\n    </tr>\n    <tr>\n      <th>25</th>\n      <td>N2</td>\n      <td>1000025</td>\n      <td>sourcesink</td>\n      <td>NaN</td>\n      <td>SoSi4</td>\n      <td>12</td>\n      <td>0</td>\n      <td>20</td>\n    </tr>\n  </tbody>\n</table>\n</div>"
     },
     "execution_count": 7,
     "metadata": {},
     "output_type": "execute_result"
    }
   ],
   "source": [
    "demo = pd.read_csv('../data/demo-4.csv')\n",
    "demo"
   ],
   "metadata": {
    "collapsed": false,
    "ExecuteTime": {
     "end_time": "2024-03-18T13:48:33.792715300Z",
     "start_time": "2024-03-18T13:48:33.746154500Z"
    }
   },
   "id": "8cf515a044afec8e"
  },
  {
   "cell_type": "code",
   "execution_count": 8,
   "outputs": [
    {
     "name": "stdout",
     "output_type": "stream",
     "text": [
      "\n",
      " NOPE!\n",
      "difference is: 0.0779996999999959\n",
      "intersection of N1 with N2\n",
      "\n",
      " NOPE!\n",
      "difference is: 1.8818604000000008\n",
      "intersection of N1 with N106\n",
      "\n",
      " Correct!\n",
      "difference is: 2.779999999802385e-05\n",
      "intersection of N102 with N1\n",
      "\n",
      " Correct!\n",
      "difference is: 0.0004445000000039556\n",
      "intersection of N102 with N2\n",
      "\n",
      " Correct!\n",
      "difference is: 0.013667000000005203\n",
      "intersection of N104 with N1\n",
      "\n",
      " NOPE!\n",
      "difference is: 0.45319439999999744\n",
      "intersection of N104 with N1\n",
      "\n",
      " Correct!\n",
      "difference is: 2.779999999802385e-05\n",
      "intersection of N105 with N1\n",
      "\n",
      " NOPE!\n",
      "difference is: 0.36861039999999434\n",
      "intersection of N105 with N1\n",
      "\n",
      " Correct!\n",
      "difference is: 0.058194700000012034\n",
      "intersection of N106 with N1\n",
      "\n",
      " NOPE!\n",
      "difference is: 0.5611947999999991\n",
      "intersection of N106 with N1\n",
      "\n",
      " Correct!\n",
      "difference is: 0.0002499000000000251\n",
      "intersection of N2 with N1\n",
      "\n",
      " NOPE!\n",
      "difference is: 0.42177849999998784\n",
      "intersection of N2 with N208\n",
      "\n",
      " Correct!\n",
      "difference is: 0.00022219999999251172\n",
      "intersection of N204 with N2\n",
      "\n",
      " Correct!\n",
      "difference is: 0.0005555999999948824\n",
      "intersection of N204 with N2\n",
      "\n",
      " Correct!\n",
      "difference is: 0.0003055999999936887\n",
      "intersection of N207 with N2\n",
      "\n",
      " Correct!\n",
      "difference is: 0.00019440000001225144\n",
      "intersection of N207 with N2\n",
      "\n",
      " Correct!\n",
      "difference is: 8.339999999407155e-05\n",
      "intersection of N208 with N207\n",
      "\n",
      " Correct!\n",
      "difference is: 0.00022219999999961715\n",
      "intersection of N208 with N2\n"
     ]
    }
   ],
   "source": [
    "for index, row_ss in merged_dataframe[merged_dataframe['model_type'] == 'sourcesink'].iterrows():\n",
    "    closest_lon = 100\n",
    "    closest_lat = 100\n",
    "    closest_diff = 100\n",
    "    closest_id = None\n",
    "    closest_row = None\n",
    "    for index2, row in merged_dataframe.iterrows():\n",
    "        if row.road != row_ss.road and row.model_type != 'bridge':\n",
    "            diff_lat = abs(row_ss.lat-row.lat)\n",
    "            diff_lon = abs(row_ss.lon-row.lon)\n",
    "            diff = diff_lat + diff_lon\n",
    "            if diff < closest_diff:\n",
    "                closest_lon = row.lon \n",
    "                closest_lat = row.lat\n",
    "                closest_id = row.id\n",
    "                closest_diff = diff\n",
    "                closest_row = row\n",
    "    if closest_diff < 0.06:\n",
    "        merged_dataframe.loc[merged_dataframe['id'] == row_ss.id, 'model_type'] = 'intersection'\n",
    "        merged_dataframe.loc[merged_dataframe['id'] == row_ss.id, 'name'] = f\"intersection of {row_ss.road} with {closest_row.road}\"\n",
    "        merged_dataframe.loc[merged_dataframe['id'] == row_ss.id, 'intersects_with'] = closest_row.id\n",
    "        merged_dataframe.loc[merged_dataframe['id'] == closest_id, 'model_type'] = 'intersection'\n",
    "        merged_dataframe.loc[merged_dataframe['id'] == closest_id, 'name'] = f\"intersection of {closest_row.road} with {row_ss.road}\"\n",
    "        merged_dataframe.loc[merged_dataframe['id'] == closest_id, 'intersects_with'] = row_ss.id\n",
    "        print('\\n Correct!\\ndifference is:', closest_diff)\n",
    "        print(f\"intersection of {row_ss.road} with {closest_row.road}\")\n",
    "    else:\n",
    "        print('\\n NOPE!\\ndifference is:', closest_diff)\n",
    "        print(f\"intersection of {row_ss.road} with {closest_row.road}\")\n",
    "    "
   ],
   "metadata": {
    "collapsed": false,
    "ExecuteTime": {
     "end_time": "2024-03-18T13:48:40.790636100Z",
     "start_time": "2024-03-18T13:48:33.765825300Z"
    }
   },
   "id": "3e733b419804fef7"
  },
  {
   "cell_type": "code",
   "execution_count": 9,
   "outputs": [
    {
     "data": {
      "text/plain": "      road    id    model_type condition                            name  \\\n19      N1    20  intersection       NaN      intersection of N1 with N2   \n34      N1    35  intersection       NaN    intersection of N1 with N105   \n243     N1   244  intersection       NaN    intersection of N1 with N102   \n448     N1   449  intersection       NaN    intersection of N1 with N104   \n757     N1   758  intersection       NaN    intersection of N1 with N106   \n1884  N102  1885  intersection       NaN    intersection of N102 with N1   \n2190  N102  2191  intersection       NaN    intersection of N102 with N2   \n2191  N104  2192  intersection       NaN    intersection of N104 with N1   \n2352  N105  2353  intersection       NaN    intersection of N105 with N1   \n2501  N106  2502  intersection       NaN    intersection of N106 with N1   \n2800    N2  2801  intersection       NaN      intersection of N2 with N1   \n3125    N2  3126  intersection       NaN    intersection of N2 with N102   \n3251    N2  3252  intersection       NaN    intersection of N2 with N204   \n3393    N2  3394  intersection       NaN    intersection of N2 with N204   \n3411    N2  3412  intersection       NaN    intersection of N2 with N207   \n3729    N2  3730  intersection       NaN    intersection of N2 with N207   \n3874    N2  3875  intersection       NaN    intersection of N2 with N208   \n4102  N204  4103  intersection       NaN    intersection of N204 with N2   \n4226  N204  4227  intersection       NaN    intersection of N204 with N2   \n4227  N207  4228  intersection       NaN    intersection of N207 with N2   \n4390  N207  4391  intersection       NaN  intersection of N207 with N208   \n4456  N207  4457  intersection       NaN    intersection of N207 with N2   \n4457  N208  4458  intersection       NaN  intersection of N208 with N207   \n4713  N208  4714  intersection       NaN    intersection of N208 with N2   \n\n            lat        lon  length intersects_with  \n19    23.706083  90.521527   0.740            2801  \n34    23.690416  90.546583   0.588            2353  \n243   23.478972  91.118166   0.547            1885  \n448   22.996389  91.399805   0.085            2192  \n757   22.364611  91.850833   0.169            2502  \n1884  23.478972  91.118194   0.329             244  \n2190  24.050611  91.114667   0.000            3126  \n2191  23.009667  91.399416   0.445             449  \n2352  23.690416  90.546611   1.000              35  \n2501  22.393555  91.821583   0.480             758  \n2800  23.705917  90.521444   0.166              20  \n3125  24.050833  91.114444   0.290            2191  \n3251  24.147861  91.346444   0.044            4103  \n3393  24.267694  91.476888   0.315            4227  \n3411  24.294722  91.510083   0.085            4228  \n3729  24.626499  91.677499   0.318            4457  \n3874  24.877694  91.875277   0.037            4714  \n4102  24.147916  91.346611   0.545            3252  \n4226  24.267388  91.477138   0.000            3394  \n4227  24.294861  91.510250   0.226            3412  \n4390  24.471360  91.765472   0.012            4458  \n4456  24.626333  91.677527   0.000            3730  \n4457  24.471360  91.765556   1.000            4391  \n4713  24.877555  91.875360   0.000            3875  ",
      "text/html": "<div>\n<style scoped>\n    .dataframe tbody tr th:only-of-type {\n        vertical-align: middle;\n    }\n\n    .dataframe tbody tr th {\n        vertical-align: top;\n    }\n\n    .dataframe thead th {\n        text-align: right;\n    }\n</style>\n<table border=\"1\" class=\"dataframe\">\n  <thead>\n    <tr style=\"text-align: right;\">\n      <th></th>\n      <th>road</th>\n      <th>id</th>\n      <th>model_type</th>\n      <th>condition</th>\n      <th>name</th>\n      <th>lat</th>\n      <th>lon</th>\n      <th>length</th>\n      <th>intersects_with</th>\n    </tr>\n  </thead>\n  <tbody>\n    <tr>\n      <th>19</th>\n      <td>N1</td>\n      <td>20</td>\n      <td>intersection</td>\n      <td>NaN</td>\n      <td>intersection of N1 with N2</td>\n      <td>23.706083</td>\n      <td>90.521527</td>\n      <td>0.740</td>\n      <td>2801</td>\n    </tr>\n    <tr>\n      <th>34</th>\n      <td>N1</td>\n      <td>35</td>\n      <td>intersection</td>\n      <td>NaN</td>\n      <td>intersection of N1 with N105</td>\n      <td>23.690416</td>\n      <td>90.546583</td>\n      <td>0.588</td>\n      <td>2353</td>\n    </tr>\n    <tr>\n      <th>243</th>\n      <td>N1</td>\n      <td>244</td>\n      <td>intersection</td>\n      <td>NaN</td>\n      <td>intersection of N1 with N102</td>\n      <td>23.478972</td>\n      <td>91.118166</td>\n      <td>0.547</td>\n      <td>1885</td>\n    </tr>\n    <tr>\n      <th>448</th>\n      <td>N1</td>\n      <td>449</td>\n      <td>intersection</td>\n      <td>NaN</td>\n      <td>intersection of N1 with N104</td>\n      <td>22.996389</td>\n      <td>91.399805</td>\n      <td>0.085</td>\n      <td>2192</td>\n    </tr>\n    <tr>\n      <th>757</th>\n      <td>N1</td>\n      <td>758</td>\n      <td>intersection</td>\n      <td>NaN</td>\n      <td>intersection of N1 with N106</td>\n      <td>22.364611</td>\n      <td>91.850833</td>\n      <td>0.169</td>\n      <td>2502</td>\n    </tr>\n    <tr>\n      <th>1884</th>\n      <td>N102</td>\n      <td>1885</td>\n      <td>intersection</td>\n      <td>NaN</td>\n      <td>intersection of N102 with N1</td>\n      <td>23.478972</td>\n      <td>91.118194</td>\n      <td>0.329</td>\n      <td>244</td>\n    </tr>\n    <tr>\n      <th>2190</th>\n      <td>N102</td>\n      <td>2191</td>\n      <td>intersection</td>\n      <td>NaN</td>\n      <td>intersection of N102 with N2</td>\n      <td>24.050611</td>\n      <td>91.114667</td>\n      <td>0.000</td>\n      <td>3126</td>\n    </tr>\n    <tr>\n      <th>2191</th>\n      <td>N104</td>\n      <td>2192</td>\n      <td>intersection</td>\n      <td>NaN</td>\n      <td>intersection of N104 with N1</td>\n      <td>23.009667</td>\n      <td>91.399416</td>\n      <td>0.445</td>\n      <td>449</td>\n    </tr>\n    <tr>\n      <th>2352</th>\n      <td>N105</td>\n      <td>2353</td>\n      <td>intersection</td>\n      <td>NaN</td>\n      <td>intersection of N105 with N1</td>\n      <td>23.690416</td>\n      <td>90.546611</td>\n      <td>1.000</td>\n      <td>35</td>\n    </tr>\n    <tr>\n      <th>2501</th>\n      <td>N106</td>\n      <td>2502</td>\n      <td>intersection</td>\n      <td>NaN</td>\n      <td>intersection of N106 with N1</td>\n      <td>22.393555</td>\n      <td>91.821583</td>\n      <td>0.480</td>\n      <td>758</td>\n    </tr>\n    <tr>\n      <th>2800</th>\n      <td>N2</td>\n      <td>2801</td>\n      <td>intersection</td>\n      <td>NaN</td>\n      <td>intersection of N2 with N1</td>\n      <td>23.705917</td>\n      <td>90.521444</td>\n      <td>0.166</td>\n      <td>20</td>\n    </tr>\n    <tr>\n      <th>3125</th>\n      <td>N2</td>\n      <td>3126</td>\n      <td>intersection</td>\n      <td>NaN</td>\n      <td>intersection of N2 with N102</td>\n      <td>24.050833</td>\n      <td>91.114444</td>\n      <td>0.290</td>\n      <td>2191</td>\n    </tr>\n    <tr>\n      <th>3251</th>\n      <td>N2</td>\n      <td>3252</td>\n      <td>intersection</td>\n      <td>NaN</td>\n      <td>intersection of N2 with N204</td>\n      <td>24.147861</td>\n      <td>91.346444</td>\n      <td>0.044</td>\n      <td>4103</td>\n    </tr>\n    <tr>\n      <th>3393</th>\n      <td>N2</td>\n      <td>3394</td>\n      <td>intersection</td>\n      <td>NaN</td>\n      <td>intersection of N2 with N204</td>\n      <td>24.267694</td>\n      <td>91.476888</td>\n      <td>0.315</td>\n      <td>4227</td>\n    </tr>\n    <tr>\n      <th>3411</th>\n      <td>N2</td>\n      <td>3412</td>\n      <td>intersection</td>\n      <td>NaN</td>\n      <td>intersection of N2 with N207</td>\n      <td>24.294722</td>\n      <td>91.510083</td>\n      <td>0.085</td>\n      <td>4228</td>\n    </tr>\n    <tr>\n      <th>3729</th>\n      <td>N2</td>\n      <td>3730</td>\n      <td>intersection</td>\n      <td>NaN</td>\n      <td>intersection of N2 with N207</td>\n      <td>24.626499</td>\n      <td>91.677499</td>\n      <td>0.318</td>\n      <td>4457</td>\n    </tr>\n    <tr>\n      <th>3874</th>\n      <td>N2</td>\n      <td>3875</td>\n      <td>intersection</td>\n      <td>NaN</td>\n      <td>intersection of N2 with N208</td>\n      <td>24.877694</td>\n      <td>91.875277</td>\n      <td>0.037</td>\n      <td>4714</td>\n    </tr>\n    <tr>\n      <th>4102</th>\n      <td>N204</td>\n      <td>4103</td>\n      <td>intersection</td>\n      <td>NaN</td>\n      <td>intersection of N204 with N2</td>\n      <td>24.147916</td>\n      <td>91.346611</td>\n      <td>0.545</td>\n      <td>3252</td>\n    </tr>\n    <tr>\n      <th>4226</th>\n      <td>N204</td>\n      <td>4227</td>\n      <td>intersection</td>\n      <td>NaN</td>\n      <td>intersection of N204 with N2</td>\n      <td>24.267388</td>\n      <td>91.477138</td>\n      <td>0.000</td>\n      <td>3394</td>\n    </tr>\n    <tr>\n      <th>4227</th>\n      <td>N207</td>\n      <td>4228</td>\n      <td>intersection</td>\n      <td>NaN</td>\n      <td>intersection of N207 with N2</td>\n      <td>24.294861</td>\n      <td>91.510250</td>\n      <td>0.226</td>\n      <td>3412</td>\n    </tr>\n    <tr>\n      <th>4390</th>\n      <td>N207</td>\n      <td>4391</td>\n      <td>intersection</td>\n      <td>NaN</td>\n      <td>intersection of N207 with N208</td>\n      <td>24.471360</td>\n      <td>91.765472</td>\n      <td>0.012</td>\n      <td>4458</td>\n    </tr>\n    <tr>\n      <th>4456</th>\n      <td>N207</td>\n      <td>4457</td>\n      <td>intersection</td>\n      <td>NaN</td>\n      <td>intersection of N207 with N2</td>\n      <td>24.626333</td>\n      <td>91.677527</td>\n      <td>0.000</td>\n      <td>3730</td>\n    </tr>\n    <tr>\n      <th>4457</th>\n      <td>N208</td>\n      <td>4458</td>\n      <td>intersection</td>\n      <td>NaN</td>\n      <td>intersection of N208 with N207</td>\n      <td>24.471360</td>\n      <td>91.765556</td>\n      <td>1.000</td>\n      <td>4391</td>\n    </tr>\n    <tr>\n      <th>4713</th>\n      <td>N208</td>\n      <td>4714</td>\n      <td>intersection</td>\n      <td>NaN</td>\n      <td>intersection of N208 with N2</td>\n      <td>24.877555</td>\n      <td>91.875360</td>\n      <td>0.000</td>\n      <td>3875</td>\n    </tr>\n  </tbody>\n</table>\n</div>"
     },
     "execution_count": 9,
     "metadata": {},
     "output_type": "execute_result"
    }
   ],
   "source": [
    "merged_dataframe[merged_dataframe['model_type'] == 'intersection']"
   ],
   "metadata": {
    "collapsed": false,
    "ExecuteTime": {
     "end_time": "2024-03-18T13:48:40.792648700Z",
     "start_time": "2024-03-18T13:48:40.769773500Z"
    }
   },
   "id": "703d296b1041f3cd"
  },
  {
   "cell_type": "code",
   "execution_count": 10,
   "outputs": [],
   "source": [
    "merged_dataframe.to_csv('../data/merged_data.csv', index=False)"
   ],
   "metadata": {
    "collapsed": false,
    "ExecuteTime": {
     "end_time": "2024-03-18T13:48:40.855726900Z",
     "start_time": "2024-03-18T13:48:40.789631100Z"
    }
   },
   "id": "97bc2f1717419c9e"
  },
  {
   "cell_type": "code",
   "execution_count": 27,
   "outputs": [
    {
     "data": {
      "text/plain": "      road    id    model_type condition  \\\n0       N1     1    sourcesink       NaN   \n1       N1     2          link       NaN   \n2       N1     3          link       NaN   \n3       N1     4          link       NaN   \n4       N1     5        bridge         A   \n...    ...   ...           ...       ...   \n4709  N208  4710          link       NaN   \n4710  N208  4711          link       NaN   \n4711  N208  4712          link       NaN   \n4712  N208  4713        bridge         B   \n4713  N208  4714  intersection       NaN   \n\n                                                   name        lat        lon  \\\n0     Start of Road  after Jatrabari Flyover infront...  23.706028  90.443333   \n1                                                link 2  23.702917  90.450417   \n2                                                link 3  23.702778  90.450472   \n3                                                link 4  23.702139  90.451972   \n4                                                . id 5  23.697889  90.460583   \n...                                                 ...        ...        ...   \n4709                                          link 4710  24.861528  91.881860   \n4710                                          link 4711  24.861889  91.881027   \n4711                                          link 4712  24.869499  91.876027   \n4712                     KADAM TALI BOX CULVERT id 4713  24.877555  91.875360   \n4713                       intersection of N208 with N2  24.877555  91.875360   \n\n      length intersects_with  \n0     0.8140             nan  \n1     0.0080             nan  \n2     0.1780             nan  \n3     1.0000             nan  \n4     0.0113             nan  \n...      ...             ...  \n4709  0.0850             nan  \n4710  1.0000             nan  \n4711  0.9000             nan  \n4712  0.0056             nan  \n4713  0.0000            3875  \n\n[4714 rows x 9 columns]",
      "text/html": "<div>\n<style scoped>\n    .dataframe tbody tr th:only-of-type {\n        vertical-align: middle;\n    }\n\n    .dataframe tbody tr th {\n        vertical-align: top;\n    }\n\n    .dataframe thead th {\n        text-align: right;\n    }\n</style>\n<table border=\"1\" class=\"dataframe\">\n  <thead>\n    <tr style=\"text-align: right;\">\n      <th></th>\n      <th>road</th>\n      <th>id</th>\n      <th>model_type</th>\n      <th>condition</th>\n      <th>name</th>\n      <th>lat</th>\n      <th>lon</th>\n      <th>length</th>\n      <th>intersects_with</th>\n    </tr>\n  </thead>\n  <tbody>\n    <tr>\n      <th>0</th>\n      <td>N1</td>\n      <td>1</td>\n      <td>sourcesink</td>\n      <td>NaN</td>\n      <td>Start of Road  after Jatrabari Flyover infront...</td>\n      <td>23.706028</td>\n      <td>90.443333</td>\n      <td>0.8140</td>\n      <td>nan</td>\n    </tr>\n    <tr>\n      <th>1</th>\n      <td>N1</td>\n      <td>2</td>\n      <td>link</td>\n      <td>NaN</td>\n      <td>link 2</td>\n      <td>23.702917</td>\n      <td>90.450417</td>\n      <td>0.0080</td>\n      <td>nan</td>\n    </tr>\n    <tr>\n      <th>2</th>\n      <td>N1</td>\n      <td>3</td>\n      <td>link</td>\n      <td>NaN</td>\n      <td>link 3</td>\n      <td>23.702778</td>\n      <td>90.450472</td>\n      <td>0.1780</td>\n      <td>nan</td>\n    </tr>\n    <tr>\n      <th>3</th>\n      <td>N1</td>\n      <td>4</td>\n      <td>link</td>\n      <td>NaN</td>\n      <td>link 4</td>\n      <td>23.702139</td>\n      <td>90.451972</td>\n      <td>1.0000</td>\n      <td>nan</td>\n    </tr>\n    <tr>\n      <th>4</th>\n      <td>N1</td>\n      <td>5</td>\n      <td>bridge</td>\n      <td>A</td>\n      <td>. id 5</td>\n      <td>23.697889</td>\n      <td>90.460583</td>\n      <td>0.0113</td>\n      <td>nan</td>\n    </tr>\n    <tr>\n      <th>...</th>\n      <td>...</td>\n      <td>...</td>\n      <td>...</td>\n      <td>...</td>\n      <td>...</td>\n      <td>...</td>\n      <td>...</td>\n      <td>...</td>\n      <td>...</td>\n    </tr>\n    <tr>\n      <th>4709</th>\n      <td>N208</td>\n      <td>4710</td>\n      <td>link</td>\n      <td>NaN</td>\n      <td>link 4710</td>\n      <td>24.861528</td>\n      <td>91.881860</td>\n      <td>0.0850</td>\n      <td>nan</td>\n    </tr>\n    <tr>\n      <th>4710</th>\n      <td>N208</td>\n      <td>4711</td>\n      <td>link</td>\n      <td>NaN</td>\n      <td>link 4711</td>\n      <td>24.861889</td>\n      <td>91.881027</td>\n      <td>1.0000</td>\n      <td>nan</td>\n    </tr>\n    <tr>\n      <th>4711</th>\n      <td>N208</td>\n      <td>4712</td>\n      <td>link</td>\n      <td>NaN</td>\n      <td>link 4712</td>\n      <td>24.869499</td>\n      <td>91.876027</td>\n      <td>0.9000</td>\n      <td>nan</td>\n    </tr>\n    <tr>\n      <th>4712</th>\n      <td>N208</td>\n      <td>4713</td>\n      <td>bridge</td>\n      <td>B</td>\n      <td>KADAM TALI BOX CULVERT id 4713</td>\n      <td>24.877555</td>\n      <td>91.875360</td>\n      <td>0.0056</td>\n      <td>nan</td>\n    </tr>\n    <tr>\n      <th>4713</th>\n      <td>N208</td>\n      <td>4714</td>\n      <td>intersection</td>\n      <td>NaN</td>\n      <td>intersection of N208 with N2</td>\n      <td>24.877555</td>\n      <td>91.875360</td>\n      <td>0.0000</td>\n      <td>3875</td>\n    </tr>\n  </tbody>\n</table>\n<p>4714 rows × 9 columns</p>\n</div>"
     },
     "execution_count": 27,
     "metadata": {},
     "output_type": "execute_result"
    }
   ],
   "source": [
    "merged_dataframe"
   ],
   "metadata": {
    "collapsed": false,
    "ExecuteTime": {
     "end_time": "2024-03-18T14:04:34.493210100Z",
     "start_time": "2024-03-18T14:04:34.467144300Z"
    }
   },
   "id": "acad97df0bb36d02"
  },
  {
   "cell_type": "code",
   "execution_count": 11,
   "outputs": [],
   "source": [],
   "metadata": {
    "collapsed": false,
    "ExecuteTime": {
     "end_time": "2024-03-18T13:48:40.889997Z",
     "start_time": "2024-03-18T13:48:40.857409900Z"
    }
   },
   "id": "60a1013e09381fc0"
  },
  {
   "cell_type": "code",
   "execution_count": 11,
   "outputs": [],
   "source": [],
   "metadata": {
    "collapsed": false,
    "ExecuteTime": {
     "end_time": "2024-03-18T13:48:40.891354Z",
     "start_time": "2024-03-18T13:48:40.862678500Z"
    }
   },
   "id": "97d7b5e42ee04af8"
  },
  {
   "cell_type": "code",
   "execution_count": 11,
   "outputs": [],
   "source": [],
   "metadata": {
    "collapsed": false,
    "ExecuteTime": {
     "end_time": "2024-03-18T13:48:40.947991600Z",
     "start_time": "2024-03-18T13:48:40.864748700Z"
    }
   },
   "id": "17f30b8242bc26e5"
  },
  {
   "cell_type": "code",
   "execution_count": 22,
   "outputs": [],
   "source": [],
   "metadata": {
    "collapsed": false,
    "ExecuteTime": {
     "end_time": "2024-03-14T13:30:18.364182900Z",
     "start_time": "2024-03-14T13:30:18.326356800Z"
    }
   },
   "id": "94f83f10908287dd"
  },
  {
   "cell_type": "code",
   "execution_count": 22,
   "outputs": [],
   "source": [],
   "metadata": {
    "collapsed": false,
    "ExecuteTime": {
     "end_time": "2024-03-14T13:30:18.364182900Z",
     "start_time": "2024-03-14T13:30:18.328768700Z"
    }
   },
   "id": "21010ead71085e9b"
  },
  {
   "cell_type": "code",
   "execution_count": 22,
   "outputs": [],
   "source": [],
   "metadata": {
    "collapsed": false,
    "ExecuteTime": {
     "end_time": "2024-03-14T13:30:18.364182900Z",
     "start_time": "2024-03-14T13:30:18.331377100Z"
    }
   },
   "id": "ce2e38fc9396e65f"
  },
  {
   "cell_type": "code",
   "execution_count": 11,
   "outputs": [],
   "source": [],
   "metadata": {
    "collapsed": false,
    "ExecuteTime": {
     "end_time": "2024-03-14T13:28:45.413558800Z",
     "start_time": "2024-03-14T13:28:45.356570900Z"
    }
   },
   "id": "8bbcd9c61d21e534"
  },
  {
   "cell_type": "code",
   "execution_count": 41,
   "outputs": [],
   "source": [],
   "metadata": {
    "collapsed": false,
    "ExecuteTime": {
     "end_time": "2024-03-13T15:14:09.506904100Z",
     "start_time": "2024-03-13T15:14:09.454223100Z"
    }
   },
   "id": "d910945d5112ca37"
  },
  {
   "cell_type": "code",
   "execution_count": 41,
   "outputs": [],
   "source": [],
   "metadata": {
    "collapsed": false,
    "ExecuteTime": {
     "end_time": "2024-03-13T15:14:09.507904300Z",
     "start_time": "2024-03-13T15:14:09.455224300Z"
    }
   },
   "id": "2a14860392d0f85f"
  },
  {
   "cell_type": "code",
   "execution_count": null,
   "outputs": [],
   "source": [],
   "metadata": {
    "collapsed": false
   },
   "id": "e53cdde204e50c1a"
  }
 ],
 "metadata": {
  "kernelspec": {
   "display_name": "Python 3",
   "language": "python",
   "name": "python3"
  },
  "language_info": {
   "codemirror_mode": {
    "name": "ipython",
    "version": 2
   },
   "file_extension": ".py",
   "mimetype": "text/x-python",
   "name": "python",
   "nbconvert_exporter": "python",
   "pygments_lexer": "ipython2",
   "version": "2.7.6"
  }
 },
 "nbformat": 4,
 "nbformat_minor": 5
}

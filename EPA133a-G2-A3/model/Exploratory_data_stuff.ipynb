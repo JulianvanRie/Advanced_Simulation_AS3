{
 "cells": [
  {
   "cell_type": "code",
   "execution_count": null,
   "id": "initial_id",
   "metadata": {
    "collapsed": true
   },
   "outputs": [],
   "source": [
    "from model import BangladeshModel\n",
    "import networkx as nx\n",
    "import pandas as pd\n",
    "import matplotlib.pyplot as plt\n",
    "import numpy as np\n",
    "import time"
   ]
  },
  {
   "cell_type": "code",
   "execution_count": null,
   "outputs": [],
   "source": [
    "start = time.time()\n",
    "\"\"\"\n",
    "    Run simulation\n",
    "    Print output at terminal\n",
    "\"\"\"\n",
    "\n",
    "# ---------------------------------------------------------------\n",
    "def run_simulation_batch(seed, run_length, probs):\n",
    "    model = BangladeshModel(seed=seed, scenario_probabilities=probs)\n",
    "    print(\"SEED \" + str(model._seed))\n",
    "    for i in range(run_length):\n",
    "        model.step()\n",
    "    bridges_data = [{\"unique_id\": bridge.unique_id,\n",
    "                     \"name\": bridge.name,\n",
    "                     'condition': bridge.condition,\n",
    "                     'length': bridge.length,\n",
    "                     'total_delay_time': bridge.total_delay_time,\n",
    "                     \"delay_time_per_vehicle\": bridge.delay_time,\n",
    "                     \"break_down_chance\": bridge.break_down_chance,\n",
    "                     \"breaks_down\": bridge.breaks_down} for bridge in model.bridges]\n",
    "    return pd.DataFrame(bridges_data)\n",
    "\n",
    "def run_simulation_for_scenario(seeds, run_length, probs):\n",
    "    batch_results = {}\n",
    "    for seed in seeds:\n",
    "        df_bridge = run_simulation_batch(seed, run_length, probs)\n",
    "        batch_results[seed] = df_bridge\n",
    "    return batch_results\n",
    "\n",
    "def run_all_scenarios(seeds, run_length, scenarios):\n",
    "    all_scenario_results = {}\n",
    "    for scenario_index, probs in enumerate(scenarios, start=0):\n",
    "        print(f\"Running scenario {scenario_index} with probabilities {probs}\")\n",
    "        scenario_results = run_simulation_for_scenario(seeds, run_length, probs)\n",
    "        all_scenario_results[f\"Scenario_{scenario_index}\"] = scenario_results\n",
    "    return all_scenario_results\n",
    "\n",
    "# Define your scenarios\n",
    "scenarios = [\n",
    "    {'A': 0, 'B': 0, 'C': 0, 'D': 0},  # Scenario 0\n",
    "    {'A': 0, 'B': 0, 'C': 0, 'D': 5},  # Scenario 1\n",
    "    {'A': 0, 'B': 0, 'C': 0, 'D': 10},  # Scenario 2\n",
    "    {'A': 0, 'B': 0, 'C': 5, 'D': 10},  # Scenario 3\n",
    "    {'A': 0, 'B': 0, 'C': 10, 'D': 20},  # Scenario 4\n",
    "    {'A': 0, 'B': 5, 'C': 10, 'D': 20},  # Scenario 5\n",
    "    {'A': 0, 'B': 10, 'C': 20, 'D': 40},  # Scenario 6\n",
    "    {'A': 5, 'B': 10, 'C': 20, 'D': 40},  # Scenario 7\n",
    "    {'A': 10, 'B': 20, 'C': 40, 'D': 80},  # Scenario 8\n",
    "    # Add more scenarios as needed\n",
    "]\n",
    "\n",
    "# Set your seeds and run length\n",
    "seeds = range(1, 11)  # 10 seeds for each scenario\n",
    "# run_length = 5 * 24 * 60  # Example run length\n",
    "run_length = 7200\n",
    "# Run all scenarios\n",
    "all_scenario_results = run_all_scenarios(seeds, run_length, scenarios)"
   ],
   "metadata": {
    "collapsed": false
   },
   "id": "2fe1865bf736604e"
  },
  {
   "cell_type": "code",
   "execution_count": null,
   "outputs": [],
   "source": [
    "all_scenario_results['Scenario_7'][7][all_scenario_results['Scenario_7'][7]['breaks_down'] == True]"
   ],
   "metadata": {
    "collapsed": false
   },
   "id": "bacf72983e9c3b64"
  },
  {
   "cell_type": "code",
   "execution_count": null,
   "outputs": [],
   "source": [
    "all_scenario_results['Scenario_8'][7][all_scenario_results['Scenario_8'][7]['breaks_down'] == True]"
   ],
   "metadata": {
    "collapsed": false
   },
   "id": "a207d2add984a2f4"
  },
  {
   "cell_type": "code",
   "execution_count": null,
   "outputs": [],
   "source": [
    "all_results = all_scenario_results['Scenario_1'][1].copy()\n",
    "all_results = all_results[['unique_id', 'name', 'condition', 'length', 'total_delay_time',\n",
    "       'delay_time_per_vehicle', 'breaks_down']] #later delay_time_per_vehicle\n",
    "\n",
    "for scenario in all_scenario_results:\n",
    "    for iteration in all_scenario_results[scenario]:\n",
    "        for index, row in all_scenario_results[scenario][iteration].iterrows():\n",
    "            all_results.loc[index, f'delay_time_{scenario}_{iteration}'] = row.total_delay_time\n",
    "            all_results.loc[index, f'breaks_down_{scenario}_{iteration}'] = row.breaks_down\n",
    "            all_results.loc[index, f'delay_car_{scenario}_{iteration}'] = row.delay_time_per_vehicle\n",
    "\n",
    "delay_time_columns = all_results.filter(regex='^delay_time_').columns\n",
    "delay_car_columns = all_results.filter(regex='^delay_car').columns\n",
    "\n",
    "all_results['total_delay_all_scenarios'] = all_results[delay_time_columns].sum(axis=1)\n",
    "all_results['avg_delay_per_car'] = all_results[delay_car_columns].mean(axis=1)\n",
    "\n",
    "# Select columns that start with 'breaks_down_'\n",
    "breaks_down_columns = all_results.filter(regex='^breaks_down_').columns\n",
    "\n",
    "# Count how often True appears in the breaks_down columns for each row\n",
    "all_results['total_breakdowns'] = all_results[breaks_down_columns].apply(lambda x: x.value_counts().get(True, 0), axis=1)\n",
    "\n",
    "\n",
    "all_results[['unique_id', 'name', 'condition', 'length',\n",
    "       'avg_delay_per_car','total_delay_all_scenarios', 'total_breakdowns']]  # Show the result for the new columns"
   ],
   "metadata": {
    "collapsed": false
   },
   "id": "f97770379017af04"
  },
  {
   "cell_type": "code",
   "execution_count": null,
   "outputs": [],
   "source": [
    "delay_data = []\n",
    "\n",
    "for i in all_scenario_results:\n",
    "    for j in all_scenario_results[i]:\n",
    "        delay = all_scenario_results[i][j]['total_delay_time'].sum()\n",
    "        delay_data.append({\n",
    "        'scenario': i,\n",
    "        'seed': j,\n",
    "        'total_delay_time': delay\n",
    "    })\n",
    "\n",
    "delay_data = pd.DataFrame(delay_data, columns=['scenario', 'seed', 'total_delay_time'])\n",
    "delay_data "
   ],
   "metadata": {
    "collapsed": false
   },
   "id": "f9a615523fbf8b6b"
  },
  {
   "cell_type": "code",
   "execution_count": null,
   "outputs": [],
   "source": [
    "# Pivot the DataFrame so that each scenario has its own column for delay_time\n",
    "pivot_df = delay_data.pivot(index='seed', columns='scenario', values='total_delay_time')\n",
    "\n",
    "# Plotting\n",
    "plt.figure(figsize=(10,10))\n",
    "\n",
    "# Plot a line for each scenario\n",
    "for scenario in pivot_df.columns:\n",
    "    plt.plot(pivot_df.index, pivot_df[scenario], label=scenario)\n",
    "\n",
    "# Labeling the axes\n",
    "plt.xlabel('Seed')\n",
    "plt.ylabel('Delay Time')\n",
    "plt.title('Delay Time by Seed for each Scenario')\n",
    "\n",
    "# Add a legend to the plot\n",
    "plt.legend(title='Scenario')\n",
    "\n",
    "# Show the plot\n",
    "plt.show()"
   ],
   "metadata": {
    "collapsed": false
   },
   "id": "1f3354ba651d09a2"
  },
  {
   "cell_type": "code",
   "execution_count": null,
   "outputs": [],
   "source": [
    "average_delay = delay_data.groupby('scenario')['total_delay_time'].mean()\n",
    "average_delay"
   ],
   "metadata": {
    "collapsed": false
   },
   "id": "72be8b8c91b343af"
  },
  {
   "cell_type": "code",
   "execution_count": null,
   "outputs": [],
   "source": [
    "end = time.time()\n",
    "print(end - start)"
   ],
   "metadata": {
    "collapsed": false
   },
   "id": "2af0e5bdf71ae7f1"
  },
  {
   "cell_type": "code",
   "execution_count": null,
   "outputs": [],
   "source": [],
   "metadata": {
    "collapsed": false
   },
   "id": "46af2d1087365856"
  }
 ],
 "metadata": {
  "kernelspec": {
   "display_name": "Python 3",
   "language": "python",
   "name": "python3"
  },
  "language_info": {
   "codemirror_mode": {
    "name": "ipython",
    "version": 2
   },
   "file_extension": ".py",
   "mimetype": "text/x-python",
   "name": "python",
   "nbconvert_exporter": "python",
   "pygments_lexer": "ipython2",
   "version": "2.7.6"
  }
 },
 "nbformat": 4,
 "nbformat_minor": 5
}

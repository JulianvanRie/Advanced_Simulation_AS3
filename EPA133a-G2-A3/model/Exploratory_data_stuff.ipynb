{
 "cells": [
  {
   "cell_type": "code",
   "execution_count": null,
   "id": "initial_id",
   "metadata": {
    "collapsed": true
   },
   "outputs": [],
   "source": [
    "from model import BangladeshModel\n",
    "import pandas as pd\n",
    "import matplotlib.pyplot as plt\n",
    "import time\n",
    "import sys\n",
    "import numpy as np\n",
    "import geopandas as gpd\n",
    "from shapely.geometry import Point"
   ]
  },
  {
   "cell_type": "code",
   "execution_count": null,
   "outputs": [],
   "source": [
    "# params = {'seed': range(1, 3), 'scenario_probabilities': [\n",
    "#     {'A': 0, 'B': 0, 'C': 0, 'D': 0},  # Scenario 0\n",
    "#     {'A': 0, 'B': 0, 'C': 0, 'D': 5},  # Scenario 1\n",
    "#     {'A': 0, 'B': 0, 'C': 0, 'D': 10},  # Scenario 2\n",
    "#     {'A': 0, 'B': 0, 'C': 5, 'D': 10},  # Scenario 3\n",
    "#     {'A': 0, 'B': 0, 'C': 10, 'D': 20},  # Scenario 4\n",
    "#     {'A': 0, 'B': 5, 'C': 10, 'D': 20},  # Scenario 5\n",
    "#     {'A': 0, 'B': 10, 'C': 20, 'D': 40},  # Scenario 6\n",
    "#     {'A': 5, 'B': 10, 'C': 20, 'D': 40},  # Scenario 7\n",
    "#     {'A': 10, 'B': 20, 'C': 40, 'D': 80},  # Scenario 8\n",
    "#     # Add more scenarios as needed\n",
    "# ]}\n",
    "# \n",
    "# results = mesa.batch_run(\n",
    "#     BangladeshModel,\n",
    "#     parameters=params,\n",
    "#     iterations=1,\n",
    "#     max_steps=100,\n",
    "#     number_processes=1,\n",
    "#     data_collection_period=100000,\n",
    "#     display_progress=True,\n",
    "# )"
   ],
   "metadata": {
    "collapsed": false
   },
   "id": "ea19688239603430"
  },
  {
   "cell_type": "code",
   "execution_count": null,
   "outputs": [],
   "source": [
    "start = time.time()\n",
    "\"\"\"\n",
    "    Run simulation\n",
    "    Print output at terminal\n",
    "\"\"\"\n",
    "\n",
    "# ---------------------------------------------------------------\n",
    "def run_all_scenarios(seeds, run_length, scenarios):\n",
    "    sys.setrecursionlimit(9999999)\n",
    "    all_scenario_results = {}\n",
    "    for scenario_index, scenario in enumerate(scenarios, start=0):\n",
    "        print(f\"Running scenario {scenario_index} with probabilities {scenario}\")\n",
    "        batch_results = {}\n",
    "        for seed in seeds:\n",
    "            print(\"running seed\", seed)\n",
    "            model = BangladeshModel(seed=seed, scenario_probabilities=scenario)\n",
    "            for i in range(run_length):\n",
    "                model.step()\n",
    "            bridges_data = [{\"unique_id\": bridge.unique_id,\n",
    "                             \"name\": bridge.name,\n",
    "                             'condition': bridge.condition,\n",
    "                             'length': bridge.length,\n",
    "                             'total_delay_time': bridge.total_delay_time,\n",
    "                             \"delay_time_per_vehicle\": bridge.delay_time,\n",
    "                             \"break_down_chance\": bridge.break_down_chance,\n",
    "                             \"breaks_down\": bridge.breaks_down} for bridge in model.bridges]\n",
    "            batch_results[seed] = pd.DataFrame(bridges_data)\n",
    "        all_scenario_results[f\"Scenario_{scenario_index}\"] = batch_results\n",
    "    return all_scenario_results\n",
    "\n",
    "# Define your scenarios\n",
    "scenarios = [\n",
    "    {'A': 0, 'B': 0, 'C': 0, 'D': 0},  # Scenario 0\n",
    "    {'A': 0, 'B': 0, 'C': 0, 'D': 5},  # Scenario 1\n",
    "    {'A': 0, 'B': 0, 'C': 0, 'D': 10},  # Scenario 2\n",
    "    {'A': 0, 'B': 0, 'C': 5, 'D': 10},  # Scenario 3\n",
    "    {'A': 0, 'B': 0, 'C': 10, 'D': 20},  # Scenario 4\n",
    "    {'A': 0, 'B': 5, 'C': 10, 'D': 20},  # Scenario 5\n",
    "    {'A': 0, 'B': 10, 'C': 20, 'D': 40},  # Scenario 6\n",
    "    {'A': 5, 'B': 10, 'C': 20, 'D': 40},  # Scenario 7\n",
    "    {'A': 10, 'B': 20, 'C': 40, 'D': 80},  # Scenario 8\n",
    "    # Add more scenarios as needed\n",
    "]\n",
    "\n",
    "# Set your seeds and run length\n",
    "seeds = range(1, 11)  # 10 seeds for each scenario\n",
    "# run_length = 5 * 24 * 60  # Example run length\n",
    "run_length = 7200\n",
    "# Run all scenarios\n",
    "all_scenario_results = run_all_scenarios(seeds, run_length, scenarios)\n",
    "\n",
    "end = time.time()\n",
    "print('run length', end - start)"
   ],
   "metadata": {
    "collapsed": false
   },
   "id": "2fe1865bf736604e"
  },
  {
   "cell_type": "code",
   "execution_count": null,
   "outputs": [],
   "source": [
    "#all_scenario_results['Scenario_7'][7][all_scenario_results['Scenario_7'][7]['breaks_down'] == True]"
   ],
   "metadata": {
    "collapsed": false
   },
   "id": "bacf72983e9c3b64"
  },
  {
   "cell_type": "code",
   "execution_count": null,
   "outputs": [],
   "source": [
    "#all_scenario_results['Scenario_8'][7][all_scenario_results['Scenario_8'][7]['breaks_down'] == True]"
   ],
   "metadata": {
    "collapsed": false
   },
   "id": "a207d2add984a2f4"
  },
  {
   "cell_type": "code",
   "execution_count": null,
   "outputs": [],
   "source": [
    "all_results = all_scenario_results['Scenario_1'][1].copy()\n",
    "all_results = all_results[['unique_id', 'name', 'condition', 'length', 'total_delay_time',\n",
    "       'delay_time_per_vehicle', 'breaks_down']] #later delay_time_per_vehicle\n",
    "\n",
    "for scenario in all_scenario_results:\n",
    "    for iteration in all_scenario_results[scenario]:\n",
    "        for index, row in all_scenario_results[scenario][iteration].iterrows():\n",
    "            all_results.loc[index, f'delay_time_{scenario}_{iteration}'] = row.total_delay_time\n",
    "            all_results.loc[index, f'breaks_down_{scenario}_{iteration}'] = row.breaks_down\n",
    "            all_results.loc[index, f'delay_car_{scenario}_{iteration}'] = row.delay_time_per_vehicle\n",
    "\n",
    "delay_time_columns = all_results.filter(regex='^delay_time_').columns\n",
    "delay_car_columns = all_results.filter(regex='^delay_car').columns\n",
    "\n",
    "all_results['total_delay_all_scenarios'] = all_results[delay_time_columns].sum(axis=1)\n",
    "all_results['avg_delay_per_car'] = all_results[delay_car_columns].mean(axis=1)\n",
    "\n",
    "# Select columns that start with 'breaks_down_'\n",
    "breaks_down_columns = all_results.filter(regex='^breaks_down_').columns\n",
    "\n",
    "# Count how often True appears in the breaks_down columns for each row\n",
    "all_results['total_breakdowns'] = all_results[breaks_down_columns].apply(lambda x: x.value_counts().get(True, 0), axis=1)\n",
    "\n",
    "\n",
    "all_results[['unique_id', 'name', 'condition', 'length', 'total_delay_all_scenarios', 'total_breakdowns']]  # Show the result for the new columns"
   ],
   "metadata": {
    "collapsed": false
   },
   "id": "f97770379017af04"
  },
  {
   "cell_type": "code",
   "execution_count": null,
   "outputs": [],
   "source": [
    "delay_data = []\n",
    "\n",
    "for i in all_scenario_results:\n",
    "    for j in all_scenario_results[i]:\n",
    "        delay = all_scenario_results[i][j]['total_delay_time'].sum()\n",
    "        delay_data.append({\n",
    "        'scenario': i,\n",
    "        'seed': j,\n",
    "        'total_delay_time': delay\n",
    "    })\n",
    "\n",
    "delay_data = pd.DataFrame(delay_data, columns=['scenario', 'seed', 'total_delay_time'])\n",
    "delay_data "
   ],
   "metadata": {
    "collapsed": false
   },
   "id": "f9a615523fbf8b6b"
  },
  {
   "cell_type": "code",
   "execution_count": null,
   "outputs": [],
   "source": [
    "# Pivot the DataFrame so that each scenario has its own column for delay_time\n",
    "pivot_df = delay_data.pivot(index='seed', columns='scenario', values='total_delay_time')\n",
    "\n",
    "# Plotting\n",
    "plt.figure(figsize=(12,6))\n",
    "\n",
    "# Plot a line for each scenario\n",
    "for scenario in pivot_df.columns:\n",
    "    plt.plot(pivot_df.index, pivot_df[scenario], label=scenario)\n",
    "\n",
    "# Labeling the axes\n",
    "plt.xlabel('Seed')\n",
    "plt.ylabel('Delay Time')\n",
    "plt.title('Delay Time by Seed for each Scenario')\n",
    "\n",
    "# Add a legend to the plot\n",
    "plt.legend(title='Scenario')\n",
    "\n",
    "# Show the plot\n",
    "plt.show()"
   ],
   "metadata": {
    "collapsed": false
   },
   "id": "1f3354ba651d09a2"
  },
  {
   "cell_type": "code",
   "execution_count": null,
   "outputs": [],
   "source": [
    "# Assuming delay_data is already defined\n",
    "pivot_df = delay_data.pivot(index='seed', columns='scenario', values='total_delay_time')\n",
    "\n",
    "# Plotting\n",
    "plt.figure(figsize=(10,5))\n",
    "\n",
    "# Number of scenarios\n",
    "num_scenarios = len(pivot_df.columns)\n",
    "\n",
    "# Calculate the width of each bar, so they don't overlap\n",
    "# There should be a small space between groups of bars, hence the 0.8 factor\n",
    "bar_width = 0.8 / num_scenarios\n",
    "\n",
    "# Iterate over each scenario to plot\n",
    "for i, scenario in enumerate(pivot_df.columns):\n",
    "    # Offset each bar's position to avoid overlap\n",
    "    # np.arange(len(pivot_df)) gives an array of bar positions for each seed\n",
    "    # i * bar_width offsets each scenario's bars\n",
    "    # -0.4 to center the groups around the tick marks\n",
    "    positions = np.arange(len(pivot_df)) + i * bar_width - 0.4 + bar_width/2\n",
    "    \n",
    "    # Plot the bars for this scenario\n",
    "    plt.bar(positions, pivot_df[scenario], width=bar_width, label=scenario)\n",
    "\n",
    "# Labeling the axes\n",
    "plt.xlabel('Seed')\n",
    "plt.ylabel('Delay Time')\n",
    "plt.title('Delay Time by Seed for each Scenario')\n",
    "\n",
    "# Set the x-ticks to be in the middle of the group of bars for each seed\n",
    "plt.xticks(np.arange(len(pivot_df)), pivot_df.index)\n",
    "\n",
    "plt.legend(title='Scenario', bbox_to_anchor=(1.05, 1), loc='upper left')\n",
    "\n",
    "# Adjust the plot's layout so the legend fits outside of the plot area\n",
    "plt.tight_layout()\n",
    "\n",
    "# Show the plot\n",
    "plt.show()"
   ],
   "metadata": {
    "collapsed": false
   },
   "id": "a3d1b189645fafa8"
  },
  {
   "cell_type": "code",
   "execution_count": null,
   "outputs": [],
   "source": [
    "average_delay = delay_data.groupby('scenario')['total_delay_time'].mean()\n",
    "average_delay\n",
    "# average_delay"
   ],
   "metadata": {
    "collapsed": false
   },
   "id": "72be8b8c91b343af"
  },
  {
   "cell_type": "code",
   "execution_count": null,
   "outputs": [],
   "source": [
    "delay_data['total_delay_time'][delay_data['scenario'] == 'Scenario_8'].describe()"
   ],
   "metadata": {
    "collapsed": false
   },
   "id": "8ed72e9d0cad10b7"
  },
  {
   "cell_type": "code",
   "execution_count": 44,
   "outputs": [
    {
     "data": {
      "text/plain": "      road        lon        lat\n19      N1  90.521527  23.706083\n34      N1  90.546583  23.690416\n243     N1  91.118166  23.478972\n448     N1  91.399805  22.996389\n757     N1  91.850833  22.364611\n1884  N102  91.118194  23.478972\n2190  N102  91.114667  24.050611\n2191  N104  91.399416  23.009667\n2352  N105  90.546611  23.690416\n2501  N106  91.821583  22.393555\n2800    N2  90.521444  23.705917\n3125    N2  91.114444  24.050833\n3251    N2  91.346444  24.147861\n3393    N2  91.476888  24.267694\n3411    N2  91.510083  24.294722\n3729    N2  91.677499  24.626499\n3874    N2  91.875277  24.877694\n4102  N204  91.346611  24.147916\n4226  N204  91.477138  24.267388\n4227  N207  91.510250  24.294861\n4390  N207  91.765472  24.471360\n4456  N207  91.677527  24.626333\n4457  N208  91.765556  24.471360\n4713  N208  91.875360  24.877555",
      "text/html": "<div>\n<style scoped>\n    .dataframe tbody tr th:only-of-type {\n        vertical-align: middle;\n    }\n\n    .dataframe tbody tr th {\n        vertical-align: top;\n    }\n\n    .dataframe thead th {\n        text-align: right;\n    }\n</style>\n<table border=\"1\" class=\"dataframe\">\n  <thead>\n    <tr style=\"text-align: right;\">\n      <th></th>\n      <th>road</th>\n      <th>lon</th>\n      <th>lat</th>\n    </tr>\n  </thead>\n  <tbody>\n    <tr>\n      <th>19</th>\n      <td>N1</td>\n      <td>90.521527</td>\n      <td>23.706083</td>\n    </tr>\n    <tr>\n      <th>34</th>\n      <td>N1</td>\n      <td>90.546583</td>\n      <td>23.690416</td>\n    </tr>\n    <tr>\n      <th>243</th>\n      <td>N1</td>\n      <td>91.118166</td>\n      <td>23.478972</td>\n    </tr>\n    <tr>\n      <th>448</th>\n      <td>N1</td>\n      <td>91.399805</td>\n      <td>22.996389</td>\n    </tr>\n    <tr>\n      <th>757</th>\n      <td>N1</td>\n      <td>91.850833</td>\n      <td>22.364611</td>\n    </tr>\n    <tr>\n      <th>1884</th>\n      <td>N102</td>\n      <td>91.118194</td>\n      <td>23.478972</td>\n    </tr>\n    <tr>\n      <th>2190</th>\n      <td>N102</td>\n      <td>91.114667</td>\n      <td>24.050611</td>\n    </tr>\n    <tr>\n      <th>2191</th>\n      <td>N104</td>\n      <td>91.399416</td>\n      <td>23.009667</td>\n    </tr>\n    <tr>\n      <th>2352</th>\n      <td>N105</td>\n      <td>90.546611</td>\n      <td>23.690416</td>\n    </tr>\n    <tr>\n      <th>2501</th>\n      <td>N106</td>\n      <td>91.821583</td>\n      <td>22.393555</td>\n    </tr>\n    <tr>\n      <th>2800</th>\n      <td>N2</td>\n      <td>90.521444</td>\n      <td>23.705917</td>\n    </tr>\n    <tr>\n      <th>3125</th>\n      <td>N2</td>\n      <td>91.114444</td>\n      <td>24.050833</td>\n    </tr>\n    <tr>\n      <th>3251</th>\n      <td>N2</td>\n      <td>91.346444</td>\n      <td>24.147861</td>\n    </tr>\n    <tr>\n      <th>3393</th>\n      <td>N2</td>\n      <td>91.476888</td>\n      <td>24.267694</td>\n    </tr>\n    <tr>\n      <th>3411</th>\n      <td>N2</td>\n      <td>91.510083</td>\n      <td>24.294722</td>\n    </tr>\n    <tr>\n      <th>3729</th>\n      <td>N2</td>\n      <td>91.677499</td>\n      <td>24.626499</td>\n    </tr>\n    <tr>\n      <th>3874</th>\n      <td>N2</td>\n      <td>91.875277</td>\n      <td>24.877694</td>\n    </tr>\n    <tr>\n      <th>4102</th>\n      <td>N204</td>\n      <td>91.346611</td>\n      <td>24.147916</td>\n    </tr>\n    <tr>\n      <th>4226</th>\n      <td>N204</td>\n      <td>91.477138</td>\n      <td>24.267388</td>\n    </tr>\n    <tr>\n      <th>4227</th>\n      <td>N207</td>\n      <td>91.510250</td>\n      <td>24.294861</td>\n    </tr>\n    <tr>\n      <th>4390</th>\n      <td>N207</td>\n      <td>91.765472</td>\n      <td>24.471360</td>\n    </tr>\n    <tr>\n      <th>4456</th>\n      <td>N207</td>\n      <td>91.677527</td>\n      <td>24.626333</td>\n    </tr>\n    <tr>\n      <th>4457</th>\n      <td>N208</td>\n      <td>91.765556</td>\n      <td>24.471360</td>\n    </tr>\n    <tr>\n      <th>4713</th>\n      <td>N208</td>\n      <td>91.875360</td>\n      <td>24.877555</td>\n    </tr>\n  </tbody>\n</table>\n</div>"
     },
     "execution_count": 44,
     "metadata": {},
     "output_type": "execute_result"
    }
   ],
   "source": [
    "df = pd.read_csv('../data/merged_data.csv')\n",
    "df[df['model_type'] == 'intersection'][['road', 'lon', 'lat']]"
   ],
   "metadata": {
    "collapsed": false,
    "ExecuteTime": {
     "end_time": "2024-03-20T10:21:19.094933800Z",
     "start_time": "2024-03-20T10:21:19.071435400Z"
    }
   },
   "id": "94717b15ed50e8f2"
  },
  {
   "cell_type": "code",
   "execution_count": 46,
   "outputs": [
    {
     "data": {
      "text/plain": "   road1 road2     lon     lat\n0     N1    n2  90.521  23.706\n1     N1  n104  91.381  23.010\n2     N1  n105  90.547  23.690\n3     N1  n102  91.118  23.479\n4     N2  n105  90.569  23.785\n5     N1  n106  91.833  22.369\n6     N2  n102  91.115  24.051\n7     N2  n204  91.347  24.148\n8     N2  N204  91.477  24.267\n9     N2  n207  91.510  24.294\n10    N2  N207  91.678  24.626\n11  N207  n208  91.766  24.471\n12  N208  n210  91.897  24.848\n13  N208    n2  91.875  24.878\n14    N2  n210  91.950  24.916",
      "text/html": "<div>\n<style scoped>\n    .dataframe tbody tr th:only-of-type {\n        vertical-align: middle;\n    }\n\n    .dataframe tbody tr th {\n        vertical-align: top;\n    }\n\n    .dataframe thead th {\n        text-align: right;\n    }\n</style>\n<table border=\"1\" class=\"dataframe\">\n  <thead>\n    <tr style=\"text-align: right;\">\n      <th></th>\n      <th>road1</th>\n      <th>road2</th>\n      <th>lon</th>\n      <th>lat</th>\n    </tr>\n  </thead>\n  <tbody>\n    <tr>\n      <th>0</th>\n      <td>N1</td>\n      <td>n2</td>\n      <td>90.521</td>\n      <td>23.706</td>\n    </tr>\n    <tr>\n      <th>1</th>\n      <td>N1</td>\n      <td>n104</td>\n      <td>91.381</td>\n      <td>23.010</td>\n    </tr>\n    <tr>\n      <th>2</th>\n      <td>N1</td>\n      <td>n105</td>\n      <td>90.547</td>\n      <td>23.690</td>\n    </tr>\n    <tr>\n      <th>3</th>\n      <td>N1</td>\n      <td>n102</td>\n      <td>91.118</td>\n      <td>23.479</td>\n    </tr>\n    <tr>\n      <th>4</th>\n      <td>N2</td>\n      <td>n105</td>\n      <td>90.569</td>\n      <td>23.785</td>\n    </tr>\n    <tr>\n      <th>5</th>\n      <td>N1</td>\n      <td>n106</td>\n      <td>91.833</td>\n      <td>22.369</td>\n    </tr>\n    <tr>\n      <th>6</th>\n      <td>N2</td>\n      <td>n102</td>\n      <td>91.115</td>\n      <td>24.051</td>\n    </tr>\n    <tr>\n      <th>7</th>\n      <td>N2</td>\n      <td>n204</td>\n      <td>91.347</td>\n      <td>24.148</td>\n    </tr>\n    <tr>\n      <th>8</th>\n      <td>N2</td>\n      <td>N204</td>\n      <td>91.477</td>\n      <td>24.267</td>\n    </tr>\n    <tr>\n      <th>9</th>\n      <td>N2</td>\n      <td>n207</td>\n      <td>91.510</td>\n      <td>24.294</td>\n    </tr>\n    <tr>\n      <th>10</th>\n      <td>N2</td>\n      <td>N207</td>\n      <td>91.678</td>\n      <td>24.626</td>\n    </tr>\n    <tr>\n      <th>11</th>\n      <td>N207</td>\n      <td>n208</td>\n      <td>91.766</td>\n      <td>24.471</td>\n    </tr>\n    <tr>\n      <th>12</th>\n      <td>N208</td>\n      <td>n210</td>\n      <td>91.897</td>\n      <td>24.848</td>\n    </tr>\n    <tr>\n      <th>13</th>\n      <td>N208</td>\n      <td>n2</td>\n      <td>91.875</td>\n      <td>24.878</td>\n    </tr>\n    <tr>\n      <th>14</th>\n      <td>N2</td>\n      <td>n210</td>\n      <td>91.950</td>\n      <td>24.916</td>\n    </tr>\n  </tbody>\n</table>\n</div>"
     },
     "execution_count": 46,
     "metadata": {},
     "output_type": "execute_result"
    }
   ],
   "source": [
    "# The input data with roads and coordinates\n",
    "road_data = \"\"\"\n",
    "N1 n2 90.521 23.706\n",
    "N1 n104 91.381 23.01\n",
    "N1 n105 90.547 23.69\n",
    "N1 n102 91.118 23.479\n",
    "N2 n105 90.569 23.785\n",
    "N1 n106 91.833 22.369\n",
    "N2 n102 91.115 24.051\n",
    "N2 n204 91.347 24.148\n",
    "N2 N204 91.477 24.267\n",
    "N2 n207 91.51 24.294\n",
    "N2 N207 91.678 24.626\n",
    "N207 n208 91.766 24.471\n",
    "N208 n210 91.897 24.848\n",
    "N208 n2 91.875 24.878\n",
    "N2 n210 91.95 24.916\n",
    "\"\"\"\n",
    "\n",
    "# Split the string into lines and then split each line into parts\n",
    "lines = road_data.strip().split(\"\\n\")\n",
    "split_lines = [line.split() for line in lines]\n",
    "\n",
    "# Create a DataFrame with the appropriate column names\n",
    "df_roads = pd.DataFrame(split_lines, columns=[\"road1\", \"road2\", \"lon\", \"lat\"])\n",
    "\n",
    "# Convert the lon and lat to float\n",
    "df_roads[\"lon\"] = df_roads[\"lon\"].astype(float)\n",
    "df_roads[\"lat\"] = df_roads[\"lat\"].astype(float)\n",
    "\n",
    "df_roads"
   ],
   "metadata": {
    "collapsed": false,
    "ExecuteTime": {
     "end_time": "2024-03-20T10:21:42.517782900Z",
     "start_time": "2024-03-20T10:21:42.504757200Z"
    }
   },
   "id": "121c05e19f5333b"
  },
  {
   "cell_type": "code",
   "execution_count": null,
   "outputs": [],
   "source": [
    "all_results.to_csv('../data/all_results.csv', index=False)"
   ],
   "metadata": {
    "collapsed": false
   },
   "id": "5e850197e9bba662"
  },
  {
   "cell_type": "code",
   "execution_count": null,
   "outputs": [],
   "source": [
    "\n",
    "    "
   ],
   "metadata": {
    "collapsed": false
   },
   "id": "353d07ab159065bd"
  },
  {
   "cell_type": "code",
   "execution_count": 4,
   "outputs": [],
   "source": [
    "results = pd.read_csv('../data/all_results.csv')"
   ],
   "metadata": {
    "collapsed": false,
    "ExecuteTime": {
     "end_time": "2024-03-20T10:35:06.738705Z",
     "start_time": "2024-03-20T10:35:06.684827800Z"
    }
   },
   "id": "7d83ed075b9cdd7e"
  },
  {
   "cell_type": "code",
   "execution_count": 6,
   "outputs": [
    {
     "data": {
      "text/plain": "      unique_id                               name condition  length  \\\n0             5                             . id 5         A  0.0113   \n1            11                            . id 11         A  0.0066   \n2            21    KANCHPUR PC GIRDER BRIDGE id 21         B  0.3970   \n3            27             NOYAPARA CULVERT id 27         B  0.0063   \n4            29  NAYABARI KASPUR BOX CULVERT id 29         A  0.0083   \n...         ...                                ...       ...     ...   \n1377       4691                MOGLA BAZER id 4691         A  0.0208   \n1378       4697        NAIKHAI BOX CULVERT id 4697         A  0.0030   \n1379       4701               JALKER KANDI id 4701         B  0.0322   \n1380       4709       SIB BARI BOX CULVERT id 4709         A  0.0030   \n1381       4713     KADAM TALI BOX CULVERT id 4713         B  0.0056   \n\n      total_delay_time  delay_time_per_vehicle  breaks_down  \\\n0                    0                       0        False   \n1                    0                       0        False   \n2                    0                       0        False   \n3                    0                       0        False   \n4                    0                       0        False   \n...                ...                     ...          ...   \n1377                 0                       0        False   \n1378                 0                       0        False   \n1379                 0                       0        False   \n1380                 0                       0        False   \n1381                 0                       0        False   \n\n      delay_time_Scenario_0_1  breaks_down_Scenario_0_1  \\\n0                         0.0                     False   \n1                         0.0                     False   \n2                         0.0                     False   \n3                         0.0                     False   \n4                         0.0                     False   \n...                       ...                       ...   \n1377                      0.0                     False   \n1378                      0.0                     False   \n1379                      0.0                     False   \n1380                      0.0                     False   \n1381                      0.0                     False   \n\n      delay_car_Scenario_0_1  ...  delay_car_Scenario_8_8  \\\n0                        0.0  ...                0.000000   \n1                        0.0  ...                0.000000   \n2                        0.0  ...               17.048169   \n3                        0.0  ...               12.474410   \n4                        0.0  ...                0.000000   \n...                      ...  ...                     ...   \n1377                     0.0  ...               10.043618   \n1378                     0.0  ...                0.000000   \n1379                     0.0  ...                0.000000   \n1380                     0.0  ...                0.000000   \n1381                     0.0  ...                0.000000   \n\n      delay_time_Scenario_8_9  breaks_down_Scenario_8_9  \\\n0                    0.000000                     False   \n1                    0.000000                     False   \n2                49277.232840                      True   \n3                39733.558197                      True   \n4                    0.000000                     False   \n...                       ...                       ...   \n1377                 0.000000                     False   \n1378                 0.000000                     False   \n1379                 0.000000                     False   \n1380                 0.000000                     False   \n1381                 0.000000                     False   \n\n      delay_car_Scenario_8_9  delay_time_Scenario_8_10  \\\n0                   0.000000                       0.0   \n1                   0.000000                       0.0   \n2                  18.665618                       0.0   \n3                  15.027821                       0.0   \n4                   0.000000                       0.0   \n...                      ...                       ...   \n1377                0.000000                       0.0   \n1378                0.000000                       0.0   \n1379                0.000000                       0.0   \n1380                0.000000                       0.0   \n1381                0.000000                       0.0   \n\n      breaks_down_Scenario_8_10  delay_car_Scenario_8_10  \\\n0                         False                      0.0   \n1                         False                      0.0   \n2                         False                      0.0   \n3                         False                      0.0   \n4                         False                      0.0   \n...                         ...                      ...   \n1377                      False                      0.0   \n1378                      False                      0.0   \n1379                      False                      0.0   \n1380                      False                      0.0   \n1381                      False                      0.0   \n\n      total_delay_all_scenarios  avg_delay_per_car  total_breakdowns  \n0                      0.000000           0.000000                 0  \n1                      0.000000           0.000000                 0  \n2                 185531.450650           0.758444                 5  \n3                 229122.937537           0.936043                 6  \n4                 132393.029721           0.536491                 3  \n...                         ...                ...               ...  \n1377               49150.790223           0.316981                 2  \n1378                   0.000000           0.161953                 1  \n1379               36129.061280           0.788093                 5  \n1380                   0.000000           0.000000                 0  \n1381                   0.000000           0.206774                 1  \n\n[1382 rows x 280 columns]",
      "text/html": "<div>\n<style scoped>\n    .dataframe tbody tr th:only-of-type {\n        vertical-align: middle;\n    }\n\n    .dataframe tbody tr th {\n        vertical-align: top;\n    }\n\n    .dataframe thead th {\n        text-align: right;\n    }\n</style>\n<table border=\"1\" class=\"dataframe\">\n  <thead>\n    <tr style=\"text-align: right;\">\n      <th></th>\n      <th>unique_id</th>\n      <th>name</th>\n      <th>condition</th>\n      <th>length</th>\n      <th>total_delay_time</th>\n      <th>delay_time_per_vehicle</th>\n      <th>breaks_down</th>\n      <th>delay_time_Scenario_0_1</th>\n      <th>breaks_down_Scenario_0_1</th>\n      <th>delay_car_Scenario_0_1</th>\n      <th>...</th>\n      <th>delay_car_Scenario_8_8</th>\n      <th>delay_time_Scenario_8_9</th>\n      <th>breaks_down_Scenario_8_9</th>\n      <th>delay_car_Scenario_8_9</th>\n      <th>delay_time_Scenario_8_10</th>\n      <th>breaks_down_Scenario_8_10</th>\n      <th>delay_car_Scenario_8_10</th>\n      <th>total_delay_all_scenarios</th>\n      <th>avg_delay_per_car</th>\n      <th>total_breakdowns</th>\n    </tr>\n  </thead>\n  <tbody>\n    <tr>\n      <th>0</th>\n      <td>5</td>\n      <td>. id 5</td>\n      <td>A</td>\n      <td>0.0113</td>\n      <td>0</td>\n      <td>0</td>\n      <td>False</td>\n      <td>0.0</td>\n      <td>False</td>\n      <td>0.0</td>\n      <td>...</td>\n      <td>0.000000</td>\n      <td>0.000000</td>\n      <td>False</td>\n      <td>0.000000</td>\n      <td>0.0</td>\n      <td>False</td>\n      <td>0.0</td>\n      <td>0.000000</td>\n      <td>0.000000</td>\n      <td>0</td>\n    </tr>\n    <tr>\n      <th>1</th>\n      <td>11</td>\n      <td>. id 11</td>\n      <td>A</td>\n      <td>0.0066</td>\n      <td>0</td>\n      <td>0</td>\n      <td>False</td>\n      <td>0.0</td>\n      <td>False</td>\n      <td>0.0</td>\n      <td>...</td>\n      <td>0.000000</td>\n      <td>0.000000</td>\n      <td>False</td>\n      <td>0.000000</td>\n      <td>0.0</td>\n      <td>False</td>\n      <td>0.0</td>\n      <td>0.000000</td>\n      <td>0.000000</td>\n      <td>0</td>\n    </tr>\n    <tr>\n      <th>2</th>\n      <td>21</td>\n      <td>KANCHPUR PC GIRDER BRIDGE id 21</td>\n      <td>B</td>\n      <td>0.3970</td>\n      <td>0</td>\n      <td>0</td>\n      <td>False</td>\n      <td>0.0</td>\n      <td>False</td>\n      <td>0.0</td>\n      <td>...</td>\n      <td>17.048169</td>\n      <td>49277.232840</td>\n      <td>True</td>\n      <td>18.665618</td>\n      <td>0.0</td>\n      <td>False</td>\n      <td>0.0</td>\n      <td>185531.450650</td>\n      <td>0.758444</td>\n      <td>5</td>\n    </tr>\n    <tr>\n      <th>3</th>\n      <td>27</td>\n      <td>NOYAPARA CULVERT id 27</td>\n      <td>B</td>\n      <td>0.0063</td>\n      <td>0</td>\n      <td>0</td>\n      <td>False</td>\n      <td>0.0</td>\n      <td>False</td>\n      <td>0.0</td>\n      <td>...</td>\n      <td>12.474410</td>\n      <td>39733.558197</td>\n      <td>True</td>\n      <td>15.027821</td>\n      <td>0.0</td>\n      <td>False</td>\n      <td>0.0</td>\n      <td>229122.937537</td>\n      <td>0.936043</td>\n      <td>6</td>\n    </tr>\n    <tr>\n      <th>4</th>\n      <td>29</td>\n      <td>NAYABARI KASPUR BOX CULVERT id 29</td>\n      <td>A</td>\n      <td>0.0083</td>\n      <td>0</td>\n      <td>0</td>\n      <td>False</td>\n      <td>0.0</td>\n      <td>False</td>\n      <td>0.0</td>\n      <td>...</td>\n      <td>0.000000</td>\n      <td>0.000000</td>\n      <td>False</td>\n      <td>0.000000</td>\n      <td>0.0</td>\n      <td>False</td>\n      <td>0.0</td>\n      <td>132393.029721</td>\n      <td>0.536491</td>\n      <td>3</td>\n    </tr>\n    <tr>\n      <th>...</th>\n      <td>...</td>\n      <td>...</td>\n      <td>...</td>\n      <td>...</td>\n      <td>...</td>\n      <td>...</td>\n      <td>...</td>\n      <td>...</td>\n      <td>...</td>\n      <td>...</td>\n      <td>...</td>\n      <td>...</td>\n      <td>...</td>\n      <td>...</td>\n      <td>...</td>\n      <td>...</td>\n      <td>...</td>\n      <td>...</td>\n      <td>...</td>\n      <td>...</td>\n      <td>...</td>\n    </tr>\n    <tr>\n      <th>1377</th>\n      <td>4691</td>\n      <td>MOGLA BAZER id 4691</td>\n      <td>A</td>\n      <td>0.0208</td>\n      <td>0</td>\n      <td>0</td>\n      <td>False</td>\n      <td>0.0</td>\n      <td>False</td>\n      <td>0.0</td>\n      <td>...</td>\n      <td>10.043618</td>\n      <td>0.000000</td>\n      <td>False</td>\n      <td>0.000000</td>\n      <td>0.0</td>\n      <td>False</td>\n      <td>0.0</td>\n      <td>49150.790223</td>\n      <td>0.316981</td>\n      <td>2</td>\n    </tr>\n    <tr>\n      <th>1378</th>\n      <td>4697</td>\n      <td>NAIKHAI BOX CULVERT id 4697</td>\n      <td>A</td>\n      <td>0.0030</td>\n      <td>0</td>\n      <td>0</td>\n      <td>False</td>\n      <td>0.0</td>\n      <td>False</td>\n      <td>0.0</td>\n      <td>...</td>\n      <td>0.000000</td>\n      <td>0.000000</td>\n      <td>False</td>\n      <td>0.000000</td>\n      <td>0.0</td>\n      <td>False</td>\n      <td>0.0</td>\n      <td>0.000000</td>\n      <td>0.161953</td>\n      <td>1</td>\n    </tr>\n    <tr>\n      <th>1379</th>\n      <td>4701</td>\n      <td>JALKER KANDI id 4701</td>\n      <td>B</td>\n      <td>0.0322</td>\n      <td>0</td>\n      <td>0</td>\n      <td>False</td>\n      <td>0.0</td>\n      <td>False</td>\n      <td>0.0</td>\n      <td>...</td>\n      <td>0.000000</td>\n      <td>0.000000</td>\n      <td>False</td>\n      <td>0.000000</td>\n      <td>0.0</td>\n      <td>False</td>\n      <td>0.0</td>\n      <td>36129.061280</td>\n      <td>0.788093</td>\n      <td>5</td>\n    </tr>\n    <tr>\n      <th>1380</th>\n      <td>4709</td>\n      <td>SIB BARI BOX CULVERT id 4709</td>\n      <td>A</td>\n      <td>0.0030</td>\n      <td>0</td>\n      <td>0</td>\n      <td>False</td>\n      <td>0.0</td>\n      <td>False</td>\n      <td>0.0</td>\n      <td>...</td>\n      <td>0.000000</td>\n      <td>0.000000</td>\n      <td>False</td>\n      <td>0.000000</td>\n      <td>0.0</td>\n      <td>False</td>\n      <td>0.0</td>\n      <td>0.000000</td>\n      <td>0.000000</td>\n      <td>0</td>\n    </tr>\n    <tr>\n      <th>1381</th>\n      <td>4713</td>\n      <td>KADAM TALI BOX CULVERT id 4713</td>\n      <td>B</td>\n      <td>0.0056</td>\n      <td>0</td>\n      <td>0</td>\n      <td>False</td>\n      <td>0.0</td>\n      <td>False</td>\n      <td>0.0</td>\n      <td>...</td>\n      <td>0.000000</td>\n      <td>0.000000</td>\n      <td>False</td>\n      <td>0.000000</td>\n      <td>0.0</td>\n      <td>False</td>\n      <td>0.0</td>\n      <td>0.000000</td>\n      <td>0.206774</td>\n      <td>1</td>\n    </tr>\n  </tbody>\n</table>\n<p>1382 rows × 280 columns</p>\n</div>"
     },
     "execution_count": 6,
     "metadata": {},
     "output_type": "execute_result"
    }
   ],
   "source": [
    "results"
   ],
   "metadata": {
    "collapsed": false,
    "ExecuteTime": {
     "end_time": "2024-03-20T10:35:22.508817600Z",
     "start_time": "2024-03-20T10:35:22.452481900Z"
    }
   },
   "id": "128640d1462fc7eb"
  },
  {
   "cell_type": "code",
   "execution_count": 53,
   "outputs": [],
   "source": [
    "scenario_0 = pd.concat([results.iloc[:,0:7], results.iloc[:,7:37]], axis=1)\n",
    "scenario_1 = pd.concat([results.iloc[:,0:7], results.iloc[:,37:67]], axis=1)\n",
    "scenario_1.to_csv('scenario_1_Test')"
   ],
   "metadata": {
    "collapsed": false,
    "ExecuteTime": {
     "end_time": "2024-03-20T11:17:29.286464500Z",
     "start_time": "2024-03-20T11:17:29.245183500Z"
    }
   },
   "id": "fb857cf46bc02758"
  },
  {
   "cell_type": "code",
   "execution_count": 51,
   "outputs": [
    {
     "data": {
      "text/plain": "['scenario_0.csv',\n 'scenario_1.csv',\n 'scenario_2.csv',\n 'scenario_3.csv',\n 'scenario_4.csv',\n 'scenario_5.csv',\n 'scenario_6.csv',\n 'scenario_7.csv',\n 'scenario_8.csv']"
     },
     "execution_count": 51,
     "metadata": {},
     "output_type": "execute_result"
    }
   ],
   "source": [
    "# Adjusting the code snippet to follow the pattern and save each scenario to a separate CSV file\n",
    "\n",
    "# Assuming 'df' is the DataFrame we're working with\n",
    "# Initial setup: common columns count and scenario-specific columns count\n",
    "common_columns_count = 7\n",
    "scenario_columns_start = 7\n",
    "scenario_columns_count = 30  # Number of columns for each scenario\n",
    "total_scenarios = 9  # Total number of scenarios\n",
    "\n",
    "# File paths for saved CSVs\n",
    "saved_scenario_files = []\n",
    "\n",
    "for scenario_index in range(total_scenarios):\n",
    "    start_col = scenario_columns_start + scenario_index * scenario_columns_count\n",
    "    end_col = start_col + scenario_columns_count\n",
    "    # Creating DataFrame for each scenario\n",
    "    scenario_df = pd.concat([results.iloc[:, 0:common_columns_count], results.iloc[:, start_col:end_col]], axis=1)\n",
    "    # Save to CSV\n",
    "    filename = f\"scenario_{scenario_index}.csv\"\n",
    "    scenario_df.to_csv(filename, index=False)\n",
    "    saved_scenario_files.append(filename)\n",
    "\n",
    "saved_scenario_files"
   ],
   "metadata": {
    "collapsed": false,
    "ExecuteTime": {
     "end_time": "2024-03-20T11:16:44.508939700Z",
     "start_time": "2024-03-20T11:16:44.305386200Z"
    }
   },
   "id": "bbf4d30c54eb5a20"
  }
 ],
 "metadata": {
  "kernelspec": {
   "display_name": "Python 3",
   "language": "python",
   "name": "python3"
  },
  "language_info": {
   "codemirror_mode": {
    "name": "ipython",
    "version": 2
   },
   "file_extension": ".py",
   "mimetype": "text/x-python",
   "name": "python",
   "nbconvert_exporter": "python",
   "pygments_lexer": "ipython2",
   "version": "2.7.6"
  }
 },
 "nbformat": 4,
 "nbformat_minor": 5
}

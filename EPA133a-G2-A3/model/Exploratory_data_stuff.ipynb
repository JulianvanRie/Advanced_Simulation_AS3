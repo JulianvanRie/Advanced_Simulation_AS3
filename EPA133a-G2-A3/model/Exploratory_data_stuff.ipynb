{
 "cells": [
  {
   "cell_type": "code",
   "execution_count": 1,
   "id": "initial_id",
   "metadata": {
    "collapsed": true,
    "ExecuteTime": {
     "end_time": "2024-03-18T12:35:31.448688600Z",
     "start_time": "2024-03-18T12:35:29.776997500Z"
    }
   },
   "outputs": [],
   "source": [
    "from model import BangladeshModel\n",
    "import networkx as nx\n",
    "import pandas as pd\n",
    "import matplotlib.pyplot as plt\n",
    "import numpy as np\n",
    "import time"
   ]
  },
  {
   "cell_type": "code",
   "execution_count": 3,
   "outputs": [
    {
     "name": "stdout",
     "output_type": "stream",
     "text": [
      "Running scenario 0 with probabilities {'A': 0, 'B': 0, 'C': 0, 'D': 0}\n",
      "SEED 1\n",
      "SEED 2\n",
      "Running scenario 1 with probabilities {'A': 0, 'B': 0, 'C': 0, 'D': 5}\n",
      "SEED 1\n",
      "SEED 2\n",
      "Running scenario 2 with probabilities {'A': 0, 'B': 0, 'C': 0, 'D': 10}\n",
      "SEED 1\n",
      "SEED 2\n",
      "Running scenario 3 with probabilities {'A': 0, 'B': 0, 'C': 5, 'D': 10}\n",
      "SEED 1\n",
      "SEED 2\n",
      "Running scenario 4 with probabilities {'A': 0, 'B': 0, 'C': 10, 'D': 20}\n",
      "SEED 1\n",
      "SEED 2\n",
      "Running scenario 5 with probabilities {'A': 0, 'B': 5, 'C': 10, 'D': 20}\n",
      "SEED 1\n",
      "SEED 2\n",
      "Running scenario 6 with probabilities {'A': 0, 'B': 10, 'C': 20, 'D': 40}\n",
      "SEED 1\n",
      "SEED 2\n",
      "Running scenario 7 with probabilities {'A': 5, 'B': 10, 'C': 20, 'D': 40}\n",
      "SEED 1\n",
      "SEED 2\n",
      "Running scenario 8 with probabilities {'A': 10, 'B': 20, 'C': 40, 'D': 80}\n",
      "SEED 1\n"
     ]
    },
    {
     "ename": "KeyboardInterrupt",
     "evalue": "",
     "output_type": "error",
     "traceback": [
      "\u001B[1;31m---------------------------------------------------------------------------\u001B[0m",
      "\u001B[1;31mKeyboardInterrupt\u001B[0m                         Traceback (most recent call last)",
      "Cell \u001B[1;32mIn[3], line 57\u001B[0m\n\u001B[0;32m     55\u001B[0m run_length \u001B[38;5;241m=\u001B[39m \u001B[38;5;241m100\u001B[39m\n\u001B[0;32m     56\u001B[0m \u001B[38;5;66;03m# Run all scenarios\u001B[39;00m\n\u001B[1;32m---> 57\u001B[0m all_scenario_results \u001B[38;5;241m=\u001B[39m run_all_scenarios(seeds, run_length, scenarios)\n",
      "Cell \u001B[1;32mIn[3], line 34\u001B[0m, in \u001B[0;36mrun_all_scenarios\u001B[1;34m(seeds, run_length, scenarios)\u001B[0m\n\u001B[0;32m     32\u001B[0m \u001B[38;5;28;01mfor\u001B[39;00m scenario_index, probs \u001B[38;5;129;01min\u001B[39;00m \u001B[38;5;28menumerate\u001B[39m(scenarios, start\u001B[38;5;241m=\u001B[39m\u001B[38;5;241m0\u001B[39m):\n\u001B[0;32m     33\u001B[0m     \u001B[38;5;28mprint\u001B[39m(\u001B[38;5;124mf\u001B[39m\u001B[38;5;124m\"\u001B[39m\u001B[38;5;124mRunning scenario \u001B[39m\u001B[38;5;132;01m{\u001B[39;00mscenario_index\u001B[38;5;132;01m}\u001B[39;00m\u001B[38;5;124m with probabilities \u001B[39m\u001B[38;5;132;01m{\u001B[39;00mprobs\u001B[38;5;132;01m}\u001B[39;00m\u001B[38;5;124m\"\u001B[39m)\n\u001B[1;32m---> 34\u001B[0m     scenario_results \u001B[38;5;241m=\u001B[39m run_simulation_for_scenario(seeds, run_length, probs)\n\u001B[0;32m     35\u001B[0m     all_scenario_results[\u001B[38;5;124mf\u001B[39m\u001B[38;5;124m\"\u001B[39m\u001B[38;5;124mScenario_\u001B[39m\u001B[38;5;132;01m{\u001B[39;00mscenario_index\u001B[38;5;132;01m}\u001B[39;00m\u001B[38;5;124m\"\u001B[39m] \u001B[38;5;241m=\u001B[39m scenario_results\n\u001B[0;32m     36\u001B[0m \u001B[38;5;28;01mreturn\u001B[39;00m all_scenario_results\n",
      "Cell \u001B[1;32mIn[3], line 26\u001B[0m, in \u001B[0;36mrun_simulation_for_scenario\u001B[1;34m(seeds, run_length, probs)\u001B[0m\n\u001B[0;32m     24\u001B[0m batch_results \u001B[38;5;241m=\u001B[39m {}\n\u001B[0;32m     25\u001B[0m \u001B[38;5;28;01mfor\u001B[39;00m seed \u001B[38;5;129;01min\u001B[39;00m seeds:\n\u001B[1;32m---> 26\u001B[0m     df_bridge \u001B[38;5;241m=\u001B[39m run_simulation_batch(seed, run_length, probs)\n\u001B[0;32m     27\u001B[0m     batch_results[seed] \u001B[38;5;241m=\u001B[39m df_bridge\n\u001B[0;32m     28\u001B[0m \u001B[38;5;28;01mreturn\u001B[39;00m batch_results\n",
      "Cell \u001B[1;32mIn[3], line 12\u001B[0m, in \u001B[0;36mrun_simulation_batch\u001B[1;34m(seed, run_length, probs)\u001B[0m\n\u001B[0;32m     10\u001B[0m \u001B[38;5;28mprint\u001B[39m(\u001B[38;5;124m\"\u001B[39m\u001B[38;5;124mSEED \u001B[39m\u001B[38;5;124m\"\u001B[39m \u001B[38;5;241m+\u001B[39m \u001B[38;5;28mstr\u001B[39m(model\u001B[38;5;241m.\u001B[39m_seed))\n\u001B[0;32m     11\u001B[0m \u001B[38;5;28;01mfor\u001B[39;00m i \u001B[38;5;129;01min\u001B[39;00m \u001B[38;5;28mrange\u001B[39m(run_length):\n\u001B[1;32m---> 12\u001B[0m     model\u001B[38;5;241m.\u001B[39mstep()\n\u001B[0;32m     13\u001B[0m bridges_data \u001B[38;5;241m=\u001B[39m [{\u001B[38;5;124m\"\u001B[39m\u001B[38;5;124munique_id\u001B[39m\u001B[38;5;124m\"\u001B[39m: bridge\u001B[38;5;241m.\u001B[39munique_id,\n\u001B[0;32m     14\u001B[0m                  \u001B[38;5;124m\"\u001B[39m\u001B[38;5;124mname\u001B[39m\u001B[38;5;124m\"\u001B[39m: bridge\u001B[38;5;241m.\u001B[39mname,\n\u001B[0;32m     15\u001B[0m                  \u001B[38;5;124m'\u001B[39m\u001B[38;5;124mcondition\u001B[39m\u001B[38;5;124m'\u001B[39m: bridge\u001B[38;5;241m.\u001B[39mcondition,\n\u001B[1;32m   (...)\u001B[0m\n\u001B[0;32m     19\u001B[0m                  \u001B[38;5;124m\"\u001B[39m\u001B[38;5;124mbreak_down_chance\u001B[39m\u001B[38;5;124m\"\u001B[39m: bridge\u001B[38;5;241m.\u001B[39mbreak_down_chance,\n\u001B[0;32m     20\u001B[0m                  \u001B[38;5;124m\"\u001B[39m\u001B[38;5;124mbreaks_down\u001B[39m\u001B[38;5;124m\"\u001B[39m: bridge\u001B[38;5;241m.\u001B[39mbreaks_down} \u001B[38;5;28;01mfor\u001B[39;00m bridge \u001B[38;5;129;01min\u001B[39;00m model\u001B[38;5;241m.\u001B[39mbridges]\n\u001B[0;32m     21\u001B[0m \u001B[38;5;28;01mreturn\u001B[39;00m pd\u001B[38;5;241m.\u001B[39mDataFrame(bridges_data)\n",
      "File \u001B[1;32m~\\Documents\\GitHub\\Advanced_Simulation_AS3\\EPA133a-G2-A3\\model\\model.py:236\u001B[0m, in \u001B[0;36mBangladeshModel.step\u001B[1;34m(self)\u001B[0m\n\u001B[0;32m    232\u001B[0m \u001B[38;5;28;01mdef\u001B[39;00m \u001B[38;5;21mstep\u001B[39m(\u001B[38;5;28mself\u001B[39m):\n\u001B[0;32m    233\u001B[0m \u001B[38;5;250m    \u001B[39m\u001B[38;5;124;03m\"\"\"\u001B[39;00m\n\u001B[0;32m    234\u001B[0m \u001B[38;5;124;03m    Advance the simulation by one step.\u001B[39;00m\n\u001B[0;32m    235\u001B[0m \u001B[38;5;124;03m    \"\"\"\u001B[39;00m\n\u001B[1;32m--> 236\u001B[0m     \u001B[38;5;28mself\u001B[39m\u001B[38;5;241m.\u001B[39mschedule\u001B[38;5;241m.\u001B[39mstep()\n",
      "File \u001B[1;32mC:\\Apps\\Anaconda\\Lib\\site-packages\\mesa\\time.py:94\u001B[0m, in \u001B[0;36mBaseScheduler.step\u001B[1;34m(self)\u001B[0m\n\u001B[0;32m     91\u001B[0m \u001B[38;5;250m\u001B[39m\u001B[38;5;124;03m\"\"\"Execute the step of all the agents, one at a time.\"\"\"\u001B[39;00m\n\u001B[0;32m     92\u001B[0m \u001B[38;5;66;03m# To be able to remove and/or add agents during stepping\u001B[39;00m\n\u001B[0;32m     93\u001B[0m \u001B[38;5;66;03m# it's necessary for the keys view to be a list.\u001B[39;00m\n\u001B[1;32m---> 94\u001B[0m \u001B[38;5;28mself\u001B[39m\u001B[38;5;241m.\u001B[39mdo_each(\u001B[38;5;124m\"\u001B[39m\u001B[38;5;124mstep\u001B[39m\u001B[38;5;124m\"\u001B[39m)\n\u001B[0;32m     95\u001B[0m \u001B[38;5;28mself\u001B[39m\u001B[38;5;241m.\u001B[39msteps \u001B[38;5;241m+\u001B[39m\u001B[38;5;241m=\u001B[39m \u001B[38;5;241m1\u001B[39m\n\u001B[0;32m     96\u001B[0m \u001B[38;5;28mself\u001B[39m\u001B[38;5;241m.\u001B[39mtime \u001B[38;5;241m+\u001B[39m\u001B[38;5;241m=\u001B[39m \u001B[38;5;241m1\u001B[39m\n",
      "File \u001B[1;32mC:\\Apps\\Anaconda\\Lib\\site-packages\\mesa\\time.py:121\u001B[0m, in \u001B[0;36mBaseScheduler.do_each\u001B[1;34m(self, method, agent_keys, shuffle)\u001B[0m\n\u001B[0;32m    119\u001B[0m \u001B[38;5;28;01mfor\u001B[39;00m agent_key \u001B[38;5;129;01min\u001B[39;00m agent_keys:\n\u001B[0;32m    120\u001B[0m     \u001B[38;5;28;01mif\u001B[39;00m agent_key \u001B[38;5;129;01min\u001B[39;00m \u001B[38;5;28mself\u001B[39m\u001B[38;5;241m.\u001B[39m_agents:\n\u001B[1;32m--> 121\u001B[0m         \u001B[38;5;28mgetattr\u001B[39m(\u001B[38;5;28mself\u001B[39m\u001B[38;5;241m.\u001B[39m_agents[agent_key], method)()\n",
      "File \u001B[1;32m~\\Documents\\GitHub\\Advanced_Simulation_AS3\\EPA133a-G2-A3\\model\\components.py:151\u001B[0m, in \u001B[0;36mSource.step\u001B[1;34m(self)\u001B[0m\n\u001B[0;32m    149\u001B[0m \u001B[38;5;28;01mdef\u001B[39;00m \u001B[38;5;21mstep\u001B[39m(\u001B[38;5;28mself\u001B[39m):\n\u001B[0;32m    150\u001B[0m     \u001B[38;5;28;01mif\u001B[39;00m \u001B[38;5;28mself\u001B[39m\u001B[38;5;241m.\u001B[39mmodel\u001B[38;5;241m.\u001B[39mschedule\u001B[38;5;241m.\u001B[39msteps \u001B[38;5;241m%\u001B[39m \u001B[38;5;28mself\u001B[39m\u001B[38;5;241m.\u001B[39mgeneration_frequency \u001B[38;5;241m==\u001B[39m \u001B[38;5;241m0\u001B[39m:\n\u001B[1;32m--> 151\u001B[0m         \u001B[38;5;28mself\u001B[39m\u001B[38;5;241m.\u001B[39mgenerate_truck()\n\u001B[0;32m    152\u001B[0m     \u001B[38;5;28;01melse\u001B[39;00m:\n\u001B[0;32m    153\u001B[0m         \u001B[38;5;28mself\u001B[39m\u001B[38;5;241m.\u001B[39mvehicle_generated_flag \u001B[38;5;241m=\u001B[39m \u001B[38;5;28;01mFalse\u001B[39;00m\n",
      "File \u001B[1;32m~\\Documents\\GitHub\\Advanced_Simulation_AS3\\EPA133a-G2-A3\\model\\components.py:163\u001B[0m, in \u001B[0;36mSource.generate_truck\u001B[1;34m(self)\u001B[0m\n\u001B[0;32m    161\u001B[0m \u001B[38;5;28;01mif\u001B[39;00m agent:\n\u001B[0;32m    162\u001B[0m     \u001B[38;5;28mself\u001B[39m\u001B[38;5;241m.\u001B[39mmodel\u001B[38;5;241m.\u001B[39mschedule\u001B[38;5;241m.\u001B[39madd(agent)\n\u001B[1;32m--> 163\u001B[0m     agent\u001B[38;5;241m.\u001B[39mset_path()\n\u001B[0;32m    164\u001B[0m     Source\u001B[38;5;241m.\u001B[39mtruck_counter \u001B[38;5;241m+\u001B[39m\u001B[38;5;241m=\u001B[39m \u001B[38;5;241m1\u001B[39m\n\u001B[0;32m    165\u001B[0m     \u001B[38;5;28mself\u001B[39m\u001B[38;5;241m.\u001B[39mvehicle_count \u001B[38;5;241m+\u001B[39m\u001B[38;5;241m=\u001B[39m \u001B[38;5;241m1\u001B[39m\n",
      "File \u001B[1;32m~\\Documents\\GitHub\\Advanced_Simulation_AS3\\EPA133a-G2-A3\\model\\components.py:259\u001B[0m, in \u001B[0;36mVehicle.set_path\u001B[1;34m(self)\u001B[0m\n\u001B[0;32m    255\u001B[0m \u001B[38;5;28;01mdef\u001B[39;00m \u001B[38;5;21mset_path\u001B[39m(\u001B[38;5;28mself\u001B[39m):\n\u001B[0;32m    256\u001B[0m \u001B[38;5;250m    \u001B[39m\u001B[38;5;124;03m\"\"\"\u001B[39;00m\n\u001B[0;32m    257\u001B[0m \u001B[38;5;124;03m    Set the origin destination path of the vehicle\u001B[39;00m\n\u001B[0;32m    258\u001B[0m \u001B[38;5;124;03m    \"\"\"\u001B[39;00m\n\u001B[1;32m--> 259\u001B[0m     \u001B[38;5;28mself\u001B[39m\u001B[38;5;241m.\u001B[39mpath_ids \u001B[38;5;241m=\u001B[39m \u001B[38;5;28mself\u001B[39m\u001B[38;5;241m.\u001B[39mmodel\u001B[38;5;241m.\u001B[39mget_route(\u001B[38;5;28mself\u001B[39m\u001B[38;5;241m.\u001B[39mgenerated_by\u001B[38;5;241m.\u001B[39munique_id)\n",
      "File \u001B[1;32m~\\Documents\\GitHub\\Advanced_Simulation_AS3\\EPA133a-G2-A3\\model\\model.py:224\u001B[0m, in \u001B[0;36mBangladeshModel.get_route\u001B[1;34m(self, source)\u001B[0m\n\u001B[0;32m    223\u001B[0m \u001B[38;5;28;01mdef\u001B[39;00m \u001B[38;5;21mget_route\u001B[39m(\u001B[38;5;28mself\u001B[39m, source):\n\u001B[1;32m--> 224\u001B[0m     \u001B[38;5;28;01mreturn\u001B[39;00m \u001B[38;5;28mself\u001B[39m\u001B[38;5;241m.\u001B[39mget_random_route(source)\n",
      "File \u001B[1;32m~\\Documents\\GitHub\\Advanced_Simulation_AS3\\EPA133a-G2-A3\\model\\model.py:199\u001B[0m, in \u001B[0;36mBangladeshModel.get_random_route\u001B[1;34m(self, source)\u001B[0m\n\u001B[0;32m    197\u001B[0m     \u001B[38;5;28;01mif\u001B[39;00m sink \u001B[38;5;129;01mis\u001B[39;00m \u001B[38;5;129;01mnot\u001B[39;00m source:\n\u001B[0;32m    198\u001B[0m         \u001B[38;5;28;01mbreak\u001B[39;00m\n\u001B[1;32m--> 199\u001B[0m \u001B[38;5;28;01mreturn\u001B[39;00m \u001B[38;5;28mself\u001B[39m\u001B[38;5;241m.\u001B[39mget_shortest_path(source, sink)\n",
      "File \u001B[1;32m~\\Documents\\GitHub\\Advanced_Simulation_AS3\\EPA133a-G2-A3\\model\\model.py:212\u001B[0m, in \u001B[0;36mBangladeshModel.get_shortest_path\u001B[1;34m(self, source, destination)\u001B[0m\n\u001B[0;32m    208\u001B[0m     \u001B[38;5;28;01mreturn\u001B[39;00m \u001B[38;5;28mself\u001B[39m\u001B[38;5;241m.\u001B[39mpath_ids_dict[(source, destination)]\n\u001B[0;32m    210\u001B[0m \u001B[38;5;66;03m#calculate shortest path with networkx\u001B[39;00m\n\u001B[0;32m    211\u001B[0m \u001B[38;5;66;03m# print('I reached point 1')\u001B[39;00m\n\u001B[1;32m--> 212\u001B[0m path \u001B[38;5;241m=\u001B[39m nx\u001B[38;5;241m.\u001B[39mshortest_path(\u001B[38;5;28mself\u001B[39m\u001B[38;5;241m.\u001B[39mG, source\u001B[38;5;241m=\u001B[39msource, target\u001B[38;5;241m=\u001B[39mdestination, weight\u001B[38;5;241m=\u001B[39m\u001B[38;5;124m'\u001B[39m\u001B[38;5;124mweight\u001B[39m\u001B[38;5;124m'\u001B[39m)\n\u001B[0;32m    213\u001B[0m path_series \u001B[38;5;241m=\u001B[39m pd\u001B[38;5;241m.\u001B[39mSeries(path)\n\u001B[0;32m    214\u001B[0m \u001B[38;5;66;03m# print('I reached point 2')\u001B[39;00m\n\u001B[0;32m    215\u001B[0m \n\u001B[0;32m    216\u001B[0m \u001B[38;5;66;03m#store the computed path\u001B[39;00m\n\u001B[0;32m    217\u001B[0m \u001B[38;5;66;03m# print(f'I made a path here between {source} and {destination}')\u001B[39;00m\n",
      "File \u001B[1;32mC:\\Apps\\Anaconda\\Lib\\site-packages\\networkx\\classes\\backends.py:148\u001B[0m, in \u001B[0;36m_dispatch.<locals>.wrapper\u001B[1;34m(*args, **kwds)\u001B[0m\n\u001B[0;32m    144\u001B[0m         \u001B[38;5;28;01melse\u001B[39;00m:\n\u001B[0;32m    145\u001B[0m             \u001B[38;5;28;01mraise\u001B[39;00m NetworkXNotImplemented(\n\u001B[0;32m    146\u001B[0m                 \u001B[38;5;124mf\u001B[39m\u001B[38;5;124m\"\u001B[39m\u001B[38;5;124m'\u001B[39m\u001B[38;5;132;01m{\u001B[39;00mname\u001B[38;5;132;01m}\u001B[39;00m\u001B[38;5;124m'\u001B[39m\u001B[38;5;124m not implemented by \u001B[39m\u001B[38;5;132;01m{\u001B[39;00mplugin_name\u001B[38;5;132;01m}\u001B[39;00m\u001B[38;5;124m\"\u001B[39m\n\u001B[0;32m    147\u001B[0m             )\n\u001B[1;32m--> 148\u001B[0m \u001B[38;5;28;01mreturn\u001B[39;00m func(\u001B[38;5;241m*\u001B[39margs, \u001B[38;5;241m*\u001B[39m\u001B[38;5;241m*\u001B[39mkwds)\n",
      "File \u001B[1;32mC:\\Apps\\Anaconda\\Lib\\site-packages\\networkx\\algorithms\\shortest_paths\\generic.py:173\u001B[0m, in \u001B[0;36mshortest_path\u001B[1;34m(G, source, target, weight, method)\u001B[0m\n\u001B[0;32m    171\u001B[0m     paths \u001B[38;5;241m=\u001B[39m nx\u001B[38;5;241m.\u001B[39mbidirectional_shortest_path(G, source, target)\n\u001B[0;32m    172\u001B[0m \u001B[38;5;28;01melif\u001B[39;00m method \u001B[38;5;241m==\u001B[39m \u001B[38;5;124m\"\u001B[39m\u001B[38;5;124mdijkstra\u001B[39m\u001B[38;5;124m\"\u001B[39m:\n\u001B[1;32m--> 173\u001B[0m     _, paths \u001B[38;5;241m=\u001B[39m nx\u001B[38;5;241m.\u001B[39mbidirectional_dijkstra(G, source, target, weight)\n\u001B[0;32m    174\u001B[0m \u001B[38;5;28;01melse\u001B[39;00m:  \u001B[38;5;66;03m# method == 'bellman-ford':\u001B[39;00m\n\u001B[0;32m    175\u001B[0m     paths \u001B[38;5;241m=\u001B[39m nx\u001B[38;5;241m.\u001B[39mbellman_ford_path(G, source, target, weight)\n",
      "File \u001B[1;32mC:\\Apps\\Anaconda\\Lib\\site-packages\\networkx\\algorithms\\shortest_paths\\weighted.py:2359\u001B[0m, in \u001B[0;36mbidirectional_dijkstra\u001B[1;34m(G, source, target, weight)\u001B[0m\n\u001B[0;32m   2357\u001B[0m finalpath \u001B[38;5;241m=\u001B[39m []\n\u001B[0;32m   2358\u001B[0m \u001B[38;5;28mdir\u001B[39m \u001B[38;5;241m=\u001B[39m \u001B[38;5;241m1\u001B[39m\n\u001B[1;32m-> 2359\u001B[0m \u001B[38;5;28;01mwhile\u001B[39;00m fringe[\u001B[38;5;241m0\u001B[39m] \u001B[38;5;129;01mand\u001B[39;00m fringe[\u001B[38;5;241m1\u001B[39m]:\n\u001B[0;32m   2360\u001B[0m     \u001B[38;5;66;03m# choose direction\u001B[39;00m\n\u001B[0;32m   2361\u001B[0m     \u001B[38;5;66;03m# dir == 0 is forward direction and dir == 1 is back\u001B[39;00m\n\u001B[0;32m   2362\u001B[0m     \u001B[38;5;28mdir\u001B[39m \u001B[38;5;241m=\u001B[39m \u001B[38;5;241m1\u001B[39m \u001B[38;5;241m-\u001B[39m \u001B[38;5;28mdir\u001B[39m\n\u001B[0;32m   2363\u001B[0m     \u001B[38;5;66;03m# extract closest to expand\u001B[39;00m\n",
      "\u001B[1;31mKeyboardInterrupt\u001B[0m: "
     ]
    }
   ],
   "source": [
    "start = time.time()\n",
    "\"\"\"\n",
    "    Run simulation\n",
    "    Print output at terminal\n",
    "\"\"\"\n",
    "\n",
    "# ---------------------------------------------------------------\n",
    "def run_simulation_batch(seed, run_length, probs):\n",
    "    model = BangladeshModel(seed=seed, scenario_probabilities=probs)\n",
    "    print(\"SEED \" + str(model._seed))\n",
    "    for i in range(run_length):\n",
    "        model.step()\n",
    "    bridges_data = [{\"unique_id\": bridge.unique_id,\n",
    "                     \"name\": bridge.name,\n",
    "                     'condition': bridge.condition,\n",
    "                     'length': bridge.length,\n",
    "                     'total_delay_time': bridge.total_delay_time,\n",
    "                     \"delay_time_per_vehicle\": bridge.delay_time,\n",
    "                     \"break_down_chance\": bridge.break_down_chance,\n",
    "                     \"breaks_down\": bridge.breaks_down} for bridge in model.bridges]\n",
    "    return pd.DataFrame(bridges_data)\n",
    "\n",
    "def run_simulation_for_scenario(seeds, run_length, probs):\n",
    "    batch_results = {}\n",
    "    for seed in seeds:\n",
    "        df_bridge = run_simulation_batch(seed, run_length, probs)\n",
    "        batch_results[seed] = df_bridge\n",
    "    return batch_results\n",
    "\n",
    "def run_all_scenarios(seeds, run_length, scenarios):\n",
    "    all_scenario_results = {}\n",
    "    for scenario_index, probs in enumerate(scenarios, start=0):\n",
    "        print(f\"Running scenario {scenario_index} with probabilities {probs}\")\n",
    "        scenario_results = run_simulation_for_scenario(seeds, run_length, probs)\n",
    "        all_scenario_results[f\"Scenario_{scenario_index}\"] = scenario_results\n",
    "    return all_scenario_results\n",
    "\n",
    "# Define your scenarios\n",
    "scenarios = [\n",
    "    {'A': 0, 'B': 0, 'C': 0, 'D': 0},  # Scenario 0\n",
    "    {'A': 0, 'B': 0, 'C': 0, 'D': 5},  # Scenario 1\n",
    "    {'A': 0, 'B': 0, 'C': 0, 'D': 10},  # Scenario 2\n",
    "    {'A': 0, 'B': 0, 'C': 5, 'D': 10},  # Scenario 3\n",
    "    {'A': 0, 'B': 0, 'C': 10, 'D': 20},  # Scenario 4\n",
    "    {'A': 0, 'B': 5, 'C': 10, 'D': 20},  # Scenario 5\n",
    "    {'A': 0, 'B': 10, 'C': 20, 'D': 40},  # Scenario 6\n",
    "    {'A': 5, 'B': 10, 'C': 20, 'D': 40},  # Scenario 7\n",
    "    {'A': 10, 'B': 20, 'C': 40, 'D': 80},  # Scenario 8\n",
    "    # Add more scenarios as needed\n",
    "]\n",
    "\n",
    "# Set your seeds and run length\n",
    "seeds = range(1, 3)  # 10 seeds for each scenario\n",
    "# run_length = 5 * 24 * 60  # Example run length\n",
    "run_length = 100\n",
    "# Run all scenarios\n",
    "all_scenario_results = run_all_scenarios(seeds, run_length, scenarios)"
   ],
   "metadata": {
    "collapsed": false,
    "ExecuteTime": {
     "end_time": "2024-03-18T12:36:33.393559200Z",
     "start_time": "2024-03-18T12:35:44.711953900Z"
    }
   },
   "id": "2fe1865bf736604e"
  },
  {
   "cell_type": "code",
   "execution_count": null,
   "outputs": [],
   "source": [
    "#all_scenario_results['Scenario_7'][7][all_scenario_results['Scenario_7'][7]['breaks_down'] == True]"
   ],
   "metadata": {
    "collapsed": false
   },
   "id": "bacf72983e9c3b64"
  },
  {
   "cell_type": "code",
   "execution_count": null,
   "outputs": [],
   "source": [
    "all_scenario_results['Scenario_7'][7][all_scenario_results['Scenario_7'][7]['breaks_down'] == True]"
   ],
   "metadata": {
    "collapsed": false
   },
   "id": "3b73210062a3feff"
  },
  {
   "cell_type": "code",
   "execution_count": null,
   "outputs": [],
   "source": [
    "#all_scenario_results['Scenario_8'][7][all_scenario_results['Scenario_8'][7]['breaks_down'] == True]"
   ],
   "metadata": {
    "collapsed": false
   },
   "id": "a207d2add984a2f4"
  },
  {
   "cell_type": "code",
   "execution_count": null,
   "outputs": [],
   "source": [
    "all_results = all_scenario_results['Scenario_1'][1].copy()\n",
    "all_results = all_results[['unique_id', 'name', 'condition', 'length', 'total_delay_time',\n",
    "       'delay_time_per_vehicle', 'breaks_down']] #later delay_time_per_vehicle\n",
    "\n",
    "for scenario in all_scenario_results:\n",
    "    for iteration in all_scenario_results[scenario]:\n",
    "        for index, row in all_scenario_results[scenario][iteration].iterrows():\n",
    "            all_results.loc[index, f'delay_time_{scenario}_{iteration}'] = row.total_delay_time\n",
    "            all_results.loc[index, f'breaks_down_{scenario}_{iteration}'] = row.breaks_down\n",
    "            all_results.loc[index, f'delay_car_{scenario}_{iteration}'] = row.delay_time_per_vehicle\n",
    "\n",
    "delay_time_columns = all_results.filter(regex='^delay_time_').columns\n",
    "delay_car_columns = all_results.filter(regex='^delay_car').columns\n",
    "\n",
    "all_results['total_delay_all_scenarios'] = all_results[delay_time_columns].sum(axis=1)\n",
    "all_results['avg_delay_per_car'] = all_results[delay_car_columns].mean(axis=1)\n",
    "\n",
    "# Select columns that start with 'breaks_down_'\n",
    "breaks_down_columns = all_results.filter(regex='^breaks_down_').columns\n",
    "\n",
    "# Count how often True appears in the breaks_down columns for each row\n",
    "all_results['total_breakdowns'] = all_results[breaks_down_columns].apply(lambda x: x.value_counts().get(True, 0), axis=1)\n",
    "\n",
    "\n",
    "all_results[['unique_id', 'name', 'condition', 'length',\n",
    "       'avg_delay_per_car','total_delay_all_scenarios', 'total_breakdowns']]  # Show the result for the new columns"
   ],
   "metadata": {
    "collapsed": false
   },
   "id": "f97770379017af04"
  },
  {
   "cell_type": "code",
   "execution_count": null,
   "outputs": [],
   "source": [
    "delay_data = []\n",
    "\n",
    "for i in all_scenario_results:\n",
    "    for j in all_scenario_results[i]:\n",
    "        delay = all_scenario_results[i][j]['total_delay_time'].sum()\n",
    "        delay_data.append({\n",
    "        'scenario': i,\n",
    "        'seed': j,\n",
    "        'total_delay_time': delay\n",
    "    })\n",
    "\n",
    "delay_data = pd.DataFrame(delay_data, columns=['scenario', 'seed', 'total_delay_time'])\n",
    "delay_data "
   ],
   "metadata": {
    "collapsed": false
   },
   "id": "f9a615523fbf8b6b"
  },
  {
   "cell_type": "code",
   "execution_count": null,
   "outputs": [],
   "source": [
    "# Pivot the DataFrame so that each scenario has its own column for delay_time\n",
    "pivot_df = delay_data.pivot(index='seed', columns='scenario', values='total_delay_time')\n",
    "\n",
    "# Plotting\n",
    "plt.figure(figsize=(20,10))\n",
    "\n",
    "# Plot a line for each scenario\n",
    "for scenario in pivot_df.columns:\n",
    "    plt.plot(pivot_df.index, pivot_df[scenario], label=scenario)\n",
    "\n",
    "# Labeling the axes\n",
    "plt.xlabel('Seed')\n",
    "plt.ylabel('Delay Time')\n",
    "plt.title('Delay Time by Seed for each Scenario')\n",
    "\n",
    "# Add a legend to the plot\n",
    "plt.legend(title='Scenario')\n",
    "\n",
    "# Show the plot\n",
    "plt.show()"
   ],
   "metadata": {
    "collapsed": false
   },
   "id": "1f3354ba651d09a2"
  },
  {
   "cell_type": "code",
   "execution_count": null,
   "outputs": [],
   "source": [
    "average_delay = delay_data.groupby('scenario')['total_delay_time'].mean()\n",
    "average_delay"
   ],
   "metadata": {
    "collapsed": false
   },
   "id": "72be8b8c91b343af"
  },
  {
   "cell_type": "code",
   "execution_count": null,
   "outputs": [],
   "source": [
    "end = time.time()\n",
    "print(end - start)"
   ],
   "metadata": {
    "collapsed": false
   },
   "id": "2af0e5bdf71ae7f1"
  },
  {
   "cell_type": "code",
   "execution_count": null,
   "outputs": [],
   "source": [
    "print((end - start)/60)"
   ],
   "metadata": {
    "collapsed": false
   },
   "id": "46af2d1087365856"
  },
  {
   "cell_type": "code",
   "execution_count": null,
   "outputs": [],
   "source": [],
   "metadata": {
    "collapsed": false
   },
   "id": "8ed72e9d0cad10b7"
  },
  {
   "cell_type": "code",
   "execution_count": null,
   "outputs": [],
   "source": [],
   "metadata": {
    "collapsed": false
   },
   "id": "94717b15ed50e8f2"
  },
  {
   "cell_type": "code",
   "execution_count": null,
   "outputs": [],
   "source": [],
   "metadata": {
    "collapsed": false
   },
   "id": "121c05e19f5333b"
  },
  {
   "cell_type": "code",
   "execution_count": null,
   "outputs": [],
   "source": [],
   "metadata": {
    "collapsed": false
   },
   "id": "d31b26f96ef3b8fd"
  },
  {
   "cell_type": "code",
   "execution_count": null,
   "outputs": [],
   "source": [],
   "metadata": {
    "collapsed": false
   },
   "id": "5e850197e9bba662"
  },
  {
   "cell_type": "code",
   "execution_count": null,
   "outputs": [],
   "source": [],
   "metadata": {
    "collapsed": false
   },
   "id": "353d07ab159065bd"
  },
  {
   "cell_type": "code",
   "execution_count": null,
   "outputs": [],
   "source": [],
   "metadata": {
    "collapsed": false
   },
   "id": "7d83ed075b9cdd7e"
  }
 ],
 "metadata": {
  "kernelspec": {
   "display_name": "Python 3",
   "language": "python",
   "name": "python3"
  },
  "language_info": {
   "codemirror_mode": {
    "name": "ipython",
    "version": 2
   },
   "file_extension": ".py",
   "mimetype": "text/x-python",
   "name": "python",
   "nbconvert_exporter": "python",
   "pygments_lexer": "ipython2",
   "version": "2.7.6"
  }
 },
 "nbformat": 4,
 "nbformat_minor": 5
}

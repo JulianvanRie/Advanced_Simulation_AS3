{
 "cells": [
  {
   "cell_type": "code",
   "execution_count": 57,
   "id": "initial_id",
   "metadata": {
    "collapsed": true,
    "ExecuteTime": {
     "end_time": "2024-03-26T16:02:15.829436200Z",
     "start_time": "2024-03-26T16:02:15.170353600Z"
    }
   },
   "outputs": [],
   "source": [
    "import pandas as pd\n",
    "import networkx as nx\n",
    "import os"
   ]
  },
  {
   "cell_type": "code",
   "outputs": [
    {
     "data": {
      "text/plain": "                                           0   \\\n0    List of links of N1 (  what is a link  )   \n1                                     Link no   \n2                                         NaN   \n3                                       N1-1L   \n4                                       N1-1R   \n..                                        ...   \n103                                     N1-65   \n104                                     N1-66   \n105                                     N1-67   \n106                                     N1-68   \n107                                     N1-69   \n\n                                            1   \\\n0     List of links of N1 (  what is a link  )   \n1                                         Name   \n2                                          NaN   \n3     Jatrabari - Int.with Z1101 (Left) (Left)   \n4    Jatrabari - Int.with Z1101 (Left) (Right)   \n..                                         ...   \n103     Coxsbazar Link Road N110-Maricha Z1009   \n104        Maricha Z1009-Ukhia Dakbanglo Z1503   \n105       Ukhia Dakbanglo Z1503 - Gundum Z1504   \n106         GundumGundum Z1504 - Whykong Z1133   \n107                     Whykong Z1133 - Teknaf   \n\n                                           2   \\\n0    List of links of N1 (  what is a link  )   \n1                              Start location   \n2                                         LRP   \n3                                        LRPS   \n4                                        LRPS   \n..                                        ...   \n103                                    LRP386   \n104                                    LRP403   \n105                                    LRP413   \n106                                    LRP420   \n107                                    LRP433   \n\n                                           3   \\\n0    List of links of N1 (  what is a link  )   \n1                              Start location   \n2                                      Offset   \n3                                           0   \n4                                           0   \n..                                        ...   \n103                                       724   \n104                                       217   \n105                                       300   \n106                                       900   \n107                                       521   \n\n                                           4   \\\n0    List of links of N1 (  what is a link  )   \n1                              Start location   \n2                                    Chainage   \n3                                           0   \n4                                           0   \n..                                        ...   \n103                                   381.481   \n104                                   398.205   \n105                                   408.434   \n106                                   416.044   \n107                                   428.908   \n\n                                           5   \\\n0    List of links of N1 (  what is a link  )   \n1                                End location   \n2                                         LRP   \n3                                        LRPS   \n4                                        LRPS   \n..                                        ...   \n103                                    LRP403   \n104                                    LRP413   \n105                                    LRP420   \n106                                    LRP433   \n107                                    LRP467   \n\n                                           6   \\\n0    List of links of N1 (  what is a link  )   \n1                                End location   \n2                                      Offset   \n3                                         822   \n4                                         822   \n..                                        ...   \n103                                       217   \n104                                       300   \n105                                       900   \n106                                       521   \n107                                       130   \n\n                                           7   \\\n0    List of links of N1 (  what is a link  )   \n1                                End location   \n2                                    Chainage   \n3                                       0.822   \n4                                       0.822   \n..                                        ...   \n103                                   398.205   \n104                                   408.434   \n105                                   416.044   \n106                                   428.908   \n107                                   462.254   \n\n                                           8   \\\n0    List of links of N1 (  what is a link  )   \n1                                      Length   \n2                                        (Km)   \n3                                       0.822   \n4                                       0.822   \n..                                        ...   \n103                                    16.724   \n104                                    10.229   \n105                                     7.610   \n106                                    12.864   \n107                                    33.346   \n\n                                           9   ...  \\\n0    List of links of N1 (  what is a link  )  ...   \n1                                Traffic Data  ...   \n2                                 Heavy Truck  ...   \n3                                       402.0  ...   \n4                                       660.0  ...   \n..                                        ...  ...   \n103                                      24.0  ...   \n104                                      24.0  ...   \n105                                      24.0  ...   \n106                                      24.0  ...   \n107                                      24.0  ...   \n\n                                           16  \\\n0    List of links of N1 (  what is a link  )   \n1                                Traffic Data   \n2                                         Car   \n3                                      1851.0   \n4                                      2608.0   \n..                                        ...   \n103                                     142.0   \n104                                     142.0   \n105                                     142.0   \n106                                     142.0   \n107                                     142.0   \n\n                                           17  \\\n0    List of links of N1 (  what is a link  )   \n1                                Traffic Data   \n2                               Auto Rickshaw   \n3                                      2980.0   \n4                                      2508.0   \n..                                        ...   \n103                                    2476.0   \n104                                    2476.0   \n105                                    2476.0   \n106                                    2476.0   \n107                                    2476.0   \n\n                                           18  \\\n0    List of links of N1 (  what is a link  )   \n1                                Traffic Data   \n2                                 Motor Cycle   \n3                                       398.0   \n4                                       436.0   \n..                                        ...   \n103                                     419.0   \n104                                     419.0   \n105                                     419.0   \n106                                     419.0   \n107                                     419.0   \n\n                                           19  \\\n0    List of links of N1 (  what is a link  )   \n1                                Traffic Data   \n2                                    Bi-Cycle   \n3                                       232.0   \n4                                       213.0   \n..                                        ...   \n103                                      97.0   \n104                                      97.0   \n105                                      97.0   \n106                                      97.0   \n107                                      97.0   \n\n                                           20  \\\n0    List of links of N1 (  what is a link  )   \n1                                Traffic Data   \n2                              Cycle Rickshaw   \n3                                       889.0   \n4                                      1088.0   \n..                                        ...   \n103                                    1042.0   \n104                                    1042.0   \n105                                    1042.0   \n106                                    1042.0   \n107                                    1042.0   \n\n                                           21  \\\n0    List of links of N1 (  what is a link  )   \n1                                Traffic Data   \n2                                        Cart   \n3                                         0.0   \n4                                         0.0   \n..                                        ...   \n103                                       0.0   \n104                                       0.0   \n105                                       0.0   \n106                                       0.0   \n107                                       0.0   \n\n                                           22  \\\n0    List of links of N1 (  what is a link  )   \n1                                       Total   \n2                                   Motorized   \n3                                     18236.0   \n4                                     20236.0   \n..                                        ...   \n103                                    4681.0   \n104                                    4681.0   \n105                                    4681.0   \n106                                    4681.0   \n107                                    4681.0   \n\n                                           23  \\\n0    List of links of N1 (  what is a link  )   \n1                                       Total   \n2                               Non Motorized   \n3                                      1121.0   \n4                                      1301.0   \n..                                        ...   \n103                                    1139.0   \n104                                    1139.0   \n105                                    1139.0   \n106                                    1139.0   \n107                                    1139.0   \n\n                                           24  \\\n0    List of links of N1 (  what is a link  )   \n1                                       Total   \n2                                  Total AADT   \n3                                     19357.0   \n4                                     21537.0   \n..                                        ...   \n103                                    5820.0   \n104                                    5820.0   \n105                                    5820.0   \n106                                    5820.0   \n107                                    5820.0   \n\n                                           25  \n0    List of links of N1 (  what is a link  )  \n1                                     Traffic  \n2                                      (AADT)  \n3                                     19357.0  \n4                                     21537.0  \n..                                        ...  \n103                                    5820.0  \n104                                    5820.0  \n105                                    5820.0  \n106                                    5820.0  \n107                                    5820.0  \n\n[108 rows x 26 columns]",
      "text/html": "<div>\n<style scoped>\n    .dataframe tbody tr th:only-of-type {\n        vertical-align: middle;\n    }\n\n    .dataframe tbody tr th {\n        vertical-align: top;\n    }\n\n    .dataframe thead th {\n        text-align: right;\n    }\n</style>\n<table border=\"1\" class=\"dataframe\">\n  <thead>\n    <tr style=\"text-align: right;\">\n      <th></th>\n      <th>0</th>\n      <th>1</th>\n      <th>2</th>\n      <th>3</th>\n      <th>4</th>\n      <th>5</th>\n      <th>6</th>\n      <th>7</th>\n      <th>8</th>\n      <th>9</th>\n      <th>...</th>\n      <th>16</th>\n      <th>17</th>\n      <th>18</th>\n      <th>19</th>\n      <th>20</th>\n      <th>21</th>\n      <th>22</th>\n      <th>23</th>\n      <th>24</th>\n      <th>25</th>\n    </tr>\n  </thead>\n  <tbody>\n    <tr>\n      <th>0</th>\n      <td>List of links of N1 (  what is a link  )</td>\n      <td>List of links of N1 (  what is a link  )</td>\n      <td>List of links of N1 (  what is a link  )</td>\n      <td>List of links of N1 (  what is a link  )</td>\n      <td>List of links of N1 (  what is a link  )</td>\n      <td>List of links of N1 (  what is a link  )</td>\n      <td>List of links of N1 (  what is a link  )</td>\n      <td>List of links of N1 (  what is a link  )</td>\n      <td>List of links of N1 (  what is a link  )</td>\n      <td>List of links of N1 (  what is a link  )</td>\n      <td>...</td>\n      <td>List of links of N1 (  what is a link  )</td>\n      <td>List of links of N1 (  what is a link  )</td>\n      <td>List of links of N1 (  what is a link  )</td>\n      <td>List of links of N1 (  what is a link  )</td>\n      <td>List of links of N1 (  what is a link  )</td>\n      <td>List of links of N1 (  what is a link  )</td>\n      <td>List of links of N1 (  what is a link  )</td>\n      <td>List of links of N1 (  what is a link  )</td>\n      <td>List of links of N1 (  what is a link  )</td>\n      <td>List of links of N1 (  what is a link  )</td>\n    </tr>\n    <tr>\n      <th>1</th>\n      <td>Link no</td>\n      <td>Name</td>\n      <td>Start location</td>\n      <td>Start location</td>\n      <td>Start location</td>\n      <td>End location</td>\n      <td>End location</td>\n      <td>End location</td>\n      <td>Length</td>\n      <td>Traffic Data</td>\n      <td>...</td>\n      <td>Traffic Data</td>\n      <td>Traffic Data</td>\n      <td>Traffic Data</td>\n      <td>Traffic Data</td>\n      <td>Traffic Data</td>\n      <td>Traffic Data</td>\n      <td>Total</td>\n      <td>Total</td>\n      <td>Total</td>\n      <td>Traffic</td>\n    </tr>\n    <tr>\n      <th>2</th>\n      <td>NaN</td>\n      <td>NaN</td>\n      <td>LRP</td>\n      <td>Offset</td>\n      <td>Chainage</td>\n      <td>LRP</td>\n      <td>Offset</td>\n      <td>Chainage</td>\n      <td>(Km)</td>\n      <td>Heavy Truck</td>\n      <td>...</td>\n      <td>Car</td>\n      <td>Auto Rickshaw</td>\n      <td>Motor Cycle</td>\n      <td>Bi-Cycle</td>\n      <td>Cycle Rickshaw</td>\n      <td>Cart</td>\n      <td>Motorized</td>\n      <td>Non Motorized</td>\n      <td>Total AADT</td>\n      <td>(AADT)</td>\n    </tr>\n    <tr>\n      <th>3</th>\n      <td>N1-1L</td>\n      <td>Jatrabari - Int.with Z1101 (Left) (Left)</td>\n      <td>LRPS</td>\n      <td>0</td>\n      <td>0</td>\n      <td>LRPS</td>\n      <td>822</td>\n      <td>0.822</td>\n      <td>0.822</td>\n      <td>402.0</td>\n      <td>...</td>\n      <td>1851.0</td>\n      <td>2980.0</td>\n      <td>398.0</td>\n      <td>232.0</td>\n      <td>889.0</td>\n      <td>0.0</td>\n      <td>18236.0</td>\n      <td>1121.0</td>\n      <td>19357.0</td>\n      <td>19357.0</td>\n    </tr>\n    <tr>\n      <th>4</th>\n      <td>N1-1R</td>\n      <td>Jatrabari - Int.with Z1101 (Left) (Right)</td>\n      <td>LRPS</td>\n      <td>0</td>\n      <td>0</td>\n      <td>LRPS</td>\n      <td>822</td>\n      <td>0.822</td>\n      <td>0.822</td>\n      <td>660.0</td>\n      <td>...</td>\n      <td>2608.0</td>\n      <td>2508.0</td>\n      <td>436.0</td>\n      <td>213.0</td>\n      <td>1088.0</td>\n      <td>0.0</td>\n      <td>20236.0</td>\n      <td>1301.0</td>\n      <td>21537.0</td>\n      <td>21537.0</td>\n    </tr>\n    <tr>\n      <th>...</th>\n      <td>...</td>\n      <td>...</td>\n      <td>...</td>\n      <td>...</td>\n      <td>...</td>\n      <td>...</td>\n      <td>...</td>\n      <td>...</td>\n      <td>...</td>\n      <td>...</td>\n      <td>...</td>\n      <td>...</td>\n      <td>...</td>\n      <td>...</td>\n      <td>...</td>\n      <td>...</td>\n      <td>...</td>\n      <td>...</td>\n      <td>...</td>\n      <td>...</td>\n      <td>...</td>\n    </tr>\n    <tr>\n      <th>103</th>\n      <td>N1-65</td>\n      <td>Coxsbazar Link Road N110-Maricha Z1009</td>\n      <td>LRP386</td>\n      <td>724</td>\n      <td>381.481</td>\n      <td>LRP403</td>\n      <td>217</td>\n      <td>398.205</td>\n      <td>16.724</td>\n      <td>24.0</td>\n      <td>...</td>\n      <td>142.0</td>\n      <td>2476.0</td>\n      <td>419.0</td>\n      <td>97.0</td>\n      <td>1042.0</td>\n      <td>0.0</td>\n      <td>4681.0</td>\n      <td>1139.0</td>\n      <td>5820.0</td>\n      <td>5820.0</td>\n    </tr>\n    <tr>\n      <th>104</th>\n      <td>N1-66</td>\n      <td>Maricha Z1009-Ukhia Dakbanglo Z1503</td>\n      <td>LRP403</td>\n      <td>217</td>\n      <td>398.205</td>\n      <td>LRP413</td>\n      <td>300</td>\n      <td>408.434</td>\n      <td>10.229</td>\n      <td>24.0</td>\n      <td>...</td>\n      <td>142.0</td>\n      <td>2476.0</td>\n      <td>419.0</td>\n      <td>97.0</td>\n      <td>1042.0</td>\n      <td>0.0</td>\n      <td>4681.0</td>\n      <td>1139.0</td>\n      <td>5820.0</td>\n      <td>5820.0</td>\n    </tr>\n    <tr>\n      <th>105</th>\n      <td>N1-67</td>\n      <td>Ukhia Dakbanglo Z1503 - Gundum Z1504</td>\n      <td>LRP413</td>\n      <td>300</td>\n      <td>408.434</td>\n      <td>LRP420</td>\n      <td>900</td>\n      <td>416.044</td>\n      <td>7.610</td>\n      <td>24.0</td>\n      <td>...</td>\n      <td>142.0</td>\n      <td>2476.0</td>\n      <td>419.0</td>\n      <td>97.0</td>\n      <td>1042.0</td>\n      <td>0.0</td>\n      <td>4681.0</td>\n      <td>1139.0</td>\n      <td>5820.0</td>\n      <td>5820.0</td>\n    </tr>\n    <tr>\n      <th>106</th>\n      <td>N1-68</td>\n      <td>GundumGundum Z1504 - Whykong Z1133</td>\n      <td>LRP420</td>\n      <td>900</td>\n      <td>416.044</td>\n      <td>LRP433</td>\n      <td>521</td>\n      <td>428.908</td>\n      <td>12.864</td>\n      <td>24.0</td>\n      <td>...</td>\n      <td>142.0</td>\n      <td>2476.0</td>\n      <td>419.0</td>\n      <td>97.0</td>\n      <td>1042.0</td>\n      <td>0.0</td>\n      <td>4681.0</td>\n      <td>1139.0</td>\n      <td>5820.0</td>\n      <td>5820.0</td>\n    </tr>\n    <tr>\n      <th>107</th>\n      <td>N1-69</td>\n      <td>Whykong Z1133 - Teknaf</td>\n      <td>LRP433</td>\n      <td>521</td>\n      <td>428.908</td>\n      <td>LRP467</td>\n      <td>130</td>\n      <td>462.254</td>\n      <td>33.346</td>\n      <td>24.0</td>\n      <td>...</td>\n      <td>142.0</td>\n      <td>2476.0</td>\n      <td>419.0</td>\n      <td>97.0</td>\n      <td>1042.0</td>\n      <td>0.0</td>\n      <td>4681.0</td>\n      <td>1139.0</td>\n      <td>5820.0</td>\n      <td>5820.0</td>\n    </tr>\n  </tbody>\n</table>\n<p>108 rows × 26 columns</p>\n</div>"
     },
     "execution_count": 29,
     "metadata": {},
     "output_type": "execute_result"
    }
   ],
   "source": [
    "data_N1 = pd.read_html('../data/N1.traffic.htm')\n",
    "data_N1[4]"
   ],
   "metadata": {
    "collapsed": false,
    "ExecuteTime": {
     "end_time": "2024-03-26T15:19:19.085425500Z",
     "start_time": "2024-03-26T15:19:18.956130800Z"
    }
   },
   "id": "d63ab57e1c568df0",
   "execution_count": 29
  },
  {
   "cell_type": "code",
   "outputs": [],
   "source": [
    "folder_path = '../data/Traffic_data'\n",
    "\n",
    "dataframes = {}\n",
    "\n",
    "for file in os.listdir(folder_path):\n",
    "    if file.endswith('.traffic.htm'):\n",
    "        file_path = os.path.join(folder_path, file)\n",
    "        file_name = file.split('.')[0]\n",
    "        df_list = pd.read_html(file_path)\n",
    "        df = df_list[4]\n",
    "        df = df.iloc[1:].reset_index(drop=True)\n",
    "        df_key = file_name\n",
    "        dataframes[df_key] = df"
   ],
   "metadata": {
    "collapsed": false,
    "ExecuteTime": {
     "end_time": "2024-03-26T16:34:52.438496200Z",
     "start_time": "2024-03-26T16:34:37.859347500Z"
    }
   },
   "id": "4892621ff5dec52b",
   "execution_count": 84
  },
  {
   "cell_type": "code",
   "outputs": [
    {
     "ename": "KeyError",
     "evalue": "'Start location'",
     "output_type": "error",
     "traceback": [
      "\u001B[1;31m---------------------------------------------------------------------------\u001B[0m",
      "\u001B[1;31mKeyError\u001B[0m                                  Traceback (most recent call last)",
      "File \u001B[1;32m~\\OneDrive\\General Documents\\Documents\\GitHub\\Advanced_Simulation_AS3\\.venv\\Lib\\site-packages\\pandas\\core\\indexes\\base.py:3805\u001B[0m, in \u001B[0;36mIndex.get_loc\u001B[1;34m(self, key)\u001B[0m\n\u001B[0;32m   3804\u001B[0m \u001B[38;5;28;01mtry\u001B[39;00m:\n\u001B[1;32m-> 3805\u001B[0m     \u001B[38;5;28;01mreturn\u001B[39;00m \u001B[38;5;28;43mself\u001B[39;49m\u001B[38;5;241;43m.\u001B[39;49m\u001B[43m_engine\u001B[49m\u001B[38;5;241;43m.\u001B[39;49m\u001B[43mget_loc\u001B[49m\u001B[43m(\u001B[49m\u001B[43mcasted_key\u001B[49m\u001B[43m)\u001B[49m\n\u001B[0;32m   3806\u001B[0m \u001B[38;5;28;01mexcept\u001B[39;00m \u001B[38;5;167;01mKeyError\u001B[39;00m \u001B[38;5;28;01mas\u001B[39;00m err:\n",
      "File \u001B[1;32mindex.pyx:167\u001B[0m, in \u001B[0;36mpandas._libs.index.IndexEngine.get_loc\u001B[1;34m()\u001B[0m\n",
      "File \u001B[1;32mindex.pyx:175\u001B[0m, in \u001B[0;36mpandas._libs.index.IndexEngine.get_loc\u001B[1;34m()\u001B[0m\n",
      "File \u001B[1;32mpandas\\\\_libs\\\\index_class_helper.pxi:70\u001B[0m, in \u001B[0;36mpandas._libs.index.Int64Engine._check_type\u001B[1;34m()\u001B[0m\n",
      "\u001B[1;31mKeyError\u001B[0m: 'Start location'",
      "\nThe above exception was the direct cause of the following exception:\n",
      "\u001B[1;31mKeyError\u001B[0m                                  Traceback (most recent call last)",
      "Cell \u001B[1;32mIn[67], line 22\u001B[0m\n\u001B[0;32m     18\u001B[0m         G\u001B[38;5;241m.\u001B[39madd_edge(start_node, end_node, \u001B[38;5;241m*\u001B[39m\u001B[38;5;241m*\u001B[39medge_attributes)\n\u001B[0;32m     20\u001B[0m     \u001B[38;5;28;01mreturn\u001B[39;00m G\n\u001B[1;32m---> 22\u001B[0m \u001B[43mcreate_graph\u001B[49m\u001B[43m(\u001B[49m\u001B[43mdf\u001B[49m\u001B[43m)\u001B[49m\n",
      "Cell \u001B[1;32mIn[67], line 6\u001B[0m, in \u001B[0;36mcreate_graph\u001B[1;34m(df)\u001B[0m\n\u001B[0;32m      3\u001B[0m \u001B[38;5;28;01mdef\u001B[39;00m \u001B[38;5;21mcreate_graph\u001B[39m(df):\n\u001B[0;32m      4\u001B[0m     \u001B[38;5;28;01mfor\u001B[39;00m index, row \u001B[38;5;129;01min\u001B[39;00m df\u001B[38;5;241m.\u001B[39miterrows():\n\u001B[0;32m      5\u001B[0m     \u001B[38;5;66;03m# Define the start and end node for each edge.\u001B[39;00m\n\u001B[1;32m----> 6\u001B[0m         start_node \u001B[38;5;241m=\u001B[39m \u001B[43mrow\u001B[49m\u001B[43m[\u001B[49m\u001B[38;5;124;43m'\u001B[39;49m\u001B[38;5;124;43mStart location\u001B[39;49m\u001B[38;5;124;43m'\u001B[39;49m\u001B[43m]\u001B[49m\n\u001B[0;32m      7\u001B[0m         end_node \u001B[38;5;241m=\u001B[39m row[\u001B[38;5;124m'\u001B[39m\u001B[38;5;124mEnd location\u001B[39m\u001B[38;5;124m'\u001B[39m]\n\u001B[0;32m      9\u001B[0m         \u001B[38;5;66;03m# Extract traffic data to use as edge attributes.\u001B[39;00m\n",
      "File \u001B[1;32m~\\OneDrive\\General Documents\\Documents\\GitHub\\Advanced_Simulation_AS3\\.venv\\Lib\\site-packages\\pandas\\core\\series.py:1112\u001B[0m, in \u001B[0;36mSeries.__getitem__\u001B[1;34m(self, key)\u001B[0m\n\u001B[0;32m   1109\u001B[0m     \u001B[38;5;28;01mreturn\u001B[39;00m \u001B[38;5;28mself\u001B[39m\u001B[38;5;241m.\u001B[39m_values[key]\n\u001B[0;32m   1111\u001B[0m \u001B[38;5;28;01melif\u001B[39;00m key_is_scalar:\n\u001B[1;32m-> 1112\u001B[0m     \u001B[38;5;28;01mreturn\u001B[39;00m \u001B[38;5;28;43mself\u001B[39;49m\u001B[38;5;241;43m.\u001B[39;49m\u001B[43m_get_value\u001B[49m\u001B[43m(\u001B[49m\u001B[43mkey\u001B[49m\u001B[43m)\u001B[49m\n\u001B[0;32m   1114\u001B[0m \u001B[38;5;66;03m# Convert generator to list before going through hashable part\u001B[39;00m\n\u001B[0;32m   1115\u001B[0m \u001B[38;5;66;03m# (We will iterate through the generator there to check for slices)\u001B[39;00m\n\u001B[0;32m   1116\u001B[0m \u001B[38;5;28;01mif\u001B[39;00m is_iterator(key):\n",
      "File \u001B[1;32m~\\OneDrive\\General Documents\\Documents\\GitHub\\Advanced_Simulation_AS3\\.venv\\Lib\\site-packages\\pandas\\core\\series.py:1228\u001B[0m, in \u001B[0;36mSeries._get_value\u001B[1;34m(self, label, takeable)\u001B[0m\n\u001B[0;32m   1225\u001B[0m     \u001B[38;5;28;01mreturn\u001B[39;00m \u001B[38;5;28mself\u001B[39m\u001B[38;5;241m.\u001B[39m_values[label]\n\u001B[0;32m   1227\u001B[0m \u001B[38;5;66;03m# Similar to Index.get_value, but we do not fall back to positional\u001B[39;00m\n\u001B[1;32m-> 1228\u001B[0m loc \u001B[38;5;241m=\u001B[39m \u001B[38;5;28;43mself\u001B[39;49m\u001B[38;5;241;43m.\u001B[39;49m\u001B[43mindex\u001B[49m\u001B[38;5;241;43m.\u001B[39;49m\u001B[43mget_loc\u001B[49m\u001B[43m(\u001B[49m\u001B[43mlabel\u001B[49m\u001B[43m)\u001B[49m\n\u001B[0;32m   1230\u001B[0m \u001B[38;5;28;01mif\u001B[39;00m is_integer(loc):\n\u001B[0;32m   1231\u001B[0m     \u001B[38;5;28;01mreturn\u001B[39;00m \u001B[38;5;28mself\u001B[39m\u001B[38;5;241m.\u001B[39m_values[loc]\n",
      "File \u001B[1;32m~\\OneDrive\\General Documents\\Documents\\GitHub\\Advanced_Simulation_AS3\\.venv\\Lib\\site-packages\\pandas\\core\\indexes\\base.py:3812\u001B[0m, in \u001B[0;36mIndex.get_loc\u001B[1;34m(self, key)\u001B[0m\n\u001B[0;32m   3807\u001B[0m     \u001B[38;5;28;01mif\u001B[39;00m \u001B[38;5;28misinstance\u001B[39m(casted_key, \u001B[38;5;28mslice\u001B[39m) \u001B[38;5;129;01mor\u001B[39;00m (\n\u001B[0;32m   3808\u001B[0m         \u001B[38;5;28misinstance\u001B[39m(casted_key, abc\u001B[38;5;241m.\u001B[39mIterable)\n\u001B[0;32m   3809\u001B[0m         \u001B[38;5;129;01mand\u001B[39;00m \u001B[38;5;28many\u001B[39m(\u001B[38;5;28misinstance\u001B[39m(x, \u001B[38;5;28mslice\u001B[39m) \u001B[38;5;28;01mfor\u001B[39;00m x \u001B[38;5;129;01min\u001B[39;00m casted_key)\n\u001B[0;32m   3810\u001B[0m     ):\n\u001B[0;32m   3811\u001B[0m         \u001B[38;5;28;01mraise\u001B[39;00m InvalidIndexError(key)\n\u001B[1;32m-> 3812\u001B[0m     \u001B[38;5;28;01mraise\u001B[39;00m \u001B[38;5;167;01mKeyError\u001B[39;00m(key) \u001B[38;5;28;01mfrom\u001B[39;00m \u001B[38;5;21;01merr\u001B[39;00m\n\u001B[0;32m   3813\u001B[0m \u001B[38;5;28;01mexcept\u001B[39;00m \u001B[38;5;167;01mTypeError\u001B[39;00m:\n\u001B[0;32m   3814\u001B[0m     \u001B[38;5;66;03m# If we have a listlike key, _check_indexing_error will raise\u001B[39;00m\n\u001B[0;32m   3815\u001B[0m     \u001B[38;5;66;03m#  InvalidIndexError. Otherwise we fall through and re-raise\u001B[39;00m\n\u001B[0;32m   3816\u001B[0m     \u001B[38;5;66;03m#  the TypeError.\u001B[39;00m\n\u001B[0;32m   3817\u001B[0m     \u001B[38;5;28mself\u001B[39m\u001B[38;5;241m.\u001B[39m_check_indexing_error(key)\n",
      "\u001B[1;31mKeyError\u001B[0m: 'Start location'"
     ]
    }
   ],
   "source": [
    "df = dataframes.get('Z8915')\n",
    "\n",
    "def create_graph(df):\n",
    "    for index, row in df.iterrows():\n",
    "    # Define the start and end node for each edge.\n",
    "        start_node = row['Start location']\n",
    "        end_node = row['End location']\n",
    "        \n",
    "        # Extract traffic data to use as edge attributes.\n",
    "        edge_attributes = {\n",
    "            'Heavy Truck': row['Heavy Truck'],\n",
    "            'Medium Truck': row['Medium Truck'],\n",
    "            # Add all vehicle types you're interested in...\n",
    "            'Total AADT': row['Total AADT']\n",
    "        }\n",
    "        \n",
    "        # Add the edge to the graph.\n",
    "        G.add_edge(start_node, end_node, **edge_attributes)\n",
    "    \n",
    "    return G\n",
    "\n",
    "create_graph(df)"
   ],
   "metadata": {
    "collapsed": false,
    "ExecuteTime": {
     "end_time": "2024-03-26T16:22:05.989453200Z",
     "start_time": "2024-03-26T16:22:04.792624400Z"
    }
   },
   "id": "74b77ca78884eb63",
   "execution_count": 67
  },
  {
   "cell_type": "code",
   "outputs": [
    {
     "data": {
      "text/plain": "        0                                              1       2       3   \\\n1      NaN                                            NaN     LRP  Offset   \n2  Z8915-1         Bagmara - Bangla Bazar (Int.with R890)    LRPS       0   \n3  Z8915-2  Bangla Bazar (Int.with R890) - Int.with Z8916  LRP004    1020   \n4  Z8915-3                    Int.with Z8916 - Daulatkhan  LRP010    1150   \n\n         4       5       6         7      8            9   ...     16  \\\n1  Chainage     LRP  Offset  Chainage   (Km)  Heavy Truck  ...    Car   \n2         0  LRP004    1020      4.35  4.350          0.0  ...  126.0   \n3      4.35  LRP010    1150     10.47  6.120          0.0  ...   25.0   \n4     10.47  LRP014    2290     15.66  5.190          0.0  ...   25.0   \n\n              17           18        19              20    21         22  \\\n1  Auto Rickshaw  Motor Cycle  Bi-Cycle  Cycle Rickshaw  Cart  Motorized   \n2          940.0        662.0     602.0           546.0   0.0     2374.0   \n3         1025.0        872.0     396.0           380.0   0.0     2341.0   \n4         1025.0        872.0     396.0           380.0   0.0     2341.0   \n\n              23          24      25  \n1  Non Motorized  Total AADT  (AADT)  \n2         1148.0      3522.0  3522.0  \n3          776.0      3117.0  3117.0  \n4          776.0      3117.0  3117.0  \n\n[4 rows x 26 columns]",
      "text/html": "<div>\n<style scoped>\n    .dataframe tbody tr th:only-of-type {\n        vertical-align: middle;\n    }\n\n    .dataframe tbody tr th {\n        vertical-align: top;\n    }\n\n    .dataframe thead th {\n        text-align: right;\n    }\n</style>\n<table border=\"1\" class=\"dataframe\">\n  <thead>\n    <tr style=\"text-align: right;\">\n      <th></th>\n      <th>0</th>\n      <th>1</th>\n      <th>2</th>\n      <th>3</th>\n      <th>4</th>\n      <th>5</th>\n      <th>6</th>\n      <th>7</th>\n      <th>8</th>\n      <th>9</th>\n      <th>...</th>\n      <th>16</th>\n      <th>17</th>\n      <th>18</th>\n      <th>19</th>\n      <th>20</th>\n      <th>21</th>\n      <th>22</th>\n      <th>23</th>\n      <th>24</th>\n      <th>25</th>\n    </tr>\n  </thead>\n  <tbody>\n    <tr>\n      <th>1</th>\n      <td>NaN</td>\n      <td>NaN</td>\n      <td>LRP</td>\n      <td>Offset</td>\n      <td>Chainage</td>\n      <td>LRP</td>\n      <td>Offset</td>\n      <td>Chainage</td>\n      <td>(Km)</td>\n      <td>Heavy Truck</td>\n      <td>...</td>\n      <td>Car</td>\n      <td>Auto Rickshaw</td>\n      <td>Motor Cycle</td>\n      <td>Bi-Cycle</td>\n      <td>Cycle Rickshaw</td>\n      <td>Cart</td>\n      <td>Motorized</td>\n      <td>Non Motorized</td>\n      <td>Total AADT</td>\n      <td>(AADT)</td>\n    </tr>\n    <tr>\n      <th>2</th>\n      <td>Z8915-1</td>\n      <td>Bagmara - Bangla Bazar (Int.with R890)</td>\n      <td>LRPS</td>\n      <td>0</td>\n      <td>0</td>\n      <td>LRP004</td>\n      <td>1020</td>\n      <td>4.35</td>\n      <td>4.350</td>\n      <td>0.0</td>\n      <td>...</td>\n      <td>126.0</td>\n      <td>940.0</td>\n      <td>662.0</td>\n      <td>602.0</td>\n      <td>546.0</td>\n      <td>0.0</td>\n      <td>2374.0</td>\n      <td>1148.0</td>\n      <td>3522.0</td>\n      <td>3522.0</td>\n    </tr>\n    <tr>\n      <th>3</th>\n      <td>Z8915-2</td>\n      <td>Bangla Bazar (Int.with R890) - Int.with Z8916</td>\n      <td>LRP004</td>\n      <td>1020</td>\n      <td>4.35</td>\n      <td>LRP010</td>\n      <td>1150</td>\n      <td>10.47</td>\n      <td>6.120</td>\n      <td>0.0</td>\n      <td>...</td>\n      <td>25.0</td>\n      <td>1025.0</td>\n      <td>872.0</td>\n      <td>396.0</td>\n      <td>380.0</td>\n      <td>0.0</td>\n      <td>2341.0</td>\n      <td>776.0</td>\n      <td>3117.0</td>\n      <td>3117.0</td>\n    </tr>\n    <tr>\n      <th>4</th>\n      <td>Z8915-3</td>\n      <td>Int.with Z8916 - Daulatkhan</td>\n      <td>LRP010</td>\n      <td>1150</td>\n      <td>10.47</td>\n      <td>LRP014</td>\n      <td>2290</td>\n      <td>15.66</td>\n      <td>5.190</td>\n      <td>0.0</td>\n      <td>...</td>\n      <td>25.0</td>\n      <td>1025.0</td>\n      <td>872.0</td>\n      <td>396.0</td>\n      <td>380.0</td>\n      <td>0.0</td>\n      <td>2341.0</td>\n      <td>776.0</td>\n      <td>3117.0</td>\n      <td>3117.0</td>\n    </tr>\n  </tbody>\n</table>\n<p>4 rows × 26 columns</p>\n</div>"
     },
     "execution_count": 102,
     "metadata": {},
     "output_type": "execute_result"
    }
   ],
   "source": [
    "df = dataframes.get('Z8915')\n",
    "df.iloc[1:5,:]"
   ],
   "metadata": {
    "collapsed": false,
    "ExecuteTime": {
     "end_time": "2024-03-26T16:40:13.170362800Z",
     "start_time": "2024-03-26T16:40:13.165285600Z"
    }
   },
   "id": "66eb6e97fe73ff1",
   "execution_count": 102
  }
 ],
 "metadata": {
  "kernelspec": {
   "display_name": "Python 3",
   "language": "python",
   "name": "python3"
  },
  "language_info": {
   "codemirror_mode": {
    "name": "ipython",
    "version": 2
   },
   "file_extension": ".py",
   "mimetype": "text/x-python",
   "name": "python",
   "nbconvert_exporter": "python",
   "pygments_lexer": "ipython2",
   "version": "2.7.6"
  }
 },
 "nbformat": 4,
 "nbformat_minor": 5
}

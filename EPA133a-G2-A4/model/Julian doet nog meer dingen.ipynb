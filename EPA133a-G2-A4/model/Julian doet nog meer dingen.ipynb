{
 "cells": [
  {
   "cell_type": "code",
   "execution_count": 1,
   "id": "initial_id",
   "metadata": {
    "collapsed": true,
    "ExecuteTime": {
     "end_time": "2024-04-03T10:32:04.145840800Z",
     "start_time": "2024-04-03T10:32:01.919457700Z"
    }
   },
   "outputs": [],
   "source": [
    "import pandas as pd\n",
    "import networkx as nx\n",
    "import numpy as np\n",
    "import matplotlib.pyplot as plt\n",
    "import re\n",
    "import os"
   ]
  },
  {
   "cell_type": "code",
   "outputs": [],
   "source": [
    "folder_path = '../data/Traffic_data'\n",
    "bmms = pd.read_excel(\"../data/BMMS_overview.xlsx\")\n",
    "\n",
    "dataframes = {}\n",
    "\n",
    "for file in os.listdir(folder_path):\n",
    "    if file.endswith('.traffic.htm'):\n",
    "        file_path = os.path.join(folder_path, file)\n",
    "        file_name = file.split('.')[0]\n",
    "        df_list = pd.read_html(file_path)\n",
    "        df = df_list[4]\n",
    "        df = df.iloc[1:].reset_index(drop=True)\n",
    "        df_key = file_name\n",
    "        dataframes[df_key] = df"
   ],
   "metadata": {
    "collapsed": false,
    "ExecuteTime": {
     "end_time": "2024-04-03T10:32:34.366250800Z",
     "start_time": "2024-04-03T10:32:04.146838800Z"
    }
   },
   "id": "4892621ff5dec52b",
   "execution_count": 2
  },
  {
   "cell_type": "code",
   "outputs": [
    {
     "data": {
      "text/plain": "           0                                                  1       2   \\\n0       N1-1L           Jatrabari - Int.with Z1101 (Left) (Left)    LRPS   \n1       N1-1R          Jatrabari - Int.with Z1101 (Left) (Right)    LRPS   \n2       N1-2L      Int.with Z1101 - Signboard (Left) R111 (Left)    LRPS   \n3       N1-2R     Int.with Z1101 - Signboard (Left) R111 (Right)    LRPS   \n4       N1-3L             Signboard - Shimrail (Left)R110 (Left)    LRPS   \n...       ...                                                ...     ...   \n2061  Z8915-3                        Int.with Z8916 - Daulatkhan  LRP010   \n2062  Z8916-1        Guingerhat (Int.with R890) - Int.with Z8915    LRPS   \n2063  Z8916-2                  Int.with Z8915 - Daulatkhan Bazar  LRP004   \n2064  Z8943-1  Tazumuddin (Int.with Z8905) - Fakirhat (Int.wi...    LRPS   \n2065  Z8943-2  Fakirhat (Int.with Z8948) - Kungerhat (Int.wit...    LRPS   \n\n        3      4       5     6       7      8      9   ...      16      17  \\\n0        0      0    LRPS   822   0.822  0.822  402.0  ...  1851.0  2980.0   \n1        0      0    LRPS   822   0.822  0.822  660.0  ...  2608.0  2508.0   \n2      822  0.822    LRPS  4175   4.175  3.353  660.0  ...  2608.0  2508.0   \n3      822  0.822    LRPS  4175   4.175  3.353  402.0  ...  1851.0  2980.0   \n4     4175  4.175    LRPS  7181   7.181  3.006   91.0  ...  1690.0  2266.0   \n...    ...    ...     ...   ...     ...    ...    ...  ...     ...     ...   \n2061  1150  10.47  LRP014  2290   15.66  5.190    0.0  ...    25.0  1025.0   \n2062     0      0  LRP004  3626   7.626  7.626    0.0  ...    15.0   672.0   \n2063  3626  7.626  LRP005  6600  11.591  3.965    0.0  ...    15.0   672.0   \n2064     0      0    LRPS  6446   6.446  6.446    0.0  ...    42.0   912.0   \n2065  6446  6.446    LRPS  8800     8.8  2.354    0.0  ...    42.0   912.0   \n\n          18     19      20   21       22      23       24       25  \n0      398.0  232.0   889.0  0.0  18236.0  1121.0  19357.0  19357.0  \n1      436.0  213.0  1088.0  0.0  20236.0  1301.0  21537.0  21537.0  \n2      436.0  213.0  1088.0  0.0  20236.0  1301.0  21537.0  21537.0  \n3      398.0  232.0   889.0  0.0  18236.0  1121.0  19357.0  19357.0  \n4     1087.0   75.0  1198.0  0.0  16288.0  1273.0  17561.0  17561.0  \n...      ...    ...     ...  ...      ...     ...      ...      ...  \n2061   872.0  396.0   380.0  0.0   2341.0   776.0   3117.0   3117.0  \n2062   640.0  453.0   524.0  0.0   1463.0   977.0   2440.0   2440.0  \n2063   640.0  453.0   524.0  0.0   1463.0   977.0   2440.0   2440.0  \n2064   679.0  528.0   584.0  0.0   1971.0  1112.0   3083.0   3083.0  \n2065   679.0  528.0   584.0  0.0   1971.0  1112.0   3083.0   3083.0  \n\n[2066 rows x 26 columns]",
      "text/html": "<div>\n<style scoped>\n    .dataframe tbody tr th:only-of-type {\n        vertical-align: middle;\n    }\n\n    .dataframe tbody tr th {\n        vertical-align: top;\n    }\n\n    .dataframe thead th {\n        text-align: right;\n    }\n</style>\n<table border=\"1\" class=\"dataframe\">\n  <thead>\n    <tr style=\"text-align: right;\">\n      <th></th>\n      <th>0</th>\n      <th>1</th>\n      <th>2</th>\n      <th>3</th>\n      <th>4</th>\n      <th>5</th>\n      <th>6</th>\n      <th>7</th>\n      <th>8</th>\n      <th>9</th>\n      <th>...</th>\n      <th>16</th>\n      <th>17</th>\n      <th>18</th>\n      <th>19</th>\n      <th>20</th>\n      <th>21</th>\n      <th>22</th>\n      <th>23</th>\n      <th>24</th>\n      <th>25</th>\n    </tr>\n  </thead>\n  <tbody>\n    <tr>\n      <th>0</th>\n      <td>N1-1L</td>\n      <td>Jatrabari - Int.with Z1101 (Left) (Left)</td>\n      <td>LRPS</td>\n      <td>0</td>\n      <td>0</td>\n      <td>LRPS</td>\n      <td>822</td>\n      <td>0.822</td>\n      <td>0.822</td>\n      <td>402.0</td>\n      <td>...</td>\n      <td>1851.0</td>\n      <td>2980.0</td>\n      <td>398.0</td>\n      <td>232.0</td>\n      <td>889.0</td>\n      <td>0.0</td>\n      <td>18236.0</td>\n      <td>1121.0</td>\n      <td>19357.0</td>\n      <td>19357.0</td>\n    </tr>\n    <tr>\n      <th>1</th>\n      <td>N1-1R</td>\n      <td>Jatrabari - Int.with Z1101 (Left) (Right)</td>\n      <td>LRPS</td>\n      <td>0</td>\n      <td>0</td>\n      <td>LRPS</td>\n      <td>822</td>\n      <td>0.822</td>\n      <td>0.822</td>\n      <td>660.0</td>\n      <td>...</td>\n      <td>2608.0</td>\n      <td>2508.0</td>\n      <td>436.0</td>\n      <td>213.0</td>\n      <td>1088.0</td>\n      <td>0.0</td>\n      <td>20236.0</td>\n      <td>1301.0</td>\n      <td>21537.0</td>\n      <td>21537.0</td>\n    </tr>\n    <tr>\n      <th>2</th>\n      <td>N1-2L</td>\n      <td>Int.with Z1101 - Signboard (Left) R111 (Left)</td>\n      <td>LRPS</td>\n      <td>822</td>\n      <td>0.822</td>\n      <td>LRPS</td>\n      <td>4175</td>\n      <td>4.175</td>\n      <td>3.353</td>\n      <td>660.0</td>\n      <td>...</td>\n      <td>2608.0</td>\n      <td>2508.0</td>\n      <td>436.0</td>\n      <td>213.0</td>\n      <td>1088.0</td>\n      <td>0.0</td>\n      <td>20236.0</td>\n      <td>1301.0</td>\n      <td>21537.0</td>\n      <td>21537.0</td>\n    </tr>\n    <tr>\n      <th>3</th>\n      <td>N1-2R</td>\n      <td>Int.with Z1101 - Signboard (Left) R111 (Right)</td>\n      <td>LRPS</td>\n      <td>822</td>\n      <td>0.822</td>\n      <td>LRPS</td>\n      <td>4175</td>\n      <td>4.175</td>\n      <td>3.353</td>\n      <td>402.0</td>\n      <td>...</td>\n      <td>1851.0</td>\n      <td>2980.0</td>\n      <td>398.0</td>\n      <td>232.0</td>\n      <td>889.0</td>\n      <td>0.0</td>\n      <td>18236.0</td>\n      <td>1121.0</td>\n      <td>19357.0</td>\n      <td>19357.0</td>\n    </tr>\n    <tr>\n      <th>4</th>\n      <td>N1-3L</td>\n      <td>Signboard - Shimrail (Left)R110 (Left)</td>\n      <td>LRPS</td>\n      <td>4175</td>\n      <td>4.175</td>\n      <td>LRPS</td>\n      <td>7181</td>\n      <td>7.181</td>\n      <td>3.006</td>\n      <td>91.0</td>\n      <td>...</td>\n      <td>1690.0</td>\n      <td>2266.0</td>\n      <td>1087.0</td>\n      <td>75.0</td>\n      <td>1198.0</td>\n      <td>0.0</td>\n      <td>16288.0</td>\n      <td>1273.0</td>\n      <td>17561.0</td>\n      <td>17561.0</td>\n    </tr>\n    <tr>\n      <th>...</th>\n      <td>...</td>\n      <td>...</td>\n      <td>...</td>\n      <td>...</td>\n      <td>...</td>\n      <td>...</td>\n      <td>...</td>\n      <td>...</td>\n      <td>...</td>\n      <td>...</td>\n      <td>...</td>\n      <td>...</td>\n      <td>...</td>\n      <td>...</td>\n      <td>...</td>\n      <td>...</td>\n      <td>...</td>\n      <td>...</td>\n      <td>...</td>\n      <td>...</td>\n      <td>...</td>\n    </tr>\n    <tr>\n      <th>2061</th>\n      <td>Z8915-3</td>\n      <td>Int.with Z8916 - Daulatkhan</td>\n      <td>LRP010</td>\n      <td>1150</td>\n      <td>10.47</td>\n      <td>LRP014</td>\n      <td>2290</td>\n      <td>15.66</td>\n      <td>5.190</td>\n      <td>0.0</td>\n      <td>...</td>\n      <td>25.0</td>\n      <td>1025.0</td>\n      <td>872.0</td>\n      <td>396.0</td>\n      <td>380.0</td>\n      <td>0.0</td>\n      <td>2341.0</td>\n      <td>776.0</td>\n      <td>3117.0</td>\n      <td>3117.0</td>\n    </tr>\n    <tr>\n      <th>2062</th>\n      <td>Z8916-1</td>\n      <td>Guingerhat (Int.with R890) - Int.with Z8915</td>\n      <td>LRPS</td>\n      <td>0</td>\n      <td>0</td>\n      <td>LRP004</td>\n      <td>3626</td>\n      <td>7.626</td>\n      <td>7.626</td>\n      <td>0.0</td>\n      <td>...</td>\n      <td>15.0</td>\n      <td>672.0</td>\n      <td>640.0</td>\n      <td>453.0</td>\n      <td>524.0</td>\n      <td>0.0</td>\n      <td>1463.0</td>\n      <td>977.0</td>\n      <td>2440.0</td>\n      <td>2440.0</td>\n    </tr>\n    <tr>\n      <th>2063</th>\n      <td>Z8916-2</td>\n      <td>Int.with Z8915 - Daulatkhan Bazar</td>\n      <td>LRP004</td>\n      <td>3626</td>\n      <td>7.626</td>\n      <td>LRP005</td>\n      <td>6600</td>\n      <td>11.591</td>\n      <td>3.965</td>\n      <td>0.0</td>\n      <td>...</td>\n      <td>15.0</td>\n      <td>672.0</td>\n      <td>640.0</td>\n      <td>453.0</td>\n      <td>524.0</td>\n      <td>0.0</td>\n      <td>1463.0</td>\n      <td>977.0</td>\n      <td>2440.0</td>\n      <td>2440.0</td>\n    </tr>\n    <tr>\n      <th>2064</th>\n      <td>Z8943-1</td>\n      <td>Tazumuddin (Int.with Z8905) - Fakirhat (Int.wi...</td>\n      <td>LRPS</td>\n      <td>0</td>\n      <td>0</td>\n      <td>LRPS</td>\n      <td>6446</td>\n      <td>6.446</td>\n      <td>6.446</td>\n      <td>0.0</td>\n      <td>...</td>\n      <td>42.0</td>\n      <td>912.0</td>\n      <td>679.0</td>\n      <td>528.0</td>\n      <td>584.0</td>\n      <td>0.0</td>\n      <td>1971.0</td>\n      <td>1112.0</td>\n      <td>3083.0</td>\n      <td>3083.0</td>\n    </tr>\n    <tr>\n      <th>2065</th>\n      <td>Z8943-2</td>\n      <td>Fakirhat (Int.with Z8948) - Kungerhat (Int.wit...</td>\n      <td>LRPS</td>\n      <td>6446</td>\n      <td>6.446</td>\n      <td>LRPS</td>\n      <td>8800</td>\n      <td>8.8</td>\n      <td>2.354</td>\n      <td>0.0</td>\n      <td>...</td>\n      <td>42.0</td>\n      <td>912.0</td>\n      <td>679.0</td>\n      <td>528.0</td>\n      <td>584.0</td>\n      <td>0.0</td>\n      <td>1971.0</td>\n      <td>1112.0</td>\n      <td>3083.0</td>\n      <td>3083.0</td>\n    </tr>\n  </tbody>\n</table>\n<p>2066 rows × 26 columns</p>\n</div>"
     },
     "execution_count": 3,
     "metadata": {},
     "output_type": "execute_result"
    }
   ],
   "source": [
    "# Create an empty list to store the modified DataFrames\n",
    "modified_dfs = []\n",
    "\n",
    "# Iterate through the dictionary and skip the first two rows of each DataFrame\n",
    "for key, df in dataframes.items():\n",
    "    modified_df = df.iloc[2:]  # Skip the first two rows\n",
    "    modified_dfs.append(modified_df)\n",
    "\n",
    "# Concatenate all the modified DataFrames into one big DataFrame\n",
    "big_df = pd.concat(modified_dfs, ignore_index=True)\n",
    "big_df"
   ],
   "metadata": {
    "collapsed": false,
    "ExecuteTime": {
     "end_time": "2024-04-03T10:32:34.530181700Z",
     "start_time": "2024-04-03T10:32:34.370667200Z"
    }
   },
   "id": "c3037cc87042f92f",
   "execution_count": 3
  },
  {
   "cell_type": "code",
   "outputs": [],
   "source": [
    "columns = df.iloc[1].tolist()\n",
    "columns[5] = \"LRP_2\"\n",
    "columns[6] = \"Offset_2\"\n",
    "columns[7] = \"Chainage_2\"\n",
    "columns[0] = 'Road'\n",
    "columns[1] = 'Name'\n",
    "big_df.columns = columns"
   ],
   "metadata": {
    "collapsed": false,
    "ExecuteTime": {
     "end_time": "2024-04-03T10:33:30.455033400Z",
     "start_time": "2024-04-03T10:33:30.402318100Z"
    }
   },
   "id": "d8ffaa3a7b1252ff",
   "execution_count": 4
  },
  {
   "cell_type": "code",
   "outputs": [],
   "source": [
    "big_df['type'] = 'road'\n",
    "# Define a function to find all road names in the 'Name' column\n",
    "def find_roads(name):\n",
    "    # Regular expression to match the pattern described (roads starting with Z, N, or R followed by numbers)\n",
    "    road_pattern = re.compile(r'\\b[ZNR]\\d+\\b')\n",
    "    # Find all matches in the name\n",
    "    found_roads = road_pattern.findall(name)\n",
    "    return found_roads\n",
    "\n",
    "# Apply the function to the 'Name' column to create a new column with the list of identified roads\n",
    "big_df['identified_roads'] = big_df['Name'].apply(find_roads)"
   ],
   "metadata": {
    "collapsed": false,
    "ExecuteTime": {
     "end_time": "2024-04-03T10:33:32.899732900Z",
     "start_time": "2024-04-03T10:33:32.859885600Z"
    }
   },
   "id": "9b7076700cc11f03",
   "execution_count": 5
  },
  {
   "cell_type": "code",
   "outputs": [
    {
     "data": {
      "text/plain": "        Road                                            Name   LRP Offset  \\\n0      N1-1L        Jatrabari - Int.with Z1101 (Left) (Left)  LRPS      0   \n1      N1-1R       Jatrabari - Int.with Z1101 (Left) (Right)  LRPS      0   \n2      N1-2L   Int.with Z1101 - Signboard (Left) R111 (Left)  LRPS    822   \n3      N1-2R  Int.with Z1101 - Signboard (Left) R111 (Right)  LRPS    822   \n4      N1-3L          Signboard - Shimrail (Left)R110 (Left)  LRPS   4175   \n...      ...                                             ...   ...    ...   \n22476    NaN                                               .   NaN    NaN   \n22477    NaN                                               .   NaN    NaN   \n22478    NaN                                  Kalbari Bridge   NaN    NaN   \n22479    NaN                                Narainpur Bridge   NaN    NaN   \n22480    NaN                                    Jor Bridge 2   NaN    NaN   \n\n       Chainage LRP_2 Offset_2 Chainage_2   (Km) Heavy Truck  ... Motorized  \\\n0         0.000  LRPS      822      0.822  0.822       402.0  ...   18236.0   \n1         0.000  LRPS      822      0.822  0.822       660.0  ...   20236.0   \n2         0.822  LRPS     4175      4.175  3.353       660.0  ...   20236.0   \n3         0.822  LRPS     4175      4.175  3.353       402.0  ...   18236.0   \n4         4.175  LRPS     7181      7.181  3.006        91.0  ...   16288.0   \n...         ...   ...      ...        ...    ...         ...  ...       ...   \n22476    83.728   NaN      NaN        NaN    NaN         NaN  ...       NaN   \n22477     3.981   NaN      NaN        NaN    NaN         NaN  ...       NaN   \n22478    20.730   NaN      NaN        NaN    NaN         NaN  ...       NaN   \n22479    28.880   NaN      NaN        NaN    NaN         NaN  ...       NaN   \n22480    33.530   NaN      NaN        NaN    NaN         NaN  ...       NaN   \n\n      Non Motorized Total AADT   (AADT)    type identified_roads base_road  \\\n0            1121.0    19357.0  19357.0    road          [Z1101]        N1   \n1            1301.0    21537.0  21537.0    road          [Z1101]        N1   \n2            1301.0    21537.0  21537.0    road    [Z1101, R111]        N1   \n3            1121.0    19357.0  19357.0    road    [Z1101, R111]        N1   \n4            1273.0    17561.0  17561.0    road           [R110]        N1   \n...             ...        ...      ...     ...              ...       ...   \n22476           NaN        NaN      NaN  bridge              NaN     Z8806   \n22477           NaN        NaN      NaN  bridge              NaN     Z8810   \n22478           NaN        NaN      NaN  bridge              NaN     Z8814   \n22479           NaN        NaN      NaN  bridge              NaN     Z8910   \n22480           NaN        NaN      NaN  bridge              NaN     Z8910   \n\n      condition        lat        lon  \n0           NaN        NaN        NaN  \n1           NaN        NaN        NaN  \n2           NaN        NaN        NaN  \n3           NaN        NaN        NaN  \n4           NaN        NaN        NaN  \n...         ...        ...        ...  \n22476         D  22.183448  90.299962  \n22477         D  22.519353  90.310063  \n22478         D  22.282704  89.968512  \n22479         D  22.510650  90.535314  \n22480         D  22.474325  90.557335  \n\n[22481 rows x 32 columns]",
      "text/html": "<div>\n<style scoped>\n    .dataframe tbody tr th:only-of-type {\n        vertical-align: middle;\n    }\n\n    .dataframe tbody tr th {\n        vertical-align: top;\n    }\n\n    .dataframe thead th {\n        text-align: right;\n    }\n</style>\n<table border=\"1\" class=\"dataframe\">\n  <thead>\n    <tr style=\"text-align: right;\">\n      <th></th>\n      <th>Road</th>\n      <th>Name</th>\n      <th>LRP</th>\n      <th>Offset</th>\n      <th>Chainage</th>\n      <th>LRP_2</th>\n      <th>Offset_2</th>\n      <th>Chainage_2</th>\n      <th>(Km)</th>\n      <th>Heavy Truck</th>\n      <th>...</th>\n      <th>Motorized</th>\n      <th>Non Motorized</th>\n      <th>Total AADT</th>\n      <th>(AADT)</th>\n      <th>type</th>\n      <th>identified_roads</th>\n      <th>base_road</th>\n      <th>condition</th>\n      <th>lat</th>\n      <th>lon</th>\n    </tr>\n  </thead>\n  <tbody>\n    <tr>\n      <th>0</th>\n      <td>N1-1L</td>\n      <td>Jatrabari - Int.with Z1101 (Left) (Left)</td>\n      <td>LRPS</td>\n      <td>0</td>\n      <td>0.000</td>\n      <td>LRPS</td>\n      <td>822</td>\n      <td>0.822</td>\n      <td>0.822</td>\n      <td>402.0</td>\n      <td>...</td>\n      <td>18236.0</td>\n      <td>1121.0</td>\n      <td>19357.0</td>\n      <td>19357.0</td>\n      <td>road</td>\n      <td>[Z1101]</td>\n      <td>N1</td>\n      <td>NaN</td>\n      <td>NaN</td>\n      <td>NaN</td>\n    </tr>\n    <tr>\n      <th>1</th>\n      <td>N1-1R</td>\n      <td>Jatrabari - Int.with Z1101 (Left) (Right)</td>\n      <td>LRPS</td>\n      <td>0</td>\n      <td>0.000</td>\n      <td>LRPS</td>\n      <td>822</td>\n      <td>0.822</td>\n      <td>0.822</td>\n      <td>660.0</td>\n      <td>...</td>\n      <td>20236.0</td>\n      <td>1301.0</td>\n      <td>21537.0</td>\n      <td>21537.0</td>\n      <td>road</td>\n      <td>[Z1101]</td>\n      <td>N1</td>\n      <td>NaN</td>\n      <td>NaN</td>\n      <td>NaN</td>\n    </tr>\n    <tr>\n      <th>2</th>\n      <td>N1-2L</td>\n      <td>Int.with Z1101 - Signboard (Left) R111 (Left)</td>\n      <td>LRPS</td>\n      <td>822</td>\n      <td>0.822</td>\n      <td>LRPS</td>\n      <td>4175</td>\n      <td>4.175</td>\n      <td>3.353</td>\n      <td>660.0</td>\n      <td>...</td>\n      <td>20236.0</td>\n      <td>1301.0</td>\n      <td>21537.0</td>\n      <td>21537.0</td>\n      <td>road</td>\n      <td>[Z1101, R111]</td>\n      <td>N1</td>\n      <td>NaN</td>\n      <td>NaN</td>\n      <td>NaN</td>\n    </tr>\n    <tr>\n      <th>3</th>\n      <td>N1-2R</td>\n      <td>Int.with Z1101 - Signboard (Left) R111 (Right)</td>\n      <td>LRPS</td>\n      <td>822</td>\n      <td>0.822</td>\n      <td>LRPS</td>\n      <td>4175</td>\n      <td>4.175</td>\n      <td>3.353</td>\n      <td>402.0</td>\n      <td>...</td>\n      <td>18236.0</td>\n      <td>1121.0</td>\n      <td>19357.0</td>\n      <td>19357.0</td>\n      <td>road</td>\n      <td>[Z1101, R111]</td>\n      <td>N1</td>\n      <td>NaN</td>\n      <td>NaN</td>\n      <td>NaN</td>\n    </tr>\n    <tr>\n      <th>4</th>\n      <td>N1-3L</td>\n      <td>Signboard - Shimrail (Left)R110 (Left)</td>\n      <td>LRPS</td>\n      <td>4175</td>\n      <td>4.175</td>\n      <td>LRPS</td>\n      <td>7181</td>\n      <td>7.181</td>\n      <td>3.006</td>\n      <td>91.0</td>\n      <td>...</td>\n      <td>16288.0</td>\n      <td>1273.0</td>\n      <td>17561.0</td>\n      <td>17561.0</td>\n      <td>road</td>\n      <td>[R110]</td>\n      <td>N1</td>\n      <td>NaN</td>\n      <td>NaN</td>\n      <td>NaN</td>\n    </tr>\n    <tr>\n      <th>...</th>\n      <td>...</td>\n      <td>...</td>\n      <td>...</td>\n      <td>...</td>\n      <td>...</td>\n      <td>...</td>\n      <td>...</td>\n      <td>...</td>\n      <td>...</td>\n      <td>...</td>\n      <td>...</td>\n      <td>...</td>\n      <td>...</td>\n      <td>...</td>\n      <td>...</td>\n      <td>...</td>\n      <td>...</td>\n      <td>...</td>\n      <td>...</td>\n      <td>...</td>\n      <td>...</td>\n    </tr>\n    <tr>\n      <th>22476</th>\n      <td>NaN</td>\n      <td>.</td>\n      <td>NaN</td>\n      <td>NaN</td>\n      <td>83.728</td>\n      <td>NaN</td>\n      <td>NaN</td>\n      <td>NaN</td>\n      <td>NaN</td>\n      <td>NaN</td>\n      <td>...</td>\n      <td>NaN</td>\n      <td>NaN</td>\n      <td>NaN</td>\n      <td>NaN</td>\n      <td>bridge</td>\n      <td>NaN</td>\n      <td>Z8806</td>\n      <td>D</td>\n      <td>22.183448</td>\n      <td>90.299962</td>\n    </tr>\n    <tr>\n      <th>22477</th>\n      <td>NaN</td>\n      <td>.</td>\n      <td>NaN</td>\n      <td>NaN</td>\n      <td>3.981</td>\n      <td>NaN</td>\n      <td>NaN</td>\n      <td>NaN</td>\n      <td>NaN</td>\n      <td>NaN</td>\n      <td>...</td>\n      <td>NaN</td>\n      <td>NaN</td>\n      <td>NaN</td>\n      <td>NaN</td>\n      <td>bridge</td>\n      <td>NaN</td>\n      <td>Z8810</td>\n      <td>D</td>\n      <td>22.519353</td>\n      <td>90.310063</td>\n    </tr>\n    <tr>\n      <th>22478</th>\n      <td>NaN</td>\n      <td>Kalbari Bridge</td>\n      <td>NaN</td>\n      <td>NaN</td>\n      <td>20.730</td>\n      <td>NaN</td>\n      <td>NaN</td>\n      <td>NaN</td>\n      <td>NaN</td>\n      <td>NaN</td>\n      <td>...</td>\n      <td>NaN</td>\n      <td>NaN</td>\n      <td>NaN</td>\n      <td>NaN</td>\n      <td>bridge</td>\n      <td>NaN</td>\n      <td>Z8814</td>\n      <td>D</td>\n      <td>22.282704</td>\n      <td>89.968512</td>\n    </tr>\n    <tr>\n      <th>22479</th>\n      <td>NaN</td>\n      <td>Narainpur Bridge</td>\n      <td>NaN</td>\n      <td>NaN</td>\n      <td>28.880</td>\n      <td>NaN</td>\n      <td>NaN</td>\n      <td>NaN</td>\n      <td>NaN</td>\n      <td>NaN</td>\n      <td>...</td>\n      <td>NaN</td>\n      <td>NaN</td>\n      <td>NaN</td>\n      <td>NaN</td>\n      <td>bridge</td>\n      <td>NaN</td>\n      <td>Z8910</td>\n      <td>D</td>\n      <td>22.510650</td>\n      <td>90.535314</td>\n    </tr>\n    <tr>\n      <th>22480</th>\n      <td>NaN</td>\n      <td>Jor Bridge 2</td>\n      <td>NaN</td>\n      <td>NaN</td>\n      <td>33.530</td>\n      <td>NaN</td>\n      <td>NaN</td>\n      <td>NaN</td>\n      <td>NaN</td>\n      <td>NaN</td>\n      <td>...</td>\n      <td>NaN</td>\n      <td>NaN</td>\n      <td>NaN</td>\n      <td>NaN</td>\n      <td>bridge</td>\n      <td>NaN</td>\n      <td>Z8910</td>\n      <td>D</td>\n      <td>22.474325</td>\n      <td>90.557335</td>\n    </tr>\n  </tbody>\n</table>\n<p>22481 rows × 32 columns</p>\n</div>"
     },
     "execution_count": 6,
     "metadata": {},
     "output_type": "execute_result"
    }
   ],
   "source": [
    "big_df['base_road'] = big_df['Road'].apply(lambda x: x.split('-')[0])\n",
    "big_df['Chainage'] = pd.to_numeric(big_df['Chainage'], errors='coerce')\n",
    "bmms['chainage'] = pd.to_numeric(bmms['chainage'], errors='coerce')\n",
    "\n",
    "# Step 1: Select and possibly rename columns from bmms_df\n",
    "# Assuming 'road', 'chainage', 'name', 'condition' are the columns you want from bmms_df\n",
    "# and that you've already created a column in traffic_df to accommodate 'condition' data\n",
    "bmms_subset = bmms[['road', 'chainage', 'name', 'condition', 'lat', 'lon']].copy()\n",
    "bmms_subset.rename(columns={'road': 'base_road', 'chainage': 'Chainage', 'name': 'Name'}, inplace=True)\n",
    "\n",
    "# Optionally add any missing columns to bmms_subset with default values or NaN\n",
    "# For columns in big_df that don't have a counterpart in bmms_subset\n",
    "for col in big_df.columns:\n",
    "    if col not in bmms_subset.columns:\n",
    "        bmms_subset[col] = pd.NA\n",
    "bmms_subset['type'] = 'bridge'\n",
    "\n",
    "# Step 2: Use pd.concat to append bmms_subset as new rows to big_df\n",
    "# Note: Ensure the columns match or have been appropriately accounted for before concatenating\n",
    "combined_df = pd.concat([big_df, bmms_subset], ignore_index=True)\n",
    "\n",
    "# Now 'combined_df' contains the original rows from 'traffic_df' and new rows from 'bmms_subset'\n",
    "combined_df"
   ],
   "metadata": {
    "collapsed": false,
    "ExecuteTime": {
     "end_time": "2024-04-03T10:33:47.757750400Z",
     "start_time": "2024-04-03T10:33:46.151252800Z"
    }
   },
   "id": "58256aa6f07055a2",
   "execution_count": 6
  },
  {
   "cell_type": "code",
   "outputs": [],
   "source": [
    "df_filtered = combined_df\n",
    "\n",
    "# Filter out rows where \"Road\" contains \"L\"\n",
    "df_filtered = df_filtered[~df_filtered[\"Road\"].str.contains(\"L\", na=False)]\n",
    "\n",
    "# Determine road and bridge indices\n",
    "index_bridges = df_filtered[df_filtered['Road'].isnull()].index\n",
    "index_roads = df_filtered[df_filtered['Road'].notnull()].index\n",
    "\n",
    "# Initialize 'Type' column\n",
    "df_filtered['Type'] = pd.NA\n",
    "df_filtered.loc[index_roads, 'Type'] = 'Road'\n",
    "df_filtered.loc[index_bridges, 'Type'] = 'Bridge'\n",
    "\n",
    "# Function to find road names using regex\n",
    "def find_roads(name):\n",
    "    road_pattern = re.compile(r'\\b[nNzZrR]\\d+\\b')\n",
    "    found_roads = road_pattern.findall(name)\n",
    "    return found_roads\n",
    "\n",
    "# Apply the function to identify roads from the 'Name' column\n",
    "df_filtered['identified_roads'] = df_filtered['Name'].apply(find_roads)\n",
    "\n",
    "# Update 'Type' to 'Intersection' where applicable\n",
    "df_filtered.loc[df_filtered['identified_roads'].apply(lambda x: len(x) > 0), 'Type'] = 'Intersection'\n",
    "df_filtered.to_csv('../data/TEST_traffic_df_with_bridges_and_intersections_only_R.csv', index=False)"
   ],
   "metadata": {
    "collapsed": false
   },
   "id": "dab4fbedc78d6acd",
   "execution_count": null
  },
  {
   "cell_type": "code",
   "outputs": [],
   "source": [
    "# index_bridges = df[df['Road'].isnull()].index\n",
    "# index_roads = df[df['Road'].notnull()].index\n",
    "# df['Type'] = pd.NA\n",
    "# df.loc[index_roads, 'Type'] = 'Road'\n",
    "# df.loc[index_bridges, 'Type'] = 'Bridge'\n",
    "# \n",
    "# df['Connected_Road1'] = None\n",
    "# df['Connected_Road2'] = None\n",
    "# df['Connected_Road3'] = None\n",
    "# \n",
    "# all_road_names = df['Name'].str.findall(r'([nNzZrR]\\s*\\d+)')\n",
    "# \n",
    "# for index, matches in all_road_names.items():\n",
    "#     # Ensure matches is a list; treat NaN (float) as an empty list\n",
    "#     matches = matches if isinstance(matches, list) else []\n",
    "#     \n",
    "#     if len(matches) >= 1:\n",
    "#         df.at[index, 'Connected_Road1'] = matches[0]\n",
    "#     if len(matches) >= 2:\n",
    "#         df.at[index, 'Connected_Road2'] = matches[1]\n",
    "#     if len(matches) >= 3:\n",
    "#         df.at[index, 'Connected_Road3'] = matches[2]\n",
    "# \n",
    "# df.loc[df['Connected_Road1'].notna(), 'Type'] = 'Intersection'\n",
    "# df.to_csv('../data/traffic_df_with_bridges_and_intersections.csv', index=False)"
   ],
   "metadata": {
    "collapsed": false
   },
   "id": "a2606d151181318e",
   "execution_count": null
  },
  {
   "cell_type": "markdown",
   "source": [],
   "metadata": {
    "collapsed": false
   },
   "id": "8fb7df45501ba9ee"
  },
  {
   "cell_type": "code",
   "outputs": [],
   "source": [
    "df = pd.read_csv('../data/traffic_df_with_bridges_and_intersections_onlyR.csv', low_memory=False)\n",
    "\n",
    "G = nx.Graph()\n",
    "\n",
    "for index, row in df.iterrows():\n",
    "    node_attributes = row.to_dict()\n",
    "    G.add_node(index, **node_attributes)\n",
    "\n",
    "df_sorted = df.sort_values(by=['base_road', 'Chainage'])\n",
    "\n",
    "previous_node = None\n",
    "previous_base_road = None\n",
    "\n",
    "for index, row in df_sorted.iterrows():\n",
    "    current_base_road = row['base_road']\n",
    "  \n",
    "    if previous_node is not None and previous_base_road == current_base_road:\n",
    "        G.add_edge(previous_node, index)\n",
    "    \n",
    "    previous_node = index\n",
    "    previous_base_road = current_base_road\n",
    "\n",
    "# Re-filter intersections with valid 'lon' and 'lat' and redefine the distance calculation function\n",
    "intersections = [node for node, attr in G.nodes(data=True) if attr['Type'] == 'Intersection' and not pd.isna(attr['lon']) and not pd.isna(attr['lat'])]\n",
    "\n",
    "def calculate_distance(lat1, lon1, lat2, lon2):\n",
    "    \"\"\"\n",
    "    Calculate the great-circle distance between two points on the Earth using their latitude and longitude.\n",
    "    \"\"\"\n",
    "    # Convert latitude and longitude from degrees to radians\n",
    "    phi1, lambda1, phi2, lambda2 = map(np.radians, [lat1, lon1, lat2, lon2])\n",
    "\n",
    "    # Haversine formula\n",
    "    delta_lambda = lambda2 - lambda1\n",
    "    delta_phi = phi2 - phi1\n",
    "    a = np.sin(delta_phi/2.0)**2 + np.cos(phi1) * np.cos(phi2) * np.sin(delta_lambda/2.0)**2\n",
    "    c = 2 * np.arctan2(np.sqrt(a), np.sqrt(1-a))\n",
    "\n",
    "    # Earth radius in kilometers (approx)\n",
    "    R = 6371.0\n",
    "\n",
    "    # Distance in kilometers\n",
    "    distance = R * c\n",
    "    return distance\n",
    "\n",
    "# Re-attempt to connect intersections to the closest node with matching base_road using the correct distance calculation\n",
    "for intersection in intersections:\n",
    "    connected_roads = [G.nodes[intersection].get(f'Connected_Road{i}') for i in range(1, 4)]\n",
    "    connected_roads = [road for road in connected_roads if road and not pd.isna(road)]\n",
    "    \n",
    "    # For each connected road, find the closest node and connect\n",
    "    for connected_road in connected_roads:\n",
    "        potential_nodes_for_road = [node for node, attr in G.nodes(data=True) if attr['base_road'] == connected_road and not pd.isna(attr['lon']) and not pd.isna(attr['lat'])]\n",
    "        \n",
    "        min_distance = np.inf\n",
    "        closest_node = None\n",
    "        intersection_lat = G.nodes[intersection]['lat']\n",
    "        intersection_lon = G.nodes[intersection]['lon']\n",
    "        \n",
    "        for node in potential_nodes_for_road:\n",
    "            node_lat = G.nodes[node]['lat']\n",
    "            node_lon = G.nodes[node]['lon']\n",
    "            distance = calculate_distance(intersection_lat, intersection_lon, node_lat, node_lon)\n",
    "            \n",
    "            if distance < min_distance:\n",
    "                min_distance = distance\n",
    "                closest_node = node\n",
    "        \n",
    "        if closest_node is not None:\n",
    "            G.add_edge(intersection, closest_node)\n",
    "\n",
    "unique_types = df['Type'].unique()\n",
    "colors = plt.cm.tab10(range(len(unique_types)))\n",
    "color_map = dict(zip(unique_types, colors))\n",
    "\n",
    "plt.figure(figsize=(12,10))\n",
    "node_colors = [color_map[G.nodes[node]['Type']] for node in G.nodes]\n",
    "pos = {node:(G.nodes[node]['lon'], G.nodes[node]['lat']) for node in G.nodes}\n",
    "nx.draw(G, pos, node_color=node_colors, with_labels=False, node_size=1)\n",
    "plt.show()"
   ],
   "metadata": {
    "collapsed": false
   },
   "id": "45bec19887ec41d1",
   "execution_count": null
  },
  {
   "cell_type": "code",
   "outputs": [],
   "source": [
    "G.nodes[10]"
   ],
   "metadata": {
    "collapsed": false
   },
   "id": "1335b0e9a0be64e",
   "execution_count": null
  },
  {
   "cell_type": "code",
   "outputs": [],
   "source": [
    "G.shortest_path(1,23)"
   ],
   "metadata": {
    "collapsed": false
   },
   "id": "692c2921e3691a17",
   "execution_count": null
  },
  {
   "cell_type": "code",
   "outputs": [],
   "source": [
    "positions = {index: (row['lon'], row['lat']) for index, row in df.iterrows()}\n",
    "# Ensure the data is sorted by 'base_road' and 'Chainage'\n",
    "df_sorted = df.sort_values(by=['base_road', 'Chainage'])\n",
    "\n",
    "# Creating a new DataFrame to hold nodes with positions and chainage for connection logic\n",
    "df_nodes = df_sorted[['lat', 'lon', 'Chainage', 'base_road']].dropna()\n",
    "\n",
    "# Reset index to ensure the nodes are indexed sequentially for graph construction\n",
    "df_nodes.reset_index(drop=True, inplace=True)\n",
    "\n",
    "# Create positions dictionary again based on the sorted and cleaned DataFrame\n",
    "positions = {index: (row['lon'], row['lat']) for index, row in df_nodes.iterrows()}\n",
    "\n",
    "# Create the graph again\n",
    "G = nx.Graph()\n",
    "\n",
    "# Add nodes with positions and additional attributes (for potential future use)\n",
    "for node, row in df_nodes.iterrows():\n",
    "    G.add_node(node, pos=(row['lon'], row['lat']), chainage=row['Chainage'], base_road=row['base_road'])\n",
    "\n",
    "# Add edges based on sequential chainage within the same base_road\n",
    "for i in range(len(df_nodes) - 1):\n",
    "    if df_nodes.iloc[i]['base_road'] == df_nodes.iloc[i+1]['base_road']:\n",
    "        G.add_edge(i, i+1)\n",
    "\n",
    "# Extract positions from graph nodes for plotting\n",
    "# Draw the graph, including edges\n",
    "# Add nodes with positions\n",
    "for node, pos in positions.items():\n",
    "    G.add_node(node, pos=pos)\n",
    "\n",
    "# Extract positions from graph nodes for plotting\n",
    "pos = nx.get_node_attributes(G, 'pos')\n",
    "plt.figure(figsize=(14, 8))\n",
    "# Draw the graph\n",
    "nx.draw(G, pos, node_size=2, with_labels=False, edge_color='b')  # Adjust node_size for better visibility, with_labels for node ids\n",
    "plt.show()"
   ],
   "metadata": {
    "collapsed": false
   },
   "id": "a7337e1311989d45",
   "execution_count": null
  },
  {
   "cell_type": "code",
   "outputs": [],
   "source": [
    "df_filtered['Motorized'].max()"
   ],
   "metadata": {
    "collapsed": false
   },
   "id": "8368695469b56f70",
   "execution_count": null
  }
 ],
 "metadata": {
  "kernelspec": {
   "display_name": "Python 3",
   "language": "python",
   "name": "python3"
  },
  "language_info": {
   "codemirror_mode": {
    "name": "ipython",
    "version": 2
   },
   "file_extension": ".py",
   "mimetype": "text/x-python",
   "name": "python",
   "nbconvert_exporter": "python",
   "pygments_lexer": "ipython2",
   "version": "2.7.6"
  }
 },
 "nbformat": 4,
 "nbformat_minor": 5
}

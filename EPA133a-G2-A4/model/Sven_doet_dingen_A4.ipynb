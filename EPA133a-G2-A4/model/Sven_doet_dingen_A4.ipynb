{
 "cells": [
  {
   "cell_type": "code",
   "execution_count": 3,
   "id": "initial_id",
   "metadata": {
    "collapsed": true,
    "ExecuteTime": {
     "end_time": "2024-03-28T11:28:07.505492700Z",
     "start_time": "2024-03-28T11:28:07.498377500Z"
    }
   },
   "outputs": [],
   "source": [
    "import numpy as np\n",
    "import pandas as pd\n",
    "import networkx as nx\n",
    "import os"
   ]
  },
  {
   "cell_type": "code",
   "execution_count": 4,
   "outputs": [],
   "source": [
    "folder_path = '../data/Traffic_data'\n",
    "\n",
    "dataframes = {}\n",
    "\n",
    "for file in os.listdir(folder_path):\n",
    "    if file.endswith('.traffic.htm'):\n",
    "        file_path = os.path.join(folder_path, file)\n",
    "        file_name = file.split('.')[0]\n",
    "        df_list = pd.read_html(file_path)\n",
    "        df = df_list[4]\n",
    "        df = df.iloc[1:].reset_index(drop=True)\n",
    "        df_key = file_name\n",
    "        dataframes[df_key] = df"
   ],
   "metadata": {
    "collapsed": false,
    "ExecuteTime": {
     "end_time": "2024-03-28T11:28:42.530553200Z",
     "start_time": "2024-03-28T11:28:07.665965Z"
    }
   },
   "id": "70ac278ab3f11c39"
  },
  {
   "cell_type": "code",
   "execution_count": 5,
   "outputs": [],
   "source": [
    "# Create an empty list to store the modified DataFrames\n",
    "modified_dfs = []\n",
    "\n",
    "# Iterate through the dictionary and skip the first two rows of each DataFrame\n",
    "for key, df in dataframes.items():\n",
    "    modified_df = df.iloc[2:]  # Skip the first two rows\n",
    "    modified_dfs.append(modified_df)\n",
    "\n",
    "# Concatenate all the modified DataFrames into one big DataFrame\n",
    "big_df = pd.concat(modified_dfs, ignore_index=True)"
   ],
   "metadata": {
    "collapsed": false,
    "ExecuteTime": {
     "end_time": "2024-03-28T11:28:42.576609400Z",
     "start_time": "2024-03-28T11:28:42.530553200Z"
    }
   },
   "id": "a23879f86ca347f7"
  },
  {
   "cell_type": "code",
   "execution_count": 6,
   "outputs": [
    {
     "data": {
      "text/plain": "         Road                                               Name     LRP  \\\n0       N1-1L           Jatrabari - Int.with Z1101 (Left) (Left)    LRPS   \n1       N1-1R          Jatrabari - Int.with Z1101 (Left) (Right)    LRPS   \n2       N1-2L      Int.with Z1101 - Signboard (Left) R111 (Left)    LRPS   \n3       N1-2R     Int.with Z1101 - Signboard (Left) R111 (Right)    LRPS   \n4       N1-3L             Signboard - Shimrail (Left)R110 (Left)    LRPS   \n...       ...                                                ...     ...   \n2061  Z8915-3                        Int.with Z8916 - Daulatkhan  LRP010   \n2062  Z8916-1        Guingerhat (Int.with R890) - Int.with Z8915    LRPS   \n2063  Z8916-2                  Int.with Z8915 - Daulatkhan Bazar  LRP004   \n2064  Z8943-1  Tazumuddin (Int.with Z8905) - Fakirhat (Int.wi...    LRPS   \n2065  Z8943-2  Fakirhat (Int.with Z8948) - Kungerhat (Int.wit...    LRPS   \n\n     Offset Chainage   LRP_2 Offset_2 Chainage_2   (Km) Heavy Truck  ...  \\\n0         0        0    LRPS      822      0.822  0.822       402.0  ...   \n1         0        0    LRPS      822      0.822  0.822       660.0  ...   \n2       822    0.822    LRPS     4175      4.175  3.353       660.0  ...   \n3       822    0.822    LRPS     4175      4.175  3.353       402.0  ...   \n4      4175    4.175    LRPS     7181      7.181  3.006        91.0  ...   \n...     ...      ...     ...      ...        ...    ...         ...  ...   \n2061   1150    10.47  LRP014     2290      15.66  5.190         0.0  ...   \n2062      0        0  LRP004     3626      7.626  7.626         0.0  ...   \n2063   3626    7.626  LRP005     6600     11.591  3.965         0.0  ...   \n2064      0        0    LRPS     6446      6.446  6.446         0.0  ...   \n2065   6446    6.446    LRPS     8800        8.8  2.354         0.0  ...   \n\n         Car Auto Rickshaw Motor Cycle Bi-Cycle Cycle Rickshaw Cart Motorized  \\\n0     1851.0        2980.0       398.0    232.0          889.0  0.0   18236.0   \n1     2608.0        2508.0       436.0    213.0         1088.0  0.0   20236.0   \n2     2608.0        2508.0       436.0    213.0         1088.0  0.0   20236.0   \n3     1851.0        2980.0       398.0    232.0          889.0  0.0   18236.0   \n4     1690.0        2266.0      1087.0     75.0         1198.0  0.0   16288.0   \n...      ...           ...         ...      ...            ...  ...       ...   \n2061    25.0        1025.0       872.0    396.0          380.0  0.0    2341.0   \n2062    15.0         672.0       640.0    453.0          524.0  0.0    1463.0   \n2063    15.0         672.0       640.0    453.0          524.0  0.0    1463.0   \n2064    42.0         912.0       679.0    528.0          584.0  0.0    1971.0   \n2065    42.0         912.0       679.0    528.0          584.0  0.0    1971.0   \n\n     Non Motorized Total AADT   (AADT)  \n0           1121.0    19357.0  19357.0  \n1           1301.0    21537.0  21537.0  \n2           1301.0    21537.0  21537.0  \n3           1121.0    19357.0  19357.0  \n4           1273.0    17561.0  17561.0  \n...            ...        ...      ...  \n2061         776.0     3117.0   3117.0  \n2062         977.0     2440.0   2440.0  \n2063         977.0     2440.0   2440.0  \n2064        1112.0     3083.0   3083.0  \n2065        1112.0     3083.0   3083.0  \n\n[2066 rows x 26 columns]",
      "text/html": "<div>\n<style scoped>\n    .dataframe tbody tr th:only-of-type {\n        vertical-align: middle;\n    }\n\n    .dataframe tbody tr th {\n        vertical-align: top;\n    }\n\n    .dataframe thead th {\n        text-align: right;\n    }\n</style>\n<table border=\"1\" class=\"dataframe\">\n  <thead>\n    <tr style=\"text-align: right;\">\n      <th></th>\n      <th>Road</th>\n      <th>Name</th>\n      <th>LRP</th>\n      <th>Offset</th>\n      <th>Chainage</th>\n      <th>LRP_2</th>\n      <th>Offset_2</th>\n      <th>Chainage_2</th>\n      <th>(Km)</th>\n      <th>Heavy Truck</th>\n      <th>...</th>\n      <th>Car</th>\n      <th>Auto Rickshaw</th>\n      <th>Motor Cycle</th>\n      <th>Bi-Cycle</th>\n      <th>Cycle Rickshaw</th>\n      <th>Cart</th>\n      <th>Motorized</th>\n      <th>Non Motorized</th>\n      <th>Total AADT</th>\n      <th>(AADT)</th>\n    </tr>\n  </thead>\n  <tbody>\n    <tr>\n      <th>0</th>\n      <td>N1-1L</td>\n      <td>Jatrabari - Int.with Z1101 (Left) (Left)</td>\n      <td>LRPS</td>\n      <td>0</td>\n      <td>0</td>\n      <td>LRPS</td>\n      <td>822</td>\n      <td>0.822</td>\n      <td>0.822</td>\n      <td>402.0</td>\n      <td>...</td>\n      <td>1851.0</td>\n      <td>2980.0</td>\n      <td>398.0</td>\n      <td>232.0</td>\n      <td>889.0</td>\n      <td>0.0</td>\n      <td>18236.0</td>\n      <td>1121.0</td>\n      <td>19357.0</td>\n      <td>19357.0</td>\n    </tr>\n    <tr>\n      <th>1</th>\n      <td>N1-1R</td>\n      <td>Jatrabari - Int.with Z1101 (Left) (Right)</td>\n      <td>LRPS</td>\n      <td>0</td>\n      <td>0</td>\n      <td>LRPS</td>\n      <td>822</td>\n      <td>0.822</td>\n      <td>0.822</td>\n      <td>660.0</td>\n      <td>...</td>\n      <td>2608.0</td>\n      <td>2508.0</td>\n      <td>436.0</td>\n      <td>213.0</td>\n      <td>1088.0</td>\n      <td>0.0</td>\n      <td>20236.0</td>\n      <td>1301.0</td>\n      <td>21537.0</td>\n      <td>21537.0</td>\n    </tr>\n    <tr>\n      <th>2</th>\n      <td>N1-2L</td>\n      <td>Int.with Z1101 - Signboard (Left) R111 (Left)</td>\n      <td>LRPS</td>\n      <td>822</td>\n      <td>0.822</td>\n      <td>LRPS</td>\n      <td>4175</td>\n      <td>4.175</td>\n      <td>3.353</td>\n      <td>660.0</td>\n      <td>...</td>\n      <td>2608.0</td>\n      <td>2508.0</td>\n      <td>436.0</td>\n      <td>213.0</td>\n      <td>1088.0</td>\n      <td>0.0</td>\n      <td>20236.0</td>\n      <td>1301.0</td>\n      <td>21537.0</td>\n      <td>21537.0</td>\n    </tr>\n    <tr>\n      <th>3</th>\n      <td>N1-2R</td>\n      <td>Int.with Z1101 - Signboard (Left) R111 (Right)</td>\n      <td>LRPS</td>\n      <td>822</td>\n      <td>0.822</td>\n      <td>LRPS</td>\n      <td>4175</td>\n      <td>4.175</td>\n      <td>3.353</td>\n      <td>402.0</td>\n      <td>...</td>\n      <td>1851.0</td>\n      <td>2980.0</td>\n      <td>398.0</td>\n      <td>232.0</td>\n      <td>889.0</td>\n      <td>0.0</td>\n      <td>18236.0</td>\n      <td>1121.0</td>\n      <td>19357.0</td>\n      <td>19357.0</td>\n    </tr>\n    <tr>\n      <th>4</th>\n      <td>N1-3L</td>\n      <td>Signboard - Shimrail (Left)R110 (Left)</td>\n      <td>LRPS</td>\n      <td>4175</td>\n      <td>4.175</td>\n      <td>LRPS</td>\n      <td>7181</td>\n      <td>7.181</td>\n      <td>3.006</td>\n      <td>91.0</td>\n      <td>...</td>\n      <td>1690.0</td>\n      <td>2266.0</td>\n      <td>1087.0</td>\n      <td>75.0</td>\n      <td>1198.0</td>\n      <td>0.0</td>\n      <td>16288.0</td>\n      <td>1273.0</td>\n      <td>17561.0</td>\n      <td>17561.0</td>\n    </tr>\n    <tr>\n      <th>...</th>\n      <td>...</td>\n      <td>...</td>\n      <td>...</td>\n      <td>...</td>\n      <td>...</td>\n      <td>...</td>\n      <td>...</td>\n      <td>...</td>\n      <td>...</td>\n      <td>...</td>\n      <td>...</td>\n      <td>...</td>\n      <td>...</td>\n      <td>...</td>\n      <td>...</td>\n      <td>...</td>\n      <td>...</td>\n      <td>...</td>\n      <td>...</td>\n      <td>...</td>\n      <td>...</td>\n    </tr>\n    <tr>\n      <th>2061</th>\n      <td>Z8915-3</td>\n      <td>Int.with Z8916 - Daulatkhan</td>\n      <td>LRP010</td>\n      <td>1150</td>\n      <td>10.47</td>\n      <td>LRP014</td>\n      <td>2290</td>\n      <td>15.66</td>\n      <td>5.190</td>\n      <td>0.0</td>\n      <td>...</td>\n      <td>25.0</td>\n      <td>1025.0</td>\n      <td>872.0</td>\n      <td>396.0</td>\n      <td>380.0</td>\n      <td>0.0</td>\n      <td>2341.0</td>\n      <td>776.0</td>\n      <td>3117.0</td>\n      <td>3117.0</td>\n    </tr>\n    <tr>\n      <th>2062</th>\n      <td>Z8916-1</td>\n      <td>Guingerhat (Int.with R890) - Int.with Z8915</td>\n      <td>LRPS</td>\n      <td>0</td>\n      <td>0</td>\n      <td>LRP004</td>\n      <td>3626</td>\n      <td>7.626</td>\n      <td>7.626</td>\n      <td>0.0</td>\n      <td>...</td>\n      <td>15.0</td>\n      <td>672.0</td>\n      <td>640.0</td>\n      <td>453.0</td>\n      <td>524.0</td>\n      <td>0.0</td>\n      <td>1463.0</td>\n      <td>977.0</td>\n      <td>2440.0</td>\n      <td>2440.0</td>\n    </tr>\n    <tr>\n      <th>2063</th>\n      <td>Z8916-2</td>\n      <td>Int.with Z8915 - Daulatkhan Bazar</td>\n      <td>LRP004</td>\n      <td>3626</td>\n      <td>7.626</td>\n      <td>LRP005</td>\n      <td>6600</td>\n      <td>11.591</td>\n      <td>3.965</td>\n      <td>0.0</td>\n      <td>...</td>\n      <td>15.0</td>\n      <td>672.0</td>\n      <td>640.0</td>\n      <td>453.0</td>\n      <td>524.0</td>\n      <td>0.0</td>\n      <td>1463.0</td>\n      <td>977.0</td>\n      <td>2440.0</td>\n      <td>2440.0</td>\n    </tr>\n    <tr>\n      <th>2064</th>\n      <td>Z8943-1</td>\n      <td>Tazumuddin (Int.with Z8905) - Fakirhat (Int.wi...</td>\n      <td>LRPS</td>\n      <td>0</td>\n      <td>0</td>\n      <td>LRPS</td>\n      <td>6446</td>\n      <td>6.446</td>\n      <td>6.446</td>\n      <td>0.0</td>\n      <td>...</td>\n      <td>42.0</td>\n      <td>912.0</td>\n      <td>679.0</td>\n      <td>528.0</td>\n      <td>584.0</td>\n      <td>0.0</td>\n      <td>1971.0</td>\n      <td>1112.0</td>\n      <td>3083.0</td>\n      <td>3083.0</td>\n    </tr>\n    <tr>\n      <th>2065</th>\n      <td>Z8943-2</td>\n      <td>Fakirhat (Int.with Z8948) - Kungerhat (Int.wit...</td>\n      <td>LRPS</td>\n      <td>6446</td>\n      <td>6.446</td>\n      <td>LRPS</td>\n      <td>8800</td>\n      <td>8.8</td>\n      <td>2.354</td>\n      <td>0.0</td>\n      <td>...</td>\n      <td>42.0</td>\n      <td>912.0</td>\n      <td>679.0</td>\n      <td>528.0</td>\n      <td>584.0</td>\n      <td>0.0</td>\n      <td>1971.0</td>\n      <td>1112.0</td>\n      <td>3083.0</td>\n      <td>3083.0</td>\n    </tr>\n  </tbody>\n</table>\n<p>2066 rows × 26 columns</p>\n</div>"
     },
     "execution_count": 6,
     "metadata": {},
     "output_type": "execute_result"
    }
   ],
   "source": [
    "columns = df.iloc[1].tolist()\n",
    "columns[5] = \"LRP_2\"\n",
    "columns[6] = \"Offset_2\"\n",
    "columns[7] = \"Chainage_2\"\n",
    "columns[0] = 'Road'\n",
    "columns[1] = 'Name'\n",
    "big_df.columns = columns\n",
    "big_df"
   ],
   "metadata": {
    "collapsed": false,
    "ExecuteTime": {
     "end_time": "2024-03-28T11:28:42.607098900Z",
     "start_time": "2024-03-28T11:28:42.577626Z"
    }
   },
   "id": "1c1a749b23c82aaa"
  },
  {
   "cell_type": "code",
   "execution_count": 7,
   "outputs": [],
   "source": [
    "big_df.to_csv('../data/traffic_df.csv', index=False)"
   ],
   "metadata": {
    "collapsed": false,
    "ExecuteTime": {
     "end_time": "2024-03-28T11:28:42.630577Z",
     "start_time": "2024-03-28T11:28:42.601818700Z"
    }
   },
   "id": "3adac17e9782f746"
  },
  {
   "cell_type": "code",
   "execution_count": 8,
   "outputs": [],
   "source": [
    "bmms = pd.read_excel(\"../data/BMMS_overview.xlsx\")"
   ],
   "metadata": {
    "collapsed": false,
    "ExecuteTime": {
     "end_time": "2024-03-28T11:28:46.120796200Z",
     "start_time": "2024-03-28T11:28:42.624450400Z"
    }
   },
   "id": "b38be7b8342d4cdc"
  },
  {
   "cell_type": "code",
   "execution_count": 9,
   "outputs": [
    {
     "data": {
      "text/plain": "        road      km                   type  LRPName               name  \\\n0         N1   1.800            Box Culvert  LRP001a                  .   \n1         N1   4.925            Box Culvert  LRP004b                  .   \n2         N1   8.976       PC Girder Bridge  LRP008b  Kanch pur Bridge.   \n3         N1  10.880            Box Culvert  LRP010b   NOYAPARA CULVERT   \n4         N1  10.897            Box Culvert  LRP010c     ADUPUR CULVERT   \n...      ...     ...                    ...      ...                ...   \n20410  Z8806  83.728            Box Culvert  LRP083a                  .   \n20411  Z8810   3.981  Steel Beam & RCC Slab  LRP003b                  .   \n20412  Z8814  20.730  Baily with Steel Deck  LRP020b     Kalbari Bridge   \n20413  Z8910  28.880      RCC Girder Bridge  LRP028a   Narainpur Bridge   \n20414  Z8910  33.530      RCC Girder Bridge  LRP033c       Jor Bridge 2   \n\n       length condition  structureNr  \\\n0       11.30         A       117861   \n1        6.60         A       117862   \n2      394.23         A       119889   \n3        6.30         A       112531   \n4        6.30         A       112532   \n...       ...       ...          ...   \n20410    1.78         D       110470   \n20411   27.20         D       113458   \n20412   30.50         D       121147   \n20413    9.50         D       119249   \n20414    6.00         D       119254   \n\n                                                roadName  chainage  width  \\\n0      Dhaka (Jatrabari)-Comilla (Mainamati)-Chittago...     1.800   19.5   \n1      Dhaka (Jatrabari)-Comilla (Mainamati)-Chittago...     4.925   35.4   \n2      Dhaka (Jatrabari)-Comilla (Mainamati)-Chittago...     8.976    NaN   \n3      Dhaka (Jatrabari)-Comilla (Mainamati)-Chittago...    10.880   12.2   \n4      Dhaka (Jatrabari)-Comilla (Mainamati)-Chittago...    10.897   12.2   \n...                                                  ...       ...    ...   \n20410  Lebukhali-Dumki-Boga-Bauphal-Kalaiya-Dashmina-...    83.728    7.6   \n20411  Bakerganj-Padrishibpur-Kathaltali-Subidkhali-B...     3.981    3.2   \n20412  Barguna (Dakhin Ramna Kheya Ghat)-Dewatala-Mat...    20.730    NaN   \n20413       Barisal (Bairagirpool)-Tumchar-Bauphaul Road    28.880    NaN   \n20414       Barisal (Bairagirpool)-Tumchar-Bauphaul Road    33.530    NaN   \n\n       constructionYear  spans     zone      circle     division  \\\n0                2005.0    2.0    Dhaka       Dhaka  Narayanganj   \n1                2006.0    1.0    Dhaka       Dhaka  Narayanganj   \n2                   NaN    NaN    Dhaka       Dhaka  Narayanganj   \n3                1992.0    2.0    Dhaka       Dhaka  Narayanganj   \n4                1984.0    2.0    Dhaka       Dhaka  Narayanganj   \n...                 ...    ...      ...         ...          ...   \n20410            1980.0    1.0  Barisal  Patuakhali      Barguna   \n20411            1979.0    5.0  Barisal     Barisal      Barisal   \n20412               NaN    NaN  Barisal     Barisal     Pirojpur   \n20413               NaN    NaN  Barisal  Patuakhali   Patuakhali   \n20414               NaN    NaN  Barisal  Patuakhali   Patuakhali   \n\n        sub-division        lat        lon EstimatedLoc  \n0      Narayanganj-1  23.698739  90.458861  interpolate  \n1      Narayanganj-1  23.694664  90.487775  interpolate  \n2      Narayanganj-1  23.705060  90.523214  interpolate  \n3          Vitikandi  23.694391  90.537574  interpolate  \n4          Vitikandi  23.694302  90.537707  interpolate  \n...              ...        ...        ...          ...  \n20410        Barguna  22.183448  90.299962  interpolate  \n20411      Barisal-1  22.519353  90.310063  interpolate  \n20412       Kawkhali  22.282704  89.968512  interpolate  \n20413     Patuakhali  22.510650  90.535314  interpolate  \n20414     Patuakhali  22.474325  90.557335  interpolate  \n\n[20415 rows x 20 columns]",
      "text/html": "<div>\n<style scoped>\n    .dataframe tbody tr th:only-of-type {\n        vertical-align: middle;\n    }\n\n    .dataframe tbody tr th {\n        vertical-align: top;\n    }\n\n    .dataframe thead th {\n        text-align: right;\n    }\n</style>\n<table border=\"1\" class=\"dataframe\">\n  <thead>\n    <tr style=\"text-align: right;\">\n      <th></th>\n      <th>road</th>\n      <th>km</th>\n      <th>type</th>\n      <th>LRPName</th>\n      <th>name</th>\n      <th>length</th>\n      <th>condition</th>\n      <th>structureNr</th>\n      <th>roadName</th>\n      <th>chainage</th>\n      <th>width</th>\n      <th>constructionYear</th>\n      <th>spans</th>\n      <th>zone</th>\n      <th>circle</th>\n      <th>division</th>\n      <th>sub-division</th>\n      <th>lat</th>\n      <th>lon</th>\n      <th>EstimatedLoc</th>\n    </tr>\n  </thead>\n  <tbody>\n    <tr>\n      <th>0</th>\n      <td>N1</td>\n      <td>1.800</td>\n      <td>Box Culvert</td>\n      <td>LRP001a</td>\n      <td>.</td>\n      <td>11.30</td>\n      <td>A</td>\n      <td>117861</td>\n      <td>Dhaka (Jatrabari)-Comilla (Mainamati)-Chittago...</td>\n      <td>1.800</td>\n      <td>19.5</td>\n      <td>2005.0</td>\n      <td>2.0</td>\n      <td>Dhaka</td>\n      <td>Dhaka</td>\n      <td>Narayanganj</td>\n      <td>Narayanganj-1</td>\n      <td>23.698739</td>\n      <td>90.458861</td>\n      <td>interpolate</td>\n    </tr>\n    <tr>\n      <th>1</th>\n      <td>N1</td>\n      <td>4.925</td>\n      <td>Box Culvert</td>\n      <td>LRP004b</td>\n      <td>.</td>\n      <td>6.60</td>\n      <td>A</td>\n      <td>117862</td>\n      <td>Dhaka (Jatrabari)-Comilla (Mainamati)-Chittago...</td>\n      <td>4.925</td>\n      <td>35.4</td>\n      <td>2006.0</td>\n      <td>1.0</td>\n      <td>Dhaka</td>\n      <td>Dhaka</td>\n      <td>Narayanganj</td>\n      <td>Narayanganj-1</td>\n      <td>23.694664</td>\n      <td>90.487775</td>\n      <td>interpolate</td>\n    </tr>\n    <tr>\n      <th>2</th>\n      <td>N1</td>\n      <td>8.976</td>\n      <td>PC Girder Bridge</td>\n      <td>LRP008b</td>\n      <td>Kanch pur Bridge.</td>\n      <td>394.23</td>\n      <td>A</td>\n      <td>119889</td>\n      <td>Dhaka (Jatrabari)-Comilla (Mainamati)-Chittago...</td>\n      <td>8.976</td>\n      <td>NaN</td>\n      <td>NaN</td>\n      <td>NaN</td>\n      <td>Dhaka</td>\n      <td>Dhaka</td>\n      <td>Narayanganj</td>\n      <td>Narayanganj-1</td>\n      <td>23.705060</td>\n      <td>90.523214</td>\n      <td>interpolate</td>\n    </tr>\n    <tr>\n      <th>3</th>\n      <td>N1</td>\n      <td>10.880</td>\n      <td>Box Culvert</td>\n      <td>LRP010b</td>\n      <td>NOYAPARA CULVERT</td>\n      <td>6.30</td>\n      <td>A</td>\n      <td>112531</td>\n      <td>Dhaka (Jatrabari)-Comilla (Mainamati)-Chittago...</td>\n      <td>10.880</td>\n      <td>12.2</td>\n      <td>1992.0</td>\n      <td>2.0</td>\n      <td>Dhaka</td>\n      <td>Dhaka</td>\n      <td>Narayanganj</td>\n      <td>Vitikandi</td>\n      <td>23.694391</td>\n      <td>90.537574</td>\n      <td>interpolate</td>\n    </tr>\n    <tr>\n      <th>4</th>\n      <td>N1</td>\n      <td>10.897</td>\n      <td>Box Culvert</td>\n      <td>LRP010c</td>\n      <td>ADUPUR CULVERT</td>\n      <td>6.30</td>\n      <td>A</td>\n      <td>112532</td>\n      <td>Dhaka (Jatrabari)-Comilla (Mainamati)-Chittago...</td>\n      <td>10.897</td>\n      <td>12.2</td>\n      <td>1984.0</td>\n      <td>2.0</td>\n      <td>Dhaka</td>\n      <td>Dhaka</td>\n      <td>Narayanganj</td>\n      <td>Vitikandi</td>\n      <td>23.694302</td>\n      <td>90.537707</td>\n      <td>interpolate</td>\n    </tr>\n    <tr>\n      <th>...</th>\n      <td>...</td>\n      <td>...</td>\n      <td>...</td>\n      <td>...</td>\n      <td>...</td>\n      <td>...</td>\n      <td>...</td>\n      <td>...</td>\n      <td>...</td>\n      <td>...</td>\n      <td>...</td>\n      <td>...</td>\n      <td>...</td>\n      <td>...</td>\n      <td>...</td>\n      <td>...</td>\n      <td>...</td>\n      <td>...</td>\n      <td>...</td>\n      <td>...</td>\n    </tr>\n    <tr>\n      <th>20410</th>\n      <td>Z8806</td>\n      <td>83.728</td>\n      <td>Box Culvert</td>\n      <td>LRP083a</td>\n      <td>.</td>\n      <td>1.78</td>\n      <td>D</td>\n      <td>110470</td>\n      <td>Lebukhali-Dumki-Boga-Bauphal-Kalaiya-Dashmina-...</td>\n      <td>83.728</td>\n      <td>7.6</td>\n      <td>1980.0</td>\n      <td>1.0</td>\n      <td>Barisal</td>\n      <td>Patuakhali</td>\n      <td>Barguna</td>\n      <td>Barguna</td>\n      <td>22.183448</td>\n      <td>90.299962</td>\n      <td>interpolate</td>\n    </tr>\n    <tr>\n      <th>20411</th>\n      <td>Z8810</td>\n      <td>3.981</td>\n      <td>Steel Beam &amp; RCC Slab</td>\n      <td>LRP003b</td>\n      <td>.</td>\n      <td>27.20</td>\n      <td>D</td>\n      <td>113458</td>\n      <td>Bakerganj-Padrishibpur-Kathaltali-Subidkhali-B...</td>\n      <td>3.981</td>\n      <td>3.2</td>\n      <td>1979.0</td>\n      <td>5.0</td>\n      <td>Barisal</td>\n      <td>Barisal</td>\n      <td>Barisal</td>\n      <td>Barisal-1</td>\n      <td>22.519353</td>\n      <td>90.310063</td>\n      <td>interpolate</td>\n    </tr>\n    <tr>\n      <th>20412</th>\n      <td>Z8814</td>\n      <td>20.730</td>\n      <td>Baily with Steel Deck</td>\n      <td>LRP020b</td>\n      <td>Kalbari Bridge</td>\n      <td>30.50</td>\n      <td>D</td>\n      <td>121147</td>\n      <td>Barguna (Dakhin Ramna Kheya Ghat)-Dewatala-Mat...</td>\n      <td>20.730</td>\n      <td>NaN</td>\n      <td>NaN</td>\n      <td>NaN</td>\n      <td>Barisal</td>\n      <td>Barisal</td>\n      <td>Pirojpur</td>\n      <td>Kawkhali</td>\n      <td>22.282704</td>\n      <td>89.968512</td>\n      <td>interpolate</td>\n    </tr>\n    <tr>\n      <th>20413</th>\n      <td>Z8910</td>\n      <td>28.880</td>\n      <td>RCC Girder Bridge</td>\n      <td>LRP028a</td>\n      <td>Narainpur Bridge</td>\n      <td>9.50</td>\n      <td>D</td>\n      <td>119249</td>\n      <td>Barisal (Bairagirpool)-Tumchar-Bauphaul Road</td>\n      <td>28.880</td>\n      <td>NaN</td>\n      <td>NaN</td>\n      <td>NaN</td>\n      <td>Barisal</td>\n      <td>Patuakhali</td>\n      <td>Patuakhali</td>\n      <td>Patuakhali</td>\n      <td>22.510650</td>\n      <td>90.535314</td>\n      <td>interpolate</td>\n    </tr>\n    <tr>\n      <th>20414</th>\n      <td>Z8910</td>\n      <td>33.530</td>\n      <td>RCC Girder Bridge</td>\n      <td>LRP033c</td>\n      <td>Jor Bridge 2</td>\n      <td>6.00</td>\n      <td>D</td>\n      <td>119254</td>\n      <td>Barisal (Bairagirpool)-Tumchar-Bauphaul Road</td>\n      <td>33.530</td>\n      <td>NaN</td>\n      <td>NaN</td>\n      <td>NaN</td>\n      <td>Barisal</td>\n      <td>Patuakhali</td>\n      <td>Patuakhali</td>\n      <td>Patuakhali</td>\n      <td>22.474325</td>\n      <td>90.557335</td>\n      <td>interpolate</td>\n    </tr>\n  </tbody>\n</table>\n<p>20415 rows × 20 columns</p>\n</div>"
     },
     "execution_count": 9,
     "metadata": {},
     "output_type": "execute_result"
    }
   ],
   "source": [
    "bmms"
   ],
   "metadata": {
    "collapsed": false,
    "ExecuteTime": {
     "end_time": "2024-03-28T11:28:46.141033700Z",
     "start_time": "2024-03-28T11:28:46.121796500Z"
    }
   },
   "id": "3f4dfb6fded69c58"
  },
  {
   "cell_type": "code",
   "execution_count": 10,
   "outputs": [
    {
     "data": {
      "text/plain": "    Road                                            Name   LRP Offset  \\\n0  N1-1L        Jatrabari - Int.with Z1101 (Left) (Left)  LRPS      0   \n1  N1-1R       Jatrabari - Int.with Z1101 (Left) (Right)  LRPS      0   \n2  N1-2L   Int.with Z1101 - Signboard (Left) R111 (Left)  LRPS    822   \n3  N1-2R  Int.with Z1101 - Signboard (Left) R111 (Right)  LRPS    822   \n4  N1-3L          Signboard - Shimrail (Left)R110 (Left)  LRPS   4175   \n\n   Chainage LRP_2 Offset_2 Chainage_2   (Km) Heavy Truck  ... Cycle Rickshaw  \\\n0     0.000  LRPS      822      0.822  0.822       402.0  ...          889.0   \n1     0.000  LRPS      822      0.822  0.822       660.0  ...         1088.0   \n2     0.822  LRPS     4175      4.175  3.353       660.0  ...         1088.0   \n3     0.822  LRPS     4175      4.175  3.353       402.0  ...          889.0   \n4     4.175  LRPS     7181      7.181  3.006        91.0  ...         1198.0   \n\n  Cart Motorized Non Motorized Total AADT   (AADT) base_road condition lat lon  \n0  0.0   18236.0        1121.0    19357.0  19357.0        N1       NaN NaN NaN  \n1  0.0   20236.0        1301.0    21537.0  21537.0        N1       NaN NaN NaN  \n2  0.0   20236.0        1301.0    21537.0  21537.0        N1       NaN NaN NaN  \n3  0.0   18236.0        1121.0    19357.0  19357.0        N1       NaN NaN NaN  \n4  0.0   16288.0        1273.0    17561.0  17561.0        N1       NaN NaN NaN  \n\n[5 rows x 30 columns]",
      "text/html": "<div>\n<style scoped>\n    .dataframe tbody tr th:only-of-type {\n        vertical-align: middle;\n    }\n\n    .dataframe tbody tr th {\n        vertical-align: top;\n    }\n\n    .dataframe thead th {\n        text-align: right;\n    }\n</style>\n<table border=\"1\" class=\"dataframe\">\n  <thead>\n    <tr style=\"text-align: right;\">\n      <th></th>\n      <th>Road</th>\n      <th>Name</th>\n      <th>LRP</th>\n      <th>Offset</th>\n      <th>Chainage</th>\n      <th>LRP_2</th>\n      <th>Offset_2</th>\n      <th>Chainage_2</th>\n      <th>(Km)</th>\n      <th>Heavy Truck</th>\n      <th>...</th>\n      <th>Cycle Rickshaw</th>\n      <th>Cart</th>\n      <th>Motorized</th>\n      <th>Non Motorized</th>\n      <th>Total AADT</th>\n      <th>(AADT)</th>\n      <th>base_road</th>\n      <th>condition</th>\n      <th>lat</th>\n      <th>lon</th>\n    </tr>\n  </thead>\n  <tbody>\n    <tr>\n      <th>0</th>\n      <td>N1-1L</td>\n      <td>Jatrabari - Int.with Z1101 (Left) (Left)</td>\n      <td>LRPS</td>\n      <td>0</td>\n      <td>0.000</td>\n      <td>LRPS</td>\n      <td>822</td>\n      <td>0.822</td>\n      <td>0.822</td>\n      <td>402.0</td>\n      <td>...</td>\n      <td>889.0</td>\n      <td>0.0</td>\n      <td>18236.0</td>\n      <td>1121.0</td>\n      <td>19357.0</td>\n      <td>19357.0</td>\n      <td>N1</td>\n      <td>NaN</td>\n      <td>NaN</td>\n      <td>NaN</td>\n    </tr>\n    <tr>\n      <th>1</th>\n      <td>N1-1R</td>\n      <td>Jatrabari - Int.with Z1101 (Left) (Right)</td>\n      <td>LRPS</td>\n      <td>0</td>\n      <td>0.000</td>\n      <td>LRPS</td>\n      <td>822</td>\n      <td>0.822</td>\n      <td>0.822</td>\n      <td>660.0</td>\n      <td>...</td>\n      <td>1088.0</td>\n      <td>0.0</td>\n      <td>20236.0</td>\n      <td>1301.0</td>\n      <td>21537.0</td>\n      <td>21537.0</td>\n      <td>N1</td>\n      <td>NaN</td>\n      <td>NaN</td>\n      <td>NaN</td>\n    </tr>\n    <tr>\n      <th>2</th>\n      <td>N1-2L</td>\n      <td>Int.with Z1101 - Signboard (Left) R111 (Left)</td>\n      <td>LRPS</td>\n      <td>822</td>\n      <td>0.822</td>\n      <td>LRPS</td>\n      <td>4175</td>\n      <td>4.175</td>\n      <td>3.353</td>\n      <td>660.0</td>\n      <td>...</td>\n      <td>1088.0</td>\n      <td>0.0</td>\n      <td>20236.0</td>\n      <td>1301.0</td>\n      <td>21537.0</td>\n      <td>21537.0</td>\n      <td>N1</td>\n      <td>NaN</td>\n      <td>NaN</td>\n      <td>NaN</td>\n    </tr>\n    <tr>\n      <th>3</th>\n      <td>N1-2R</td>\n      <td>Int.with Z1101 - Signboard (Left) R111 (Right)</td>\n      <td>LRPS</td>\n      <td>822</td>\n      <td>0.822</td>\n      <td>LRPS</td>\n      <td>4175</td>\n      <td>4.175</td>\n      <td>3.353</td>\n      <td>402.0</td>\n      <td>...</td>\n      <td>889.0</td>\n      <td>0.0</td>\n      <td>18236.0</td>\n      <td>1121.0</td>\n      <td>19357.0</td>\n      <td>19357.0</td>\n      <td>N1</td>\n      <td>NaN</td>\n      <td>NaN</td>\n      <td>NaN</td>\n    </tr>\n    <tr>\n      <th>4</th>\n      <td>N1-3L</td>\n      <td>Signboard - Shimrail (Left)R110 (Left)</td>\n      <td>LRPS</td>\n      <td>4175</td>\n      <td>4.175</td>\n      <td>LRPS</td>\n      <td>7181</td>\n      <td>7.181</td>\n      <td>3.006</td>\n      <td>91.0</td>\n      <td>...</td>\n      <td>1198.0</td>\n      <td>0.0</td>\n      <td>16288.0</td>\n      <td>1273.0</td>\n      <td>17561.0</td>\n      <td>17561.0</td>\n      <td>N1</td>\n      <td>NaN</td>\n      <td>NaN</td>\n      <td>NaN</td>\n    </tr>\n  </tbody>\n</table>\n<p>5 rows × 30 columns</p>\n</div>"
     },
     "execution_count": 10,
     "metadata": {},
     "output_type": "execute_result"
    }
   ],
   "source": [
    "big_df['base_road'] = big_df['Road'].apply(lambda x: x.split('-')[0])\n",
    "big_df['Chainage'] = pd.to_numeric(big_df['Chainage'], errors='coerce')\n",
    "bmms['chainage'] = pd.to_numeric(bmms['chainage'], errors='coerce')\n",
    "\n",
    "# Step 1: Select and possibly rename columns from bmms_df\n",
    "# Assuming 'road', 'chainage', 'name', 'condition' are the columns you want from bmms_df\n",
    "# and that you've already created a column in traffic_df to accommodate 'condition' data\n",
    "bmms_subset = bmms[['road', 'chainage', 'name', 'condition', 'lat', 'lon']].copy()\n",
    "bmms_subset.rename(columns={'road': 'base_road', 'chainage': 'Chainage', 'name': 'Name'}, inplace=True)\n",
    "\n",
    "# Optionally add any missing columns to bmms_subset with default values or NaN\n",
    "# For columns in big_df that don't have a counterpart in bmms_subset\n",
    "for col in big_df.columns:\n",
    "    if col not in bmms_subset.columns:\n",
    "        bmms_subset[col] = pd.NA\n",
    "\n",
    "# Step 2: Use pd.concat to append bmms_subset as new rows to big_df\n",
    "# Note: Ensure the columns match or have been appropriately accounted for before concatenating\n",
    "combined_df = pd.concat([big_df, bmms_subset], ignore_index=True)\n",
    "\n",
    "# Now 'combined_df' contains the original rows from 'traffic_df' and new rows from 'bmms_subset'\n",
    "combined_df.head()\n"
   ],
   "metadata": {
    "collapsed": false,
    "ExecuteTime": {
     "end_time": "2024-03-28T11:28:46.495940700Z",
     "start_time": "2024-03-28T11:28:46.143401Z"
    }
   },
   "id": "48c9d485aa174982"
  },
  {
   "cell_type": "code",
   "execution_count": 11,
   "outputs": [],
   "source": [
    "combined_df = combined_df.sort_values(by=['base_road', 'Chainage'])\n",
    "combined_df.reset_index(drop=True, inplace=True)"
   ],
   "metadata": {
    "collapsed": false,
    "ExecuteTime": {
     "end_time": "2024-03-28T11:28:46.541858600Z",
     "start_time": "2024-03-28T11:28:46.491924900Z"
    }
   },
   "id": "966a5775735996d2"
  },
  {
   "cell_type": "code",
   "execution_count": 12,
   "outputs": [
    {
     "data": {
      "text/plain": "          Road                                               Name   LRP  \\\n0        N1-1L           Jatrabari - Int.with Z1101 (Left) (Left)  LRPS   \n1        N1-1R          Jatrabari - Int.with Z1101 (Left) (Right)  LRPS   \n2        N1-2L      Int.with Z1101 - Signboard (Left) R111 (Left)  LRPS   \n3        N1-2R     Int.with Z1101 - Signboard (Left) R111 (Right)  LRPS   \n4          NaN                                                  .   NaN   \n...        ...                                                ...   ...   \n22476  Z8943-2  Fakirhat (Int.with Z8948) - Kungerhat (Int.wit...  LRPS   \n22477      NaN                                                NaN   NaN   \n22478      NaN                                                  .   NaN   \n22479      NaN                                                NaN   NaN   \n22480      NaN                                                  .   NaN   \n\n      Offset  Chainage LRP_2 Offset_2 Chainage_2   (Km) Heavy Truck  ...  \\\n0          0     0.000  LRPS      822      0.822  0.822       402.0  ...   \n1          0     0.000  LRPS      822      0.822  0.822       660.0  ...   \n2        822     0.822  LRPS     4175      4.175  3.353       660.0  ...   \n3        822     0.822  LRPS     4175      4.175  3.353       402.0  ...   \n4        NaN     1.800   NaN      NaN        NaN    NaN         NaN  ...   \n...      ...       ...   ...      ...        ...    ...         ...  ...   \n22476   6446     6.446  LRPS     8800        8.8  2.354         0.0  ...   \n22477    NaN     6.692   NaN      NaN        NaN    NaN         NaN  ...   \n22478    NaN     6.767   NaN      NaN        NaN    NaN         NaN  ...   \n22479    NaN     8.104   NaN      NaN        NaN    NaN         NaN  ...   \n22480    NaN     8.609   NaN      NaN        NaN    NaN         NaN  ...   \n\n      Cycle Rickshaw Cart Motorized Non Motorized Total AADT   (AADT)  \\\n0              889.0  0.0   18236.0        1121.0    19357.0  19357.0   \n1             1088.0  0.0   20236.0        1301.0    21537.0  21537.0   \n2             1088.0  0.0   20236.0        1301.0    21537.0  21537.0   \n3              889.0  0.0   18236.0        1121.0    19357.0  19357.0   \n4                NaN  NaN       NaN           NaN        NaN      NaN   \n...              ...  ...       ...           ...        ...      ...   \n22476          584.0  0.0    1971.0        1112.0     3083.0   3083.0   \n22477            NaN  NaN       NaN           NaN        NaN      NaN   \n22478            NaN  NaN       NaN           NaN        NaN      NaN   \n22479            NaN  NaN       NaN           NaN        NaN      NaN   \n22480            NaN  NaN       NaN           NaN        NaN      NaN   \n\n      base_road condition        lat        lon  \n0            N1       NaN        NaN        NaN  \n1            N1       NaN        NaN        NaN  \n2            N1       NaN        NaN        NaN  \n3            N1       NaN        NaN        NaN  \n4            N1         A  23.698739  90.458861  \n...         ...       ...        ...        ...  \n22476     Z8943       NaN        NaN        NaN  \n22477     Z8943         A  22.428621  90.788543  \n22478     Z8943         A  22.428872  90.787904  \n22479     Z8943         C  22.430219  90.775203  \n22480     Z8943         A  22.428889  90.788333  \n\n[22481 rows x 30 columns]",
      "text/html": "<div>\n<style scoped>\n    .dataframe tbody tr th:only-of-type {\n        vertical-align: middle;\n    }\n\n    .dataframe tbody tr th {\n        vertical-align: top;\n    }\n\n    .dataframe thead th {\n        text-align: right;\n    }\n</style>\n<table border=\"1\" class=\"dataframe\">\n  <thead>\n    <tr style=\"text-align: right;\">\n      <th></th>\n      <th>Road</th>\n      <th>Name</th>\n      <th>LRP</th>\n      <th>Offset</th>\n      <th>Chainage</th>\n      <th>LRP_2</th>\n      <th>Offset_2</th>\n      <th>Chainage_2</th>\n      <th>(Km)</th>\n      <th>Heavy Truck</th>\n      <th>...</th>\n      <th>Cycle Rickshaw</th>\n      <th>Cart</th>\n      <th>Motorized</th>\n      <th>Non Motorized</th>\n      <th>Total AADT</th>\n      <th>(AADT)</th>\n      <th>base_road</th>\n      <th>condition</th>\n      <th>lat</th>\n      <th>lon</th>\n    </tr>\n  </thead>\n  <tbody>\n    <tr>\n      <th>0</th>\n      <td>N1-1L</td>\n      <td>Jatrabari - Int.with Z1101 (Left) (Left)</td>\n      <td>LRPS</td>\n      <td>0</td>\n      <td>0.000</td>\n      <td>LRPS</td>\n      <td>822</td>\n      <td>0.822</td>\n      <td>0.822</td>\n      <td>402.0</td>\n      <td>...</td>\n      <td>889.0</td>\n      <td>0.0</td>\n      <td>18236.0</td>\n      <td>1121.0</td>\n      <td>19357.0</td>\n      <td>19357.0</td>\n      <td>N1</td>\n      <td>NaN</td>\n      <td>NaN</td>\n      <td>NaN</td>\n    </tr>\n    <tr>\n      <th>1</th>\n      <td>N1-1R</td>\n      <td>Jatrabari - Int.with Z1101 (Left) (Right)</td>\n      <td>LRPS</td>\n      <td>0</td>\n      <td>0.000</td>\n      <td>LRPS</td>\n      <td>822</td>\n      <td>0.822</td>\n      <td>0.822</td>\n      <td>660.0</td>\n      <td>...</td>\n      <td>1088.0</td>\n      <td>0.0</td>\n      <td>20236.0</td>\n      <td>1301.0</td>\n      <td>21537.0</td>\n      <td>21537.0</td>\n      <td>N1</td>\n      <td>NaN</td>\n      <td>NaN</td>\n      <td>NaN</td>\n    </tr>\n    <tr>\n      <th>2</th>\n      <td>N1-2L</td>\n      <td>Int.with Z1101 - Signboard (Left) R111 (Left)</td>\n      <td>LRPS</td>\n      <td>822</td>\n      <td>0.822</td>\n      <td>LRPS</td>\n      <td>4175</td>\n      <td>4.175</td>\n      <td>3.353</td>\n      <td>660.0</td>\n      <td>...</td>\n      <td>1088.0</td>\n      <td>0.0</td>\n      <td>20236.0</td>\n      <td>1301.0</td>\n      <td>21537.0</td>\n      <td>21537.0</td>\n      <td>N1</td>\n      <td>NaN</td>\n      <td>NaN</td>\n      <td>NaN</td>\n    </tr>\n    <tr>\n      <th>3</th>\n      <td>N1-2R</td>\n      <td>Int.with Z1101 - Signboard (Left) R111 (Right)</td>\n      <td>LRPS</td>\n      <td>822</td>\n      <td>0.822</td>\n      <td>LRPS</td>\n      <td>4175</td>\n      <td>4.175</td>\n      <td>3.353</td>\n      <td>402.0</td>\n      <td>...</td>\n      <td>889.0</td>\n      <td>0.0</td>\n      <td>18236.0</td>\n      <td>1121.0</td>\n      <td>19357.0</td>\n      <td>19357.0</td>\n      <td>N1</td>\n      <td>NaN</td>\n      <td>NaN</td>\n      <td>NaN</td>\n    </tr>\n    <tr>\n      <th>4</th>\n      <td>NaN</td>\n      <td>.</td>\n      <td>NaN</td>\n      <td>NaN</td>\n      <td>1.800</td>\n      <td>NaN</td>\n      <td>NaN</td>\n      <td>NaN</td>\n      <td>NaN</td>\n      <td>NaN</td>\n      <td>...</td>\n      <td>NaN</td>\n      <td>NaN</td>\n      <td>NaN</td>\n      <td>NaN</td>\n      <td>NaN</td>\n      <td>NaN</td>\n      <td>N1</td>\n      <td>A</td>\n      <td>23.698739</td>\n      <td>90.458861</td>\n    </tr>\n    <tr>\n      <th>...</th>\n      <td>...</td>\n      <td>...</td>\n      <td>...</td>\n      <td>...</td>\n      <td>...</td>\n      <td>...</td>\n      <td>...</td>\n      <td>...</td>\n      <td>...</td>\n      <td>...</td>\n      <td>...</td>\n      <td>...</td>\n      <td>...</td>\n      <td>...</td>\n      <td>...</td>\n      <td>...</td>\n      <td>...</td>\n      <td>...</td>\n      <td>...</td>\n      <td>...</td>\n      <td>...</td>\n    </tr>\n    <tr>\n      <th>22476</th>\n      <td>Z8943-2</td>\n      <td>Fakirhat (Int.with Z8948) - Kungerhat (Int.wit...</td>\n      <td>LRPS</td>\n      <td>6446</td>\n      <td>6.446</td>\n      <td>LRPS</td>\n      <td>8800</td>\n      <td>8.8</td>\n      <td>2.354</td>\n      <td>0.0</td>\n      <td>...</td>\n      <td>584.0</td>\n      <td>0.0</td>\n      <td>1971.0</td>\n      <td>1112.0</td>\n      <td>3083.0</td>\n      <td>3083.0</td>\n      <td>Z8943</td>\n      <td>NaN</td>\n      <td>NaN</td>\n      <td>NaN</td>\n    </tr>\n    <tr>\n      <th>22477</th>\n      <td>NaN</td>\n      <td>NaN</td>\n      <td>NaN</td>\n      <td>NaN</td>\n      <td>6.692</td>\n      <td>NaN</td>\n      <td>NaN</td>\n      <td>NaN</td>\n      <td>NaN</td>\n      <td>NaN</td>\n      <td>...</td>\n      <td>NaN</td>\n      <td>NaN</td>\n      <td>NaN</td>\n      <td>NaN</td>\n      <td>NaN</td>\n      <td>NaN</td>\n      <td>Z8943</td>\n      <td>A</td>\n      <td>22.428621</td>\n      <td>90.788543</td>\n    </tr>\n    <tr>\n      <th>22478</th>\n      <td>NaN</td>\n      <td>.</td>\n      <td>NaN</td>\n      <td>NaN</td>\n      <td>6.767</td>\n      <td>NaN</td>\n      <td>NaN</td>\n      <td>NaN</td>\n      <td>NaN</td>\n      <td>NaN</td>\n      <td>...</td>\n      <td>NaN</td>\n      <td>NaN</td>\n      <td>NaN</td>\n      <td>NaN</td>\n      <td>NaN</td>\n      <td>NaN</td>\n      <td>Z8943</td>\n      <td>A</td>\n      <td>22.428872</td>\n      <td>90.787904</td>\n    </tr>\n    <tr>\n      <th>22479</th>\n      <td>NaN</td>\n      <td>NaN</td>\n      <td>NaN</td>\n      <td>NaN</td>\n      <td>8.104</td>\n      <td>NaN</td>\n      <td>NaN</td>\n      <td>NaN</td>\n      <td>NaN</td>\n      <td>NaN</td>\n      <td>...</td>\n      <td>NaN</td>\n      <td>NaN</td>\n      <td>NaN</td>\n      <td>NaN</td>\n      <td>NaN</td>\n      <td>NaN</td>\n      <td>Z8943</td>\n      <td>C</td>\n      <td>22.430219</td>\n      <td>90.775203</td>\n    </tr>\n    <tr>\n      <th>22480</th>\n      <td>NaN</td>\n      <td>.</td>\n      <td>NaN</td>\n      <td>NaN</td>\n      <td>8.609</td>\n      <td>NaN</td>\n      <td>NaN</td>\n      <td>NaN</td>\n      <td>NaN</td>\n      <td>NaN</td>\n      <td>...</td>\n      <td>NaN</td>\n      <td>NaN</td>\n      <td>NaN</td>\n      <td>NaN</td>\n      <td>NaN</td>\n      <td>NaN</td>\n      <td>Z8943</td>\n      <td>A</td>\n      <td>22.428889</td>\n      <td>90.788333</td>\n    </tr>\n  </tbody>\n</table>\n<p>22481 rows × 30 columns</p>\n</div>"
     },
     "execution_count": 12,
     "metadata": {},
     "output_type": "execute_result"
    }
   ],
   "source": [
    "combined_df"
   ],
   "metadata": {
    "collapsed": false,
    "ExecuteTime": {
     "end_time": "2024-03-28T11:28:46.693453300Z",
     "start_time": "2024-03-28T11:28:46.523694400Z"
    }
   },
   "id": "5f90ed2a7903c2c3"
  },
  {
   "cell_type": "code",
   "execution_count": 14,
   "outputs": [
    {
     "data": {
      "text/plain": "        road  chainage      lrp        lat        lon  gap       type  \\\n0         N1     0.000     LRPS  23.706028  90.443333  NaN     Others   \n1         N1     0.814    LRPSa  23.702917  90.450417  NaN    Culvert   \n2         N1     0.822    LRPSb  23.702778  90.450472  NaN  CrossRoad   \n3         N1     1.000   LRP001  23.702139  90.451972  NaN     KmPost   \n4         N1     2.000   LRP002  23.697889  90.460583  NaN     KmPost   \n...      ...       ...      ...        ...        ...  ...        ...   \n51343  Z8943     7.000   LRP007  22.429499  90.785722  NaN     KmPost   \n51344  Z8943     8.000   LRP008  22.430110  90.776333  NaN     KmPost   \n51345  Z8943     8.133  LRP008a  22.430249  90.774888   BS     Bridge   \n51346  Z8943     8.151  LRP008b  22.430249  90.774860   BE     Bridge   \n51347  Z8943     8.800     LRPE  22.430166  90.768916  NaN     Others   \n\n                                                    name  \n0      Start of Road  after Jatrabari Flyover infront...  \n1                                            Box Culvert  \n2                                Intersection with Z1101  \n3                                        Km post missing  \n4                                        Km post missing  \n...                                                  ...  \n51343                                    Km Post Missing  \n51344                                    Km Post Missing  \n51345                                    Start of Bridge  \n51346                                      End of Bridge  \n51347  End at Kunjerhat Bazar and intersct with R890,...  \n\n[51348 rows x 8 columns]",
      "text/html": "<div>\n<style scoped>\n    .dataframe tbody tr th:only-of-type {\n        vertical-align: middle;\n    }\n\n    .dataframe tbody tr th {\n        vertical-align: top;\n    }\n\n    .dataframe thead th {\n        text-align: right;\n    }\n</style>\n<table border=\"1\" class=\"dataframe\">\n  <thead>\n    <tr style=\"text-align: right;\">\n      <th></th>\n      <th>road</th>\n      <th>chainage</th>\n      <th>lrp</th>\n      <th>lat</th>\n      <th>lon</th>\n      <th>gap</th>\n      <th>type</th>\n      <th>name</th>\n    </tr>\n  </thead>\n  <tbody>\n    <tr>\n      <th>0</th>\n      <td>N1</td>\n      <td>0.000</td>\n      <td>LRPS</td>\n      <td>23.706028</td>\n      <td>90.443333</td>\n      <td>NaN</td>\n      <td>Others</td>\n      <td>Start of Road  after Jatrabari Flyover infront...</td>\n    </tr>\n    <tr>\n      <th>1</th>\n      <td>N1</td>\n      <td>0.814</td>\n      <td>LRPSa</td>\n      <td>23.702917</td>\n      <td>90.450417</td>\n      <td>NaN</td>\n      <td>Culvert</td>\n      <td>Box Culvert</td>\n    </tr>\n    <tr>\n      <th>2</th>\n      <td>N1</td>\n      <td>0.822</td>\n      <td>LRPSb</td>\n      <td>23.702778</td>\n      <td>90.450472</td>\n      <td>NaN</td>\n      <td>CrossRoad</td>\n      <td>Intersection with Z1101</td>\n    </tr>\n    <tr>\n      <th>3</th>\n      <td>N1</td>\n      <td>1.000</td>\n      <td>LRP001</td>\n      <td>23.702139</td>\n      <td>90.451972</td>\n      <td>NaN</td>\n      <td>KmPost</td>\n      <td>Km post missing</td>\n    </tr>\n    <tr>\n      <th>4</th>\n      <td>N1</td>\n      <td>2.000</td>\n      <td>LRP002</td>\n      <td>23.697889</td>\n      <td>90.460583</td>\n      <td>NaN</td>\n      <td>KmPost</td>\n      <td>Km post missing</td>\n    </tr>\n    <tr>\n      <th>...</th>\n      <td>...</td>\n      <td>...</td>\n      <td>...</td>\n      <td>...</td>\n      <td>...</td>\n      <td>...</td>\n      <td>...</td>\n      <td>...</td>\n    </tr>\n    <tr>\n      <th>51343</th>\n      <td>Z8943</td>\n      <td>7.000</td>\n      <td>LRP007</td>\n      <td>22.429499</td>\n      <td>90.785722</td>\n      <td>NaN</td>\n      <td>KmPost</td>\n      <td>Km Post Missing</td>\n    </tr>\n    <tr>\n      <th>51344</th>\n      <td>Z8943</td>\n      <td>8.000</td>\n      <td>LRP008</td>\n      <td>22.430110</td>\n      <td>90.776333</td>\n      <td>NaN</td>\n      <td>KmPost</td>\n      <td>Km Post Missing</td>\n    </tr>\n    <tr>\n      <th>51345</th>\n      <td>Z8943</td>\n      <td>8.133</td>\n      <td>LRP008a</td>\n      <td>22.430249</td>\n      <td>90.774888</td>\n      <td>BS</td>\n      <td>Bridge</td>\n      <td>Start of Bridge</td>\n    </tr>\n    <tr>\n      <th>51346</th>\n      <td>Z8943</td>\n      <td>8.151</td>\n      <td>LRP008b</td>\n      <td>22.430249</td>\n      <td>90.774860</td>\n      <td>BE</td>\n      <td>Bridge</td>\n      <td>End of Bridge</td>\n    </tr>\n    <tr>\n      <th>51347</th>\n      <td>Z8943</td>\n      <td>8.800</td>\n      <td>LRPE</td>\n      <td>22.430166</td>\n      <td>90.768916</td>\n      <td>NaN</td>\n      <td>Others</td>\n      <td>End at Kunjerhat Bazar and intersct with R890,...</td>\n    </tr>\n  </tbody>\n</table>\n<p>51348 rows × 8 columns</p>\n</div>"
     },
     "execution_count": 14,
     "metadata": {},
     "output_type": "execute_result"
    }
   ],
   "source": [
    "roads = pd.read_csv('../../EPA133a-G2-A3/data/_roads3.csv')\n",
    "roads"
   ],
   "metadata": {
    "collapsed": false,
    "ExecuteTime": {
     "end_time": "2024-03-28T11:28:46.922988700Z",
     "start_time": "2024-03-28T11:28:46.764970600Z"
    }
   },
   "id": "b3c3989e1119e0db"
  },
  {
   "cell_type": "code",
   "execution_count": 33,
   "outputs": [],
   "source": [
    "for index, row in combined_df.iterrows():\n",
    "    if pd.isnull(row['lat']):\n",
    "        chainage = row['Chainage']\n",
    "        road = row['base_road']\n",
    "        closest_chainage = 9999\n",
    "        closest_lat = 99999\n",
    "        closest_lon = 99999\n",
    "        closest_row = None\n",
    "        for index2, row2 in roads[roads['road'] == road].iterrows():\n",
    "            if abs(chainage - row2['chainage']) < closest_chainage:\n",
    "                closest_row = row2\n",
    "                closest_lat = row2['lat']\n",
    "                closest_lon = row2['lon']\n",
    "                closest_chainage = abs(chainage - row2['chainage'])\n",
    "            else:\n",
    "                combined_df.loc[index, 'lat'] = closest_lat\n",
    "                combined_df.loc[index, 'lon'] = closest_lon\n",
    "                break\n",
    "        \n",
    "                \n",
    "            \n",
    "            \n",
    "        "
   ],
   "metadata": {
    "collapsed": false,
    "ExecuteTime": {
     "end_time": "2024-03-28T11:44:05.715532500Z",
     "start_time": "2024-03-28T11:43:53.099424200Z"
    }
   },
   "id": "5c618fd61d2a0683"
  },
  {
   "cell_type": "code",
   "execution_count": 35,
   "outputs": [],
   "source": [
    "combined_df.to_csv('../data/traffic_df_with_bridges.csv', index=False)"
   ],
   "metadata": {
    "collapsed": false,
    "ExecuteTime": {
     "end_time": "2024-03-28T11:44:53.484149100Z",
     "start_time": "2024-03-28T11:44:53.356090900Z"
    }
   },
   "id": "f6f958744101eb8d"
  },
  {
   "cell_type": "code",
   "execution_count": null,
   "outputs": [],
   "source": [],
   "metadata": {
    "collapsed": false
   },
   "id": "91a64f5b96184beb"
  }
 ],
 "metadata": {
  "kernelspec": {
   "display_name": "Python 3",
   "language": "python",
   "name": "python3"
  },
  "language_info": {
   "codemirror_mode": {
    "name": "ipython",
    "version": 2
   },
   "file_extension": ".py",
   "mimetype": "text/x-python",
   "name": "python",
   "nbconvert_exporter": "python",
   "pygments_lexer": "ipython2",
   "version": "2.7.6"
  }
 },
 "nbformat": 4,
 "nbformat_minor": 5
}

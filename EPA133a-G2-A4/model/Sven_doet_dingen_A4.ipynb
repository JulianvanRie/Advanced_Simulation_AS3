{
 "cells": [
  {
   "cell_type": "code",
   "execution_count": null,
   "id": "initial_id",
   "metadata": {
    "collapsed": true
   },
   "outputs": [],
   "source": [
    "import numpy as np\n",
    "import pandas as pd\n",
    "import networkx as nx\n",
    "import os\n",
    "import matplotlib.pyplot as plt\n",
    "import re"
   ]
  },
  {
   "cell_type": "code",
   "execution_count": null,
   "outputs": [],
   "source": [
    "folder_path = '../data/Traffic_data'\n",
    "\n",
    "dataframes = {}\n",
    "\n",
    "for file in os.listdir(folder_path):\n",
    "    if file.endswith('.traffic.htm'):\n",
    "        file_path = os.path.join(folder_path, file)\n",
    "        file_name = file.split('.')[0]\n",
    "        df_list = pd.read_html(file_path)\n",
    "        df = df_list[4]\n",
    "        df = df.iloc[1:].reset_index(drop=True)\n",
    "        df_key = file_name\n",
    "        dataframes[df_key] = df"
   ],
   "metadata": {
    "collapsed": false
   },
   "id": "70ac278ab3f11c39"
  },
  {
   "cell_type": "code",
   "execution_count": null,
   "outputs": [],
   "source": [
    "# Create an empty list to store the modified DataFrames\n",
    "modified_dfs = []\n",
    "\n",
    "# Iterate through the dictionary and skip the first two rows of each DataFrame\n",
    "for key, df in dataframes.items():\n",
    "    modified_df = df.iloc[2:]  # Skip the first two rows\n",
    "    modified_dfs.append(modified_df)\n",
    "\n",
    "# Concatenate all the modified DataFrames into one big DataFrame\n",
    "big_df = pd.concat(modified_dfs, ignore_index=True)"
   ],
   "metadata": {
    "collapsed": false
   },
   "id": "a23879f86ca347f7"
  },
  {
   "cell_type": "code",
   "execution_count": null,
   "outputs": [],
   "source": [
    "columns = df.iloc[1].tolist()\n",
    "columns[5] = \"LRP_2\"\n",
    "columns[6] = \"Offset_2\"\n",
    "columns[7] = \"Chainage_2\"\n",
    "columns[0] = 'Road'\n",
    "columns[1] = 'Name'\n",
    "big_df.columns = columns\n",
    "big_df"
   ],
   "metadata": {
    "collapsed": false
   },
   "id": "1c1a749b23c82aaa"
  },
  {
   "cell_type": "code",
   "execution_count": null,
   "outputs": [],
   "source": [
    "big_df['type'] = 'road'\n",
    "# Define a function to find all road names in the 'Name' column\n",
    "def find_roads(name):\n",
    "    # Regular expression to match the pattern described (roads starting with Z, N, or R followed by numbers)\n",
    "    road_pattern = re.compile(r'\\b[ZNR]\\d+\\b')\n",
    "    # Find all matches in the name\n",
    "    found_roads = road_pattern.findall(name)\n",
    "    return found_roads\n",
    "\n",
    "# Apply the function to the 'Name' column to create a new column with the list of identified roads\n",
    "big_df['identified_roads'] = big_df['Name'].apply(find_roads)\n"
   ],
   "metadata": {
    "collapsed": false
   },
   "id": "627fc58eed36dd74"
  },
  {
   "cell_type": "code",
   "execution_count": null,
   "outputs": [],
   "source": [
    "bmms = pd.read_excel(\"../data/BMMS_overview.xlsx\")"
   ],
   "metadata": {
    "collapsed": false
   },
   "id": "b38be7b8342d4cdc"
  },
  {
   "cell_type": "code",
   "execution_count": null,
   "outputs": [],
   "source": [
    "bmms"
   ],
   "metadata": {
    "collapsed": false
   },
   "id": "3f4dfb6fded69c58"
  },
  {
   "cell_type": "code",
   "execution_count": null,
   "outputs": [],
   "source": [
    "big_df['base_road'] = big_df['Road'].apply(lambda x: x.split('-')[0])\n",
    "big_df['Chainage'] = pd.to_numeric(big_df['Chainage'], errors='coerce')\n",
    "bmms['chainage'] = pd.to_numeric(bmms['chainage'], errors='coerce')\n",
    "\n",
    "# Step 1: Select and possibly rename columns from bmms_df\n",
    "# Assuming 'road', 'chainage', 'name', 'condition' are the columns you want from bmms_df\n",
    "# and that you've already created a column in traffic_df to accommodate 'condition' data\n",
    "bmms_subset = bmms[['road', 'chainage', 'name', 'condition', 'lat', 'lon']].copy()\n",
    "bmms_subset.rename(columns={'road': 'base_road', 'chainage': 'Chainage', 'name': 'Name'}, inplace=True)\n",
    "\n",
    "# Optionally add any missing columns to bmms_subset with default values or NaN\n",
    "# For columns in big_df that don't have a counterpart in bmms_subset\n",
    "for col in big_df.columns:\n",
    "    if col not in bmms_subset.columns:\n",
    "        bmms_subset[col] = pd.NA\n",
    "bmms_subset['type'] = 'bridge'\n",
    "\n",
    "# Step 2: Use pd.concat to append bmms_subset as new rows to big_df\n",
    "# Note: Ensure the columns match or have been appropriately accounted for before concatenating\n",
    "combined_df = pd.concat([big_df, bmms_subset], ignore_index=True)\n",
    "\n",
    "# Now 'combined_df' contains the original rows from 'traffic_df' and new rows from 'bmms_subset'\n",
    "combined_df\n"
   ],
   "metadata": {
    "collapsed": false
   },
   "id": "48c9d485aa174982"
  },
  {
   "cell_type": "code",
   "execution_count": null,
   "outputs": [],
   "source": [
    "combined_df = combined_df.sort_values(by=['base_road', 'Chainage'])\n",
    "combined_df.reset_index(drop=True, inplace=True)"
   ],
   "metadata": {
    "collapsed": false
   },
   "id": "966a5775735996d2"
  },
  {
   "cell_type": "code",
   "execution_count": null,
   "outputs": [],
   "source": [
    "combined_df"
   ],
   "metadata": {
    "collapsed": false
   },
   "id": "5f90ed2a7903c2c3"
  },
  {
   "cell_type": "code",
   "execution_count": null,
   "outputs": [],
   "source": [
    "roads = pd.read_csv('../../EPA133a-G2-A3/data/_roads3.csv')\n",
    "roads"
   ],
   "metadata": {
    "collapsed": false
   },
   "id": "b3c3989e1119e0db"
  },
  {
   "cell_type": "code",
   "execution_count": null,
   "outputs": [],
   "source": [
    "for index, row in combined_df.iterrows():\n",
    "    if pd.isnull(row['lat']):\n",
    "        chainage = row['Chainage']\n",
    "        road = row['base_road']\n",
    "        closest_chainage = 9999\n",
    "        closest_lat = 99999\n",
    "        closest_lon = 99999\n",
    "        closest_row = None\n",
    "        for index2, row2 in roads[roads['road'] == road].iterrows():\n",
    "            if abs(chainage - row2['chainage']) < closest_chainage:\n",
    "                closest_row = row2\n",
    "                closest_lat = row2['lat']\n",
    "                closest_lon = row2['lon']\n",
    "                closest_chainage = abs(chainage - row2['chainage'])\n",
    "            else:\n",
    "                combined_df.loc[index, 'lat'] = closest_lat\n",
    "                combined_df.loc[index, 'lon'] = closest_lon\n",
    "                break\n",
    "        \n",
    "                \n",
    "            \n",
    "            \n",
    "        "
   ],
   "metadata": {
    "collapsed": false
   },
   "id": "5c618fd61d2a0683"
  },
  {
   "cell_type": "code",
   "execution_count": null,
   "outputs": [],
   "source": [
    "combined_df.to_csv('../data/traffic_df_with_bridges.csv', index=False)"
   ],
   "metadata": {
    "collapsed": false
   },
   "id": "f6f958744101eb8d"
  },
  {
   "cell_type": "code",
   "execution_count": null,
   "outputs": [],
   "source": [
    "df = combined_df.copy()\n",
    "df"
   ],
   "metadata": {
    "collapsed": false
   },
   "id": "840b4aa363af6169"
  },
  {
   "cell_type": "code",
   "execution_count": null,
   "outputs": [],
   "source": [
    "df_filtered = df[~df[\"Road\"].str.contains(\"L\", na=False)]\n",
    "df_filtered.to_csv('../data/traffic_df_with_bridges_and_intersections_onlyR.csv')"
   ],
   "metadata": {
    "collapsed": false
   },
   "id": "633ab749a6e42ec3"
  },
  {
   "cell_type": "code",
   "execution_count": null,
   "outputs": [],
   "source": [
    "df_filtered = df_filtered.reset_index()"
   ],
   "metadata": {
    "collapsed": false
   },
   "id": "463667dba6d33367"
  },
  {
   "cell_type": "code",
   "execution_count": null,
   "outputs": [],
   "source": [
    "import networkx as nx\n",
    "import matplotlib.pyplot as plt\n",
    "\n",
    "# Assuming combined_df is your DataFrame and it has 'lat' and 'lon' columns\n",
    "positions = {index: (\n",
    "    row['lon'], row['lat'], row['Name'], row['Road'], row['base_road'],\n",
    "    row['Heavy Truck'], row['Medium Truck'], row['Small Truck'],\n",
    "    row['Large Bus'], row['Medium Bus'], row['Micro Bus'], row['Utility'],\n",
    "    row['Car'], row['Auto Rickshaw'], row['Motor Cycle'], row['Bi-Cycle'],\n",
    "    row['Cycle Rickshaw'], row['Cart'], row['Motorized'], row['Non Motorized'],\n",
    "    row['Total AADT'], row['(AADT)']\n",
    ") for index, row in df_filtered.iterrows()}\n",
    "\n",
    "# Create a graph\n",
    "G = nx.Graph()\n",
    "\n",
    "# Add nodes with positions\n",
    "for node, pos in positions.items():\n",
    "    G.add_node(node,\n",
    "               pos=(pos[0], pos[1]),\n",
    "               Name=pos[2],\n",
    "               Road=pos[3],\n",
    "               base_road=pos[4],\n",
    "               Heavy_Truck=pos[5],\n",
    "               Medium_Truck=pos[6],\n",
    "               Small_Truck=pos[7],\n",
    "               Large_Bus=pos[8],\n",
    "               Medium_Bus=pos[9],\n",
    "               Micro_Bus=pos[10],\n",
    "               Utility=pos[11],\n",
    "               Car=pos[12],\n",
    "               Auto_Rickshaw=pos[13],\n",
    "               Motor_Cycle=pos[14],\n",
    "               Bi_Cycle=pos[15],\n",
    "               Cycle_Rickshaw=pos[16],\n",
    "               Cart=pos[17],\n",
    "               Motorized=pos[18],\n",
    "               Non_Motorized=pos[19],\n",
    "               Total_AADT=pos[20],\n",
    "               AADT=pos[21])  # Assuming 'AADT' is at pos[21], adjust accordingly\n",
    "\n",
    "\n",
    "# If you also want to connect nodes, you can add edges here\n",
    "# For example, to connect each node to its nearest neighbor (simplistic approach):\n",
    "# for i, node_i_pos in positions.items():\n",
    "#     closest_node, min_dist = None, float('inf')\n",
    "#     for j, node_j_pos in positions.items():\n",
    "#         if i != j:\n",
    "#             dist = ((node_i_pos[0] - node_j_pos[0])**2 + (node_i_pos[1] - node_j_pos[1])**2)**0.5\n",
    "#             if dist < min_dist:\n",
    "#                 closest_node, min_dist = j, dist\n",
    "#     G.add_edge(i, closest_node)\n",
    "\n",
    "# Extract positions from graph nodes for plotting\n",
    "pos = nx.get_node_attributes(G, 'pos')\n",
    "plt.figure(figsize=(14, 8))\n",
    "# Draw the graph\n",
    "nx.draw(G, pos, node_size=0.1)  # Adjust node_size for better visibility\n",
    "plt.show()\n"
   ],
   "metadata": {
    "collapsed": false
   },
   "id": "157dd17f181ce1e"
  },
  {
   "cell_type": "code",
   "execution_count": null,
   "outputs": [],
   "source": [
    "previous_node = None\n",
    "previous_base_road = None\n",
    "\n",
    "for index, row in df_filtered.iterrows():\n",
    "    current_base_road = row['base_road']\n",
    "  \n",
    "    if previous_node is not None and previous_base_road == current_base_road:\n",
    "        G.add_edge(previous_node, index)\n",
    "    \n",
    "    previous_node = index\n",
    "    previous_base_road = current_base_road"
   ],
   "metadata": {
    "collapsed": false
   },
   "id": "bd73768f0dd97033"
  },
  {
   "cell_type": "code",
   "execution_count": null,
   "outputs": [],
   "source": [
    "for index, row in df_filtered.iterrows():\n",
    "    row_lat = row['lat']\n",
    "    row_lon = row['lon']\n",
    "    best_abs = 9999\n",
    "    best_row = None\n",
    "    # Check if the value is not NaN and is an instance of list\n",
    "    if isinstance(row['identified_roads'], list):\n",
    "        for road in row['identified_roads']:\n",
    "            for index2, row2 in df_filtered[df_filtered['base_road'] == road].iterrows():\n",
    "                diff_lat = abs(row2['lat'] - row_lat)\n",
    "                diff_lon = abs(row2['lon'] - row_lon)\n",
    "                diff_abs = diff_lon + diff_lat\n",
    "                if diff_abs < best_abs:\n",
    "                    best_abs = diff_abs\n",
    "                    best_row = row2\n",
    "    if best_row is not None:\n",
    "        G.add_edge(best_row.name, row.name, weight=0)\n",
    "                \n",
    "                "
   ],
   "metadata": {
    "collapsed": false
   },
   "id": "e2d6f94798de7a25"
  },
  {
   "cell_type": "code",
   "execution_count": null,
   "outputs": [],
   "source": [
    "pos = nx.get_node_attributes(G, 'pos')\n",
    "plt.figure(figsize=(14, 8))\n",
    "# Draw the graph\n",
    "nx.draw(G, pos, node_size=1)  # Adjust node_size for better visibility\n",
    "plt.show()"
   ],
   "metadata": {
    "collapsed": false
   },
   "id": "ccb4d69681906a88"
  },
  {
   "cell_type": "code",
   "execution_count": null,
   "outputs": [],
   "source": [
    "# def road_in_graph(graph, road_name):\n",
    "#     for node in graph.nodes(data=True):\n",
    "#         if node[1].get('Road') == road_name:\n",
    "#             return True\n",
    "#     return False\n",
    "# \n",
    "# def find_potential_edges(road):\n",
    "#     edges = []\n",
    "#     base, part = road.rsplit('-', 1)\n",
    "#     \n",
    "#     if part.endswith('L'):\n",
    "#         # Add edges to the next road number on the left side and to the generic road\n",
    "#         edges.append((road, f\"{base}-{str(int(part[:-1])+1)}L\"))\n",
    "#         edges.append((road, f\"{base}-{str(int(part[:-1])+1)}\"))\n",
    "#     elif part.endswith('R'):\n",
    "#         # Add edges to the next road number on the right side (We don't connect R to the generic road as per the rule)\n",
    "#         edges.append((road, f\"{base}-{str(int(part[:-1])+1)}R\"))\n",
    "#     else:\n",
    "#         # This case handles roads without L or R and tries to increment\n",
    "#         try:\n",
    "#             numeric_part = int(part)\n",
    "#             # Add edges to both L and R of the next road number and to the next generic road\n",
    "#             edges.append((road, f\"{base}-{str(numeric_part+1)}L\"))\n",
    "#             edges.append((road, f\"{base}-{str(numeric_part+1)}R\"))\n",
    "#             edges.append((road, f\"{base}-{str(numeric_part+1)}\"))\n",
    "#         except ValueError:\n",
    "#             # In case the part is not numeric, we won't add any edges\n",
    "#             pass\n",
    "#     \n",
    "#     return edges\n",
    "# \n",
    "# # For each road, find and add potential edges\n",
    "# for road in G.nodes():\n",
    "#     name_attribute = G.nodes[road].get('Road')\n",
    "#     if pd.isnull(name_attribute) == False:\n",
    "#         potential_edges = find_potential_edges(name_attribute)\n",
    "#         for edge in potential_edges:\n",
    "#             # print('road', G.nodes[road].get('Road'))\n",
    "#             # print(potential_edges)\n",
    "#             if edge[1] in G.nodes():  # Add the edge only if the target node exists\n",
    "#                 print(edge)\n",
    "#                 G.add_edge(*edge, color='red')\n",
    "# \n",
    "# # Show a brief summary of the graph to confirm edge creation"
   ],
   "metadata": {
    "collapsed": false
   },
   "id": "ae9071e69a2cc37e"
  },
  {
   "cell_type": "code",
   "execution_count": null,
   "outputs": [],
   "source": [],
   "metadata": {
    "collapsed": false
   },
   "id": "9f54f9990b789ea1"
  },
  {
   "cell_type": "code",
   "execution_count": null,
   "outputs": [],
   "source": [],
   "metadata": {
    "collapsed": false
   },
   "id": "d0d37a0b020d8d74"
  },
  {
   "cell_type": "code",
   "execution_count": null,
   "outputs": [],
   "source": [],
   "metadata": {
    "collapsed": false
   },
   "id": "6624b44025f9362d"
  }
 ],
 "metadata": {
  "kernelspec": {
   "display_name": "Python 3",
   "language": "python",
   "name": "python3"
  },
  "language_info": {
   "codemirror_mode": {
    "name": "ipython",
    "version": 2
   },
   "file_extension": ".py",
   "mimetype": "text/x-python",
   "name": "python",
   "nbconvert_exporter": "python",
   "pygments_lexer": "ipython2",
   "version": "2.7.6"
  }
 },
 "nbformat": 4,
 "nbformat_minor": 5
}

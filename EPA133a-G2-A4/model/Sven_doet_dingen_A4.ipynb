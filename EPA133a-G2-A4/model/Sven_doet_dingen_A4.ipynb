{
 "cells": [
  {
   "cell_type": "code",
   "execution_count": 1,
   "id": "initial_id",
   "metadata": {
    "collapsed": true,
    "ExecuteTime": {
     "end_time": "2024-03-27T10:17:54.712050300Z",
     "start_time": "2024-03-27T10:17:53.830039200Z"
    }
   },
   "outputs": [],
   "source": [
    "import pandas as pd\n",
    "import networkx as nx\n",
    "import os"
   ]
  },
  {
   "cell_type": "code",
   "execution_count": 2,
   "outputs": [],
   "source": [
    "folder_path = '../data/Traffic_data'\n",
    "\n",
    "dataframes = {}\n",
    "\n",
    "for file in os.listdir(folder_path):\n",
    "    if file.endswith('.traffic.htm'):\n",
    "        file_path = os.path.join(folder_path, file)\n",
    "        file_name = file.split('.')[0]\n",
    "        df_list = pd.read_html(file_path)\n",
    "        df = df_list[4]\n",
    "        df = df.iloc[1:].reset_index(drop=True)\n",
    "        df_key = file_name\n",
    "        dataframes[df_key] = df"
   ],
   "metadata": {
    "collapsed": false,
    "ExecuteTime": {
     "end_time": "2024-03-27T10:18:03.086989700Z",
     "start_time": "2024-03-27T10:17:54.712050300Z"
    }
   },
   "id": "70ac278ab3f11c39"
  },
  {
   "cell_type": "code",
   "execution_count": 3,
   "outputs": [],
   "source": [
    "# Create an empty list to store the modified DataFrames\n",
    "modified_dfs = []\n",
    "\n",
    "# Iterate through the dictionary and skip the first two rows of each DataFrame\n",
    "for key, df in dataframes.items():\n",
    "    modified_df = df.iloc[2:]  # Skip the first two rows\n",
    "    modified_dfs.append(modified_df)\n",
    "\n",
    "# Concatenate all the modified DataFrames into one big DataFrame\n",
    "big_df = pd.concat(modified_dfs, ignore_index=True)"
   ],
   "metadata": {
    "collapsed": false,
    "ExecuteTime": {
     "end_time": "2024-03-27T10:18:03.130502Z",
     "start_time": "2024-03-27T10:18:03.086989700Z"
    }
   },
   "id": "a23879f86ca347f7"
  },
  {
   "cell_type": "code",
   "execution_count": 4,
   "outputs": [
    {
     "data": {
      "text/plain": "         Road                                               Name     LRP  \\\n0       N1-1L           Jatrabari - Int.with Z1101 (Left) (Left)    LRPS   \n1       N1-1R          Jatrabari - Int.with Z1101 (Left) (Right)    LRPS   \n2       N1-2L      Int.with Z1101 - Signboard (Left) R111 (Left)    LRPS   \n3       N1-2R     Int.with Z1101 - Signboard (Left) R111 (Right)    LRPS   \n4       N1-3L             Signboard - Shimrail (Left)R110 (Left)    LRPS   \n...       ...                                                ...     ...   \n2061  Z8915-3                        Int.with Z8916 - Daulatkhan  LRP010   \n2062  Z8916-1        Guingerhat (Int.with R890) - Int.with Z8915    LRPS   \n2063  Z8916-2                  Int.with Z8915 - Daulatkhan Bazar  LRP004   \n2064  Z8943-1  Tazumuddin (Int.with Z8905) - Fakirhat (Int.wi...    LRPS   \n2065  Z8943-2  Fakirhat (Int.with Z8948) - Kungerhat (Int.wit...    LRPS   \n\n     Offset Chainage   LRP_2 Offset Chainage   (Km) Heavy Truck  ...     Car  \\\n0         0        0    LRPS    822    0.822  0.822       402.0  ...  1851.0   \n1         0        0    LRPS    822    0.822  0.822       660.0  ...  2608.0   \n2       822    0.822    LRPS   4175    4.175  3.353       660.0  ...  2608.0   \n3       822    0.822    LRPS   4175    4.175  3.353       402.0  ...  1851.0   \n4      4175    4.175    LRPS   7181    7.181  3.006        91.0  ...  1690.0   \n...     ...      ...     ...    ...      ...    ...         ...  ...     ...   \n2061   1150    10.47  LRP014   2290    15.66  5.190         0.0  ...    25.0   \n2062      0        0  LRP004   3626    7.626  7.626         0.0  ...    15.0   \n2063   3626    7.626  LRP005   6600   11.591  3.965         0.0  ...    15.0   \n2064      0        0    LRPS   6446    6.446  6.446         0.0  ...    42.0   \n2065   6446    6.446    LRPS   8800      8.8  2.354         0.0  ...    42.0   \n\n     Auto Rickshaw Motor Cycle Bi-Cycle Cycle Rickshaw Cart Motorized  \\\n0           2980.0       398.0    232.0          889.0  0.0   18236.0   \n1           2508.0       436.0    213.0         1088.0  0.0   20236.0   \n2           2508.0       436.0    213.0         1088.0  0.0   20236.0   \n3           2980.0       398.0    232.0          889.0  0.0   18236.0   \n4           2266.0      1087.0     75.0         1198.0  0.0   16288.0   \n...            ...         ...      ...            ...  ...       ...   \n2061        1025.0       872.0    396.0          380.0  0.0    2341.0   \n2062         672.0       640.0    453.0          524.0  0.0    1463.0   \n2063         672.0       640.0    453.0          524.0  0.0    1463.0   \n2064         912.0       679.0    528.0          584.0  0.0    1971.0   \n2065         912.0       679.0    528.0          584.0  0.0    1971.0   \n\n     Non Motorized Total AADT   (AADT)  \n0           1121.0    19357.0  19357.0  \n1           1301.0    21537.0  21537.0  \n2           1301.0    21537.0  21537.0  \n3           1121.0    19357.0  19357.0  \n4           1273.0    17561.0  17561.0  \n...            ...        ...      ...  \n2061         776.0     3117.0   3117.0  \n2062         977.0     2440.0   2440.0  \n2063         977.0     2440.0   2440.0  \n2064        1112.0     3083.0   3083.0  \n2065        1112.0     3083.0   3083.0  \n\n[2066 rows x 26 columns]",
      "text/html": "<div>\n<style scoped>\n    .dataframe tbody tr th:only-of-type {\n        vertical-align: middle;\n    }\n\n    .dataframe tbody tr th {\n        vertical-align: top;\n    }\n\n    .dataframe thead th {\n        text-align: right;\n    }\n</style>\n<table border=\"1\" class=\"dataframe\">\n  <thead>\n    <tr style=\"text-align: right;\">\n      <th></th>\n      <th>Road</th>\n      <th>Name</th>\n      <th>LRP</th>\n      <th>Offset</th>\n      <th>Chainage</th>\n      <th>LRP_2</th>\n      <th>Offset</th>\n      <th>Chainage</th>\n      <th>(Km)</th>\n      <th>Heavy Truck</th>\n      <th>...</th>\n      <th>Car</th>\n      <th>Auto Rickshaw</th>\n      <th>Motor Cycle</th>\n      <th>Bi-Cycle</th>\n      <th>Cycle Rickshaw</th>\n      <th>Cart</th>\n      <th>Motorized</th>\n      <th>Non Motorized</th>\n      <th>Total AADT</th>\n      <th>(AADT)</th>\n    </tr>\n  </thead>\n  <tbody>\n    <tr>\n      <th>0</th>\n      <td>N1-1L</td>\n      <td>Jatrabari - Int.with Z1101 (Left) (Left)</td>\n      <td>LRPS</td>\n      <td>0</td>\n      <td>0</td>\n      <td>LRPS</td>\n      <td>822</td>\n      <td>0.822</td>\n      <td>0.822</td>\n      <td>402.0</td>\n      <td>...</td>\n      <td>1851.0</td>\n      <td>2980.0</td>\n      <td>398.0</td>\n      <td>232.0</td>\n      <td>889.0</td>\n      <td>0.0</td>\n      <td>18236.0</td>\n      <td>1121.0</td>\n      <td>19357.0</td>\n      <td>19357.0</td>\n    </tr>\n    <tr>\n      <th>1</th>\n      <td>N1-1R</td>\n      <td>Jatrabari - Int.with Z1101 (Left) (Right)</td>\n      <td>LRPS</td>\n      <td>0</td>\n      <td>0</td>\n      <td>LRPS</td>\n      <td>822</td>\n      <td>0.822</td>\n      <td>0.822</td>\n      <td>660.0</td>\n      <td>...</td>\n      <td>2608.0</td>\n      <td>2508.0</td>\n      <td>436.0</td>\n      <td>213.0</td>\n      <td>1088.0</td>\n      <td>0.0</td>\n      <td>20236.0</td>\n      <td>1301.0</td>\n      <td>21537.0</td>\n      <td>21537.0</td>\n    </tr>\n    <tr>\n      <th>2</th>\n      <td>N1-2L</td>\n      <td>Int.with Z1101 - Signboard (Left) R111 (Left)</td>\n      <td>LRPS</td>\n      <td>822</td>\n      <td>0.822</td>\n      <td>LRPS</td>\n      <td>4175</td>\n      <td>4.175</td>\n      <td>3.353</td>\n      <td>660.0</td>\n      <td>...</td>\n      <td>2608.0</td>\n      <td>2508.0</td>\n      <td>436.0</td>\n      <td>213.0</td>\n      <td>1088.0</td>\n      <td>0.0</td>\n      <td>20236.0</td>\n      <td>1301.0</td>\n      <td>21537.0</td>\n      <td>21537.0</td>\n    </tr>\n    <tr>\n      <th>3</th>\n      <td>N1-2R</td>\n      <td>Int.with Z1101 - Signboard (Left) R111 (Right)</td>\n      <td>LRPS</td>\n      <td>822</td>\n      <td>0.822</td>\n      <td>LRPS</td>\n      <td>4175</td>\n      <td>4.175</td>\n      <td>3.353</td>\n      <td>402.0</td>\n      <td>...</td>\n      <td>1851.0</td>\n      <td>2980.0</td>\n      <td>398.0</td>\n      <td>232.0</td>\n      <td>889.0</td>\n      <td>0.0</td>\n      <td>18236.0</td>\n      <td>1121.0</td>\n      <td>19357.0</td>\n      <td>19357.0</td>\n    </tr>\n    <tr>\n      <th>4</th>\n      <td>N1-3L</td>\n      <td>Signboard - Shimrail (Left)R110 (Left)</td>\n      <td>LRPS</td>\n      <td>4175</td>\n      <td>4.175</td>\n      <td>LRPS</td>\n      <td>7181</td>\n      <td>7.181</td>\n      <td>3.006</td>\n      <td>91.0</td>\n      <td>...</td>\n      <td>1690.0</td>\n      <td>2266.0</td>\n      <td>1087.0</td>\n      <td>75.0</td>\n      <td>1198.0</td>\n      <td>0.0</td>\n      <td>16288.0</td>\n      <td>1273.0</td>\n      <td>17561.0</td>\n      <td>17561.0</td>\n    </tr>\n    <tr>\n      <th>...</th>\n      <td>...</td>\n      <td>...</td>\n      <td>...</td>\n      <td>...</td>\n      <td>...</td>\n      <td>...</td>\n      <td>...</td>\n      <td>...</td>\n      <td>...</td>\n      <td>...</td>\n      <td>...</td>\n      <td>...</td>\n      <td>...</td>\n      <td>...</td>\n      <td>...</td>\n      <td>...</td>\n      <td>...</td>\n      <td>...</td>\n      <td>...</td>\n      <td>...</td>\n      <td>...</td>\n    </tr>\n    <tr>\n      <th>2061</th>\n      <td>Z8915-3</td>\n      <td>Int.with Z8916 - Daulatkhan</td>\n      <td>LRP010</td>\n      <td>1150</td>\n      <td>10.47</td>\n      <td>LRP014</td>\n      <td>2290</td>\n      <td>15.66</td>\n      <td>5.190</td>\n      <td>0.0</td>\n      <td>...</td>\n      <td>25.0</td>\n      <td>1025.0</td>\n      <td>872.0</td>\n      <td>396.0</td>\n      <td>380.0</td>\n      <td>0.0</td>\n      <td>2341.0</td>\n      <td>776.0</td>\n      <td>3117.0</td>\n      <td>3117.0</td>\n    </tr>\n    <tr>\n      <th>2062</th>\n      <td>Z8916-1</td>\n      <td>Guingerhat (Int.with R890) - Int.with Z8915</td>\n      <td>LRPS</td>\n      <td>0</td>\n      <td>0</td>\n      <td>LRP004</td>\n      <td>3626</td>\n      <td>7.626</td>\n      <td>7.626</td>\n      <td>0.0</td>\n      <td>...</td>\n      <td>15.0</td>\n      <td>672.0</td>\n      <td>640.0</td>\n      <td>453.0</td>\n      <td>524.0</td>\n      <td>0.0</td>\n      <td>1463.0</td>\n      <td>977.0</td>\n      <td>2440.0</td>\n      <td>2440.0</td>\n    </tr>\n    <tr>\n      <th>2063</th>\n      <td>Z8916-2</td>\n      <td>Int.with Z8915 - Daulatkhan Bazar</td>\n      <td>LRP004</td>\n      <td>3626</td>\n      <td>7.626</td>\n      <td>LRP005</td>\n      <td>6600</td>\n      <td>11.591</td>\n      <td>3.965</td>\n      <td>0.0</td>\n      <td>...</td>\n      <td>15.0</td>\n      <td>672.0</td>\n      <td>640.0</td>\n      <td>453.0</td>\n      <td>524.0</td>\n      <td>0.0</td>\n      <td>1463.0</td>\n      <td>977.0</td>\n      <td>2440.0</td>\n      <td>2440.0</td>\n    </tr>\n    <tr>\n      <th>2064</th>\n      <td>Z8943-1</td>\n      <td>Tazumuddin (Int.with Z8905) - Fakirhat (Int.wi...</td>\n      <td>LRPS</td>\n      <td>0</td>\n      <td>0</td>\n      <td>LRPS</td>\n      <td>6446</td>\n      <td>6.446</td>\n      <td>6.446</td>\n      <td>0.0</td>\n      <td>...</td>\n      <td>42.0</td>\n      <td>912.0</td>\n      <td>679.0</td>\n      <td>528.0</td>\n      <td>584.0</td>\n      <td>0.0</td>\n      <td>1971.0</td>\n      <td>1112.0</td>\n      <td>3083.0</td>\n      <td>3083.0</td>\n    </tr>\n    <tr>\n      <th>2065</th>\n      <td>Z8943-2</td>\n      <td>Fakirhat (Int.with Z8948) - Kungerhat (Int.wit...</td>\n      <td>LRPS</td>\n      <td>6446</td>\n      <td>6.446</td>\n      <td>LRPS</td>\n      <td>8800</td>\n      <td>8.8</td>\n      <td>2.354</td>\n      <td>0.0</td>\n      <td>...</td>\n      <td>42.0</td>\n      <td>912.0</td>\n      <td>679.0</td>\n      <td>528.0</td>\n      <td>584.0</td>\n      <td>0.0</td>\n      <td>1971.0</td>\n      <td>1112.0</td>\n      <td>3083.0</td>\n      <td>3083.0</td>\n    </tr>\n  </tbody>\n</table>\n<p>2066 rows × 26 columns</p>\n</div>"
     },
     "execution_count": 4,
     "metadata": {},
     "output_type": "execute_result"
    }
   ],
   "source": [
    "columns = df.iloc[1].tolist()\n",
    "columns[5] = \"LRP_2\"\n",
    "columns[0] = 'Road'\n",
    "columns[1] = 'Name'\n",
    "big_df.columns = columns\n",
    "big_df"
   ],
   "metadata": {
    "collapsed": false,
    "ExecuteTime": {
     "end_time": "2024-03-27T10:18:03.152019200Z",
     "start_time": "2024-03-27T10:18:03.126304700Z"
    }
   },
   "id": "1c1a749b23c82aaa"
  },
  {
   "cell_type": "code",
   "execution_count": 6,
   "outputs": [],
   "source": [
    "big_df.to_csv('../data/traffic_df.csv', index=False)"
   ],
   "metadata": {
    "collapsed": false,
    "ExecuteTime": {
     "end_time": "2024-03-27T10:18:47.941344200Z",
     "start_time": "2024-03-27T10:18:47.914365800Z"
    }
   },
   "id": "3adac17e9782f746"
  },
  {
   "cell_type": "code",
   "execution_count": null,
   "outputs": [],
   "source": [
    "big_df[\"Heavy_traffic\"] = int(big_df[\"Heavy Truck\"]) + int(big_df[\"Medium Truck\"]) + int(big_df[\"Small Truck\"]) + int(big_df[\"Large Bus\"]) + int(big_df[\"Medium Bus\"])\n"
   ],
   "metadata": {
    "collapsed": false
   },
   "id": "96e224ae7ecb0d2a"
  },
  {
   "cell_type": "code",
   "execution_count": null,
   "outputs": [],
   "source": [
    "big_df"
   ],
   "metadata": {
    "collapsed": false
   },
   "id": "b38be7b8342d4cdc"
  },
  {
   "cell_type": "code",
   "execution_count": null,
   "outputs": [],
   "source": [],
   "metadata": {
    "collapsed": false
   },
   "id": "3f4dfb6fded69c58"
  }
 ],
 "metadata": {
  "kernelspec": {
   "display_name": "Python 3",
   "language": "python",
   "name": "python3"
  },
  "language_info": {
   "codemirror_mode": {
    "name": "ipython",
    "version": 2
   },
   "file_extension": ".py",
   "mimetype": "text/x-python",
   "name": "python",
   "nbconvert_exporter": "python",
   "pygments_lexer": "ipython2",
   "version": "2.7.6"
  }
 },
 "nbformat": 4,
 "nbformat_minor": 5
}
